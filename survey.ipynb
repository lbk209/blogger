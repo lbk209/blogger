{
 "cells": [
  {
   "cell_type": "markdown",
   "id": "4edbad59-3a64-4775-8648-be4496f3121b",
   "metadata": {},
   "source": [
    "# Setting"
   ]
  },
  {
   "cell_type": "markdown",
   "id": "dccde7fb-01ec-412d-bb1d-9a81272b4c96",
   "metadata": {},
   "source": [
    "18~49세 전국 성인 남녀 1000명이 조사에 응해주었다. 응답률은 5.4%, 표본오차는 95% 신뢰수준에서 ±3.1%포인트다\n",
    "미혼 응답자 579명 중 결혼 의향이 있다는 사람은 56.5%, 의향이 없다는 사람은 43.5%였다. \n",
    "그런데 여기서 남녀 성별 격차가 나타난다. 미혼 남성은 65.7%가 결혼하고 싶다고 답한다. \n",
    "그러나 여성은 54.5%가 결혼할 의향이 없다고 답한다.\n",
    "(미혼 여성은 45.5%가 결혼하고 싶다고 답한다)"
   ]
  },
  {
   "cell_type": "code",
   "execution_count": 1,
   "id": "3a4f1d02-339d-466e-b8dc-da984384430c",
   "metadata": {},
   "outputs": [],
   "source": [
    "import pymc3 as pm\n",
    "import arviz\n",
    "from matplotlib import gridspec\n",
    "from matplotlib.lines import Line2D\n",
    "from scipy import stats"
   ]
  },
  {
   "cell_type": "code",
   "execution_count": 2,
   "id": "25b527bb-57c7-4e7b-900c-716fac1e83ca",
   "metadata": {},
   "outputs": [],
   "source": [
    "from statsmodels.stats.proportion import proportions_ztest, proportion_confint"
   ]
  },
  {
   "cell_type": "code",
   "execution_count": 3,
   "id": "fe38cb14-c0e0-4b43-b0c2-7ac76fc7fd1f",
   "metadata": {},
   "outputs": [],
   "source": [
    "n_all = 1000\n",
    "n_single = 579 # 미혼남녀\n",
    "c_level = .95 # 신뢰수준 95%\n",
    "alpha = 1 - c_level "
   ]
  },
  {
   "cell_type": "code",
   "execution_count": 4,
   "id": "1140c7f3-7f53-4226-b67f-345c9a0de063",
   "metadata": {},
   "outputs": [],
   "source": [
    "def print_interval(low, high):\n",
    "    #low, high = low*100, high*100\n",
    "    p = (low+high)/2\n",
    "    err = high - p\n",
    "    #print(f'confidence interval: {p:.0f} ± {err:.2f} % [{low:.0f}, {high:.0f}]')\n",
    "    print(f'confidence interval: {p:.3f} ± {err:.4f}, [{low:.3f}, {high:.3f}]')\n",
    "    \n",
    "    \n",
    "def test_hypothesis(pvalue, level=c_level):\n",
    "    alpha = 1 - c_level\n",
    "    if pvalue > alpha:\n",
    "        s = 'Accept'\n",
    "    else:\n",
    "        s = 'Reject'\n",
    "    print(f'{s} H0 (p-value = {pvalue:.4e})')"
   ]
  },
  {
   "cell_type": "markdown",
   "id": "357aa656-dbc2-4aa0-9bff-0573603c66f7",
   "metadata": {},
   "source": [
    "# Binomial Testing"
   ]
  },
  {
   "cell_type": "markdown",
   "id": "c07ac4f6-9f2d-4259-ab75-38091ea5d962",
   "metadata": {},
   "source": [
    "## ST01\n",
    "성인 남녀 1000명이 조사에 응해주었다. 응답률은 5.4%, 표본오차는 95% 신뢰수준에서 ±3.1%포인트다"
   ]
  },
  {
   "cell_type": "code",
   "execution_count": 5,
   "id": "f15cf2bf-3308-4df9-a7ee-4a5002004dbb",
   "metadata": {},
   "outputs": [],
   "source": [
    "k = 500 # 어떤 한 질문에 절반이 yes로 대답하는 경우\n",
    "n = n_all"
   ]
  },
  {
   "cell_type": "markdown",
   "id": "a62c6108-5236-4d35-8027-a38bd822078d",
   "metadata": {},
   "source": [
    "Confidence interval for a binomial proportion with asymtotic normal approximation"
   ]
  },
  {
   "cell_type": "code",
   "execution_count": 6,
   "id": "22e972e5-c09a-42cf-b5ab-a5c3bee9a1e1",
   "metadata": {},
   "outputs": [
    {
     "data": {
      "text/plain": [
       "(0.4690102483847719, 0.5309897516152281)"
      ]
     },
     "execution_count": 6,
     "metadata": {},
     "output_type": "execute_result"
    }
   ],
   "source": [
    "method = 'normal'\n",
    "low, high = proportion_confint(k, n, alpha, method=method)\n",
    "low, high"
   ]
  },
  {
   "cell_type": "code",
   "execution_count": 7,
   "id": "918668aa-ce89-4da4-92e3-37e5970becd6",
   "metadata": {},
   "outputs": [
    {
     "data": {
      "text/plain": [
       "(0.0309897516152281, 0.0309897516152281)"
      ]
     },
     "execution_count": 7,
     "metadata": {},
     "output_type": "execute_result"
    }
   ],
   "source": [
    "p = k/n\n",
    "p-low, high-p"
   ]
  },
  {
   "cell_type": "code",
   "execution_count": 8,
   "id": "bc6642fe-f04d-4ee4-8015-764a0504b375",
   "metadata": {},
   "outputs": [
    {
     "name": "stdout",
     "output_type": "stream",
     "text": [
      "confidence interval: 0.500 ± 0.0310, [0.469, 0.531]\n"
     ]
    }
   ],
   "source": [
    "# 표본오차 ±3.1%포인트는 긍정/부정 설문에 50%가 긍정했을때의 오차인 셈\n",
    "print_interval(low, high)"
   ]
  },
  {
   "cell_type": "code",
   "execution_count": 9,
   "id": "6b58f25c-edfe-4f2c-9688-2cfa5f3cc51a",
   "metadata": {},
   "outputs": [
    {
     "name": "stdout",
     "output_type": "stream",
     "text": [
      "confidence interval: 0.700 ± 0.0284, [0.672, 0.728]\n"
     ]
    }
   ],
   "source": [
    "# 70%가 긍정시 표본오차는 2.8%\n",
    "p = 0.7\n",
    "low, high = proportion_confint(int(p*n), n, alpha, method=method)\n",
    "print_interval(low, high)"
   ]
  },
  {
   "cell_type": "markdown",
   "id": "4b6f1dbd-fec3-4fd3-ab28-4850590892c7",
   "metadata": {},
   "source": [
    "## ST02\n",
    "미혼 응답자 579명 중 결혼 의향이 있다는 사람은 56.5%"
   ]
  },
  {
   "cell_type": "code",
   "execution_count": 10,
   "id": "590b72a0-c014-4f20-8b4e-c232b633495c",
   "metadata": {},
   "outputs": [],
   "source": [
    "n = n_single\n",
    "p_obs = .565\n",
    "k = int(n*p_obs) # 결혼의향 있는 사람 수"
   ]
  },
  {
   "cell_type": "markdown",
   "id": "53e0abe6-51b1-410b-af33-2f311a08241d",
   "metadata": {},
   "source": [
    "### CS1 \n",
    "Confidence interval for a binomial proportion with asymtotic normal approximation"
   ]
  },
  {
   "cell_type": "code",
   "execution_count": 11,
   "id": "193a37aa-3808-4785-af19-726ff57776e3",
   "metadata": {},
   "outputs": [],
   "source": [
    "method = 'normal'\n",
    "#method = 'binom_test' # killed due to small mem size"
   ]
  },
  {
   "cell_type": "code",
   "execution_count": 12,
   "id": "912b9715-6578-48e3-90a6-8da26920642b",
   "metadata": {},
   "outputs": [
    {
     "name": "stdout",
     "output_type": "stream",
     "text": [
      "confidence interval: 0.565 ± 0.0404, [0.524, 0.605]\n"
     ]
    }
   ],
   "source": [
    "# 결혼의향 비율에 대한 오차는 ±4%로 설문조사 처음 언급한 표본오차 ±3.1%보다 큼\n",
    "low, high = proportion_confint(k, n, alpha, method=method)\n",
    "print_interval(low, high)"
   ]
  },
  {
   "cell_type": "markdown",
   "id": "6e0f59c4-7c62-45b6-991e-bbd25b0d058f",
   "metadata": {},
   "source": [
    "### CS2\n",
    "binomial test\n",
    "- H0: 결혼의향 비율은 50%\n",
    "- Ha: 결혼의향 비율은 50%가 아니다"
   ]
  },
  {
   "cell_type": "code",
   "execution_count": 13,
   "id": "665a0dbc-2410-4b05-9dd7-5309f6d5fa62",
   "metadata": {},
   "outputs": [],
   "source": [
    "p = .5\n",
    "alternative = 'two-sided'"
   ]
  },
  {
   "cell_type": "code",
   "execution_count": 14,
   "id": "3666b850-d028-44c4-93f3-cd3c00fb133b",
   "metadata": {},
   "outputs": [
    {
     "data": {
      "text/plain": [
       "BinomTestResult(k=327, n=579, alternative='two-sided', proportion_estimate=0.5647668393782384, pvalue=0.0020762662419686645)"
      ]
     },
     "execution_count": 14,
     "metadata": {},
     "output_type": "execute_result"
    }
   ],
   "source": [
    "result = stats.binomtest(k, n, p, alternative=alternative)\n",
    "result"
   ]
  },
  {
   "cell_type": "code",
   "execution_count": 15,
   "id": "66f2d3a9-bb6b-4c89-bd5a-0aa40bc0e1eb",
   "metadata": {},
   "outputs": [
    {
     "name": "stdout",
     "output_type": "stream",
     "text": [
      "Reject H0 (p-value = 2.0763e-03)\n"
     ]
    }
   ],
   "source": [
    "# reject H0: 결혼의향 p 가정시 p_obj(k/n)일 가능성은 5% 보다 매우 작다\n",
    "test_hypothesis(result.pvalue)"
   ]
  },
  {
   "cell_type": "code",
   "execution_count": 19,
   "id": "4e25e619-9157-4791-b008-20001b188bfd",
   "metadata": {},
   "outputs": [
    {
     "name": "stdout",
     "output_type": "stream",
     "text": [
      "confidence interval: 0.564 ± 0.0412, [0.523, 0.606]\n"
     ]
    }
   ],
   "source": [
    "# proportion_confint과 유사한 결과 (see CS1)\n",
    "ci = result.proportion_ci(confidence_level=c_level)\n",
    "print_interval(ci.low, ci.high)"
   ]
  },
  {
   "cell_type": "markdown",
   "id": "fa11ad0a-25be-4130-8248-616ae96b2969",
   "metadata": {
    "tags": []
   },
   "source": [
    "### CS3\n",
    "- H0: 결혼의향 비율은 50%\n",
    "- Ha: 결혼의향 비율은 50% 초과"
   ]
  },
  {
   "cell_type": "code",
   "execution_count": 20,
   "id": "1d466e1c-b1b4-46a1-812f-d2c8b9ded5c4",
   "metadata": {},
   "outputs": [],
   "source": [
    "p = .5\n",
    "alternative = 'greater'"
   ]
  },
  {
   "cell_type": "code",
   "execution_count": 21,
   "id": "079541ae-7672-4f3b-873b-f3189e02c9d3",
   "metadata": {},
   "outputs": [
    {
     "data": {
      "text/plain": [
       "BinomTestResult(k=327, n=579, alternative='greater', proportion_estimate=0.5647668393782384, pvalue=0.0010381331209843323)"
      ]
     },
     "execution_count": 21,
     "metadata": {},
     "output_type": "execute_result"
    }
   ],
   "source": [
    "result = stats.binomtest(k, n, p, alternative=alternative)\n",
    "result"
   ]
  },
  {
   "cell_type": "code",
   "execution_count": 22,
   "id": "6d4a908c-ca52-4ce4-a1d8-541f4b0cd9b8",
   "metadata": {},
   "outputs": [
    {
     "name": "stdout",
     "output_type": "stream",
     "text": [
      "Reject H0 (p-value = 1.0381e-03)\n"
     ]
    }
   ],
   "source": [
    "# reject H0\n",
    "test_hypothesis(result.pvalue)"
   ]
  },
  {
   "cell_type": "code",
   "execution_count": 23,
   "id": "c3bb031d-5f28-4341-aabb-d970dfd3e11f",
   "metadata": {},
   "outputs": [
    {
     "data": {
      "text/plain": [
       "ConfidenceInterval(low=0.5298229755863375, high=1.0)"
      ]
     },
     "execution_count": 23,
     "metadata": {},
     "output_type": "execute_result"
    }
   ],
   "source": [
    "# CS2에 비해 p값은 더 작으나(더 확실하게 H0를 기각) 신뢰구간은 더 넓어짐\n",
    "# see https://stats.oarc.ucla.edu/other/mult-pkg/faq/general/faq-what-are-the-differences-between-one-tailed-and-two-tailed-tests/\n",
    "result.proportion_ci(confidence_level=c_level)"
   ]
  },
  {
   "cell_type": "markdown",
   "id": "74e87775-36c3-4755-ac48-8cc5a8fd6c80",
   "metadata": {},
   "source": [
    "### CS4\n",
    "Test for proportions based on normal (z) test\n",
    "- H0: 결혼의향 비율은 50%\n",
    "- Ha: 결혼의향 비율은 50%가 아니다"
   ]
  },
  {
   "cell_type": "code",
   "execution_count": 24,
   "id": "6897a783-66d2-438f-b40c-aabafc9ec638",
   "metadata": {},
   "outputs": [],
   "source": [
    "p = .5\n",
    "alternative='two-sided'\n",
    "#alternative='larger'"
   ]
  },
  {
   "cell_type": "code",
   "execution_count": 25,
   "id": "9fcf9256-cd0a-4279-8e71-86741bc03628",
   "metadata": {},
   "outputs": [
    {
     "name": "stdout",
     "output_type": "stream",
     "text": [
      "Reject H0 (p-value = 1.6701e-03)\n"
     ]
    }
   ],
   "source": [
    "# reject H0\n",
    "_, pval = proportions_ztest(k, n, p, alternative=alternative)\n",
    "test_hypothesis(pval)"
   ]
  },
  {
   "cell_type": "markdown",
   "id": "0b4cdc37-a055-49a7-b6f0-5deb69876156",
   "metadata": {},
   "source": [
    "## ST03\n",
    "미혼 남성은 65.7%가 결혼하고 싶다고 답한다."
   ]
  },
  {
   "cell_type": "code",
   "execution_count": 50,
   "id": "04f31bee-e68c-4ab3-988e-1a9c6c2c9a07",
   "metadata": {},
   "outputs": [],
   "source": [
    "n = int(n_single/2) # 미혼남녀 동일비율로 가정\n",
    "p_obs = .657\n",
    "k = int(n*p_obs)"
   ]
  },
  {
   "cell_type": "markdown",
   "id": "bf152750-e45f-4c37-844a-1173b96861c6",
   "metadata": {},
   "source": [
    "### CS1\n",
    "- H0: 결혼의향 비율은 56.5% (남녀전체 비율)\n",
    "- Ha: 결혼의향 비율은 56.5%이 아니다"
   ]
  },
  {
   "cell_type": "code",
   "execution_count": 51,
   "id": "deaf769c-4e0c-4fe7-842b-155132bc71e3",
   "metadata": {},
   "outputs": [],
   "source": [
    "p = .565\n",
    "alternative = 'two-sided'"
   ]
  },
  {
   "cell_type": "code",
   "execution_count": 52,
   "id": "6f923e3c-3107-4aff-ac0e-0ea30e05bf54",
   "metadata": {},
   "outputs": [
    {
     "name": "stdout",
     "output_type": "stream",
     "text": [
      "Reject H0 (p-value = 1.4736e-03)\n"
     ]
    }
   ],
   "source": [
    "# reject H0\n",
    "_, pval = proportions_ztest(k, n, p, alternative=alternative)\n",
    "test_hypothesis(pval)"
   ]
  },
  {
   "cell_type": "code",
   "execution_count": 53,
   "id": "0be3b1d8-917e-4722-9d32-937e835abf17",
   "metadata": {},
   "outputs": [
    {
     "name": "stdout",
     "output_type": "stream",
     "text": [
      "confidence interval: 0.654 ± 0.0548, [0.599, 0.709]\n"
     ]
    }
   ],
   "source": [
    "method = 'normal'\n",
    "low, high = proportion_confint(k, n, alpha, method=method)\n",
    "print_interval(low, high)"
   ]
  },
  {
   "cell_type": "code",
   "execution_count": 54,
   "id": "a43702d6-2eed-4b73-8135-b6a2d0cd0f3b",
   "metadata": {},
   "outputs": [
    {
     "name": "stdout",
     "output_type": "stream",
     "text": [
      "confidence interval: 0.652 ± 0.0563, [0.596, 0.709]\n"
     ]
    }
   ],
   "source": [
    "result = stats.binomtest(k, n, p, alternative=alternative)\n",
    "ci = result.proportion_ci(confidence_level=c_level)\n",
    "print_interval(ci.low, ci.high)"
   ]
  },
  {
   "cell_type": "markdown",
   "id": "641ac972-45d1-4eed-9140-bee588f0ce01",
   "metadata": {
    "tags": []
   },
   "source": [
    "### CS2\n",
    "- H0: 결혼의향 비율은 50%\n",
    "- Ha: 결혼의향 비율은 50%가 아니다"
   ]
  },
  {
   "cell_type": "code",
   "execution_count": 32,
   "id": "a164e79e-4960-4cb3-809d-10267d2de175",
   "metadata": {},
   "outputs": [],
   "source": [
    "p = .5\n",
    "alternative = 'two-sided'"
   ]
  },
  {
   "cell_type": "code",
   "execution_count": 33,
   "id": "84a9f040-b3fc-4c60-a925-1eba8ad1b0a1",
   "metadata": {},
   "outputs": [
    {
     "name": "stdout",
     "output_type": "stream",
     "text": [
      "Reject H0 (p-value = 3.7396e-08)\n"
     ]
    }
   ],
   "source": [
    "# reject H0\n",
    "_, pval = proportions_ztest(k, n, p, alternative=alternative)\n",
    "test_hypothesis(pval)"
   ]
  },
  {
   "cell_type": "markdown",
   "id": "51888df2-983b-4b98-bb55-cff40c191087",
   "metadata": {},
   "source": [
    "## ST04\n",
    "여성은 54.5%가 결혼할 의향이 없다고 답한다.\n",
    "(미혼 여성은 45.5%가 결혼하고 싶다고 답한다)"
   ]
  },
  {
   "cell_type": "code",
   "execution_count": 34,
   "id": "fb60f020-d1d6-4d1a-bb27-77a00e160693",
   "metadata": {},
   "outputs": [],
   "source": [
    "n = int(n_single/2) # 미혼남녀 동일비율로 가정\n",
    "p_obs = .455\n",
    "k = int(n*p_obs)"
   ]
  },
  {
   "cell_type": "markdown",
   "id": "314746ac-6d05-4af7-a2a8-6c638b343c24",
   "metadata": {},
   "source": [
    "### CS1\n",
    "- H0: 결혼의향 비율은 56.5% (남녀전체 비율)\n",
    "- Ha: 결혼의향 비율은 56.5%이 아니다"
   ]
  },
  {
   "cell_type": "code",
   "execution_count": 35,
   "id": "2d5b9484-e1f1-4f82-b174-124140b1d804",
   "metadata": {},
   "outputs": [],
   "source": [
    "p = .565\n",
    "alternative = 'two-sided'"
   ]
  },
  {
   "cell_type": "code",
   "execution_count": 36,
   "id": "29b72cf3-7a3f-4007-9e28-6abca6d0d4de",
   "metadata": {},
   "outputs": [
    {
     "name": "stdout",
     "output_type": "stream",
     "text": [
      "Reject H0 (p-value = 1.3623e-04)\n"
     ]
    }
   ],
   "source": [
    "# reject H0\n",
    "_, pval = proportions_ztest(k, n, p, alternative=alternative)\n",
    "test_hypothesis(pval)"
   ]
  },
  {
   "cell_type": "code",
   "execution_count": 37,
   "id": "2733d854-a058-4d3f-82bb-14042b7432c7",
   "metadata": {},
   "outputs": [
    {
     "name": "stdout",
     "output_type": "stream",
     "text": [
      "confidence interval: 0.453 ± 0.0574, [0.396, 0.511]\n"
     ]
    }
   ],
   "source": [
    "method = 'normal'\n",
    "low, high = proportion_confint(k, n, alpha, method=method)\n",
    "print_interval(low, high)"
   ]
  },
  {
   "cell_type": "markdown",
   "id": "5e1522d9-bb12-4a2a-9d71-884ee5df48b7",
   "metadata": {},
   "source": [
    "### CS2\n",
    "결혼의향 없음"
   ]
  },
  {
   "cell_type": "code",
   "execution_count": 55,
   "id": "dc5217b7-66de-408b-a82e-27af1a2f57f1",
   "metadata": {},
   "outputs": [],
   "source": [
    "p_obs = .545\n",
    "k = int(n*p_obs)"
   ]
  },
  {
   "cell_type": "code",
   "execution_count": 56,
   "id": "bc3605d9-b9f1-4c72-ba62-9569179bdb09",
   "metadata": {},
   "outputs": [
    {
     "name": "stdout",
     "output_type": "stream",
     "text": [
      "confidence interval: 0.543 ± 0.0574, [0.486, 0.601]\n"
     ]
    }
   ],
   "source": [
    "method = 'normal'\n",
    "low, high = proportion_confint(k, n, alpha, method=method)\n",
    "print_interval(low, high)"
   ]
  },
  {
   "cell_type": "markdown",
   "id": "1924716f-01a1-491f-981f-2fc1a1116741",
   "metadata": {},
   "source": [
    "### CS3\n",
    "결혼의향 있고, 여성비율 새로 가정"
   ]
  },
  {
   "cell_type": "code",
   "execution_count": 62,
   "id": "ba694237-fbfa-42e8-a855-22413b5098e3",
   "metadata": {},
   "outputs": [],
   "source": [
    "rf = 0.3 # 여성비율 가정\n",
    "n = int(n_single*rf)\n",
    "p_obs = .455\n",
    "k = int(n*p_obs)"
   ]
  },
  {
   "cell_type": "code",
   "execution_count": 63,
   "id": "90113b6c-47a5-4f79-a5d0-df87bb1b2109",
   "metadata": {},
   "outputs": [],
   "source": [
    "p = .565\n",
    "alternative = 'two-sided'"
   ]
  },
  {
   "cell_type": "code",
   "execution_count": 64,
   "id": "2c9a667d-c67a-4bcb-ac5b-907be53d3583",
   "metadata": {},
   "outputs": [
    {
     "name": "stdout",
     "output_type": "stream",
     "text": [
      "Reject H0 (p-value = 2.5531e-03)\n"
     ]
    }
   ],
   "source": [
    "# reject H0\n",
    "_, pval = proportions_ztest(k, n, p, alternative=alternative)\n",
    "test_hypothesis(pval)"
   ]
  },
  {
   "cell_type": "code",
   "execution_count": 65,
   "id": "795580ad-2875-4793-875c-420e80b2bf18",
   "metadata": {},
   "outputs": [
    {
     "name": "stdout",
     "output_type": "stream",
     "text": [
      "confidence interval: 0.451 ± 0.0741, [0.377, 0.525]\n"
     ]
    }
   ],
   "source": [
    "method = 'normal'\n",
    "low, high = proportion_confint(k, n, alpha, method=method)\n",
    "print_interval(low, high)"
   ]
  },
  {
   "cell_type": "code",
   "execution_count": null,
   "id": "2a04dccb-61b4-4946-ba75-feefebf5d70c",
   "metadata": {},
   "outputs": [],
   "source": []
  },
  {
   "cell_type": "code",
   "execution_count": null,
   "id": "4a55d87d-4663-44e1-a6da-3561ac20fd28",
   "metadata": {},
   "outputs": [],
   "source": []
  },
  {
   "cell_type": "code",
   "execution_count": null,
   "id": "b1266764-331e-4460-aa78-2b55c7e62a9a",
   "metadata": {},
   "outputs": [],
   "source": []
  },
  {
   "cell_type": "code",
   "execution_count": null,
   "id": "8bc9e3e8-290c-49b7-bf64-e2f4c6af879a",
   "metadata": {},
   "outputs": [],
   "source": []
  },
  {
   "cell_type": "code",
   "execution_count": null,
   "id": "32bb8105-e87b-44ba-b49f-5f005944595c",
   "metadata": {},
   "outputs": [],
   "source": []
  },
  {
   "cell_type": "code",
   "execution_count": null,
   "id": "f031211e-af59-435f-92b5-1c7ef22fd244",
   "metadata": {},
   "outputs": [],
   "source": []
  },
  {
   "cell_type": "code",
   "execution_count": null,
   "id": "b2b02681-de72-4da3-87e5-d413178f2950",
   "metadata": {},
   "outputs": [],
   "source": [
    "μ_m = 0.565\n",
    "μ_s = y.value.std() * 2\n",
    "\n",
    "with pm.Model() as model:\n",
    "    group1_mean = pm.Normal(\"group1_mean\", mu=μ_m, sigma=μ_s)\n",
    "    group2_mean = pm.Normal(\"group2_mean\", mu=μ_m, sigma=μ_s)"
   ]
  },
  {
   "cell_type": "code",
   "execution_count": null,
   "id": "a28dd286-2e49-4671-96e0-2e2b91c95837",
   "metadata": {},
   "outputs": [],
   "source": [
    "# priors\n",
    "mean_prior, std_prior = df_returns.mean(), df_returns.std()\n",
    "std_low, std_high = std_prior / 1000, std_prior * 1000\n",
    "T = YEAR ** .5\n",
    "mean, std, returns = {}, {}, {}\n",
    "groups = df_returns.index.get_level_values(lvl1).unique()\n",
    "num_groups = len(groups) # flag to plot comparisio if comparing two hists\n",
    "\n",
    "with pm.Model() as model:\n",
    "    nu = pm.Exponential('nu_minus_two', 1 / 29, testval=4) + 2.\n",
    "    for i, g in enumerate(groups):\n",
    "        df_g = df_returns.loc[midx[g]]\n",
    "        mean[i] = pm.Normal(f'mean_{g}', mu=mean_prior, sd=std_prior, testval=df_g.mean())\n",
    "        std[i] = pm.Uniform(f'std_{g}', lower=std_low, upper=std_high, testval=df_g.std())\n",
    "        returns[i] = pm.StudentT(f'returns_{g}', nu=nu, mu=mean[i], sd=std[i], observed=df_g)\n",
    "        pm.Deterministic(f'vol_{g}', returns[i].distribution.sd * T)\n",
    "        pm.Deterministic(f'sharpe_{g}', returns[i].distribution.mean / returns[i].distribution.sd * T)\n",
    "    if num_groups == 2:\n",
    "        mean_diff = pm.Deterministic('mean diff', mean[0] - mean[1])\n",
    "        pm.Deterministic('std diff', std[0] - std[1])\n",
    "        pm.Deterministic('effect size', mean_diff / (std[0] ** 2 + std[1] ** 2) ** .5 / 2)\n",
    "\n",
    "if inspect_mode:\n",
    "    pm.model_to_graphviz(model=model)\n",
    "\n",
    "with model:\n",
    "    # HMC NUTS Sampling\n",
    "    #cores, _ = print_machine_type()\n",
    "    trace = pm.sample(draws=draws, tune=tune,\n",
    "                      chains=chains, \n",
    "                      #cores=cores,\n",
    "                      target_accept=target_accept,\n",
    "                      #return_inferencedata=False, # TODO: what's for?\n",
    "                      progressbar=True)"
   ]
  }
 ],
 "metadata": {
  "kernelspec": {
   "display_name": "trading_signal",
   "language": "python",
   "name": "ts"
  },
  "language_info": {
   "codemirror_mode": {
    "name": "ipython",
    "version": 3
   },
   "file_extension": ".py",
   "mimetype": "text/x-python",
   "name": "python",
   "nbconvert_exporter": "python",
   "pygments_lexer": "ipython3",
   "version": "3.9.7"
  }
 },
 "nbformat": 4,
 "nbformat_minor": 5
}
