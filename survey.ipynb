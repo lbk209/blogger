{
 "cells": [
  {
   "cell_type": "markdown",
   "id": "4edbad59-3a64-4775-8648-be4496f3121b",
   "metadata": {},
   "source": [
    "# Setting"
   ]
  },
  {
   "cell_type": "code",
   "execution_count": 1,
   "id": "3a4f1d02-339d-466e-b8dc-da984384430c",
   "metadata": {},
   "outputs": [],
   "source": [
    "import pymc3 as pm\n",
    "import arviz\n",
    "from matplotlib import gridspec\n",
    "from matplotlib.lines import Line2D\n",
    "from scipy import stats\n",
    "\n",
    "import numpy as np\n",
    "import pandas as pd"
   ]
  },
  {
   "cell_type": "code",
   "execution_count": 2,
   "id": "25b527bb-57c7-4e7b-900c-716fac1e83ca",
   "metadata": {},
   "outputs": [],
   "source": [
    "from statsmodels.stats.proportion import proportions_ztest, proportion_confint"
   ]
  },
  {
   "cell_type": "code",
   "execution_count": 3,
   "id": "1140c7f3-7f53-4226-b67f-345c9a0de063",
   "metadata": {},
   "outputs": [],
   "source": [
    "def print_interval(low, high):\n",
    "    #low, high = low*100, high*100\n",
    "    p = (low+high)/2\n",
    "    err = high - p\n",
    "    #print(f'confidence interval: {p:.0f} ± {err:.2f} % [{low:.0f}, {high:.0f}]')\n",
    "    print(f'confidence interval: {p:.3f} ± {err:.4f}, [{low:.3f}, {high:.3f}]')\n",
    "    \n",
    "    \n",
    "def test_hypothesis(pvalue, level=0.95):\n",
    "    alpha = 1 - c_level\n",
    "    if pvalue > alpha:\n",
    "        s = 'Accept'\n",
    "    else:\n",
    "        s = 'Reject'\n",
    "    print(f'{s} H0 (p-value = {pvalue:.4e})')"
   ]
  },
  {
   "cell_type": "markdown",
   "id": "357aa656-dbc2-4aa0-9bff-0573603c66f7",
   "metadata": {},
   "source": [
    "# Item 1"
   ]
  },
  {
   "cell_type": "markdown",
   "id": "bca695d3-38a0-44ab-9400-8977da804cb4",
   "metadata": {},
   "source": [
    "18~49세 전국 성인 남녀 1000명이 조사에 응해주었다. 응답률은 5.4%, 표본오차는 95% 신뢰수준에서 ±3.1%포인트다\n",
    "미혼 응답자 579명 중 결혼 의향이 있다는 사람은 56.5%, 의향이 없다는 사람은 43.5%였다. \n",
    "그런데 여기서 남녀 성별 격차가 나타난다. 미혼 남성은 65.7%가 결혼하고 싶다고 답한다. \n",
    "그러나 여성은 54.5%가 결혼할 의향이 없다고 답한다.\n",
    "(미혼 여성은 45.5%가 결혼하고 싶다고 답한다)\n",
    "이 성별 격차는 결혼 적령기인 30대에서 가장 크다. 30대 미혼 남성은 71.1%가 결혼 의향이 있지만, 30대 미혼 여성 55.3%는 결혼 의향이 없다.\n",
    "20대 역시 남성 64.6%가 결혼할 의향이 있지만, 여성은 52.7%가 의향이 없다고 답했다."
   ]
  },
  {
   "cell_type": "code",
   "execution_count": 4,
   "id": "fe38cb14-c0e0-4b43-b0c2-7ac76fc7fd1f",
   "metadata": {},
   "outputs": [],
   "source": [
    "n_all = 1000\n",
    "n_single = 579 # 미혼남녀\n",
    "c_level = .95 # 신뢰수준 95%\n",
    "alpha = 1 - c_level "
   ]
  },
  {
   "cell_type": "code",
   "execution_count": 5,
   "id": "40b35008-a39a-4c63-91d8-1a25445636a3",
   "metadata": {},
   "outputs": [],
   "source": [
    "# 20대 여성 응답자(160명)\n",
    "n_20s_f = 160"
   ]
  },
  {
   "cell_type": "code",
   "execution_count": 6,
   "id": "d02a0218-da9a-43af-bfb2-bf546b028274",
   "metadata": {},
   "outputs": [],
   "source": [
    "# 나이당 인원 가정: 18~49세 전국 성인 남녀 1000명이 조사에 응해주었다\n",
    "n_age = n_all / (49-18+1) # 나이당 남녀수\n",
    "n_age_single = n_single / (49-18+1) # 나이당 싱글남녀수"
   ]
  },
  {
   "cell_type": "markdown",
   "id": "c07ac4f6-9f2d-4259-ab75-38091ea5d962",
   "metadata": {},
   "source": [
    "## ST01\n",
    "성인 남녀 1000명이 조사에 응해주었다. 응답률은 5.4%, 표본오차는 95% 신뢰수준에서 ±3.1%포인트다"
   ]
  },
  {
   "cell_type": "markdown",
   "id": "2bd280bf-39bb-49ae-a000-e4f4ba877f3c",
   "metadata": {},
   "source": [
    "Result:\n",
    "- 한 yes/no 문항에 대하여 1000명중 절반이 긍정한 경우 표본오차가 최대가 되며 신뢰수준 95%에서는 표본오차 ±3.1%"
   ]
  },
  {
   "cell_type": "code",
   "execution_count": 5,
   "id": "f15cf2bf-3308-4df9-a7ee-4a5002004dbb",
   "metadata": {},
   "outputs": [],
   "source": [
    "k = 500 # 어떤 한 질문에 절반이 yes로 대답하는 경우\n",
    "n = n_all"
   ]
  },
  {
   "cell_type": "markdown",
   "id": "a62c6108-5236-4d35-8027-a38bd822078d",
   "metadata": {},
   "source": [
    "Confidence interval for a binomial proportion with asymtotic normal approximation"
   ]
  },
  {
   "cell_type": "code",
   "execution_count": 6,
   "id": "22e972e5-c09a-42cf-b5ab-a5c3bee9a1e1",
   "metadata": {},
   "outputs": [
    {
     "data": {
      "text/plain": [
       "(0.4690102483847719, 0.5309897516152281)"
      ]
     },
     "execution_count": 6,
     "metadata": {},
     "output_type": "execute_result"
    }
   ],
   "source": [
    "method = 'normal'\n",
    "low, high = proportion_confint(k, n, alpha, method=method)\n",
    "low, high"
   ]
  },
  {
   "cell_type": "code",
   "execution_count": 7,
   "id": "918668aa-ce89-4da4-92e3-37e5970becd6",
   "metadata": {},
   "outputs": [
    {
     "data": {
      "text/plain": [
       "(0.0309897516152281, 0.0309897516152281)"
      ]
     },
     "execution_count": 7,
     "metadata": {},
     "output_type": "execute_result"
    }
   ],
   "source": [
    "p = k/n\n",
    "p-low, high-p"
   ]
  },
  {
   "cell_type": "code",
   "execution_count": 8,
   "id": "bc6642fe-f04d-4ee4-8015-764a0504b375",
   "metadata": {},
   "outputs": [
    {
     "name": "stdout",
     "output_type": "stream",
     "text": [
      "confidence interval: 0.500 ± 0.0310, [0.469, 0.531]\n"
     ]
    }
   ],
   "source": [
    "# 표본오차 ±3.1%포인트는 긍정/부정 설문에 50%가 긍정했을때의 오차인 셈\n",
    "print_interval(low, high)"
   ]
  },
  {
   "cell_type": "code",
   "execution_count": 9,
   "id": "6b58f25c-edfe-4f2c-9688-2cfa5f3cc51a",
   "metadata": {},
   "outputs": [
    {
     "name": "stdout",
     "output_type": "stream",
     "text": [
      "confidence interval: 0.700 ± 0.0284, [0.672, 0.728]\n"
     ]
    }
   ],
   "source": [
    "# 70%가 긍정시 표본오차는 2.8%\n",
    "p = 0.7\n",
    "low, high = proportion_confint(int(p*n), n, alpha, method=method)\n",
    "print_interval(low, high)"
   ]
  },
  {
   "cell_type": "markdown",
   "id": "4b6f1dbd-fec3-4fd3-ab28-4850590892c7",
   "metadata": {},
   "source": [
    "## ST02\n",
    "미혼 응답자 579명 중 결혼 의향이 있다는 사람은 56.5%"
   ]
  },
  {
   "cell_type": "markdown",
   "id": "fc3fa2f0-e104-4724-9850-098768db2b61",
   "metadata": {},
   "source": [
    "Result:\n",
    "- 가설검정 결과 미혼의 결혼의향 비율은 50%가 아니다.\n",
    "- 가설검정은 두가지 방법으로 구현하였는데 p-value는 상이하지만 모두 유의수준보다 충분히 작다.\n",
    "- '50%가 아니다'와 '50%보다 크다'의 두가지 대립가설에 대하여 전자(양측검정)는 p값은 크지만(물론 유의수준 미만) 표본오차가 작고, 후자(단측검정)는 p값은 작지만 오차가 크다. 단측검정은 크다(작다)는 확신이 있을때 최소값(최대값)을 확인할 때 사용.\n",
    "- 표본오차는 두가지 방법으로 구현했는데 오차범위 유사.\n",
    "- 표본오차 계산시 proportion_confint는 양측검정에만 사용가능(asymptotic normal approximation)\n",
    "- 미혼 결혼의향의 오차는 ±4.0%로 전체 1000명에 대한 문항의 최대오차(±3.1%) 보다 크다.\n",
    "- 미혼 결혼의향 비율은 최소 52.4%, 최대 60.5% (95% 신뢰수준, 양측검정)\n",
    "- 단측 검정시 미혼 결혼의향의 최소비율은 53% (95% 신뢰수준)"
   ]
  },
  {
   "cell_type": "code",
   "execution_count": 28,
   "id": "590b72a0-c014-4f20-8b4e-c232b633495c",
   "metadata": {},
   "outputs": [],
   "source": [
    "n = n_single\n",
    "p_obs = .565\n",
    "k = int(n*p_obs) # 결혼의향 있는 사람 수"
   ]
  },
  {
   "cell_type": "markdown",
   "id": "53e0abe6-51b1-410b-af33-2f311a08241d",
   "metadata": {},
   "source": [
    "### CS1 \n",
    "Confidence interval for a binomial proportion with asymptotic normal approximation"
   ]
  },
  {
   "cell_type": "code",
   "execution_count": 29,
   "id": "193a37aa-3808-4785-af19-726ff57776e3",
   "metadata": {},
   "outputs": [],
   "source": [
    "method = 'normal'\n",
    "#method = 'binom_test' # killed due to small mem size"
   ]
  },
  {
   "cell_type": "code",
   "execution_count": 30,
   "id": "912b9715-6578-48e3-90a6-8da26920642b",
   "metadata": {},
   "outputs": [
    {
     "name": "stdout",
     "output_type": "stream",
     "text": [
      "confidence interval: 0.565 ± 0.0404, [0.524, 0.605]\n"
     ]
    }
   ],
   "source": [
    "# 결혼의향 비율에 대한 오차는 ±4%로 설문조사 처음 언급한 표본오차 ±3.1%보다 큼\n",
    "low, high = proportion_confint(k, n, alpha, method=method)\n",
    "print_interval(low, high)"
   ]
  },
  {
   "cell_type": "markdown",
   "id": "6e0f59c4-7c62-45b6-991e-bbd25b0d058f",
   "metadata": {},
   "source": [
    "### CS2\n",
    "binomial test\n",
    "- H0: 결혼의향 비율은 50%\n",
    "- Ha: 결혼의향 비율은 50%가 아니다"
   ]
  },
  {
   "cell_type": "code",
   "execution_count": 31,
   "id": "665a0dbc-2410-4b05-9dd7-5309f6d5fa62",
   "metadata": {},
   "outputs": [],
   "source": [
    "p = .5\n",
    "alternative = 'two-sided'"
   ]
  },
  {
   "cell_type": "code",
   "execution_count": 32,
   "id": "3666b850-d028-44c4-93f3-cd3c00fb133b",
   "metadata": {},
   "outputs": [
    {
     "data": {
      "text/plain": [
       "BinomTestResult(k=327, n=579, alternative='two-sided', proportion_estimate=0.5647668393782384, pvalue=0.0020762662419686645)"
      ]
     },
     "execution_count": 32,
     "metadata": {},
     "output_type": "execute_result"
    }
   ],
   "source": [
    "result = stats.binomtest(k, n, p, alternative=alternative)\n",
    "result"
   ]
  },
  {
   "cell_type": "code",
   "execution_count": 33,
   "id": "66f2d3a9-bb6b-4c89-bd5a-0aa40bc0e1eb",
   "metadata": {},
   "outputs": [
    {
     "name": "stdout",
     "output_type": "stream",
     "text": [
      "Reject H0 (p-value = 2.0763e-03)\n"
     ]
    }
   ],
   "source": [
    "# reject H0: 결혼의향 p 가정시 p_obj(k/n)일 가능성은 5% 보다 매우 작다\n",
    "test_hypothesis(result.pvalue)"
   ]
  },
  {
   "cell_type": "code",
   "execution_count": 34,
   "id": "4e25e619-9157-4791-b008-20001b188bfd",
   "metadata": {},
   "outputs": [
    {
     "name": "stdout",
     "output_type": "stream",
     "text": [
      "confidence interval: 0.564 ± 0.0412, [0.523, 0.606]\n"
     ]
    }
   ],
   "source": [
    "# proportion_confint과 유사한 결과 (see CS1)\n",
    "ci = result.proportion_ci(confidence_level=c_level)\n",
    "print_interval(ci.low, ci.high)"
   ]
  },
  {
   "cell_type": "markdown",
   "id": "fa11ad0a-25be-4130-8248-616ae96b2969",
   "metadata": {
    "tags": []
   },
   "source": [
    "### CS3\n",
    "- H0: 결혼의향 비율은 50%\n",
    "- Ha: 결혼의향 비율은 50% 초과"
   ]
  },
  {
   "cell_type": "code",
   "execution_count": 35,
   "id": "1d466e1c-b1b4-46a1-812f-d2c8b9ded5c4",
   "metadata": {},
   "outputs": [],
   "source": [
    "p = .5\n",
    "alternative = 'greater'"
   ]
  },
  {
   "cell_type": "code",
   "execution_count": 36,
   "id": "079541ae-7672-4f3b-873b-f3189e02c9d3",
   "metadata": {},
   "outputs": [
    {
     "data": {
      "text/plain": [
       "BinomTestResult(k=327, n=579, alternative='greater', proportion_estimate=0.5647668393782384, pvalue=0.0010381331209843323)"
      ]
     },
     "execution_count": 36,
     "metadata": {},
     "output_type": "execute_result"
    }
   ],
   "source": [
    "result = stats.binomtest(k, n, p, alternative=alternative)\n",
    "result"
   ]
  },
  {
   "cell_type": "code",
   "execution_count": 37,
   "id": "6d4a908c-ca52-4ce4-a1d8-541f4b0cd9b8",
   "metadata": {},
   "outputs": [
    {
     "name": "stdout",
     "output_type": "stream",
     "text": [
      "Reject H0 (p-value = 1.0381e-03)\n"
     ]
    }
   ],
   "source": [
    "# reject H0\n",
    "test_hypothesis(result.pvalue)"
   ]
  },
  {
   "cell_type": "code",
   "execution_count": 38,
   "id": "c3bb031d-5f28-4341-aabb-d970dfd3e11f",
   "metadata": {},
   "outputs": [
    {
     "name": "stdout",
     "output_type": "stream",
     "text": [
      "confidence interval: 0.765 ± 0.2351, [0.530, 1.000]\n"
     ]
    }
   ],
   "source": [
    "# CS2에 비해 p값은 더 작으나(더 확실하게 H0를 기각) 신뢰구간은 더 넓어짐\n",
    "# see https://stats.oarc.ucla.edu/other/mult-pkg/faq/general/faq-what-are-the-differences-between-one-tailed-and-two-tailed-tests/\n",
    "ci = result.proportion_ci(confidence_level=c_level)\n",
    "print_interval(ci.low, ci.high)"
   ]
  },
  {
   "cell_type": "markdown",
   "id": "74e87775-36c3-4755-ac48-8cc5a8fd6c80",
   "metadata": {},
   "source": [
    "### CS4\n",
    "Test for proportions based on normal (z) test\n",
    "- H0: 결혼의향 비율은 50%\n",
    "- Ha: 결혼의향 비율은 50%가 아니다"
   ]
  },
  {
   "cell_type": "code",
   "execution_count": 24,
   "id": "6897a783-66d2-438f-b40c-aabafc9ec638",
   "metadata": {},
   "outputs": [],
   "source": [
    "p = .5\n",
    "alternative='two-sided'\n",
    "#alternative='larger'"
   ]
  },
  {
   "cell_type": "code",
   "execution_count": 25,
   "id": "9fcf9256-cd0a-4279-8e71-86741bc03628",
   "metadata": {},
   "outputs": [
    {
     "name": "stdout",
     "output_type": "stream",
     "text": [
      "Reject H0 (p-value = 1.6701e-03)\n"
     ]
    }
   ],
   "source": [
    "# reject H0\n",
    "_, pval = proportions_ztest(k, n, p, alternative=alternative)\n",
    "test_hypothesis(pval)"
   ]
  },
  {
   "cell_type": "markdown",
   "id": "0b4cdc37-a055-49a7-b6f0-5deb69876156",
   "metadata": {},
   "source": [
    "## ST03\n",
    "미혼 남성은 65.7%가 결혼하고 싶다고 답한다."
   ]
  },
  {
   "cell_type": "markdown",
   "id": "0b0a0ee7-c549-4803-abca-5745e432af75",
   "metadata": {},
   "source": [
    "Result:\n",
    "- 데이터가 없어 미혼인의 남녀비율을 동일하게 가정.\n",
    "- 가설검정 결과 미혼남성의 결혼의향 비율은 미혼전체 결혼의향 비율과 같지 않다. \n",
    "- 미혼남성 결혼의향의 오차는 ±5.5%, 범위는 59~71% (95% 신뢰수준, 양측검정)"
   ]
  },
  {
   "cell_type": "code",
   "execution_count": 50,
   "id": "04f31bee-e68c-4ab3-988e-1a9c6c2c9a07",
   "metadata": {},
   "outputs": [],
   "source": [
    "n = int(n_single/2) # 미혼남녀 동일비율로 가정\n",
    "p_obs = .657\n",
    "k = int(n*p_obs)"
   ]
  },
  {
   "cell_type": "markdown",
   "id": "bf152750-e45f-4c37-844a-1173b96861c6",
   "metadata": {},
   "source": [
    "### CS1 (standard)\n",
    "- H0: 결혼의향 비율은 56.5% (남녀전체 비율)\n",
    "- Ha: 결혼의향 비율은 56.5%이 아니다"
   ]
  },
  {
   "cell_type": "code",
   "execution_count": 51,
   "id": "deaf769c-4e0c-4fe7-842b-155132bc71e3",
   "metadata": {},
   "outputs": [],
   "source": [
    "p = .565\n",
    "alternative = 'two-sided'"
   ]
  },
  {
   "cell_type": "code",
   "execution_count": 52,
   "id": "6f923e3c-3107-4aff-ac0e-0ea30e05bf54",
   "metadata": {},
   "outputs": [
    {
     "name": "stdout",
     "output_type": "stream",
     "text": [
      "Reject H0 (p-value = 1.4736e-03)\n"
     ]
    }
   ],
   "source": [
    "# reject H0\n",
    "_, pval = proportions_ztest(k, n, p, alternative=alternative)\n",
    "test_hypothesis(pval)"
   ]
  },
  {
   "cell_type": "code",
   "execution_count": 53,
   "id": "0be3b1d8-917e-4722-9d32-937e835abf17",
   "metadata": {},
   "outputs": [
    {
     "name": "stdout",
     "output_type": "stream",
     "text": [
      "confidence interval: 0.654 ± 0.0548, [0.599, 0.709]\n"
     ]
    }
   ],
   "source": [
    "method = 'normal'\n",
    "low, high = proportion_confint(k, n, alpha, method=method)\n",
    "print_interval(low, high)"
   ]
  },
  {
   "cell_type": "markdown",
   "id": "8523ab7c-af45-4e47-a9cb-2183ef2818b4",
   "metadata": {},
   "source": [
    "additional"
   ]
  },
  {
   "cell_type": "code",
   "execution_count": 54,
   "id": "a43702d6-2eed-4b73-8135-b6a2d0cd0f3b",
   "metadata": {},
   "outputs": [
    {
     "name": "stdout",
     "output_type": "stream",
     "text": [
      "confidence interval: 0.652 ± 0.0563, [0.596, 0.709]\n"
     ]
    }
   ],
   "source": [
    "result = stats.binomtest(k, n, p, alternative=alternative)\n",
    "ci = result.proportion_ci(confidence_level=c_level)\n",
    "print_interval(ci.low, ci.high)"
   ]
  },
  {
   "cell_type": "markdown",
   "id": "641ac972-45d1-4eed-9140-bee588f0ce01",
   "metadata": {
    "tags": []
   },
   "source": [
    "### CS2\n",
    "- H0: 결혼의향 비율은 50%\n",
    "- Ha: 결혼의향 비율은 50%가 아니다"
   ]
  },
  {
   "cell_type": "code",
   "execution_count": 32,
   "id": "a164e79e-4960-4cb3-809d-10267d2de175",
   "metadata": {},
   "outputs": [],
   "source": [
    "p = .5\n",
    "alternative = 'two-sided'"
   ]
  },
  {
   "cell_type": "code",
   "execution_count": 33,
   "id": "84a9f040-b3fc-4c60-a925-1eba8ad1b0a1",
   "metadata": {},
   "outputs": [
    {
     "name": "stdout",
     "output_type": "stream",
     "text": [
      "Reject H0 (p-value = 3.7396e-08)\n"
     ]
    }
   ],
   "source": [
    "# reject H0\n",
    "_, pval = proportions_ztest(k, n, p, alternative=alternative)\n",
    "test_hypothesis(pval)"
   ]
  },
  {
   "cell_type": "markdown",
   "id": "51888df2-983b-4b98-bb55-cff40c191087",
   "metadata": {},
   "source": [
    "## ST04\n",
    "여성은 54.5%가 결혼할 의향이 없다고 답한다.\n",
    "(미혼 여성은 45.5%가 결혼하고 싶다고 답한다)"
   ]
  },
  {
   "cell_type": "markdown",
   "id": "7fec433a-0b40-4afd-8c20-3d67064d7811",
   "metadata": {},
   "source": [
    "Result:\n",
    "- 데이터가 없어 미혼인의 남녀비율을 동일하게 가정.\n",
    "- 가설검정 결과 미혼여성의 결혼의향 비율은 미혼전체 결혼의향 비율과 같지 않다. \n",
    "- 미혼여성 결혼의향의 오차는 ±5.7%, 범위는 40~51% (95% 신뢰수준, 양측검정)\n",
    "- 미혼중 여성비율을 30%로 가정시 결혼의향의 오차는 7.4%, 범위는 38~53% (95% 신뢰수준, 양측검정)"
   ]
  },
  {
   "cell_type": "code",
   "execution_count": 5,
   "id": "fb60f020-d1d6-4d1a-bb27-77a00e160693",
   "metadata": {},
   "outputs": [],
   "source": [
    "n = int(n_single/2) # 미혼남녀 동일비율로 가정\n",
    "p_obs = .455\n",
    "k = int(n*p_obs)"
   ]
  },
  {
   "cell_type": "markdown",
   "id": "314746ac-6d05-4af7-a2a8-6c638b343c24",
   "metadata": {},
   "source": [
    "### CS1\n",
    "- H0: 결혼의향 비율은 56.5% (남녀전체 비율)\n",
    "- Ha: 결혼의향 비율은 56.5%이 아니다"
   ]
  },
  {
   "cell_type": "code",
   "execution_count": 35,
   "id": "2d5b9484-e1f1-4f82-b174-124140b1d804",
   "metadata": {},
   "outputs": [],
   "source": [
    "p = .565\n",
    "alternative = 'two-sided'"
   ]
  },
  {
   "cell_type": "code",
   "execution_count": 36,
   "id": "29b72cf3-7a3f-4007-9e28-6abca6d0d4de",
   "metadata": {},
   "outputs": [
    {
     "name": "stdout",
     "output_type": "stream",
     "text": [
      "Reject H0 (p-value = 1.3623e-04)\n"
     ]
    }
   ],
   "source": [
    "# reject H0\n",
    "_, pval = proportions_ztest(k, n, p, alternative=alternative)\n",
    "test_hypothesis(pval)"
   ]
  },
  {
   "cell_type": "code",
   "execution_count": 37,
   "id": "2733d854-a058-4d3f-82bb-14042b7432c7",
   "metadata": {},
   "outputs": [
    {
     "name": "stdout",
     "output_type": "stream",
     "text": [
      "confidence interval: 0.453 ± 0.0574, [0.396, 0.511]\n"
     ]
    }
   ],
   "source": [
    "method = 'normal'\n",
    "low, high = proportion_confint(k, n, alpha, method=method)\n",
    "print_interval(low, high)"
   ]
  },
  {
   "cell_type": "markdown",
   "id": "5e1522d9-bb12-4a2a-9d71-884ee5df48b7",
   "metadata": {},
   "source": [
    "### CS2\n",
    "결혼의향 없음"
   ]
  },
  {
   "cell_type": "code",
   "execution_count": 55,
   "id": "dc5217b7-66de-408b-a82e-27af1a2f57f1",
   "metadata": {},
   "outputs": [],
   "source": [
    "p_obs = .545\n",
    "k = int(n*p_obs)"
   ]
  },
  {
   "cell_type": "code",
   "execution_count": 56,
   "id": "bc3605d9-b9f1-4c72-ba62-9569179bdb09",
   "metadata": {},
   "outputs": [
    {
     "name": "stdout",
     "output_type": "stream",
     "text": [
      "confidence interval: 0.543 ± 0.0574, [0.486, 0.601]\n"
     ]
    }
   ],
   "source": [
    "method = 'normal'\n",
    "low, high = proportion_confint(k, n, alpha, method=method)\n",
    "print_interval(low, high)"
   ]
  },
  {
   "cell_type": "markdown",
   "id": "1924716f-01a1-491f-981f-2fc1a1116741",
   "metadata": {},
   "source": [
    "### CS3\n",
    "결혼의향 있고, 여성비율 새로 가정"
   ]
  },
  {
   "cell_type": "code",
   "execution_count": 39,
   "id": "ba694237-fbfa-42e8-a855-22413b5098e3",
   "metadata": {},
   "outputs": [],
   "source": [
    "rf = 0.3 # 미혼중 여성비율 가정\n",
    "n = int(n_single*rf)\n",
    "p_obs = .455\n",
    "k = int(n*p_obs)"
   ]
  },
  {
   "cell_type": "code",
   "execution_count": 8,
   "id": "90113b6c-47a5-4f79-a5d0-df87bb1b2109",
   "metadata": {},
   "outputs": [],
   "source": [
    "p = .565\n",
    "alternative = 'two-sided'"
   ]
  },
  {
   "cell_type": "code",
   "execution_count": 9,
   "id": "2c9a667d-c67a-4bcb-ac5b-907be53d3583",
   "metadata": {},
   "outputs": [
    {
     "name": "stdout",
     "output_type": "stream",
     "text": [
      "Reject H0 (p-value = 2.5531e-03)\n"
     ]
    }
   ],
   "source": [
    "# reject H0\n",
    "_, pval = proportions_ztest(k, n, p, alternative=alternative)\n",
    "test_hypothesis(pval)"
   ]
  },
  {
   "cell_type": "code",
   "execution_count": 10,
   "id": "795580ad-2875-4793-875c-420e80b2bf18",
   "metadata": {},
   "outputs": [
    {
     "name": "stdout",
     "output_type": "stream",
     "text": [
      "confidence interval: 0.451 ± 0.0741, [0.377, 0.525]\n"
     ]
    }
   ],
   "source": [
    "method = 'normal'\n",
    "low, high = proportion_confint(k, n, alpha, method=method)\n",
    "print_interval(low, high)"
   ]
  },
  {
   "cell_type": "markdown",
   "id": "f4e03a57-f099-4810-bcb3-5cdb31ab6986",
   "metadata": {},
   "source": [
    "## ST05\n",
    "30대 미혼 남성은 71.1%가 결혼 의향이 있지만, 30대 미혼 여성 55.3%는 결혼 의향이 없다"
   ]
  },
  {
   "cell_type": "markdown",
   "id": "7c0a36c0-b45b-4855-a15d-eae30f8ce612",
   "metadata": {},
   "source": [
    "Result:\n",
    "- 데이터가 없어 미혼인의 남녀비율을 동일하게 가정.\n",
    "- 가설검정 결과 30대 미혼남성의 결혼의향 비율은 전체 미혼남성의 결혼의향 비율(65.7%)과 같다. \n",
    "- 30대 미혼남성 결혼의향의 오차는 ±9.5%, 범위는 61~80% (95% 신뢰수준, 양측검정)\n",
    "- 가설검정 결과 30대 미혼여성의 결혼의향 비율은 전체 미혼여성의 결혼의향 비율(45.5%)과 같다. \n",
    "- 30대 미혼여성 결혼의향의 오차는 ±10%, 범위는 44~65% (95% 신뢰수준, 양측검정)"
   ]
  },
  {
   "cell_type": "markdown",
   "id": "f907bc75-805e-444a-843e-8083c70d121e",
   "metadata": {},
   "source": [
    "### CS1\n",
    "- H0: 30대 미혼남성과 전체 미혼남성의 결혼의향 비율은 동일하다.\n",
    "- Ha: 결혼의향 비율은 다르다"
   ]
  },
  {
   "cell_type": "code",
   "execution_count": 10,
   "id": "77fd0cac-876c-4d41-a279-241a9eb9c066",
   "metadata": {},
   "outputs": [],
   "source": [
    "n = int(n_age_single*10/2) # 30대 미혼남 (남녀 동일비율 가정)\n",
    "p_obs = .711\n",
    "k = int(n*p_obs)"
   ]
  },
  {
   "cell_type": "code",
   "execution_count": 7,
   "id": "0203c411-be4f-4d4f-9f17-8728398d5766",
   "metadata": {},
   "outputs": [],
   "source": [
    "p = .657 # 미혼 남성은 65.7%가 결혼하고 싶다고 답한다.\n",
    "alternative = 'two-sided'"
   ]
  },
  {
   "cell_type": "code",
   "execution_count": 8,
   "id": "8cb5f28e-7083-4b42-a71f-fc27d77296a1",
   "metadata": {},
   "outputs": [
    {
     "name": "stdout",
     "output_type": "stream",
     "text": [
      "Accept H0 (p-value = 3.7337e-01)\n"
     ]
    }
   ],
   "source": [
    "_, pval = proportions_ztest(k, n, p, alternative=alternative)\n",
    "test_hypothesis(pval)"
   ]
  },
  {
   "cell_type": "code",
   "execution_count": 9,
   "id": "94de8952-35c4-43b7-9e35-9fa23b090deb",
   "metadata": {},
   "outputs": [
    {
     "name": "stdout",
     "output_type": "stream",
     "text": [
      "confidence interval: 0.700 ± 0.0947, [0.605, 0.795]\n"
     ]
    }
   ],
   "source": [
    "method = 'normal'\n",
    "low, high = proportion_confint(k, n, alpha, method=method)\n",
    "print_interval(low, high)"
   ]
  },
  {
   "cell_type": "markdown",
   "id": "40a6d5a2-d69b-4c54-80c4-f413c7f88e59",
   "metadata": {},
   "source": [
    "### CS2\n",
    "- H0: 30대 미혼여성과 전체 미혼여성의 결혼의향 비율은 동일하다.\n",
    "- Ha: 결혼의향 비율은 다르다"
   ]
  },
  {
   "cell_type": "code",
   "execution_count": 11,
   "id": "e136ff70-f530-4483-beee-f66fa1829704",
   "metadata": {},
   "outputs": [],
   "source": [
    "n = int(n_age_single*10/2) # 30대 미혼녀 (남녀 동일비율 가정)\n",
    "p_obs = .553\n",
    "k = int(n*p_obs)"
   ]
  },
  {
   "cell_type": "code",
   "execution_count": 12,
   "id": "f4f6c656-32f8-4021-a31e-05846db2124d",
   "metadata": {},
   "outputs": [],
   "source": [
    "p = .455 # 미혼 여성은 45.5%가 결혼하고 싶다고 답한다.\n",
    "alternative = 'two-sided'"
   ]
  },
  {
   "cell_type": "code",
   "execution_count": 13,
   "id": "64759e1f-3cc8-42de-a515-3585e3805b07",
   "metadata": {},
   "outputs": [
    {
     "name": "stdout",
     "output_type": "stream",
     "text": [
      "Accept H0 (p-value = 8.8412e-02)\n"
     ]
    }
   ],
   "source": [
    "_, pval = proportions_ztest(k, n, p, alternative=alternative)\n",
    "test_hypothesis(pval)"
   ]
  },
  {
   "cell_type": "code",
   "execution_count": 14,
   "id": "d6b0051d-4247-45cc-bd83-9ce106f1be0d",
   "metadata": {},
   "outputs": [
    {
     "name": "stdout",
     "output_type": "stream",
     "text": [
      "confidence interval: 0.544 ± 0.1029, [0.442, 0.647]\n"
     ]
    }
   ],
   "source": [
    "method = 'normal'\n",
    "low, high = proportion_confint(k, n, alpha, method=method)\n",
    "print_interval(low, high)"
   ]
  },
  {
   "cell_type": "markdown",
   "id": "654aa566-be00-4e01-a88d-40cc1e1b5104",
   "metadata": {},
   "source": [
    "## ST06\n",
    "20대 역시 남성 64.6%가 결혼할 의향이 있지만, 여성은 52.7%가 의향이 없다고 답했다."
   ]
  },
  {
   "cell_type": "markdown",
   "id": "28970a1f-b409-4c22-a71a-cdf8c928397f",
   "metadata": {},
   "source": [
    "Result:\n",
    "- 20대 여성 중 미혼의 비율은 전체 미혼 비율과 동일하다고 가정\n",
    "- 가설검정 결과 20대 미혼여성의 결혼의향 비율(47.3%)은 전체 미혼여성의 결혼의향 비율(45.5%)과 같다. \n",
    "- 20대 미혼여성 결혼의향의 오차는 ±10%, 범위는 37~57% (95% 신뢰수준, 양측검정)\n",
    "- 20대 여성 모두 미혼으로 가정해도 유사한 결과를 보임"
   ]
  },
  {
   "cell_type": "markdown",
   "id": "eed0727b-615e-4579-9e3b-7a553e2ef2eb",
   "metadata": {},
   "source": [
    "### CS1\n",
    "- H0: 20대 미혼여성과 전체 미혼여성의 결혼의향 비율은 동일하다.\n",
    "- Ha: 결혼의향 비율은 다르다"
   ]
  },
  {
   "cell_type": "code",
   "execution_count": 7,
   "id": "dda877c6-c8a7-4552-88b7-9fd33a9415cb",
   "metadata": {},
   "outputs": [],
   "source": [
    "n = int(n_20s_f*(n_single/n_all)) # 20대 미혼녀 (20대 여자의 미혼 비율을 전체 미혼비율과 동일하다고 가정)\n",
    "p_obs = 1 - .527\n",
    "k = int(n*p_obs)"
   ]
  },
  {
   "cell_type": "code",
   "execution_count": 8,
   "id": "2a9f4bab-7f3a-480f-bdb9-d5d78a16c82d",
   "metadata": {},
   "outputs": [],
   "source": [
    "p = .455 # 미혼 여성은 45.5%가 결혼하고 싶다고 답한다.\n",
    "alternative = 'two-sided'"
   ]
  },
  {
   "cell_type": "code",
   "execution_count": 9,
   "id": "37007878-a26f-4760-b03b-173d9765acf6",
   "metadata": {},
   "outputs": [
    {
     "name": "stdout",
     "output_type": "stream",
     "text": [
      "Accept H0 (p-value = 8.1172e-01)\n"
     ]
    }
   ],
   "source": [
    "_, pval = proportions_ztest(k, n, p, alternative=alternative)\n",
    "test_hypothesis(pval)"
   ]
  },
  {
   "cell_type": "code",
   "execution_count": 10,
   "id": "0efe7802-507d-4b4b-bd17-5f17e7e9ade2",
   "metadata": {},
   "outputs": [
    {
     "name": "stdout",
     "output_type": "stream",
     "text": [
      "confidence interval: 0.467 ± 0.1020, [0.365, 0.569]\n"
     ]
    }
   ],
   "source": [
    "method = 'normal'\n",
    "low, high = proportion_confint(k, n, alpha, method=method)\n",
    "print_interval(low, high)"
   ]
  },
  {
   "cell_type": "markdown",
   "id": "e0e05812-6cc5-406a-bce9-2b80f73d21b5",
   "metadata": {},
   "source": [
    "### CS2\n",
    "20대 여자의 모두가 미혼이라고 가정\n",
    "- H0: 20대 미혼여성과 전체 미혼여성의 결혼의향 비율은 동일하다.\n",
    "- Ha: 결혼의향 비율은 다르다"
   ]
  },
  {
   "cell_type": "code",
   "execution_count": 11,
   "id": "9f65eab0-aec3-47bf-a6b4-b1394c54700e",
   "metadata": {},
   "outputs": [],
   "source": [
    "n = n_20s_f # 20대 여자 모두 미혼으로 가정\n",
    "p_obs = 1 - .527\n",
    "k = int(n*p_obs)"
   ]
  },
  {
   "cell_type": "code",
   "execution_count": 12,
   "id": "53e1e797-1583-4eb8-b477-ef725283d21c",
   "metadata": {},
   "outputs": [],
   "source": [
    "p = .455 # 미혼 여성은 45.5%가 결혼하고 싶다고 답한다.\n",
    "alternative = 'two-sided'"
   ]
  },
  {
   "cell_type": "code",
   "execution_count": null,
   "id": "c5c1738a-e6fd-47d3-907d-126bc9aadc9f",
   "metadata": {},
   "outputs": [
    {
     "name": "stdout",
     "output_type": "stream",
     "text": [
      "Accept H0 (p-value = 7.2744e-01)\n"
     ]
    }
   ],
   "source": [
    "_, pval = proportions_ztest(k, n, p, alternative=alternative)\n",
    "test_hypothesis(pval)"
   ]
  },
  {
   "cell_type": "code",
   "execution_count": null,
   "id": "7240ea1b-bff7-4af8-a550-517e13bb92f8",
   "metadata": {},
   "outputs": [
    {
     "name": "stdout",
     "output_type": "stream",
     "text": [
      "confidence interval: 0.469 ± 0.0773, [0.391, 0.546]\n"
     ]
    }
   ],
   "source": [
    "method = 'normal'\n",
    "low, high = proportion_confint(k, n, alpha, method=method)\n",
    "print_interval(low, high)"
   ]
  },
  {
   "cell_type": "code",
   "execution_count": null,
   "id": "48394eca-801d-4347-aea7-b92319fa6812",
   "metadata": {},
   "outputs": [],
   "source": []
  },
  {
   "cell_type": "markdown",
   "id": "9cea2da8-c2c3-4310-8a94-a22a53179da2",
   "metadata": {
    "tags": []
   },
   "source": [
    "# Item 2"
   ]
  },
  {
   "cell_type": "markdown",
   "id": "97a7e561-b046-4b0a-b332-c16fa114ac45",
   "metadata": {},
   "source": [
    "- (그림5) 20대 여성의 49.2%, 30대 여성의 21.4%가 페미니즘에 긍정적 모습을 보인다. 반면 남성의 경우, 20대 9.5%, 30대 6.2%만 페미니즘에 긍정적 태도를 가진다.\n",
    "- 페미니즘은 결혼 의향과 상당한 상관관계를 보인다. 페미니즘에 긍정적인 응답자 가운데 70.1%가 결혼 의향이 없다고 밝혔다. 반면 페미니즘에 ‘보통’이거나 ‘부정적’인 태도를 갖는 사람들은 각각 63.5%, 65.2%가 결혼 의향이 있다고 응답했다. => 그림5로 확인불가\n",
    "- (그림5) 전체 응답자중 18.8%가 페미니즘에 긍정적, 41.3%가 부정적\n",
    "- (그림5) 결혼의향 없는 미혼 중 37%가 페미니즘에 긍정적, 34.3%가 부정적"
   ]
  },
  {
   "cell_type": "code",
   "execution_count": 16,
   "id": "8b86cf17-06db-42db-94f7-e7376c397aa3",
   "metadata": {},
   "outputs": [],
   "source": [
    "n_all = 1000\n",
    "n_single = 579 # 미혼남녀\n",
    "c_level = .95 # 신뢰수준 95%\n",
    "alpha = 1 - c_level "
   ]
  },
  {
   "cell_type": "code",
   "execution_count": 17,
   "id": "ec733bcc-ef4b-447d-9f80-eb3936de0125",
   "metadata": {},
   "outputs": [],
   "source": [
    "# 20대 여성 응답자(160명)\n",
    "n_20s_f = 160"
   ]
  },
  {
   "cell_type": "code",
   "execution_count": 18,
   "id": "08094961-1977-4079-a954-e72b32ccf895",
   "metadata": {},
   "outputs": [],
   "source": [
    "# 나이당 인원 가정: 18~49세 전국 성인 남녀 1000명이 조사에 응해주었다\n",
    "n_age = n_all / (49-18+1) # 나이당 남녀수\n",
    "n_age_single = n_single / (49-18+1) # 나이당 싱글남녀수"
   ]
  },
  {
   "cell_type": "code",
   "execution_count": 19,
   "id": "dcca526d-0445-49c6-976b-39fbd269efa0",
   "metadata": {},
   "outputs": [],
   "source": [
    "# 미혼 응답자 579명 중 결혼 의향이 있다는 사람은 56.5%, 의향이 없다는 사람은 43.5%였다. \n",
    "n_single_marry = round(n_single * .567)\n",
    "n_single_nomarry = n_single - n_single_marry"
   ]
  },
  {
   "cell_type": "code",
   "execution_count": 28,
   "id": "326b0c4e-8616-4cf6-896a-cd07e4af0ed4",
   "metadata": {},
   "outputs": [],
   "source": [
    "n_fem = round(n_all * 0.188) # 전체중 페미니즘에 긍정적 인원수\n",
    "n_single_nomarry_fem = round(n_single_nomarry * .37) # 결혼의향 없는 미혼중 페미니즘에 긍정적\n",
    "n_single_nomarry_fema = round(n_single_nomarry * .343) # 결혼의향 없는 미혼중 페미니즘에 부정적"
   ]
  },
  {
   "cell_type": "code",
   "execution_count": 21,
   "id": "1c9912e1-5d2c-48ed-a29f-e885d296d768",
   "metadata": {},
   "outputs": [
    {
     "data": {
      "text/plain": [
       "(188, 93)"
      ]
     },
     "execution_count": 21,
     "metadata": {},
     "output_type": "execute_result"
    }
   ],
   "source": [
    "n_fem, n_single_nomarry_fem"
   ]
  },
  {
   "cell_type": "markdown",
   "id": "64dc8ddd-2a19-4e6e-9f26-1007d88cd1f7",
   "metadata": {},
   "source": [
    "## ST01\n",
    "20대 여성의 49.2%, 30대 여성의 21.4%가 페미니즘에 긍정적 모습을 보인다. 반면 남성의 경우, 20대 9.5%, 30대 6.2%만 페미니즘에 긍정적 태도를 가진다."
   ]
  },
  {
   "cell_type": "markdown",
   "id": "de59057f-f3be-460f-884c-a86fd4a63a81",
   "metadata": {},
   "source": [
    "Result:\n",
    "- 가설검정 결과 20대 여성은 전체 인원보다 페미니즘에 더 긍정적, 20대 남성은 덜 긍적적"
   ]
  },
  {
   "cell_type": "markdown",
   "id": "e0bae2cc-0a2d-4652-ba5b-089d91197763",
   "metadata": {
    "toc-hr-collapsed": true
   },
   "source": [
    "### CS1\n",
    "- H0: 20대 여성의 긍정 비율은 전체 긍정 비율과 동일하다.\n",
    "- Ha: 서로 다르다"
   ]
  },
  {
   "cell_type": "code",
   "execution_count": 22,
   "id": "ec8d442a-5048-4038-9af8-e1aed8ee1806",
   "metadata": {},
   "outputs": [],
   "source": [
    "n = n_20s_f # 20대 여성수\n",
    "p_obs = .492\n",
    "k = int(n*p_obs) # 페미니즘에 긍정적 인원수"
   ]
  },
  {
   "cell_type": "code",
   "execution_count": 23,
   "id": "b8d48404-5d08-439f-bf8e-8b44491c96b1",
   "metadata": {},
   "outputs": [],
   "source": [
    "p = .188 # 전체 긍적적 비율.\n",
    "alternative = 'two-sided'"
   ]
  },
  {
   "cell_type": "code",
   "execution_count": 24,
   "id": "f9660eec-d3dd-4aad-a2a2-e2240234af04",
   "metadata": {},
   "outputs": [
    {
     "name": "stdout",
     "output_type": "stream",
     "text": [
      "Reject H0 (p-value = 3.4773e-14)\n"
     ]
    }
   ],
   "source": [
    "_, pval = proportions_ztest(k, n, p, alternative=alternative)\n",
    "test_hypothesis(pval)"
   ]
  },
  {
   "cell_type": "code",
   "execution_count": 25,
   "id": "2b37f519-fea3-45ec-bec1-4d632166aa8f",
   "metadata": {},
   "outputs": [
    {
     "name": "stdout",
     "output_type": "stream",
     "text": [
      "confidence interval: 0.487 ± 0.0775, [0.410, 0.565]\n"
     ]
    }
   ],
   "source": [
    "method = 'normal'\n",
    "low, high = proportion_confint(k, n, alpha, method=method)\n",
    "print_interval(low, high)"
   ]
  },
  {
   "cell_type": "markdown",
   "id": "9276f885-3f21-45be-8634-db3e48360df0",
   "metadata": {},
   "source": [
    "### CS2\n",
    "- H0: 20대 남성의 긍적 비율은 전체 긍정 비율과 동일하다.\n",
    "- Ha: 서로 다르다"
   ]
  },
  {
   "cell_type": "code",
   "execution_count": 25,
   "id": "9745ca12-16cb-4ed1-bda1-35ac8be16645",
   "metadata": {},
   "outputs": [],
   "source": [
    "n = int(n_age * 10 / 2) # 20대 남성수 가정\n",
    "p_obs = .095\n",
    "k = int(n*p_obs) # 페미니즘에 긍정적 인원수"
   ]
  },
  {
   "cell_type": "code",
   "execution_count": 26,
   "id": "b76d1f81-4dc9-4cdf-ab6c-0391aa85442b",
   "metadata": {},
   "outputs": [],
   "source": [
    "p = .188 # 전체 긍적적 비율.\n",
    "alternative = 'two-sided'"
   ]
  },
  {
   "cell_type": "code",
   "execution_count": 27,
   "id": "b415d899-4f94-473f-9e79-3cfe778a004e",
   "metadata": {},
   "outputs": [
    {
     "name": "stdout",
     "output_type": "stream",
     "text": [
      "Reject H0 (p-value = 1.7566e-05)\n"
     ]
    }
   ],
   "source": [
    "_, pval = proportions_ztest(k, n, p, alternative=alternative)\n",
    "test_hypothesis(pval)"
   ]
  },
  {
   "cell_type": "code",
   "execution_count": 28,
   "id": "7047eac4-9520-423d-a386-039ca5bfb818",
   "metadata": {},
   "outputs": [
    {
     "name": "stdout",
     "output_type": "stream",
     "text": [
      "confidence interval: 0.090 ± 0.0449, [0.045, 0.135]\n"
     ]
    }
   ],
   "source": [
    "method = 'normal'\n",
    "low, high = proportion_confint(k, n, alpha, method=method)\n",
    "print_interval(low, high)"
   ]
  },
  {
   "cell_type": "markdown",
   "id": "6ac25249-c6ea-4f26-a600-f7fb0183cd71",
   "metadata": {},
   "source": [
    "## ST02\n",
    "결혼의향 없는 미혼 중 37%가 페미니즘에 긍정적, 34.3%가 부정적"
   ]
  },
  {
   "cell_type": "markdown",
   "id": "69b9dd8e-6f58-4d35-b117-7226110ae564",
   "metadata": {},
   "source": [
    "Result:\n",
    "- 비혼주의자 미혼의 페미니즘 긍정적 비율은 전체 인원의 긍정적 비율보다 높다\n",
    "- 비혼주의자 미혼의 페미니즘 부정적 비율은 전체 인원의 부정적 비율보다 낮다\n",
    "- 전반적으로 페미니즘에 대한 인식이 비혼결정에 영향을 주는것으로 보인다. 베이지안(조건부확률)을 적용할수있을까?"
   ]
  },
  {
   "cell_type": "markdown",
   "id": "58a41fcd-63f7-49a2-a3ff-25f014f9f008",
   "metadata": {},
   "source": [
    "### CS1\n",
    "- H0: 결혼의향 없는 미혼의 긍정 비율은 전체 긍정 비율과 동일하다.\n",
    "- Ha: 서로 다르다"
   ]
  },
  {
   "cell_type": "code",
   "execution_count": 34,
   "id": "6dd3fb11-eed1-40af-b89d-4945473c7fde",
   "metadata": {},
   "outputs": [],
   "source": [
    "n = n_single_nomarry # 결혼의향없는 미혼\n",
    "p_obs = .37\n",
    "k = int(n*p_obs) # 페미니즘에 긍정적 인원수"
   ]
  },
  {
   "cell_type": "code",
   "execution_count": 35,
   "id": "4edbfb05-0b17-4e99-b1de-39e4d203d50e",
   "metadata": {},
   "outputs": [],
   "source": [
    "p = .188 # 전체 긍적적 비율.\n",
    "alternative = 'two-sided'"
   ]
  },
  {
   "cell_type": "code",
   "execution_count": 36,
   "id": "15293151-7711-424e-a7da-e5a5d420ad7b",
   "metadata": {},
   "outputs": [
    {
     "name": "stdout",
     "output_type": "stream",
     "text": [
      "Reject H0 (p-value = 4.3577e-09)\n"
     ]
    }
   ],
   "source": [
    "_, pval = proportions_ztest(k, n, p, alternative=alternative)\n",
    "test_hypothesis(pval)"
   ]
  },
  {
   "cell_type": "code",
   "execution_count": 37,
   "id": "5cbd6668-7b7f-4bd7-8d22-7be0931c39d3",
   "metadata": {},
   "outputs": [
    {
     "name": "stdout",
     "output_type": "stream",
     "text": [
      "confidence interval: 0.367 ± 0.0596, [0.307, 0.426]\n"
     ]
    }
   ],
   "source": [
    "method = 'normal'\n",
    "low, high = proportion_confint(k, n, alpha, method=method)\n",
    "print_interval(low, high)"
   ]
  },
  {
   "cell_type": "markdown",
   "id": "1f8e2afe-ac42-4135-accc-47b786ab0969",
   "metadata": {},
   "source": [
    "### CS2\n",
    "- H0: 결혼의향 없는 미혼의 부정적 비율은 전체 부정적 비율과 동일하다.\n",
    "- Ha: 서로 다르다"
   ]
  },
  {
   "cell_type": "code",
   "execution_count": 38,
   "id": "412ba7d9-0833-4a79-83e7-d7086af57e89",
   "metadata": {},
   "outputs": [],
   "source": [
    "n = n_single_nomarry # 결혼의향없는 미혼\n",
    "p_obs = .343\n",
    "k = int(n*p_obs) # 페미니즘에 부정적 인원수"
   ]
  },
  {
   "cell_type": "code",
   "execution_count": 39,
   "id": "3ff0cade-5cec-472c-a86c-a378ad98206a",
   "metadata": {},
   "outputs": [],
   "source": [
    "p = .413 # 전체 부정적 비율.\n",
    "alternative = 'two-sided'"
   ]
  },
  {
   "cell_type": "code",
   "execution_count": 40,
   "id": "6e37c0d5-d46e-4bdc-8b14-8387725a1c2f",
   "metadata": {},
   "outputs": [
    {
     "name": "stdout",
     "output_type": "stream",
     "text": [
      "Reject H0 (p-value = 1.8816e-02)\n"
     ]
    }
   ],
   "source": [
    "_, pval = proportions_ztest(k, n, p, alternative=alternative)\n",
    "test_hypothesis(pval)"
   ]
  },
  {
   "cell_type": "code",
   "execution_count": 41,
   "id": "af01bbd3-e389-4fb0-9b95-f0c3996780b6",
   "metadata": {},
   "outputs": [
    {
     "name": "stdout",
     "output_type": "stream",
     "text": [
      "confidence interval: 0.343 ± 0.0587, [0.284, 0.401]\n"
     ]
    }
   ],
   "source": [
    "method = 'normal'\n",
    "low, high = proportion_confint(k, n, alpha, method=method)\n",
    "print_interval(low, high)"
   ]
  },
  {
   "cell_type": "markdown",
   "id": "11c8354d-d93e-44c0-9b40-754592221e5b",
   "metadata": {},
   "source": [
    "## ST03\n",
    "페미니즘은 결혼 의향과 상당한 상관관계를 보인다. 페미니즘에 긍정적인 응답자 가운데 70.1%가 결혼 의향이 없다고 밝혔다. 반면 페미니즘에 ‘보통’이거나 ‘부정적’인 태도를 갖는 사람들은 각각 63.5%, 65.2%가 결혼 의향이 있다고 응답했다."
   ]
  },
  {
   "cell_type": "markdown",
   "id": "bb2d9cac-a707-4873-8905-3016a8c33d24",
   "metadata": {},
   "source": [
    "Result:\n",
    "- 결혼의향 질문이므로 대상은 미혼을 가정\n",
    "- 가설검정 결과 결혼의향 없는 미혼은 페미니즘에 대한 긍정/부정 비율은 동일하다. 즉 결혼을 안하는 이유는 페미니즘이라고 할 수 없다\n",
    "- 가설검정 결과 결혼의향 있는 미혼은 페미니즘에 대한 부정 비율이 높다. (페미니즘이 싫어서 결혼하는 것은 아닐테고 뭘 알수 있지?)\n",
    "- 카이제곱 검정 결과 결혼의향에 따라 페미니즘에 대한 인식의 차이가 있다.\n",
    "- 카이제곱 검정 결과 결혼의향 있을때 페미니즘에 대한 인식의 차이가 있다.\n",
    "- 카이제곱 검정 결과 결혼의향 없을때 페미니즘에 대한 인식의 차이는 없다."
   ]
  },
  {
   "cell_type": "markdown",
   "id": "74c198d4-9dda-4fcf-8ca9-b880645ce1f5",
   "metadata": {},
   "source": [
    "### CS1\n",
    "- H0: 결혼의향 없는 미혼중 페미니즘에 긍정적인 비율은 부정적인 비율과 동일하다.\n",
    "- Ha: 서로 다르다"
   ]
  },
  {
   "cell_type": "code",
   "execution_count": 50,
   "id": "0d97011a-6888-4b64-bd12-dc56653ac25d",
   "metadata": {},
   "outputs": [
    {
     "data": {
      "text/plain": [
       "(251, 93)"
      ]
     },
     "execution_count": 50,
     "metadata": {},
     "output_type": "execute_result"
    }
   ],
   "source": [
    "n = n_single_nomarry # 결혼의향없는 미혼\n",
    "k = n_single_nomarry_fem # 그중 페미니즘에 긍정적 인원수\n",
    "n,k"
   ]
  },
  {
   "cell_type": "code",
   "execution_count": 40,
   "id": "04780e6b-46d2-462f-94c1-591ed5cd0ffb",
   "metadata": {},
   "outputs": [],
   "source": [
    "p = n_single_nomarry_fema/n # 결혼의향없는 미혼의 페미니즘 긍정 비율.\n",
    "alternative = 'two-sided'"
   ]
  },
  {
   "cell_type": "code",
   "execution_count": 41,
   "id": "b6baee44-c5c7-4a48-b177-b306ad344f94",
   "metadata": {},
   "outputs": [
    {
     "name": "stdout",
     "output_type": "stream",
     "text": [
      "Accept H0 (p-value = 3.6025e-01)\n"
     ]
    }
   ],
   "source": [
    "_, pval = proportions_ztest(k, n, p, alternative=alternative)\n",
    "test_hypothesis(pval)"
   ]
  },
  {
   "cell_type": "code",
   "execution_count": 42,
   "id": "639c118c-8610-4d8f-8826-43dc7bc4f502",
   "metadata": {},
   "outputs": [
    {
     "name": "stdout",
     "output_type": "stream",
     "text": [
      "confidence interval: 0.371 ± 0.0597, [0.311, 0.430]\n"
     ]
    }
   ],
   "source": [
    "method = 'normal'\n",
    "low, high = proportion_confint(k, n, alpha, method=method)\n",
    "print_interval(low, high)"
   ]
  },
  {
   "cell_type": "markdown",
   "id": "714d1405-85bd-4044-b91d-d20064342d95",
   "metadata": {},
   "source": [
    "additional"
   ]
  },
  {
   "cell_type": "code",
   "execution_count": 43,
   "id": "e1abb92b-7cc4-4173-b8a8-dd8b10182893",
   "metadata": {},
   "outputs": [
    {
     "name": "stdout",
     "output_type": "stream",
     "text": [
      "confidence interval: 0.343 ± 0.0587, [0.284, 0.401]\n"
     ]
    }
   ],
   "source": [
    "k = n_single_nomarry_fema # 결혼의향없는 미혼의 페미니즘 긍정 인원수\n",
    "method = 'normal'\n",
    "low, high = proportion_confint(k, n, alpha, method=method)\n",
    "print_interval(low, high)"
   ]
  },
  {
   "cell_type": "markdown",
   "id": "47c23cb9-8540-46e5-96e4-0a93ba412e99",
   "metadata": {},
   "source": [
    "### CS2\n",
    "- H0: 결혼의향 있는 미혼중 페미니즘에 긍정적인 비율은 부정적인 비율과 동일하다.\n",
    "- Ha: 서로 다르다"
   ]
  },
  {
   "cell_type": "code",
   "execution_count": 53,
   "id": "40febfea-6163-4c9c-b753-4b49a0c2f11a",
   "metadata": {},
   "outputs": [
    {
     "data": {
      "text/plain": [
       "(40, 328)"
      ]
     },
     "execution_count": 53,
     "metadata": {},
     "output_type": "execute_result"
    }
   ],
   "source": [
    "n = n_single_marry # 결혼의향있는 미혼\n",
    "p = 0.701 # 페미니즘에 긍정적인 응답자 가운데 70.1%가 결혼 의향이 없다고 밝혔다\n",
    "k = round(n_single_nomarry_fem * (1/p-1)) # 결혼의향있는 미혼중 페미니즘 긍정 인원\n",
    "k, n"
   ]
  },
  {
   "cell_type": "code",
   "execution_count": 60,
   "id": "6f35729f-e8be-474b-b2dd-6a0beeccb9f5",
   "metadata": {},
   "outputs": [
    {
     "data": {
      "text/plain": [
       "0.49085365853658536"
      ]
     },
     "execution_count": 60,
     "metadata": {},
     "output_type": "execute_result"
    }
   ],
   "source": [
    "# 페미니즘에 ‘보통’이거나 ‘부정적’인 태도를 갖는 사람들은 각각 63.5%, 65.2%가 결혼 의향이 있다\n",
    "p = .652\n",
    "n_single_marry_fema = round(n_single_nomarry_fema * p / (1-p)) # 결혼의향있는 미혼의 페미니즘 부정 인원\n",
    "p = n_single_marry_fema/n # 그 비율\n",
    "alternative = 'two-sided'\n",
    "p"
   ]
  },
  {
   "cell_type": "code",
   "execution_count": 61,
   "id": "5b057eb7-1b44-424a-b921-63301f5be810",
   "metadata": {},
   "outputs": [
    {
     "name": "stdout",
     "output_type": "stream",
     "text": [
      "Reject H0 (p-value = 1.1763e-92)\n"
     ]
    }
   ],
   "source": [
    "_, pval = proportions_ztest(k, n, p, alternative=alternative)\n",
    "test_hypothesis(pval)"
   ]
  },
  {
   "cell_type": "code",
   "execution_count": 62,
   "id": "30426a46-7ec8-47d1-befe-1b48214edc17",
   "metadata": {},
   "outputs": [
    {
     "name": "stdout",
     "output_type": "stream",
     "text": [
      "confidence interval: 0.122 ± 0.0354, [0.087, 0.157]\n"
     ]
    }
   ],
   "source": [
    "method = 'normal'\n",
    "low, high = proportion_confint(k, n, alpha, method=method)\n",
    "print_interval(low, high)"
   ]
  },
  {
   "cell_type": "markdown",
   "id": "f7a1eb9d-0816-4ad8-979c-4795f9a8c781",
   "metadata": {},
   "source": [
    "additional"
   ]
  },
  {
   "cell_type": "code",
   "execution_count": 63,
   "id": "a710d88b-24d4-4d41-851c-58e194801536",
   "metadata": {},
   "outputs": [
    {
     "name": "stdout",
     "output_type": "stream",
     "text": [
      "confidence interval: 0.491 ± 0.0541, [0.437, 0.545]\n"
     ]
    }
   ],
   "source": [
    "k = n_single_marry_fema # 결혼의향있는 미혼의 페미니즘 부정 인원수\n",
    "method = 'normal'\n",
    "low, high = proportion_confint(k, n, alpha, method=method)\n",
    "print_interval(low, high)"
   ]
  },
  {
   "cell_type": "markdown",
   "id": "05f153d8-3963-4cd7-87ec-f355e923bc71",
   "metadata": {},
   "source": [
    "### CS3\n",
    "Chi-square test of independence of variables in a contingency table\n",
    "- H0: 페미니즘의 긍정/부정 여부에 따라 결혼의향 여부의 차이는 없다.\n",
    "- Ha: 차이가 있다"
   ]
  },
  {
   "cell_type": "code",
   "execution_count": 80,
   "id": "88e1f6e9-f0a7-4b6f-ad66-2a87eefc4fab",
   "metadata": {},
   "outputs": [],
   "source": [
    "# row: 결혼의향 있음/없음. col: 페미니즘에 긍정/부정/무관심\n",
    "r1 = [39, 161, 127] # 결혼의향 있을때 페미니즘에 긍정/부정/무관심 인원수\n",
    "r2 = [93, 86, 73] # 결혼의향 없음.\n",
    "ctable = np.array([r1, r2]) "
   ]
  },
  {
   "cell_type": "code",
   "execution_count": 81,
   "id": "b795ad1e-b7e8-4730-b324-5fa8e2223428",
   "metadata": {},
   "outputs": [
    {
     "name": "stdout",
     "output_type": "stream",
     "text": [
      "Reject H0 (p-value = 1.0403e-11)\n"
     ]
    }
   ],
   "source": [
    "# 페미니즘에 대한 인식에 따라 결혼의향의 차이가 있다\n",
    "res = stats.chi2_contingency(ctable)\n",
    "test_hypothesis(res[1])"
   ]
  },
  {
   "cell_type": "code",
   "execution_count": 84,
   "id": "90a182a4-691b-4462-9ec7-5811a5dedcca",
   "metadata": {},
   "outputs": [
    {
     "name": "stdout",
     "output_type": "stream",
     "text": [
      "Reject H0 (p-value = 1.6070e-16)\n"
     ]
    }
   ],
   "source": [
    "# 결혼의향 있을때 페미니즘에 대한 인식의 차이가 있다.\n",
    "res = stats.chisquare(r1)\n",
    "test_hypothesis(res[1])"
   ]
  },
  {
   "cell_type": "code",
   "execution_count": 85,
   "id": "580fce66-6f95-4c4f-8dbe-9043cc7808fe",
   "metadata": {},
   "outputs": [
    {
     "name": "stdout",
     "output_type": "stream",
     "text": [
      "Accept H0 (p-value = 2.9341e-01)\n"
     ]
    }
   ],
   "source": [
    "# 결혼의향 없을때 페미니즘에 대한 인식의 차이는 없다.\n",
    "res = stats.chisquare(r2)\n",
    "test_hypothesis(res[1])"
   ]
  },
  {
   "cell_type": "markdown",
   "id": "8cc5d60f-c1d9-4e39-b8c5-d0b75c4360e8",
   "metadata": {
    "tags": []
   },
   "source": [
    "# Item 3"
   ]
  },
  {
   "cell_type": "markdown",
   "id": "8bd55203-21d9-489c-9296-46f8307f9cb3",
   "metadata": {},
   "source": [
    "- 20대 여성의 49.2%, ...가 페미니즘에 긍정적 모습을 보인다. \n",
    "- (그림5) 20대 여성의 30.2%, 20.5%가 페미니즘에 각각 보통, 부정적\n",
    "- (그림5) 전체 응답자중 18.8%가 페미니즘에 긍정적, 41.3%가 부정적\n",
    "- (그림5) 결혼의향 없는 미혼 중 37%가 페미니즘에 긍정적, 34.3%가 부정적\n",
    "- 페미니즘은 결혼 의향과 상당한 상관관계를 보인다. 페미니즘에 긍정적인 응답자 가운데 70.1%가 결혼 의향이 없다고 밝혔다. 반면 페미니즘에 ‘보통’이거나 ‘부정적’인 태도를 갖는 사람들은 각각 63.5%, 65.2%가 결혼 의향이 있다고 응답했다\n",
    "- 페미니즘에 긍정적인 태도를 가진 응답자 가운데 63.3%는 연애에 대해서도 ‘반드시 할 필요 없다’는 응답을 보였다.\n",
    "- 흥미로운 지점은 연애나 결혼 상대방을 고르는 과정에서 페미니즘이 강한 변수로 작동한다는 것이다. 페미니즘에 ‘긍정적’이라고 응답한 사람들 중 54.5%가 페미니즘에 대한 태도를 배우자 선택의 조건으로 꼽았다. 반대로 페미니즘에 ‘부정적’인 응답을 한 사람들 가운데 58.6%가 페미니즘에 대한 태도를 배우자 선택의 조건으로 꼽는다. 페미니즘에 대해 ‘보통’ 의견을 갖고 있는 경우, 배우자 선택 기준으로 페미니즘은 그리 중요하지 않다(17.9%). 페미니즘에 대한 강한 의견(긍정 또는 부정)을 가질수록, 결혼 상대방의 태도를 민감하게 여긴다. (그림6도 참고)\n",
    "- 20대 여성에게 특히 정치적 성향은 중요한 요건이다. 20대 여성 응답자 가운데 58.1%가 연애 상대방의 정치적 성향이 중요하다고 답했고, 66%는 결혼 상대방의 정치적 성향이 중요하다고 답했다. 같은 기준 20대 남성의 응답이 연애의 경우 42.2%, 결혼의 경우 40.9%라는 점을 감안하면 20대에서도 특히 여성들이 페미니즘과 같은 정치적 이슈에 대한 태도를 파트너 선택의 중요한 요건으로 삼는다는 걸 알 수 있다."
   ]
  },
  {
   "cell_type": "code",
   "execution_count": 4,
   "id": "afb1ff0d-322d-46a8-ad37-ddd888c83ff4",
   "metadata": {},
   "outputs": [],
   "source": [
    "c_level = .95 # 신뢰수준 95%\n",
    "alpha = 1 - c_level "
   ]
  },
  {
   "cell_type": "code",
   "execution_count": 5,
   "id": "59985b2d-9a06-4e6b-bec2-21670bb0c4bc",
   "metadata": {},
   "outputs": [],
   "source": [
    "n_all = 1000\n",
    "n_single = 579 # 미혼남녀\n",
    "n_20s_f = 160 # 20대 여성 응답자(160명)"
   ]
  },
  {
   "cell_type": "code",
   "execution_count": 6,
   "id": "dcdd22d5-2830-4fed-9ab9-93cedfbedd15",
   "metadata": {},
   "outputs": [],
   "source": [
    "# 미혼 응답자 579명 중 결혼 의향이 있다는 사람은 56.5%, 의향이 없다는 사람은 43.5%였다. \n",
    "n_single_marry = round(n_single * .567)\n",
    "n_single_nomarry = n_single - n_single_marry"
   ]
  },
  {
   "cell_type": "code",
   "execution_count": 7,
   "id": "bf94e59d-ef44-4e48-af97-3e6103b5233f",
   "metadata": {},
   "outputs": [],
   "source": [
    "# 그림5\n",
    "n_fem = round(n_all * 0.188) # 전체중 페미니즘에 긍정적 인원수\n",
    "n_fema = round(n_all * 0.413) # 전체중 페미니즘에 부정적 인원수\n",
    "n_single_nomarry_fem = round(n_single_nomarry * .37) # 결혼의향 없는 미혼중 페미니즘에 긍정적\n",
    "n_single_nomarry_fema = round(n_single_nomarry * .343) # 결혼의향 없는 미혼중 페미니즘에 부정적"
   ]
  },
  {
   "cell_type": "code",
   "execution_count": 8,
   "id": "f75ac1a0-2e17-4114-a2f7-eb17bf904468",
   "metadata": {},
   "outputs": [],
   "source": [
    "# 그림5: 페미니즘 태도 비율: 긍정/보통/부정 순\n",
    "r1 = [.188, .399, .413] # 전체 1000명 \n",
    "r2 = [.095, .308, .597] # 20대 남성\n",
    "r3 = [.492, .302, .205] # 20대 여성\n",
    "r4 = [.370, .287, .343] # 결혼 의향 없는 미혼"
   ]
  },
  {
   "cell_type": "code",
   "execution_count": 9,
   "id": "428f20eb-3cf7-435c-9c7d-769f2fbdcb2a",
   "metadata": {},
   "outputs": [],
   "source": [
    "def get_freq(r, n):\n",
    "    r = [x/sum(r) for x in r] # check sum of ratio\n",
    "    res = [round(x * n) for x in r]\n",
    "    s = sum(res)\n",
    "    if s != n:\n",
    "        print(f'WARNING: sum of freqs {s} != {n}')\n",
    "    return res"
   ]
  },
  {
   "cell_type": "markdown",
   "id": "4135ab26-bf63-4714-83c0-ed21f6a3b029",
   "metadata": {},
   "source": [
    "## ST01\n",
    "20대 여성의 페미니즘에 대한 태도 검토"
   ]
  },
  {
   "cell_type": "markdown",
   "id": "2d146fcd-03ff-4f9f-96fe-21d975e0945b",
   "metadata": {},
   "source": [
    "Result:\n",
    "- 20대 여성의 페미니즘에 대한 태도는 전체, 20대남성, 결혼의향 업는 미혼 집단과 다르다고할 수 있다."
   ]
  },
  {
   "cell_type": "markdown",
   "id": "35d0175c-f701-43a4-a99d-a806f1421c63",
   "metadata": {},
   "source": [
    "### CS1\n",
    "Calculate a one-way chi-square test."
   ]
  },
  {
   "cell_type": "code",
   "execution_count": 10,
   "id": "0887f218-5010-491c-a8a8-303f4bc4ee44",
   "metadata": {},
   "outputs": [],
   "source": [
    "get_freq2 = lambda x: get_freq(x, n_20s_f)\n",
    "obj = get_freq2(r3) # 관측값: 20대 여성\n",
    "exp1 = get_freq2(r1) # 기대값: 전체 1000명의 태도 비율\n",
    "exp2 = get_freq2(r2) # 기대값: 20대 남성\n",
    "exp3 = get_freq2(r4) # 기대값: 결혼 의향 없는 미혼"
   ]
  },
  {
   "cell_type": "code",
   "execution_count": 11,
   "id": "e9ed8a98-5e6b-4501-be13-4cbca6e90f6d",
   "metadata": {},
   "outputs": [
    {
     "name": "stdout",
     "output_type": "stream",
     "text": [
      "Reject H0 (p-value = 1.4773e-22)\n"
     ]
    }
   ],
   "source": [
    "# 20대 여성의 페미니즘에 대한 태도는 전체의 태도와 다르다\n",
    "res = stats.chisquare(obj, exp1)\n",
    "test_hypothesis(res[1])"
   ]
  },
  {
   "cell_type": "code",
   "execution_count": 12,
   "id": "280e2fa6-e74d-465f-8fbe-ae4a4293be02",
   "metadata": {},
   "outputs": [
    {
     "name": "stdout",
     "output_type": "stream",
     "text": [
      "Reject H0 (p-value = 5.2749e-69)\n"
     ]
    }
   ],
   "source": [
    "# 20대 여성의 페미니즘에 대한 태도는 20대 남성의 태도와 다르다\n",
    "res = stats.chisquare(obj, exp2)\n",
    "test_hypothesis(res[1])"
   ]
  },
  {
   "cell_type": "code",
   "execution_count": 13,
   "id": "8b72943c-b23e-41ca-b0a9-82a9eb02feec",
   "metadata": {},
   "outputs": [
    {
     "name": "stdout",
     "output_type": "stream",
     "text": [
      "Reject H0 (p-value = 3.9631e-04)\n"
     ]
    }
   ],
   "source": [
    "# 20대 여성의 페미니즘에 대한 태도는 결혼의향없는 미혼의 태도와 다르다\n",
    "res = stats.chisquare(obj, exp3)\n",
    "test_hypothesis(res[1])"
   ]
  },
  {
   "cell_type": "markdown",
   "id": "a23bf3d5-e723-4664-8bd1-4572d4843cbd",
   "metadata": {},
   "source": [
    "## ST02\n",
    "결혼 의향과 페미니즘에 대한 태도 관계"
   ]
  },
  {
   "cell_type": "markdown",
   "id": "01134fe8-21d3-4194-8cc6-72cc27e855c1",
   "metadata": {},
   "source": [
    "Result:\n",
    "- 미혼에 대하여 결혼 의향과 페미니즘에 대한 태도는 관련이 있다.\n",
    "- 결혼의향 없는 미혼은 페미니즘에 대하여 긍정/보통/부정의 비율에 차이가 없다.\n",
    "- 결혼의향 있는 미혼은 페미니즘에 대하여 긍정/보통/부정의 비율에 차이가 있다."
   ]
  },
  {
   "cell_type": "markdown",
   "id": "95c69628-7e1e-40d5-9619-55c25504f778",
   "metadata": {},
   "source": [
    "### CS1\n",
    "Chi-square test of independence of variables in a contingency table."
   ]
  },
  {
   "cell_type": "code",
   "execution_count": 14,
   "id": "5db68d4a-0048-42dd-b52a-15318d09d5c8",
   "metadata": {},
   "outputs": [
    {
     "data": {
      "text/plain": [
       "[93, 72, 86]"
      ]
     },
     "execution_count": 14,
     "metadata": {},
     "output_type": "execute_result"
    }
   ],
   "source": [
    "# 그림5: 결혼 의향 없는 미혼의 페미니즘 태도, 긍정/보통/부정 순\n",
    "obj1 = r4 # 비율\n",
    "obj1 = get_freq(obj1, n_single_nomarry) # 빈도\n",
    "obj1"
   ]
  },
  {
   "cell_type": "code",
   "execution_count": 15,
   "id": "8cce244b-f334-4777-acdf-fb7fd45a969b",
   "metadata": {},
   "outputs": [
    {
     "data": {
      "text/plain": [
       "[40, 126, 162]"
      ]
     },
     "execution_count": 15,
     "metadata": {},
     "output_type": "execute_result"
    }
   ],
   "source": [
    "# 결혼의향 있는 미혼의 페미니즘 태도, 긍정/보통/부정 순\n",
    "obj2 = [0]*3\n",
    "\n",
    "# 페미니즘에 긍정적인 응답자 가운데 70.1%가 결혼 의향이 없다고 밝혔다 => 93명\n",
    "# 93/(x+93) = .701 where x = obj2[0]\n",
    "obj2[0] = 93/.701 - 93\n",
    "\n",
    "# 페미니즘에 ‘보통’이거나 ‘부정적’인 태도를 갖는 사람들은 각각 63.5%, 65.2%가 결혼 의향이 있다고 응답\n",
    "# 결혼의향 없는 미혼중 페미니즘에 보통, 부정 => 각각 72, 86명\n",
    "# 부정적인 경우 x/(x+86) = .652 where x = obj2[2]\n",
    "obj2[1] = 72 * .635 / (1-.635)\n",
    "obj2[2] = 86 * .652 / (1-.652)\n",
    "\n",
    "s = sum(obj2)\n",
    "obj2 = [round(x/s*n_single_marry) for x in obj2]\n",
    "obj2"
   ]
  },
  {
   "cell_type": "code",
   "execution_count": 16,
   "id": "c2058acf-5cad-45a9-b7cb-bbbc6c51ba05",
   "metadata": {},
   "outputs": [
    {
     "data": {
      "text/html": [
       "<div>\n",
       "<style scoped>\n",
       "    .dataframe tbody tr th:only-of-type {\n",
       "        vertical-align: middle;\n",
       "    }\n",
       "\n",
       "    .dataframe tbody tr th {\n",
       "        vertical-align: top;\n",
       "    }\n",
       "\n",
       "    .dataframe thead tr th {\n",
       "        text-align: left;\n",
       "    }\n",
       "</style>\n",
       "<table border=\"1\" class=\"dataframe\">\n",
       "  <thead>\n",
       "    <tr>\n",
       "      <th></th>\n",
       "      <th></th>\n",
       "      <th colspan=\"3\" halign=\"left\">페미니즘</th>\n",
       "    </tr>\n",
       "    <tr>\n",
       "      <th></th>\n",
       "      <th></th>\n",
       "      <th>긍정</th>\n",
       "      <th>보통</th>\n",
       "      <th>부정</th>\n",
       "    </tr>\n",
       "  </thead>\n",
       "  <tbody>\n",
       "    <tr>\n",
       "      <th rowspan=\"2\" valign=\"top\">결혼의향</th>\n",
       "      <th>없음</th>\n",
       "      <td>93</td>\n",
       "      <td>72</td>\n",
       "      <td>86</td>\n",
       "    </tr>\n",
       "    <tr>\n",
       "      <th>있음</th>\n",
       "      <td>40</td>\n",
       "      <td>126</td>\n",
       "      <td>162</td>\n",
       "    </tr>\n",
       "  </tbody>\n",
       "</table>\n",
       "</div>"
      ],
      "text/plain": [
       "        페미니즘          \n",
       "          긍정   보통   부정\n",
       "결혼의향 없음   93   72   86\n",
       "     있음   40  126  162"
      ]
     },
     "execution_count": 16,
     "metadata": {},
     "output_type": "execute_result"
    }
   ],
   "source": [
    "cols = [['페미니즘'], ['긍정','보통','부정']]\n",
    "cols = pd.MultiIndex.from_product(cols)\n",
    "index = [['결혼의향'], ['없음','있음']]\n",
    "index = pd.MultiIndex.from_product(index)\n",
    "df = pd.DataFrame(np.array([obj1, obj2]), columns=cols, index=index)\n",
    "df"
   ]
  },
  {
   "cell_type": "code",
   "execution_count": 17,
   "id": "48b6f012-fa22-4ffc-8708-c5f6b84fed8b",
   "metadata": {},
   "outputs": [
    {
     "name": "stdout",
     "output_type": "stream",
     "text": [
      "Reject H0 (p-value = 1.5517e-11)\n"
     ]
    }
   ],
   "source": [
    "# 미혼에 대하여 결혼 의향과 페미니즘에 대한 태도는 관련이 있다 \n",
    "res = stats.chi2_contingency(df)\n",
    "test_hypothesis(res[1])"
   ]
  },
  {
   "cell_type": "markdown",
   "id": "b72c3144-a70c-4c7c-b62b-90a36ae3289a",
   "metadata": {},
   "source": [
    "### CS2\n",
    "Calculate a one-way chi-square test."
   ]
  },
  {
   "cell_type": "code",
   "execution_count": 18,
   "id": "61e40ad9-b777-4f05-8812-0a8a8c99e548",
   "metadata": {},
   "outputs": [
    {
     "name": "stdout",
     "output_type": "stream",
     "text": [
      "WARNING: sum of freqs 252 != 251\n"
     ]
    }
   ],
   "source": [
    "get_freq2 = lambda x: get_freq(x, n_single_nomarry)\n",
    "obj = df.iloc[0].to_list() # 관측값: 결혼의향 없는 미혼\n",
    "exp1 = get_freq2(r3) # 기대값: 20대 여성\n",
    "exp2 = get_freq2(r1) # 기대값: 전체 1000명의 태도 비율\n",
    "exp3 = get_freq2(r2) # 기대값: 20대 남성"
   ]
  },
  {
   "cell_type": "code",
   "execution_count": 19,
   "id": "11f43db6-dae9-4671-ad32-965904c25abc",
   "metadata": {},
   "outputs": [
    {
     "data": {
      "text/plain": [
       "251"
      ]
     },
     "execution_count": 19,
     "metadata": {},
     "output_type": "execute_result"
    }
   ],
   "source": [
    "#sum(exp1): 252\n",
    "exp1 = [124, 75, 52]\n",
    "sum(exp1)"
   ]
  },
  {
   "cell_type": "code",
   "execution_count": 20,
   "id": "44b01d08-24a8-4e78-a2a3-cfa6802c046d",
   "metadata": {},
   "outputs": [
    {
     "name": "stdout",
     "output_type": "stream",
     "text": [
      "Reject H0 (p-value = 2.9087e-07)\n"
     ]
    }
   ],
   "source": [
    "res = stats.chisquare(obj, exp1)\n",
    "test_hypothesis(res[1])"
   ]
  },
  {
   "cell_type": "code",
   "execution_count": 21,
   "id": "0a1cad8b-e72e-494f-a010-82eaf1671cdb",
   "metadata": {},
   "outputs": [
    {
     "name": "stdout",
     "output_type": "stream",
     "text": [
      "Reject H0 (p-value = 6.9956e-13)\n"
     ]
    }
   ],
   "source": [
    "res = stats.chisquare(obj, exp2)\n",
    "test_hypothesis(res[1])"
   ]
  },
  {
   "cell_type": "code",
   "execution_count": 22,
   "id": "cbce42bf-c0a1-4456-a9d7-5de6ad5b09f3",
   "metadata": {},
   "outputs": [
    {
     "name": "stdout",
     "output_type": "stream",
     "text": [
      "Reject H0 (p-value = 8.3820e-50)\n"
     ]
    }
   ],
   "source": [
    "res = stats.chisquare(obj, exp3)\n",
    "test_hypothesis(res[1])"
   ]
  },
  {
   "cell_type": "code",
   "execution_count": 23,
   "id": "56e6371d-7377-47f8-876c-9c845d8203c4",
   "metadata": {},
   "outputs": [
    {
     "name": "stdout",
     "output_type": "stream",
     "text": [
      "Accept H0 (p-value = 2.5499e-01)\n"
     ]
    }
   ],
   "source": [
    "# 결혼의향 없는 미혼의 페미니즘에 대한 긍정/보통/부정의 태도는 차이가 없다.\n",
    "res = stats.chisquare(obj)\n",
    "test_hypothesis(res[1])"
   ]
  },
  {
   "cell_type": "code",
   "execution_count": 24,
   "id": "dfe465ff-43e8-467b-bb4f-99b85a113571",
   "metadata": {},
   "outputs": [
    {
     "name": "stdout",
     "output_type": "stream",
     "text": [
      "Reject H0 (p-value = 2.4654e-16)\n"
     ]
    }
   ],
   "source": [
    "# 결혼의향 있는 미혼의 페미니즘에 대한 긍정/보통/부정의 태도는 차이가 있다.\n",
    "obj2 = df.iloc[1].to_list() # 관측값: 결혼의향 있는 미혼\n",
    "res = stats.chisquare(obj2)\n",
    "test_hypothesis(res[1])"
   ]
  },
  {
   "cell_type": "code",
   "execution_count": null,
   "id": "c3e3605f-6e5a-4c19-8224-77250b017091",
   "metadata": {},
   "outputs": [],
   "source": []
  },
  {
   "cell_type": "code",
   "execution_count": null,
   "id": "a6d914d2-9ee3-4b10-8e59-8dbd1181dbda",
   "metadata": {},
   "outputs": [],
   "source": []
  },
  {
   "cell_type": "code",
   "execution_count": null,
   "id": "d4f431cf-bcd6-4813-bc4d-e7a9090c776b",
   "metadata": {},
   "outputs": [],
   "source": []
  }
 ],
 "metadata": {
  "kernelspec": {
   "display_name": "trading_signal",
   "language": "python",
   "name": "ts"
  },
  "language_info": {
   "codemirror_mode": {
    "name": "ipython",
    "version": 3
   },
   "file_extension": ".py",
   "mimetype": "text/x-python",
   "name": "python",
   "nbconvert_exporter": "python",
   "pygments_lexer": "ipython3",
   "version": "3.9.7"
  }
 },
 "nbformat": 4,
 "nbformat_minor": 5
}
