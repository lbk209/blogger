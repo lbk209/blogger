{
 "cells": [
  {
   "cell_type": "code",
   "execution_count": 21,
   "id": "b8d02d52-8763-4c4e-b669-e78ec8e76aa9",
   "metadata": {},
   "outputs": [],
   "source": [
    "from scipy.special import comb, perm\n",
    "import math"
   ]
  },
  {
   "cell_type": "code",
   "execution_count": 7,
   "id": "d559b7de-7b08-40c7-a500-e4afc9258aaa",
   "metadata": {},
   "outputs": [
    {
     "data": {
      "text/plain": [
       "(1.0, 3, 0.3333333333333333)"
      ]
     },
     "execution_count": 7,
     "metadata": {},
     "output_type": "execute_result"
    }
   ],
   "source": [
    "# 3개중 2개 뽑는 경우\n",
    "N = 3\n",
    "k = 2\n",
    "n_all = comb(N, k)\n",
    "n1 = comb(k, k)\n",
    "p1 = n1/n_all\n",
    "n1, round(1/p1), p1"
   ]
  },
  {
   "cell_type": "code",
   "execution_count": 8,
   "id": "5ad0ced3-73a2-4c2d-8fbc-dde3fba753c2",
   "metadata": {},
   "outputs": [
    {
     "data": {
      "text/plain": [
       "3.0"
      ]
     },
     "execution_count": 8,
     "metadata": {},
     "output_type": "execute_result"
    }
   ],
   "source": [
    "n_all"
   ]
  },
  {
   "cell_type": "code",
   "execution_count": 10,
   "id": "04244ad7-9004-4c49-9e5f-79ac7eafdaad",
   "metadata": {
    "tags": []
   },
   "outputs": [
    {
     "data": {
      "text/plain": [
       "(2.0, 6.0)"
      ]
     },
     "execution_count": 10,
     "metadata": {},
     "output_type": "execute_result"
    }
   ],
   "source": [
    "comb(2,1),comb(4,2)"
   ]
  },
  {
   "cell_type": "code",
   "execution_count": 30,
   "id": "b41d8c51-a648-4c53-8b54-ebada23d817d",
   "metadata": {},
   "outputs": [
    {
     "data": {
      "text/plain": [
       "0.04200000000000007"
      ]
     },
     "execution_count": 30,
     "metadata": {},
     "output_type": "execute_result"
    }
   ],
   "source": [
    "from scipy.stats import multinomial\n",
    "rv = multinomial(8, [0.3, 0.2, 0.5])\n",
    "rv.pmf([1, 3, 4])"
   ]
  },
  {
   "cell_type": "code",
   "execution_count": 32,
   "id": "5e446ae1-57e7-45fe-9bfb-9d514544c3f9",
   "metadata": {},
   "outputs": [
    {
     "data": {
      "text/plain": [
       "0.13500000000000018"
      ]
     },
     "execution_count": 32,
     "metadata": {},
     "output_type": "execute_result"
    }
   ],
   "source": [
    "from scipy.stats import multinomial\n",
    "rv = multinomial(6, [0.2, 0.3, 0.5])\n",
    "rv.pmf([1, 2, 3])"
   ]
  },
  {
   "cell_type": "code",
   "execution_count": null,
   "id": "a8ea4124-3314-4f90-917c-b9ddf68fbc34",
   "metadata": {},
   "outputs": [],
   "source": []
  },
  {
   "cell_type": "code",
   "execution_count": null,
   "id": "b25daf54-aa7a-419c-bef3-6dff23539d5d",
   "metadata": {},
   "outputs": [],
   "source": []
  },
  {
   "cell_type": "code",
   "execution_count": null,
   "id": "2cea78e5-782e-4b7a-b7ec-fac657a23379",
   "metadata": {},
   "outputs": [],
   "source": []
  },
  {
   "cell_type": "code",
   "execution_count": 11,
   "id": "dcb3bd05-538b-456d-b9b6-9667091f638d",
   "metadata": {},
   "outputs": [
    {
     "data": {
      "text/plain": [
       "(1.0, 8145060, 1.2277380399898834e-07)"
      ]
     },
     "execution_count": 11,
     "metadata": {},
     "output_type": "execute_result"
    }
   ],
   "source": [
    "# 1등 당첨 확률\n",
    "N = 45\n",
    "k = 6\n",
    "n_all = comb(N, k)\n",
    "n1 = comb(k, k)\n",
    "p1 = n1/n_all\n",
    "n1, round(1/p1), p1"
   ]
  },
  {
   "cell_type": "code",
   "execution_count": 27,
   "id": "2ed0880a-86e8-4494-8951-36e265bfa323",
   "metadata": {},
   "outputs": [
    {
     "data": {
      "text/plain": [
       "1.2277380399898834e-07"
      ]
     },
     "execution_count": 27,
     "metadata": {},
     "output_type": "execute_result"
    }
   ],
   "source": [
    "perm(k,k)/math.prod(range(N,N-k,-1))"
   ]
  },
  {
   "cell_type": "code",
   "execution_count": 35,
   "id": "6b26d10c-bac1-48d7-8f75-7de6d7ff3641",
   "metadata": {
    "tags": []
   },
   "outputs": [
    {
     "data": {
      "text/plain": [
       "8.670764957916331e-08"
      ]
     },
     "execution_count": 35,
     "metadata": {},
     "output_type": "execute_result"
    }
   ],
   "source": [
    "p = 1/N\n",
    "p_N = [p]*N\n",
    "rv = multinomial(6, p_N)\n",
    "rv.pmf([1]*k+[0]*(N-k))"
   ]
  },
  {
   "cell_type": "code",
   "execution_count": 39,
   "id": "cc58a1b5-d53a-4f40-91c3-b1a068d8dce7",
   "metadata": {},
   "outputs": [
    {
     "data": {
      "text/plain": [
       "8.670764957916307e-08"
      ]
     },
     "execution_count": 39,
     "metadata": {},
     "output_type": "execute_result"
    }
   ],
   "source": [
    "perm(k,k)*(1/N)**k"
   ]
  },
  {
   "cell_type": "code",
   "execution_count": 61,
   "id": "55ca774f-b2dc-482c-ab7c-b194fe5019eb",
   "metadata": {},
   "outputs": [
    {
     "data": {
      "text/plain": [
       "0.9999999999999996"
      ]
     },
     "execution_count": 61,
     "metadata": {},
     "output_type": "execute_result"
    }
   ],
   "source": [
    "k = 3\n",
    "p_k = [1/N]*k\n",
    "p_k = [1/3,1/3,1/3]\n",
    "p_k_t = p_k\n",
    "\n",
    "for i in range(1,len(p_k)):\n",
    "    p_k_t[i:] = [x/(1-p_k_t[i-1]) for x in p_k_t[i:]]\n",
    "    \n",
    "perm(k,k) * math.prod(p_k_t)"
   ]
  },
  {
   "cell_type": "code",
   "execution_count": 60,
   "id": "94e2ba48-d9dc-4355-bf55-d6494e4f2a00",
   "metadata": {},
   "outputs": [
    {
     "data": {
      "text/plain": [
       "[0.3333333333333333, 0.49999999999999994, 0.9999999999999999]"
      ]
     },
     "execution_count": 60,
     "metadata": {},
     "output_type": "execute_result"
    }
   ],
   "source": [
    "p_k_t"
   ]
  },
  {
   "cell_type": "code",
   "execution_count": null,
   "id": "f026627c-02c0-4aba-8089-80699752b1f1",
   "metadata": {},
   "outputs": [
    {
     "data": {
      "text/plain": [
       "(0.022222222222222223, 0.022727272727272728, 0.023255813953488372)"
      ]
     },
     "execution_count": 48,
     "metadata": {},
     "output_type": "execute_result"
    }
   ],
   "source": [
    "1/N, 1/(N-1),1/(N-2)"
   ]
  },
  {
   "cell_type": "code",
   "execution_count": null,
   "id": "d704e141-3189-4837-9af7-d9fad33c3867",
   "metadata": {},
   "outputs": [],
   "source": []
  },
  {
   "cell_type": "code",
   "execution_count": null,
   "id": "0d429dc3-aacf-433e-b257-3306fa68483d",
   "metadata": {},
   "outputs": [],
   "source": []
  },
  {
   "cell_type": "code",
   "execution_count": null,
   "id": "a6871098-66d6-4f36-a96d-7184cea6c3c0",
   "metadata": {},
   "outputs": [],
   "source": []
  },
  {
   "cell_type": "code",
   "execution_count": 140,
   "id": "840049f6-076c-4afd-8bda-7f144adf00ea",
   "metadata": {},
   "outputs": [
    {
     "data": {
      "text/plain": [
       "1.2277380399898837e-07"
      ]
     },
     "execution_count": 140,
     "metadata": {},
     "output_type": "execute_result"
    }
   ],
   "source": [
    "# 1등 당첨 확률\n",
    "N = 45\n",
    "n = 6\n",
    "k = 6\n",
    "\n",
    "p_n = [1/N]*n\n",
    "p_n_t = p_n\n",
    "\n",
    "for i in range(1,k):\n",
    "    p_n_t[i:] = [x/(1-p_n_t[i-1]) for x in p_n_t[i:]]\n",
    "    \n",
    "p1 = perm(n,n) * math.prod(p_n_t)\n",
    "p1"
   ]
  },
  {
   "cell_type": "code",
   "execution_count": 88,
   "id": "e4b8dfea-980c-4b2f-99ae-2c319407d8c8",
   "metadata": {},
   "outputs": [
    {
     "data": {
      "text/plain": [
       "[0.022222222222222223,\n",
       " 0.022727272727272728,\n",
       " 0.023255813953488372,\n",
       " 0.02380952380952381,\n",
       " 0.02439024390243903,\n",
       " 0.025000000000000005]"
      ]
     },
     "execution_count": 88,
     "metadata": {},
     "output_type": "execute_result"
    }
   ],
   "source": [
    "p_n_t"
   ]
  },
  {
   "cell_type": "code",
   "execution_count": 89,
   "id": "4af58fea-4008-40cd-b83c-a5f69f142b89",
   "metadata": {},
   "outputs": [
    {
     "data": {
      "text/plain": [
       "(6.0, 1357510, 7.3664282399393e-07)"
      ]
     },
     "execution_count": 89,
     "metadata": {},
     "output_type": "execute_result"
    }
   ],
   "source": [
    "# 2등 당첨 확률\n",
    "N = 45\n",
    "k = 6\n",
    "k2 = 5\n",
    "n2 = special.comb(k, k2)*special.comb(k-k2,1)*special.comb(N-k-1, 0)\n",
    "p2 = n2/n_all\n",
    "n2, round(1/p2), p2"
   ]
  },
  {
   "cell_type": "code",
   "execution_count": 131,
   "id": "632787e4-a592-4d94-8f75-489c3a03f483",
   "metadata": {},
   "outputs": [
    {
     "data": {
      "text/plain": [
       "(11115.0, 733, 0.0013646308314487555)"
      ]
     },
     "execution_count": 131,
     "metadata": {},
     "output_type": "execute_result"
    }
   ],
   "source": [
    "# 4등 당첨 확률\n",
    "N = 45\n",
    "k = 6\n",
    "k4 = 4\n",
    "n4 = special.comb(k, k4)*special.comb(N-k, k-k4)\n",
    "p4 = n4/n_all\n",
    "n4, round(1/p4), p4"
   ]
  },
  {
   "cell_type": "code",
   "execution_count": 132,
   "id": "d18d34d4-c44b-47db-a21e-7db08d84be77",
   "metadata": {},
   "outputs": [
    {
     "data": {
      "text/plain": [
       "0.00019152713423842182"
      ]
     },
     "execution_count": 132,
     "metadata": {},
     "output_type": "execute_result"
    }
   ],
   "source": [
    "# 4등 당첨 확률\n",
    "N = 45\n",
    "n = 6\n",
    "k = 4\n",
    "\n",
    "p_n = [1/N]*n\n",
    "p_n_t = p_n\n",
    "\n",
    "for i in range(1,n):\n",
    "    p_n_t[i:] = [x/(1-p_n_t[i-1]) for x in p_n_t[i:]]\n",
    "    \n",
    "    \n",
    "for i in range(k,n):\n",
    "    p_n_t[i] = 1 - p_n_t[i]\n",
    "\n",
    "perm(n,n) * math.prod(p_n_t)"
   ]
  },
  {
   "cell_type": "code",
   "execution_count": 133,
   "id": "61469f14-8d05-468a-828d-e027862f35ad",
   "metadata": {},
   "outputs": [
    {
     "data": {
      "text/plain": [
       "[0.022222222222222223,\n",
       " 0.022727272727272728,\n",
       " 0.023255813953488372,\n",
       " 0.02380952380952381,\n",
       " 0.975609756097561,\n",
       " 0.975]"
      ]
     },
     "execution_count": 133,
     "metadata": {},
     "output_type": "execute_result"
    }
   ],
   "source": [
    "p_n_t"
   ]
  },
  {
   "cell_type": "code",
   "execution_count": 134,
   "id": "33222fb7-a3b4-4120-a98e-222cdaaf4660",
   "metadata": {},
   "outputs": [
    {
     "data": {
      "text/plain": [
       "[0.022222222222222223,\n",
       " 0.022727272727272728,\n",
       " 0.023255813953488372,\n",
       " 0.023809523809523808,\n",
       " 0.975609756097561,\n",
       " 0.975]"
      ]
     },
     "execution_count": 134,
     "metadata": {},
     "output_type": "execute_result"
    }
   ],
   "source": [
    "[1/45, 1/44, 1/43, 1/42, 1-1/41, 1-1/40]"
   ]
  },
  {
   "cell_type": "code",
   "execution_count": 137,
   "id": "467082f0-e736-43b4-9ffd-3d579004c320",
   "metadata": {},
   "outputs": [
    {
     "data": {
      "text/plain": [
       "6.384237807947395e-06"
      ]
     },
     "execution_count": 137,
     "metadata": {},
     "output_type": "execute_result"
    }
   ],
   "source": [
    "comb(6,4)*perm(4,4)* math.prod(p_n_t)\n",
    "#comb(6,4)* math.prod(p_n_t)\n",
    "perm(4,4)* math.prod(p_n_t)"
   ]
  },
  {
   "cell_type": "code",
   "execution_count": 110,
   "id": "9da329e1-1f99-4bd9-8d64-41c4b3d94ba9",
   "metadata": {},
   "outputs": [
    {
     "data": {
      "text/plain": [
       "5130.0"
      ]
     },
     "execution_count": 110,
     "metadata": {},
     "output_type": "execute_result"
    }
   ],
   "source": [
    "n = 0.0013646308314487555/math.prod(p_n_t)\n",
    "n"
   ]
  },
  {
   "cell_type": "code",
   "execution_count": 116,
   "id": "c6398b68-664a-412c-9e8a-680589f92124",
   "metadata": {},
   "outputs": [
    {
     "data": {
      "text/plain": [
       "342.0"
      ]
     },
     "execution_count": 116,
     "metadata": {},
     "output_type": "execute_result"
    }
   ],
   "source": [
    "#n/perm(4,4)\n",
    "n/comb(6,4) # 342\n",
    "#n/perm(6,4)\n",
    "#n/perm(6,6)"
   ]
  },
  {
   "cell_type": "code",
   "execution_count": 119,
   "id": "fb1f0993-57f3-4803-927e-24fa93ed7da7",
   "metadata": {},
   "outputs": [
    {
     "data": {
      "text/plain": [
       "360.0"
      ]
     },
     "execution_count": 119,
     "metadata": {},
     "output_type": "execute_result"
    }
   ],
   "source": [
    "perm(6,4)"
   ]
  },
  {
   "cell_type": "code",
   "execution_count": 122,
   "id": "f348c406-7058-4d7a-8cb7-ad7ed7e46312",
   "metadata": {},
   "outputs": [
    {
     "data": {
      "text/plain": [
       "6.0"
      ]
     },
     "execution_count": 122,
     "metadata": {},
     "output_type": "execute_result"
    }
   ],
   "source": [
    "perm(3,2)"
   ]
  },
  {
   "cell_type": "code",
   "execution_count": 121,
   "id": "e0b94683-d846-48d1-a977-610055b92634",
   "metadata": {},
   "outputs": [
    {
     "data": {
      "text/plain": [
       "3.0"
      ]
     },
     "execution_count": 121,
     "metadata": {},
     "output_type": "execute_result"
    }
   ],
   "source": [
    "comb(3,2)"
   ]
  },
  {
   "cell_type": "code",
   "execution_count": 129,
   "id": "aa8f3839-e616-4ec6-a802-4384043be4e7",
   "metadata": {},
   "outputs": [
    {
     "data": {
      "text/plain": [
       "0.005235075002516864"
      ]
     },
     "execution_count": 129,
     "metadata": {},
     "output_type": "execute_result"
    }
   ],
   "source": [
    "perm(n,k) * math.prod(p_n_t) * comb(N-k, n-k)\n",
    "math.prod(p_n_t) * comb(N-k, n-k)\n",
    "perm(k,k) * math.prod(p_n_t) * comb(N-k, n-k)"
   ]
  },
  {
   "cell_type": "code",
   "execution_count": 138,
   "id": "bdc43a29-7b52-4b6c-8ba4-d6bdd148dc9e",
   "metadata": {},
   "outputs": [
    {
     "data": {
      "text/plain": [
       "6.2560975609756095"
      ]
     },
     "execution_count": 138,
     "metadata": {},
     "output_type": "execute_result"
    }
   ],
   "source": [
    "0.0013646308314487555 / (math.prod(p_n_t) * comb(N-k, n-k))"
   ]
  },
  {
   "cell_type": "code",
   "execution_count": null,
   "id": "f8f7ec16-f2e4-4927-818b-5acc1fcf9419",
   "metadata": {},
   "outputs": [],
   "source": []
  },
  {
   "cell_type": "code",
   "execution_count": 149,
   "id": "ad32b1e5-d8f3-4cbb-8756-0cc639527724",
   "metadata": {},
   "outputs": [],
   "source": [
    "# 4등 당첨 확률\n",
    "N = 45\n",
    "n = 6\n",
    "k = 4\n",
    "\n",
    "p_n = [1/N]*k\n",
    "p_n_t = p_n\n",
    "\n",
    "for i in range(1,k):\n",
    "    p_n_t[i:] = [x/(1-p_n_t[i-1]) for x in p_n_t[i:]]"
   ]
  },
  {
   "cell_type": "code",
   "execution_count": 157,
   "id": "98fd1df2-2ba2-479a-bfde-c4945a3ef221",
   "metadata": {},
   "outputs": [
    {
     "data": {
      "text/plain": [
       "2.796514424421401e-07"
      ]
     },
     "execution_count": 157,
     "metadata": {},
     "output_type": "execute_result"
    }
   ],
   "source": [
    "#perm(k,k) * math.prod(p_n_t)\n",
    "#perm(n,k) * math.prod(p_n_t)\n",
    "#comb(n,k) * perm(k,k) * math.prod(p_n_t)\n",
    "#comb(N,n) * perm(n,k) * math.prod(p_n_t)\n",
    "#comb(N,n) * perm(k,k) * math.prod(p_n_t)\n",
    "math.prod(p_n_t)"
   ]
  },
  {
   "cell_type": "code",
   "execution_count": 156,
   "id": "f806e120-6000-451b-a80e-2ea754fb7f5c",
   "metadata": {},
   "outputs": [
    {
     "data": {
      "text/plain": [
       "8145060.0"
      ]
     },
     "execution_count": 156,
     "metadata": {},
     "output_type": "execute_result"
    }
   ],
   "source": [
    "comb(N,n)"
   ]
  },
  {
   "cell_type": "code",
   "execution_count": 145,
   "id": "9f3d3b60-45a3-492b-b5a2-fb1ee64c99a0",
   "metadata": {},
   "outputs": [
    {
     "data": {
      "text/plain": [
       "0.0002012262647543419"
      ]
     },
     "execution_count": 145,
     "metadata": {},
     "output_type": "execute_result"
    }
   ],
   "source": [
    "perm(n,n) * math.prod(p_n_t) - p1"
   ]
  },
  {
   "cell_type": "code",
   "execution_count": 148,
   "id": "aefcd3c9-c778-4ed8-a0da-0b8f57b58e02",
   "metadata": {},
   "outputs": [
    {
     "data": {
      "text/plain": [
       "0.00010055174547517145"
      ]
     },
     "execution_count": 148,
     "metadata": {},
     "output_type": "execute_result"
    }
   ],
   "source": [
    "perm(n,k) * math.prod(p_n_t) - p1"
   ]
  },
  {
   "cell_type": "code",
   "execution_count": null,
   "id": "ac3e4842-c38f-4779-96e4-67129f444b0c",
   "metadata": {},
   "outputs": [],
   "source": []
  }
 ],
 "metadata": {
  "kernelspec": {
   "display_name": "trading_signal",
   "language": "python",
   "name": "ts"
  },
  "language_info": {
   "codemirror_mode": {
    "name": "ipython",
    "version": 3
   },
   "file_extension": ".py",
   "mimetype": "text/x-python",
   "name": "python",
   "nbconvert_exporter": "python",
   "pygments_lexer": "ipython3",
   "version": "3.9.7"
  }
 },
 "nbformat": 4,
 "nbformat_minor": 5
}
