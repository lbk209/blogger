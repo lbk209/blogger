{
 "cells": [
  {
   "cell_type": "markdown",
   "id": "fe200c70-7f64-4b42-921b-4dbf19ae3700",
   "metadata": {},
   "source": [
    "# Settings"
   ]
  },
  {
   "cell_type": "code",
   "execution_count": 1,
   "id": "23caba7b-f99a-4b29-99ad-d85f00a905b7",
   "metadata": {},
   "outputs": [],
   "source": [
    "import sys\n",
    "\n",
    "# set lib path just next to current path to give priority to modules in lib\n",
    "sys.path.insert(sys.path.index('')+1, '/lib')"
   ]
  },
  {
   "cell_type": "code",
   "execution_count": 71,
   "id": "a141b869-8b6a-4f6a-bbed-e13eed408874",
   "metadata": {},
   "outputs": [
    {
     "name": "stdout",
     "output_type": "stream",
     "text": [
      "The autotime extension is already loaded. To reload it, use:\n",
      "  %reload_ext autotime\n",
      "time: 257 ms (started: 2023-02-20 16:05:55 +09:00)\n"
     ]
    }
   ],
   "source": [
    "%load_ext autotime\n",
    "\n",
    "import pandas as pd\n",
    "import FinanceDataReader as fdr\n",
    "\n",
    "from lib.fastquant import backtest_portfolio\n",
    "from lib.utils import HiddenPrints, DATE_FORMAT\n",
    "from datetime import datetime, timedelta\n",
    "\n",
    "from matplotlib import pyplot as plt\n",
    "import seaborn as sns"
   ]
  },
  {
   "cell_type": "code",
   "execution_count": 38,
   "id": "27a6a548-4e13-4533-958e-8a74c4c58c77",
   "metadata": {},
   "outputs": [
    {
     "name": "stdout",
     "output_type": "stream",
     "text": [
      "time: 242 ms (started: 2023-02-20 14:58:56 +09:00)\n"
     ]
    }
   ],
   "source": [
    "start = '20180101'\n",
    "end = '20191231'\n",
    "#end = '20221231'\n",
    "\n",
    "symbol = '069500' # KODEX 200\n",
    "df_all = fdr.DataReader(symbol, start, end)"
   ]
  },
  {
   "cell_type": "code",
   "execution_count": 59,
   "id": "93adf301-9973-40a3-9b15-3ab79cb0677b",
   "metadata": {},
   "outputs": [
    {
     "name": "stdout",
     "output_type": "stream",
     "text": [
      "time: 1.82 ms (started: 2023-02-20 15:27:35 +09:00)\n"
     ]
    }
   ],
   "source": [
    "def run_backtest(start, df_bt, kwargs, strategy='custom'):\n",
    "    df = {symbol: df_bt}\n",
    "    end = start + timedelta(hold_period)\n",
    "    with HiddenPrints(mark_end=False):\n",
    "        result = backtest_portfolio(strategy, df, start.strftime(DATE_FORMAT), end.strftime(DATE_FORMAT), **kwargs)\n",
    "    return [start, end] + result['summary']\n",
    "\n",
    "def print_progress(i, print_step, last_print):\n",
    "    n = round((i+1) / n_dates * 100)\n",
    "    if n != last_print and n % (print_step*100) == 0:\n",
    "        print(f'{n} % done')\n",
    "        return n\n",
    "    else:\n",
    "        return last_print"
   ]
  },
  {
   "cell_type": "code",
   "execution_count": 99,
   "id": "d5f1c908-9c66-493a-bd3e-9c6751f5a9a7",
   "metadata": {},
   "outputs": [
    {
     "name": "stdout",
     "output_type": "stream",
     "text": [
      "time: 1.7 ms (started: 2023-02-20 16:24:01 +09:00)\n"
     ]
    }
   ],
   "source": [
    "df_compare = pd.DataFrame()"
   ]
  },
  {
   "cell_type": "markdown",
   "id": "8912ca93-96da-4eef-ac35-cf8410cb5030",
   "metadata": {},
   "source": [
    "# Buy & hold"
   ]
  },
  {
   "cell_type": "markdown",
   "id": "139e0445-cba8-46c5-a68a-3645b9685431",
   "metadata": {},
   "source": [
    "## Settings"
   ]
  },
  {
   "cell_type": "code",
   "execution_count": 39,
   "id": "47a5c216-ea9b-41d6-a94c-915e82444774",
   "metadata": {},
   "outputs": [
    {
     "name": "stdout",
     "output_type": "stream",
     "text": [
      "time: 11.6 ms (started: 2023-02-20 14:59:00 +09:00)\n"
     ]
    }
   ],
   "source": [
    "df_bt = (df_all.Close.rename_axis('dt').to_frame('close')\n",
    "               .assign(custom=0))\n",
    "dates_all = df_bt.index"
   ]
  },
  {
   "cell_type": "code",
   "execution_count": 40,
   "id": "69ecda4f-746b-4224-90c9-982c5cb3ff0a",
   "metadata": {},
   "outputs": [
    {
     "name": "stdout",
     "output_type": "stream",
     "text": [
      "time: 4.26 ms (started: 2023-02-20 14:59:01 +09:00)\n"
     ]
    }
   ],
   "source": [
    "hold_period = 365\n",
    "dates_start = df_bt.loc[: dates_all[-1] - timedelta(hold_period)].index\n",
    "n_dates = dates_start.size"
   ]
  },
  {
   "cell_type": "code",
   "execution_count": 42,
   "id": "f157f6aa-ce43-4953-b67d-72456c468125",
   "metadata": {},
   "outputs": [
    {
     "name": "stdout",
     "output_type": "stream",
     "text": [
      "time: 1 ms (started: 2023-02-20 14:59:02 +09:00)\n"
     ]
    }
   ],
   "source": [
    "kwargs_bt = {\n",
    "    'init_cash': 1e7, \n",
    "    'commission': 0.00363960/100,\n",
    "    'verbose': False, \n",
    "    'plot_bp':False,\n",
    "    'buy_prop': 1,\n",
    "    'sell_prop': 1,\n",
    "    'upper_limit':0.1, \n",
    "    'lower_limit':-0.1\n",
    "}"
   ]
  },
  {
   "cell_type": "code",
   "execution_count": 43,
   "id": "a6f5a352-b29f-443b-ab05-65064e7798a2",
   "metadata": {},
   "outputs": [
    {
     "name": "stdout",
     "output_type": "stream",
     "text": [
      "time: 978 µs (started: 2023-02-20 14:59:04 +09:00)\n"
     ]
    }
   ],
   "source": [
    "# testing\n",
    "dates_start = dates_start[:50]"
   ]
  },
  {
   "cell_type": "markdown",
   "id": "c11ddbc1-a117-4d2c-8a61-76d6693b2782",
   "metadata": {},
   "source": [
    "## SC01"
   ]
  },
  {
   "cell_type": "code",
   "execution_count": 9,
   "id": "c3532f4f-177a-424c-b368-0332c0c639a8",
   "metadata": {},
   "outputs": [
    {
     "name": "stdout",
     "output_type": "stream",
     "text": [
      "time: 1.1 ms (started: 2023-02-19 23:52:33 +09:00)\n"
     ]
    }
   ],
   "source": [
    "scenario = 'b1'\n",
    "n_buy = 1\n",
    "\n",
    "kwargs_bt.update({\n",
    "    'buy_prop': 1/n_buy,\n",
    "})"
   ]
  },
  {
   "cell_type": "code",
   "execution_count": 10,
   "id": "cb3257b7-3613-4fa0-b452-314bb862f7bd",
   "metadata": {},
   "outputs": [
    {
     "name": "stdout",
     "output_type": "stream",
     "text": [
      "10 % done\n",
      "20 % done\n",
      "time: 40.9 s (started: 2023-02-19 23:52:34 +09:00)\n"
     ]
    }
   ],
   "source": [
    "df_result = pd.DataFrame(columns=['start', 'end', 'init', 'final', 'return'])\n",
    "print_step = 0.1\n",
    "n_last = 0\n",
    "\n",
    "for i, start in enumerate(dates_start):\n",
    "    df_bt['custom'] = 0 # reset\n",
    "    df_bt.loc[start,'custom'] = -1\n",
    "    \n",
    "    df_result.loc[i] = run_backtest(start, df_bt, kwargs_bt)\n",
    "    \n",
    "    n_last = print_progress(i, print_step, n_last)"
   ]
  },
  {
   "cell_type": "code",
   "execution_count": 11,
   "id": "1b0070bc-84f7-4a88-9af2-0fa1ad05f9c3",
   "metadata": {},
   "outputs": [
    {
     "data": {
      "text/plain": [
       "mean   -11.566873\n",
       "min    -19.743635\n",
       "max     -5.533235\n",
       "Name: return, dtype: float64"
      ]
     },
     "execution_count": 11,
     "metadata": {},
     "output_type": "execute_result"
    },
    {
     "name": "stdout",
     "output_type": "stream",
     "text": [
      "time: 22.8 ms (started: 2023-02-19 23:53:15 +09:00)\n"
     ]
    }
   ],
   "source": [
    "df_result['return'].agg(['mean','min','max'])"
   ]
  },
  {
   "cell_type": "code",
   "execution_count": 12,
   "id": "1ec190b8-9722-4725-bfec-9576afa2b903",
   "metadata": {},
   "outputs": [
    {
     "name": "stdout",
     "output_type": "stream",
     "text": [
      "time: 11.4 ms (started: 2023-02-19 23:53:15 +09:00)\n"
     ]
    }
   ],
   "source": [
    "#df_compare = df_result.set_index('start').loc[:,'return'].to_frame().assign(scenario=scenario)\n",
    "\n",
    "df = df_result.set_index('start').loc[:,'return'].to_frame().assign(scenario=scenario)\n",
    "df_compare = pd.concat([df_compare, df]) "
   ]
  },
  {
   "cell_type": "markdown",
   "id": "ceed01cf-7d9e-4172-aca0-6fb0d1134fe4",
   "metadata": {},
   "source": [
    "## SC02"
   ]
  },
  {
   "cell_type": "code",
   "execution_count": 13,
   "id": "7fbbdb66-80c2-440f-93f5-b63e8eaeff8c",
   "metadata": {},
   "outputs": [
    {
     "name": "stdout",
     "output_type": "stream",
     "text": [
      "time: 1.33 ms (started: 2023-02-19 23:53:15 +09:00)\n"
     ]
    }
   ],
   "source": [
    "scenario = 'b2'\n",
    "n_buy = 10\n",
    "\n",
    "kwargs_bt.update({\n",
    "    'buy_prop': 1/n_buy,\n",
    "})"
   ]
  },
  {
   "cell_type": "code",
   "execution_count": 14,
   "id": "2bd4a84b-8251-4f00-abdf-c0e97d50ccaa",
   "metadata": {},
   "outputs": [
    {
     "name": "stdout",
     "output_type": "stream",
     "text": [
      "10 % done\n",
      "20 % done\n",
      "time: 42.7 s (started: 2023-02-19 23:53:15 +09:00)\n"
     ]
    }
   ],
   "source": [
    "df_result = pd.DataFrame(columns=['start', 'end', 'init', 'final', 'return'])\n",
    "print_step = 0.1\n",
    "n_last = 0\n",
    "\n",
    "period = 20\n",
    "\n",
    "for i, start in enumerate(dates_start):\n",
    "    df_bt['custom'] = 0 # reset\n",
    "    dt = dates_all[[i + x*period for x in range(n_buy)]]\n",
    "    df_bt.loc[dt,'custom'] = -1\n",
    "    \n",
    "    df_result.loc[i] = run_backtest(start, df_bt, kwargs_bt)\n",
    "    \n",
    "    n_last = print_progress(i, print_step, n_last)"
   ]
  },
  {
   "cell_type": "code",
   "execution_count": 15,
   "id": "b1ca26bc-4767-41b8-bdf1-f3d80a44846c",
   "metadata": {},
   "outputs": [
    {
     "data": {
      "text/plain": [
       "mean    -4.837210\n",
       "min    -10.521555\n",
       "max     -1.752492\n",
       "Name: return, dtype: float64"
      ]
     },
     "execution_count": 15,
     "metadata": {},
     "output_type": "execute_result"
    },
    {
     "name": "stdout",
     "output_type": "stream",
     "text": [
      "time: 15.6 ms (started: 2023-02-19 23:53:58 +09:00)\n"
     ]
    }
   ],
   "source": [
    "df_result['return'].agg(['mean','min','max'])"
   ]
  },
  {
   "cell_type": "code",
   "execution_count": 16,
   "id": "b2c50990-5ae6-46fe-8f10-36d9d2cc4875",
   "metadata": {},
   "outputs": [
    {
     "name": "stdout",
     "output_type": "stream",
     "text": [
      "time: 13 ms (started: 2023-02-19 23:53:58 +09:00)\n"
     ]
    }
   ],
   "source": [
    "df = df_result.set_index('start').loc[:,'return'].to_frame().assign(scenario=scenario)\n",
    "df_compare = pd.concat([df_compare, df]) "
   ]
  },
  {
   "cell_type": "markdown",
   "id": "ed7bbf40-ec2b-4f9a-ba91-329345ca8bb8",
   "metadata": {},
   "source": [
    "## SC03"
   ]
  },
  {
   "cell_type": "code",
   "execution_count": 96,
   "id": "20afb37d-4747-4530-a777-08e45e65e50a",
   "metadata": {},
   "outputs": [
    {
     "name": "stdout",
     "output_type": "stream",
     "text": [
      "time: 1.1 ms (started: 2023-02-20 16:22:43 +09:00)\n"
     ]
    }
   ],
   "source": [
    "scenario = 'b3'\n",
    "n_buy = 20\n",
    "\n",
    "kwargs_bt.update({\n",
    "    'buy_prop': 1/n_buy,\n",
    "})"
   ]
  },
  {
   "cell_type": "code",
   "execution_count": 97,
   "id": "bc344817-e61f-480b-8e34-f2f351f1a1b6",
   "metadata": {},
   "outputs": [
    {
     "name": "stdout",
     "output_type": "stream",
     "text": [
      "10 % done\n",
      "20 % done\n",
      "time: 40.7 s (started: 2023-02-20 16:22:44 +09:00)\n"
     ]
    }
   ],
   "source": [
    "df_result = pd.DataFrame(columns=['start', 'end', 'init', 'final', 'return'])\n",
    "print_step = 0.1\n",
    "n_last = 0\n",
    "\n",
    "period = 10\n",
    "\n",
    "for i, start in enumerate(dates_start):\n",
    "    df_bt['custom'] = 0 # reset\n",
    "    dt = dates_all[[i + x*period for x in range(n_buy)]]\n",
    "    df_bt.loc[dt,'custom'] = -1\n",
    "    \n",
    "    df_result.loc[i] = run_backtest(start, df_bt, kwargs_bt)\n",
    "    \n",
    "    n_last = print_progress(i, print_step, n_last)"
   ]
  },
  {
   "cell_type": "code",
   "execution_count": 98,
   "id": "2f1ceb69-326a-45d0-bca9-8b2437b53a27",
   "metadata": {},
   "outputs": [
    {
     "data": {
      "text/plain": [
       "mean   -4.461819\n",
       "min    -9.894740\n",
       "max    -1.633529\n",
       "Name: return, dtype: float64"
      ]
     },
     "execution_count": 98,
     "metadata": {},
     "output_type": "execute_result"
    },
    {
     "name": "stdout",
     "output_type": "stream",
     "text": [
      "time: 19.2 ms (started: 2023-02-20 16:23:25 +09:00)\n"
     ]
    }
   ],
   "source": [
    "df_result['return'].agg(['mean','min','max'])"
   ]
  },
  {
   "cell_type": "code",
   "execution_count": 100,
   "id": "f89bdc9e-e05d-4510-8300-b07d5ce8e389",
   "metadata": {},
   "outputs": [
    {
     "name": "stdout",
     "output_type": "stream",
     "text": [
      "time: 16.1 ms (started: 2023-02-20 16:24:06 +09:00)\n"
     ]
    }
   ],
   "source": [
    "df = df_result.set_index('start').loc[:,'return'].to_frame().assign(scenario=scenario)\n",
    "df_compare = pd.concat([df_compare, df]) "
   ]
  },
  {
   "cell_type": "code",
   "execution_count": 25,
   "id": "ae491d9d-c80b-4916-89eb-b8bcff6122ca",
   "metadata": {
    "tags": []
   },
   "outputs": [
    {
     "data": {
      "image/png": "[encoded data removed]",
      "text/plain": [
       "<Figure size 864x360 with 2 Axes>"
      ]
     },
     "metadata": {
      "needs_background": "light"
     },
     "output_type": "display_data"
    },
    {
     "name": "stdout",
     "output_type": "stream",
     "text": [
      "time: 987 ms (started: 2023-02-19 23:58:45 +09:00)\n"
     ]
    }
   ],
   "source": [
    "fig, (ax1, ax2) = plt.subplots(1,2, figsize=(12,5))\n",
    "_ = sns.lineplot(data=df_compare.reset_index(), x='start', y='return', hue='scenario', ax=ax1)\n",
    "_ = sns.boxplot(data=df_compare.reset_index(), x='scenario', y='return', ax=ax2)"
   ]
  },
  {
   "cell_type": "markdown",
   "id": "f5a88073-349f-42e9-9c2c-30c79ee61f80",
   "metadata": {},
   "source": [
    "# Technical Indicator"
   ]
  },
  {
   "cell_type": "markdown",
   "id": "73325bef-9885-4482-b68f-2511d24ea567",
   "metadata": {},
   "source": [
    "## Settings"
   ]
  },
  {
   "cell_type": "code",
   "execution_count": 18,
   "id": "c46e0f2b-b87f-4acb-abd2-de65372a8814",
   "metadata": {},
   "outputs": [
    {
     "name": "stdout",
     "output_type": "stream",
     "text": [
      "time: 19.3 ms (started: 2023-02-20 14:52:57 +09:00)\n"
     ]
    }
   ],
   "source": [
    "import tulipy as ti\n",
    "import numpy as np"
   ]
  },
  {
   "cell_type": "code",
   "execution_count": 107,
   "id": "3ce3de3e-413e-4170-bf8a-84af20fad152",
   "metadata": {},
   "outputs": [
    {
     "name": "stdout",
     "output_type": "stream",
     "text": [
      "time: 6.77 ms (started: 2023-02-20 16:39:52 +09:00)\n"
     ]
    }
   ],
   "source": [
    "def calc_macd(df, periods=[12,26,9]):\n",
    "    ind = ti.macd(df.astype(float).to_numpy(), *periods)\n",
    "\n",
    "    name = 'macd'\n",
    "    cols = [name, name+'_signal', name+'_histogram']\n",
    "    \n",
    "    index_size = len(df.index)\n",
    "    indi = np.full((len(cols), index_size), np.nan)\n",
    "    indi[:, index_size-ind[0].size:] = ind\n",
    "    \n",
    "    return pd.DataFrame(dict(zip(cols, indi)), index=df.index)\n",
    "\n",
    "\n",
    "def calc_bbands(df, periods=[20,2]):\n",
    "    ind = ti.bbands(df.astype(float).to_numpy(), *periods)\n",
    "\n",
    "    name = 'bbands'\n",
    "    cols = [name+'_lower', name+'_middle', name+'_upper']\n",
    "    \n",
    "    index_size = len(df.index)\n",
    "    indi = np.full((len(cols), index_size), np.nan)\n",
    "    indi[:, index_size-ind[0].size:] = ind\n",
    "    \n",
    "    return pd.DataFrame(dict(zip(cols, indi)), index=df.index)\n",
    "\n",
    "\n",
    "def finish_custom(df_bt):\n",
    "    df = df_bt.copy()\n",
    "    prv = 0\n",
    "    for dt, (_, c) in df.iterrows():\n",
    "        if c in [1, -1]:\n",
    "            if c == prv:\n",
    "                df.loc[dt, 'custom'] = 0\n",
    "            else:\n",
    "                prv = c\n",
    "        else:\n",
    "            prv = 0\n",
    "    return df\n"
   ]
  },
  {
   "cell_type": "code",
   "execution_count": 114,
   "id": "9ecbb3f8-9fc5-4a7e-81e7-6533715aeee8",
   "metadata": {},
   "outputs": [
    {
     "name": "stdout",
     "output_type": "stream",
     "text": [
      "time: 14 ms (started: 2023-02-20 16:49:46 +09:00)\n"
     ]
    }
   ],
   "source": [
    "df_bt = (df_all.Close.rename_axis('dt').to_frame('close')\n",
    "               .assign(custom=0))\n",
    "dates_all = df_bt.index"
   ]
  },
  {
   "cell_type": "code",
   "execution_count": 40,
   "id": "5770cc6f-f95b-4fa6-95df-7234c964e588",
   "metadata": {},
   "outputs": [
    {
     "name": "stdout",
     "output_type": "stream",
     "text": [
      "time: 4.26 ms (started: 2023-02-20 14:59:01 +09:00)\n"
     ]
    }
   ],
   "source": [
    "hold_period = 365\n",
    "dates_start = df_bt.loc[: dates_all[-1] - timedelta(hold_period)].index\n",
    "n_dates = dates_start.size"
   ]
  },
  {
   "cell_type": "code",
   "execution_count": 42,
   "id": "3e168f99-b5d1-481b-8351-6235bc935dee",
   "metadata": {},
   "outputs": [
    {
     "name": "stdout",
     "output_type": "stream",
     "text": [
      "time: 1 ms (started: 2023-02-20 14:59:02 +09:00)\n"
     ]
    }
   ],
   "source": [
    "kwargs_bt = {\n",
    "    'init_cash': 1e7, \n",
    "    'commission': 0.00363960/100,\n",
    "    'verbose': False, \n",
    "    'plot_bp':False,\n",
    "    'buy_prop': 1,\n",
    "    'sell_prop': 1,\n",
    "    'upper_limit':0.1, \n",
    "    'lower_limit':-0.1\n",
    "}"
   ]
  },
  {
   "cell_type": "code",
   "execution_count": 43,
   "id": "4b3d60ad-0210-4f9a-8ff8-cfad0b195a43",
   "metadata": {},
   "outputs": [
    {
     "name": "stdout",
     "output_type": "stream",
     "text": [
      "time: 978 µs (started: 2023-02-20 14:59:04 +09:00)\n"
     ]
    }
   ],
   "source": [
    "# testing\n",
    "dates_start = dates_start[:50]"
   ]
  },
  {
   "cell_type": "markdown",
   "id": "08464555-d47a-48a0-8483-688464a515ba",
   "metadata": {},
   "source": [
    "## SC01: MACD"
   ]
  },
  {
   "cell_type": "markdown",
   "id": "972d4641-ada9-48e6-b411-96f21c77bc91",
   "metadata": {},
   "source": [
    "### calc tech indi"
   ]
  },
  {
   "cell_type": "code",
   "execution_count": 89,
   "id": "f3238737-6221-499d-ade0-32a68942e86b",
   "metadata": {},
   "outputs": [
    {
     "name": "stdout",
     "output_type": "stream",
     "text": [
      "time: 9.57 ms (started: 2023-02-20 16:19:28 +09:00)\n"
     ]
    }
   ],
   "source": [
    "df_macd = calc_macd(df_bt['close'])"
   ]
  },
  {
   "cell_type": "code",
   "execution_count": 90,
   "id": "f649a07d-7610-4902-b360-ce916e62cec4",
   "metadata": {},
   "outputs": [
    {
     "name": "stdout",
     "output_type": "stream",
     "text": [
      "time: 15 ms (started: 2023-02-20 16:19:30 +09:00)\n"
     ]
    }
   ],
   "source": [
    "df_ti = df_macd\n",
    "\n",
    "cond = (df_ti.macd > df_ti.macd_signal) & (df_ti.macd > 0)\n",
    "df_bt.loc[cond, 'custom'] = -1\n",
    "\n",
    "cond = (df_ti.macd < df_ti.macd_signal) & (df_ti.macd < 0)\n",
    "df_bt.loc[cond, 'custom'] = 1"
   ]
  },
  {
   "cell_type": "code",
   "execution_count": 92,
   "id": "c32b2416-0048-4474-b681-6e15dcd0646d",
   "metadata": {},
   "outputs": [
    {
     "name": "stdout",
     "output_type": "stream",
     "text": [
      "time: 175 ms (started: 2023-02-20 16:19:50 +09:00)\n"
     ]
    }
   ],
   "source": [
    "df_bt = finish_custom(df_bt)"
   ]
  },
  {
   "cell_type": "markdown",
   "id": "76991319-10f5-4c13-88f5-f7d63405c1ca",
   "metadata": {},
   "source": [
    "### bactesting"
   ]
  },
  {
   "cell_type": "code",
   "execution_count": 101,
   "id": "94a781c8-ec55-487e-a222-3981239c7403",
   "metadata": {},
   "outputs": [
    {
     "name": "stdout",
     "output_type": "stream",
     "text": [
      "time: 1.17 ms (started: 2023-02-20 16:24:18 +09:00)\n"
     ]
    }
   ],
   "source": [
    "scenario = 't1'\n",
    "n_buy = 50 # krw 200,000 every buy\n",
    "\n",
    "kwargs_bt.update({\n",
    "    'buy_prop': 1/n_buy,\n",
    "})"
   ]
  },
  {
   "cell_type": "code",
   "execution_count": 102,
   "id": "9c720993-c5a9-4bab-93ef-12fd1b8ba6f6",
   "metadata": {},
   "outputs": [
    {
     "name": "stdout",
     "output_type": "stream",
     "text": [
      "10 % done\n",
      "20 % done\n",
      "time: 40.3 s (started: 2023-02-20 16:24:18 +09:00)\n"
     ]
    }
   ],
   "source": [
    "df_result = pd.DataFrame(columns=['start', 'end', 'init', 'final', 'return'])\n",
    "print_step = 0.1\n",
    "n_last = 0\n",
    "\n",
    "for i, start in enumerate(dates_start):\n",
    "    df_result.loc[i] = run_backtest(start, df_bt, kwargs_bt)\n",
    "    n_last = print_progress(i, print_step, n_last)"
   ]
  },
  {
   "cell_type": "code",
   "execution_count": 103,
   "id": "1275433d-3752-49f3-bdae-34f61a70697d",
   "metadata": {},
   "outputs": [
    {
     "data": {
      "text/plain": [
       "mean   -1.395520\n",
       "min    -3.674243\n",
       "max    -0.242843\n",
       "Name: return, dtype: float64"
      ]
     },
     "execution_count": 103,
     "metadata": {},
     "output_type": "execute_result"
    },
    {
     "name": "stdout",
     "output_type": "stream",
     "text": [
      "time: 19.4 ms (started: 2023-02-20 16:24:59 +09:00)\n"
     ]
    }
   ],
   "source": [
    "df_result['return'].agg(['mean','min','max'])"
   ]
  },
  {
   "cell_type": "code",
   "execution_count": 104,
   "id": "9024a295-6be2-4e5e-819f-882e57d04a83",
   "metadata": {},
   "outputs": [
    {
     "name": "stdout",
     "output_type": "stream",
     "text": [
      "time: 13.2 ms (started: 2023-02-20 16:24:59 +09:00)\n"
     ]
    }
   ],
   "source": [
    "df = df_result.set_index('start').loc[:,'return'].to_frame().assign(scenario=scenario)\n",
    "df_compare = pd.concat([df_compare, df]) "
   ]
  },
  {
   "cell_type": "markdown",
   "id": "64425471-9851-4148-a59b-c136b24bdec8",
   "metadata": {},
   "source": [
    "## SC02: Bollinger Bands"
   ]
  },
  {
   "cell_type": "markdown",
   "id": "5a2f4be4-5d29-4ec3-9351-9334dc9f1242",
   "metadata": {},
   "source": [
    "### calc tech indi"
   ]
  },
  {
   "cell_type": "code",
   "execution_count": 115,
   "id": "71b0850d-a554-43e5-a7da-45a946125929",
   "metadata": {},
   "outputs": [
    {
     "name": "stdout",
     "output_type": "stream",
     "text": [
      "time: 2.69 ms (started: 2023-02-20 16:49:55 +09:00)\n"
     ]
    }
   ],
   "source": [
    "df_bbands = calc_bbands(df_bt['close'])"
   ]
  },
  {
   "cell_type": "code",
   "execution_count": 116,
   "id": "1b324a16-c636-4eb7-a2cf-7579df37df76",
   "metadata": {},
   "outputs": [
    {
     "name": "stdout",
     "output_type": "stream",
     "text": [
      "time: 13.7 ms (started: 2023-02-20 16:49:55 +09:00)\n"
     ]
    }
   ],
   "source": [
    "df_ti = df_bbands\n",
    "\n",
    "cond = df_bt.close < df_ti.bbands_lower\n",
    "df_bt.loc[cond, 'custom'] = -1\n",
    "\n",
    "cond = df_bt.close > df_ti.bbands_upper\n",
    "df_bt.loc[cond, 'custom'] = 1"
   ]
  },
  {
   "cell_type": "code",
   "execution_count": 117,
   "id": "05c71c93-b55a-44e4-a555-4cad57c74b7c",
   "metadata": {},
   "outputs": [
    {
     "name": "stdout",
     "output_type": "stream",
     "text": [
      "time: 372 ms (started: 2023-02-20 16:49:56 +09:00)\n"
     ]
    }
   ],
   "source": [
    "df_bt = finish_custom(df_bt)"
   ]
  },
  {
   "cell_type": "code",
   "execution_count": 119,
   "id": "490ecd73-f3e9-4e74-8f47-374fbe2fd809",
   "metadata": {},
   "outputs": [
    {
     "data": {
      "text/plain": [
       "<AxesSubplot:xlabel='dt'>"
      ]
     },
     "execution_count": 119,
     "metadata": {},
     "output_type": "execute_result"
    },
    {
     "data": {
      "image/png": "[encoded data removed]",
      "text/plain": [
       "<Figure size 1080x360 with 1 Axes>"
      ]
     },
     "metadata": {
      "needs_background": "light"
     },
     "output_type": "display_data"
    },
    {
     "name": "stdout",
     "output_type": "stream",
     "text": [
      "time: 612 ms (started: 2023-02-20 16:50:12 +09:00)\n"
     ]
    }
   ],
   "source": [
    "dt = '2018-05-01'\n",
    "fig, ax = plt.subplots(figsize=(15,5))\n",
    "df_bt.loc[:dt].custom.plot(ax=ax, marker='.', lw=0.5)\n",
    "df.loc[:dt].custom.plot(ax=ax)"
   ]
  },
  {
   "cell_type": "markdown",
   "id": "5fc5aadf-5278-454f-b6e5-e6ce37ad3a72",
   "metadata": {},
   "source": [
    "### bactesting"
   ]
  },
  {
   "cell_type": "code",
   "execution_count": 101,
   "id": "e58be9f2-9bdb-4d55-add8-0e972d37349e",
   "metadata": {},
   "outputs": [
    {
     "name": "stdout",
     "output_type": "stream",
     "text": [
      "time: 1.17 ms (started: 2023-02-20 16:24:18 +09:00)\n"
     ]
    }
   ],
   "source": [
    "scenario = 't1'\n",
    "n_buy = 50 # krw 200,000 every buy\n",
    "\n",
    "kwargs_bt.update({\n",
    "    'buy_prop': 1/n_buy,\n",
    "})"
   ]
  },
  {
   "cell_type": "code",
   "execution_count": 102,
   "id": "fa05ee7e-686d-4327-baff-f9f7bff1336f",
   "metadata": {},
   "outputs": [
    {
     "name": "stdout",
     "output_type": "stream",
     "text": [
      "10 % done\n",
      "20 % done\n",
      "time: 40.3 s (started: 2023-02-20 16:24:18 +09:00)\n"
     ]
    }
   ],
   "source": [
    "df_result = pd.DataFrame(columns=['start', 'end', 'init', 'final', 'return'])\n",
    "print_step = 0.1\n",
    "n_last = 0\n",
    "\n",
    "for i, start in enumerate(dates_start):\n",
    "    df_result.loc[i] = run_backtest(start, df_bt, kwargs_bt)\n",
    "    n_last = print_progress(i, print_step, n_last)"
   ]
  },
  {
   "cell_type": "code",
   "execution_count": 103,
   "id": "5aeac050-4e23-44b6-9b26-877067909568",
   "metadata": {},
   "outputs": [
    {
     "data": {
      "text/plain": [
       "mean   -1.395520\n",
       "min    -3.674243\n",
       "max    -0.242843\n",
       "Name: return, dtype: float64"
      ]
     },
     "execution_count": 103,
     "metadata": {},
     "output_type": "execute_result"
    },
    {
     "name": "stdout",
     "output_type": "stream",
     "text": [
      "time: 19.4 ms (started: 2023-02-20 16:24:59 +09:00)\n"
     ]
    }
   ],
   "source": [
    "df_result['return'].agg(['mean','min','max'])"
   ]
  },
  {
   "cell_type": "code",
   "execution_count": 104,
   "id": "a43bb680-246e-480c-984b-17550cb0cbbd",
   "metadata": {},
   "outputs": [
    {
     "name": "stdout",
     "output_type": "stream",
     "text": [
      "time: 13.2 ms (started: 2023-02-20 16:24:59 +09:00)\n"
     ]
    }
   ],
   "source": [
    "df = df_result.set_index('start').loc[:,'return'].to_frame().assign(scenario=scenario)\n",
    "df_compare = pd.concat([df_compare, df]) "
   ]
  },
  {
   "cell_type": "code",
   "execution_count": 106,
   "id": "13de2aa6-5fcc-4fc5-b840-6218ee99c81f",
   "metadata": {
    "tags": []
   },
   "outputs": [
    {
     "data": {
      "image/png": "[encoded data removed]",
      "text/plain": [
       "<Figure size 864x360 with 2 Axes>"
      ]
     },
     "metadata": {
      "needs_background": "light"
     },
     "output_type": "display_data"
    },
    {
     "name": "stdout",
     "output_type": "stream",
     "text": [
      "time: 839 ms (started: 2023-02-20 16:26:49 +09:00)\n"
     ]
    }
   ],
   "source": [
    "fig, (ax1, ax2) = plt.subplots(1,2, figsize=(12,5))\n",
    "_ = sns.lineplot(data=df_compare.reset_index(), x='start', y='return', hue='scenario', ax=ax1)\n",
    "_ = sns.boxplot(data=df_compare.reset_index(), x='scenario', y='return', ax=ax2)"
   ]
  },
  {
   "cell_type": "code",
   "execution_count": null,
   "id": "a36ea66d-cac1-42d5-9580-3f026117bfdd",
   "metadata": {},
   "outputs": [],
   "source": []
  }
 ],
 "metadata": {
  "kernelspec": {
   "display_name": "Python 3",
   "language": "python",
   "name": "python3"
  },
  "language_info": {
   "codemirror_mode": {
    "name": "ipython",
    "version": 3
   },
   "file_extension": ".py",
   "mimetype": "text/x-python",
   "name": "python",
   "nbconvert_exporter": "python",
   "pygments_lexer": "ipython3",
   "version": "3.9.7"
  }
 },
 "nbformat": 4,
 "nbformat_minor": 5
}
