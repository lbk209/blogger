{
 "cells": [
  {
   "cell_type": "markdown",
   "id": "fe200c70-7f64-4b42-921b-4dbf19ae3700",
   "metadata": {},
   "source": [
    "# Settings"
   ]
  },
  {
   "cell_type": "code",
   "execution_count": 1,
   "id": "23caba7b-f99a-4b29-99ad-d85f00a905b7",
   "metadata": {},
   "outputs": [],
   "source": [
    "import sys\n",
    "\n",
    "# set lib path just next to current path to give priority to modules in lib\n",
    "sys.path.insert(sys.path.index('')+1, '/lib')"
   ]
  },
  {
   "cell_type": "code",
   "execution_count": 26,
   "id": "a141b869-8b6a-4f6a-bbed-e13eed408874",
   "metadata": {},
   "outputs": [
    {
     "name": "stdout",
     "output_type": "stream",
     "text": [
      "The autotime extension is already loaded. To reload it, use:\n",
      "  %reload_ext autotime\n",
      "time: 11.3 ms (started: 2023-02-22 16:58:43 +09:00)\n"
     ]
    }
   ],
   "source": [
    "%load_ext autotime\n",
    "\n",
    "import pandas as pd\n",
    "import FinanceDataReader as fdr\n",
    "\n",
    "from lib.fastquant import backtest_portfolio\n",
    "from lib.utils import HiddenPrints, DATE_FORMAT\n",
    "from datetime import datetime, timedelta\n",
    "\n",
    "from matplotlib import pyplot as plt\n",
    "from matplotlib.gridspec import GridSpec\n",
    "import seaborn as sns"
   ]
  },
  {
   "cell_type": "code",
   "execution_count": 3,
   "id": "27a6a548-4e13-4533-958e-8a74c4c58c77",
   "metadata": {},
   "outputs": [
    {
     "name": "stdout",
     "output_type": "stream",
     "text": [
      "time: 289 ms (started: 2023-02-22 16:16:06 +09:00)\n"
     ]
    }
   ],
   "source": [
    "start = '20180101'\n",
    "#end = '20191231'\n",
    "end = '20221231'\n",
    "\n",
    "symbol = '069500' # KODEX 200\n",
    "df_all = fdr.DataReader(symbol, start, end)"
   ]
  },
  {
   "cell_type": "code",
   "execution_count": 4,
   "id": "01f3cfd7-7636-446a-b957-6af0332421fe",
   "metadata": {},
   "outputs": [
    {
     "name": "stdout",
     "output_type": "stream",
     "text": [
      "time: 8.05 ms (started: 2023-02-22 16:16:06 +09:00)\n"
     ]
    }
   ],
   "source": [
    "def run_backtest(start, df_bt, kwargs, strategy='custom'):\n",
    "    df = {symbol: df_bt}\n",
    "    end = start + timedelta(hold_period)\n",
    "    with HiddenPrints(mark_end=False):\n",
    "        result = backtest_portfolio(strategy, df, start.strftime(DATE_FORMAT), end.strftime(DATE_FORMAT), **kwargs)\n",
    "    if np.isnan(result['history']['win_rate'].squeeze()):\n",
    "        return [start, end, None, None, None]\n",
    "    else:\n",
    "        return [start, end] + result['summary']\n",
    "\n",
    "def print_progress(i, print_step, last_print):\n",
    "    n = round((i+1) / n_dates * 100)\n",
    "    if n != last_print and n % (print_step*100) == 0:\n",
    "        print(f'{n} % done')\n",
    "        return n\n",
    "    else:\n",
    "        return last_print"
   ]
  },
  {
   "cell_type": "code",
   "execution_count": 4,
   "id": "dcd6b7dd-e64a-4591-ac0c-356895bb73c2",
   "metadata": {},
   "outputs": [
    {
     "name": "stdout",
     "output_type": "stream",
     "text": [
      "time: 8.05 ms (started: 2023-02-22 16:16:06 +09:00)\n"
     ]
    }
   ],
   "source": [
    "def run_backtest(start, df_bt, kwargs, proba=1, strategy='custom'):\n",
    "    \n",
    "    end = start + timedelta(hold_period)\n",
    "    df = df_bt.loc[start:end]\n",
    "    if proba < 1:\n",
    "        df.loc[:,'custom'] = df.custom.apply(lambda x:x*np.random.choice(2, 1, p=[1.-proba, proba])[0])\n",
    "    df = {symbol: df}\n",
    "    with HiddenPrints(mark_end=False):\n",
    "        result = backtest_portfolio(strategy, df, start.strftime(DATE_FORMAT), end.strftime(DATE_FORMAT), **kwargs)\n",
    "    if np.isnan(result['history']['win_rate'].squeeze()):\n",
    "        return [start, end, None, None, None]\n",
    "    else:\n",
    "        return [start, end] + result['summary']\n",
    "    \n",
    "\n",
    "def print_progress(i, print_step, last_print):\n",
    "    n = round((i+1) / n_dates * 100)\n",
    "    if n != last_print and n % (print_step*100) == 0:\n",
    "        print(f'{n} % done')\n",
    "        return n\n",
    "    else:\n",
    "        return last_print"
   ]
  },
  {
   "cell_type": "code",
   "execution_count": 5,
   "id": "d5f1c908-9c66-493a-bd3e-9c6751f5a9a7",
   "metadata": {},
   "outputs": [
    {
     "name": "stdout",
     "output_type": "stream",
     "text": [
      "time: 10.1 ms (started: 2023-02-22 16:16:06 +09:00)\n"
     ]
    }
   ],
   "source": [
    "df_compare = pd.DataFrame()"
   ]
  },
  {
   "cell_type": "markdown",
   "id": "8912ca93-96da-4eef-ac35-cf8410cb5030",
   "metadata": {},
   "source": [
    "# Buy & hold"
   ]
  },
  {
   "cell_type": "markdown",
   "id": "139e0445-cba8-46c5-a68a-3645b9685431",
   "metadata": {},
   "source": [
    "## Settings"
   ]
  },
  {
   "cell_type": "code",
   "execution_count": 100,
   "id": "47a5c216-ea9b-41d6-a94c-915e82444774",
   "metadata": {},
   "outputs": [
    {
     "name": "stdout",
     "output_type": "stream",
     "text": [
      "time: 7.44 ms (started: 2023-02-20 20:03:20 +09:00)\n"
     ]
    }
   ],
   "source": [
    "df_bt = (df_all.Close.rename_axis('dt').to_frame('close')\n",
    "               .assign(custom=0))\n",
    "dates_all = df_bt.index"
   ]
  },
  {
   "cell_type": "code",
   "execution_count": 101,
   "id": "69ecda4f-746b-4224-90c9-982c5cb3ff0a",
   "metadata": {},
   "outputs": [
    {
     "name": "stdout",
     "output_type": "stream",
     "text": [
      "time: 2.07 ms (started: 2023-02-20 20:03:20 +09:00)\n"
     ]
    }
   ],
   "source": [
    "hold_period = 365\n",
    "dates_start = df_bt.loc[: dates_all[-1] - timedelta(hold_period)].index\n",
    "n_dates = dates_start.size"
   ]
  },
  {
   "cell_type": "code",
   "execution_count": 102,
   "id": "f157f6aa-ce43-4953-b67d-72456c468125",
   "metadata": {},
   "outputs": [
    {
     "name": "stdout",
     "output_type": "stream",
     "text": [
      "time: 957 µs (started: 2023-02-20 20:03:21 +09:00)\n"
     ]
    }
   ],
   "source": [
    "kwargs_bt = {\n",
    "    'init_cash': 1e7, \n",
    "    'commission': 0.00363960/100,\n",
    "    'verbose': False, \n",
    "    'plot_bp':False,\n",
    "    'buy_prop': 1,\n",
    "    'sell_prop': 1,\n",
    "    'upper_limit':0.1, \n",
    "    'lower_limit':-0.1\n",
    "}"
   ]
  },
  {
   "cell_type": "code",
   "execution_count": 103,
   "id": "a6f5a352-b29f-443b-ab05-65064e7798a2",
   "metadata": {},
   "outputs": [
    {
     "name": "stdout",
     "output_type": "stream",
     "text": [
      "time: 625 µs (started: 2023-02-20 20:03:21 +09:00)\n"
     ]
    }
   ],
   "source": [
    "# testing\n",
    "#dates_start = dates_start[:50]"
   ]
  },
  {
   "cell_type": "markdown",
   "id": "c11ddbc1-a117-4d2c-8a61-76d6693b2782",
   "metadata": {},
   "source": [
    "## SC01"
   ]
  },
  {
   "cell_type": "code",
   "execution_count": 104,
   "id": "c3532f4f-177a-424c-b368-0332c0c639a8",
   "metadata": {},
   "outputs": [
    {
     "name": "stdout",
     "output_type": "stream",
     "text": [
      "time: 1.03 ms (started: 2023-02-20 20:03:23 +09:00)\n"
     ]
    }
   ],
   "source": [
    "scenario = 'b1'\n",
    "n_buy = 1\n",
    "\n",
    "kwargs_bt.update({\n",
    "    'buy_prop': 1/n_buy,\n",
    "})"
   ]
  },
  {
   "cell_type": "code",
   "execution_count": 10,
   "id": "cb3257b7-3613-4fa0-b452-314bb862f7bd",
   "metadata": {},
   "outputs": [
    {
     "name": "stdout",
     "output_type": "stream",
     "text": [
      "10 % done\n",
      "20 % done\n",
      "30 % done\n",
      "40 % done\n",
      "50 % done\n",
      "60 % done\n",
      "70 % done\n",
      "80 % done\n",
      "90 % done\n",
      "100 % done\n",
      "time: 13min 9s (started: 2023-02-20 17:02:13 +09:00)\n"
     ]
    }
   ],
   "source": [
    "df_result = pd.DataFrame(columns=['start', 'end', 'init', 'final', 'return'])\n",
    "print_step = 0.1\n",
    "n_last = 0\n",
    "\n",
    "for i, start in enumerate(dates_start):\n",
    "    df_bt['custom'] = 0 # reset\n",
    "    df_bt.loc[start,'custom'] = -1\n",
    "    \n",
    "    df_result.loc[i] = run_backtest(start, df_bt, kwargs_bt)\n",
    "    \n",
    "    n_last = print_progress(i, print_step, n_last)"
   ]
  },
  {
   "cell_type": "code",
   "execution_count": 11,
   "id": "1b0070bc-84f7-4a88-9af2-0fa1ad05f9c3",
   "metadata": {},
   "outputs": [
    {
     "data": {
      "text/plain": [
       "mean      7.878639\n",
       "min     -29.578320\n",
       "max     111.056006\n",
       "Name: return, dtype: float64"
      ]
     },
     "execution_count": 11,
     "metadata": {},
     "output_type": "execute_result"
    },
    {
     "name": "stdout",
     "output_type": "stream",
     "text": [
      "time: 21.5 ms (started: 2023-02-20 17:15:23 +09:00)\n"
     ]
    }
   ],
   "source": [
    "df_result['return'].agg(['mean','min','max'])"
   ]
  },
  {
   "cell_type": "code",
   "execution_count": 12,
   "id": "1ec190b8-9722-4725-bfec-9576afa2b903",
   "metadata": {},
   "outputs": [
    {
     "name": "stdout",
     "output_type": "stream",
     "text": [
      "time: 8.29 ms (started: 2023-02-20 17:15:23 +09:00)\n"
     ]
    }
   ],
   "source": [
    "df = df_result.set_index('start').loc[:,'return'].to_frame().assign(scenario=scenario)\n",
    "df_compare = pd.concat([df_compare, df]) "
   ]
  },
  {
   "cell_type": "markdown",
   "id": "ceed01cf-7d9e-4172-aca0-6fb0d1134fe4",
   "metadata": {},
   "source": [
    "## SC02"
   ]
  },
  {
   "cell_type": "code",
   "execution_count": 13,
   "id": "7fbbdb66-80c2-440f-93f5-b63e8eaeff8c",
   "metadata": {},
   "outputs": [
    {
     "name": "stdout",
     "output_type": "stream",
     "text": [
      "time: 5.1 ms (started: 2023-02-20 17:15:23 +09:00)\n"
     ]
    }
   ],
   "source": [
    "scenario = 'b2'\n",
    "n_buy = 10\n",
    "\n",
    "kwargs_bt.update({\n",
    "    'buy_prop': 1/n_buy,\n",
    "})"
   ]
  },
  {
   "cell_type": "code",
   "execution_count": 14,
   "id": "2bd4a84b-8251-4f00-abdf-c0e97d50ccaa",
   "metadata": {},
   "outputs": [
    {
     "name": "stdout",
     "output_type": "stream",
     "text": [
      "10 % done\n",
      "20 % done\n",
      "30 % done\n",
      "40 % done\n",
      "50 % done\n",
      "60 % done\n",
      "70 % done\n",
      "80 % done\n",
      "90 % done\n",
      "100 % done\n",
      "time: 13min 51s (started: 2023-02-20 17:15:23 +09:00)\n"
     ]
    }
   ],
   "source": [
    "df_result = pd.DataFrame(columns=['start', 'end', 'init', 'final', 'return'])\n",
    "print_step = 0.1\n",
    "n_last = 0\n",
    "\n",
    "period = 20\n",
    "\n",
    "for i, start in enumerate(dates_start):\n",
    "    df_bt['custom'] = 0 # reset\n",
    "    dt = dates_all[[i + x*period for x in range(n_buy)]]\n",
    "    df_bt.loc[dt,'custom'] = -1\n",
    "    \n",
    "    df_result.loc[i] = run_backtest(start, df_bt, kwargs_bt)\n",
    "    \n",
    "    n_last = print_progress(i, print_step, n_last)"
   ]
  },
  {
   "cell_type": "code",
   "execution_count": 15,
   "id": "b1ca26bc-4767-41b8-bdf1-f3d80a44846c",
   "metadata": {},
   "outputs": [
    {
     "data": {
      "text/plain": [
       "mean     3.414606\n",
       "min    -16.512425\n",
       "max     38.402674\n",
       "Name: return, dtype: float64"
      ]
     },
     "execution_count": 15,
     "metadata": {},
     "output_type": "execute_result"
    },
    {
     "name": "stdout",
     "output_type": "stream",
     "text": [
      "time: 14.6 ms (started: 2023-02-20 17:29:15 +09:00)\n"
     ]
    }
   ],
   "source": [
    "df_result['return'].agg(['mean','min','max'])"
   ]
  },
  {
   "cell_type": "code",
   "execution_count": 16,
   "id": "b2c50990-5ae6-46fe-8f10-36d9d2cc4875",
   "metadata": {},
   "outputs": [
    {
     "name": "stdout",
     "output_type": "stream",
     "text": [
      "time: 13 ms (started: 2023-02-20 17:29:15 +09:00)\n"
     ]
    }
   ],
   "source": [
    "df = df_result.set_index('start').loc[:,'return'].to_frame().assign(scenario=scenario)\n",
    "df_compare = pd.concat([df_compare, df]) "
   ]
  },
  {
   "cell_type": "markdown",
   "id": "ed7bbf40-ec2b-4f9a-ba91-329345ca8bb8",
   "metadata": {},
   "source": [
    "## SC03"
   ]
  },
  {
   "cell_type": "code",
   "execution_count": 17,
   "id": "20afb37d-4747-4530-a777-08e45e65e50a",
   "metadata": {},
   "outputs": [
    {
     "name": "stdout",
     "output_type": "stream",
     "text": [
      "time: 8.33 ms (started: 2023-02-20 17:29:15 +09:00)\n"
     ]
    }
   ],
   "source": [
    "scenario = 'b3'\n",
    "n_buy = 20\n",
    "\n",
    "kwargs_bt.update({\n",
    "    'buy_prop': 1/n_buy,\n",
    "})"
   ]
  },
  {
   "cell_type": "code",
   "execution_count": 18,
   "id": "bc344817-e61f-480b-8e34-f2f351f1a1b6",
   "metadata": {},
   "outputs": [
    {
     "name": "stdout",
     "output_type": "stream",
     "text": [
      "10 % done\n",
      "20 % done\n",
      "30 % done\n",
      "40 % done\n",
      "50 % done\n",
      "60 % done\n",
      "70 % done\n",
      "80 % done\n",
      "90 % done\n",
      "100 % done\n",
      "time: 15min 15s (started: 2023-02-20 17:29:15 +09:00)\n"
     ]
    }
   ],
   "source": [
    "df_result = pd.DataFrame(columns=['start', 'end', 'init', 'final', 'return'])\n",
    "print_step = 0.1\n",
    "n_last = 0\n",
    "\n",
    "period = 10\n",
    "\n",
    "for i, start in enumerate(dates_start):\n",
    "    df_bt['custom'] = 0 # reset\n",
    "    dt = dates_all[[i + x*period for x in range(n_buy)]]\n",
    "    df_bt.loc[dt,'custom'] = -1\n",
    "    \n",
    "    df_result.loc[i] = run_backtest(start, df_bt, kwargs_bt)\n",
    "    \n",
    "    n_last = print_progress(i, print_step, n_last)"
   ]
  },
  {
   "cell_type": "code",
   "execution_count": 19,
   "id": "2f1ceb69-326a-45d0-bca9-8b2437b53a27",
   "metadata": {},
   "outputs": [
    {
     "data": {
      "text/plain": [
       "mean     3.217287\n",
       "min    -16.298809\n",
       "max     36.433602\n",
       "Name: return, dtype: float64"
      ]
     },
     "execution_count": 19,
     "metadata": {},
     "output_type": "execute_result"
    },
    {
     "name": "stdout",
     "output_type": "stream",
     "text": [
      "time: 14.5 ms (started: 2023-02-20 17:44:30 +09:00)\n"
     ]
    }
   ],
   "source": [
    "df_result['return'].agg(['mean','min','max'])"
   ]
  },
  {
   "cell_type": "code",
   "execution_count": 20,
   "id": "f89bdc9e-e05d-4510-8300-b07d5ce8e389",
   "metadata": {},
   "outputs": [
    {
     "name": "stdout",
     "output_type": "stream",
     "text": [
      "time: 15 ms (started: 2023-02-20 17:44:30 +09:00)\n"
     ]
    }
   ],
   "source": [
    "df = df_result.set_index('start').loc[:,'return'].to_frame().assign(scenario=scenario)\n",
    "df_compare = pd.concat([df_compare, df]) "
   ]
  },
  {
   "cell_type": "markdown",
   "id": "76ab9835-daa9-4f43-84de-8d2ebdcab207",
   "metadata": {},
   "source": [
    "## Compare"
   ]
  },
  {
   "cell_type": "code",
   "execution_count": 32,
   "id": "c7186496-fb70-4cf4-8c77-5245c0234be6",
   "metadata": {},
   "outputs": [
    {
     "data": {
      "image/png": "[encoded data removed]",
      "text/plain": [
       "<Figure size 864x360 with 2 Axes>"
      ]
     },
     "metadata": {
      "needs_background": "light"
     },
     "output_type": "display_data"
    },
    {
     "name": "stdout",
     "output_type": "stream",
     "text": [
      "time: 1.21 s (started: 2023-02-20 17:54:16 +09:00)\n"
     ]
    }
   ],
   "source": [
    "fig = plt.figure(figsize=(12, 5))\n",
    "fig.suptitle(\"buy & hold for a year\")\n",
    "gs = GridSpec(1, 2, width_ratios=[2, 1])\n",
    "ax1 = fig.add_subplot(gs[0])\n",
    "ax2 = fig.add_subplot(gs[1])\n",
    "\n",
    "_ = sns.lineplot(data=df_compare.reset_index(), x='start', y='return', hue='scenario', ax=ax1)\n",
    "_ = sns.boxplot(data=df_compare.reset_index(), x='scenario', y='return', ax=ax2)"
   ]
  },
  {
   "cell_type": "code",
   "execution_count": 50,
   "id": "ec876b1b-4dfd-4e5f-a176-1350ba16ba19",
   "metadata": {},
   "outputs": [
    {
     "name": "stdout",
     "output_type": "stream",
     "text": [
      "time: 88.7 ms (started: 2023-02-20 18:22:01 +09:00)\n"
     ]
    }
   ],
   "source": [
    "#df_compare = df_compare.loc[df_compare.scenario != 't1']\n",
    "df_compare.to_csv('df_compare.csv')"
   ]
  },
  {
   "cell_type": "markdown",
   "id": "f5a88073-349f-42e9-9c2c-30c79ee61f80",
   "metadata": {},
   "source": [
    "# Technical Indicator"
   ]
  },
  {
   "cell_type": "markdown",
   "id": "73325bef-9885-4482-b68f-2511d24ea567",
   "metadata": {},
   "source": [
    "## Settings"
   ]
  },
  {
   "cell_type": "code",
   "execution_count": 6,
   "id": "c46e0f2b-b87f-4acb-abd2-de65372a8814",
   "metadata": {},
   "outputs": [
    {
     "name": "stdout",
     "output_type": "stream",
     "text": [
      "time: 19.2 ms (started: 2023-02-22 16:16:08 +09:00)\n"
     ]
    }
   ],
   "source": [
    "import tulipy as ti\n",
    "import numpy as np"
   ]
  },
  {
   "cell_type": "code",
   "execution_count": 7,
   "id": "3ce3de3e-413e-4170-bf8a-84af20fad152",
   "metadata": {},
   "outputs": [
    {
     "name": "stdout",
     "output_type": "stream",
     "text": [
      "time: 2.59 ms (started: 2023-02-22 16:16:08 +09:00)\n"
     ]
    }
   ],
   "source": [
    "def calc_macd(df, periods=[12,26,9]):\n",
    "    ind = ti.macd(df.astype(float).to_numpy(), *periods)\n",
    "\n",
    "    name = 'macd'\n",
    "    cols = [name, name+'_signal', name+'_histogram']\n",
    "    \n",
    "    index_size = len(df.index)\n",
    "    indi = np.full((len(cols), index_size), np.nan)\n",
    "    indi[:, index_size-ind[0].size:] = ind\n",
    "    \n",
    "    return pd.DataFrame(dict(zip(cols, indi)), index=df.index)\n",
    "\n",
    "\n",
    "def calc_bbands(df, periods=[20,2]):\n",
    "    ind = ti.bbands(df.astype(float).to_numpy(), *periods)\n",
    "\n",
    "    name = 'bbands'\n",
    "    cols = [name+'_lower', name+'_middle', name+'_upper']\n",
    "    \n",
    "    index_size = len(df.index)\n",
    "    indi = np.full((len(cols), index_size), np.nan)\n",
    "    indi[:, index_size-ind[0].size:] = ind\n",
    "    \n",
    "    return pd.DataFrame(dict(zip(cols, indi)), index=df.index)\n",
    "\n",
    "\n",
    "def finish_custom(df_bt):\n",
    "    df = df_bt.copy()\n",
    "    prv = 0\n",
    "    for dt, (_, c) in df.iterrows():\n",
    "        if c in [1, -1]:\n",
    "            if c == prv:\n",
    "                df.loc[dt, 'custom'] = 0\n",
    "            else:\n",
    "                prv = c\n",
    "        else:\n",
    "            prv = 0\n",
    "    return df\n"
   ]
  },
  {
   "cell_type": "code",
   "execution_count": 8,
   "id": "9ecbb3f8-9fc5-4a7e-81e7-6533715aeee8",
   "metadata": {},
   "outputs": [
    {
     "name": "stdout",
     "output_type": "stream",
     "text": [
      "time: 5.16 ms (started: 2023-02-22 16:16:10 +09:00)\n"
     ]
    }
   ],
   "source": [
    "df_bt = (df_all.Close.rename_axis('dt').to_frame('close')\n",
    "               .assign(custom=0))\n",
    "dates_all = df_bt.index"
   ]
  },
  {
   "cell_type": "code",
   "execution_count": 9,
   "id": "5770cc6f-f95b-4fa6-95df-7234c964e588",
   "metadata": {},
   "outputs": [
    {
     "name": "stdout",
     "output_type": "stream",
     "text": [
      "time: 8.71 ms (started: 2023-02-22 16:16:10 +09:00)\n"
     ]
    }
   ],
   "source": [
    "hold_period = 365\n",
    "dates_start = df_bt.loc[: dates_all[-1] - timedelta(hold_period)].index\n",
    "n_dates = dates_start.size"
   ]
  },
  {
   "cell_type": "code",
   "execution_count": 10,
   "id": "3e168f99-b5d1-481b-8351-6235bc935dee",
   "metadata": {},
   "outputs": [
    {
     "name": "stdout",
     "output_type": "stream",
     "text": [
      "time: 999 µs (started: 2023-02-22 16:16:11 +09:00)\n"
     ]
    }
   ],
   "source": [
    "kwargs_bt = {\n",
    "    'init_cash': 1e7, \n",
    "    'commission': 0.00363960/100,\n",
    "    'verbose': False, \n",
    "    'plot_bp':False,\n",
    "    'buy_prop': 1,\n",
    "    'sell_prop': 1,\n",
    "    'upper_limit':0.1, \n",
    "    'lower_limit':-0.1\n",
    "}"
   ]
  },
  {
   "cell_type": "code",
   "execution_count": 49,
   "id": "4b3d60ad-0210-4f9a-8ff8-cfad0b195a43",
   "metadata": {},
   "outputs": [
    {
     "name": "stdout",
     "output_type": "stream",
     "text": [
      "time: 625 µs (started: 2023-02-22 16:04:14 +09:00)\n"
     ]
    }
   ],
   "source": [
    "# testing\n",
    "#dates_start = dates_start[:100]"
   ]
  },
  {
   "cell_type": "markdown",
   "id": "08464555-d47a-48a0-8483-688464a515ba",
   "metadata": {},
   "source": [
    "## SC01: MACD"
   ]
  },
  {
   "cell_type": "markdown",
   "id": "972d4641-ada9-48e6-b411-96f21c77bc91",
   "metadata": {},
   "source": [
    "### calc tech indi"
   ]
  },
  {
   "cell_type": "code",
   "execution_count": 11,
   "id": "f3238737-6221-499d-ade0-32a68942e86b",
   "metadata": {},
   "outputs": [
    {
     "name": "stdout",
     "output_type": "stream",
     "text": [
      "time: 11.8 ms (started: 2023-02-22 16:16:15 +09:00)\n"
     ]
    }
   ],
   "source": [
    "df_macd = calc_macd(df_bt['close'])"
   ]
  },
  {
   "cell_type": "code",
   "execution_count": 12,
   "id": "f649a07d-7610-4902-b360-ce916e62cec4",
   "metadata": {},
   "outputs": [
    {
     "name": "stdout",
     "output_type": "stream",
     "text": [
      "time: 19.7 ms (started: 2023-02-22 16:16:15 +09:00)\n"
     ]
    }
   ],
   "source": [
    "df_ti = df_macd\n",
    "\n",
    "cond = (df_ti.macd > df_ti.macd_signal) \n",
    "cond = cond & (df_ti.macd > 0)\n",
    "df_bt.loc[cond, 'custom'] = -1\n",
    "\n",
    "cond = (df_ti.macd < df_ti.macd_signal) \n",
    "cond = cond & (df_ti.macd < 0)\n",
    "df_bt.loc[cond, 'custom'] = 1"
   ]
  },
  {
   "cell_type": "code",
   "execution_count": 13,
   "id": "c32b2416-0048-4474-b681-6e15dcd0646d",
   "metadata": {},
   "outputs": [
    {
     "name": "stdout",
     "output_type": "stream",
     "text": [
      "time: 387 ms (started: 2023-02-22 16:16:16 +09:00)\n"
     ]
    }
   ],
   "source": [
    "df_bt = finish_custom(df_bt)"
   ]
  },
  {
   "cell_type": "code",
   "execution_count": 14,
   "id": "0457a857-a101-48d9-9cd9-ed1438b6f76e",
   "metadata": {},
   "outputs": [
    {
     "data": {
      "text/plain": [
       "33"
      ]
     },
     "execution_count": 14,
     "metadata": {},
     "output_type": "execute_result"
    },
    {
     "name": "stdout",
     "output_type": "stream",
     "text": [
      "time: 21 ms (started: 2023-02-22 16:16:16 +09:00)\n"
     ]
    }
   ],
   "source": [
    "# small number of chance to buy\n",
    "#df_bt.loc[df_bt.custom < 0, 'close'].count() / df_bt.close.count()\n",
    "df_bt.loc[df_bt.custom < 0, 'close'].count()"
   ]
  },
  {
   "cell_type": "markdown",
   "id": "76991319-10f5-4c13-88f5-f7d63405c1ca",
   "metadata": {},
   "source": [
    "### bactesting 1"
   ]
  },
  {
   "cell_type": "code",
   "execution_count": 15,
   "id": "94a781c8-ec55-487e-a222-3981239c7403",
   "metadata": {},
   "outputs": [
    {
     "name": "stdout",
     "output_type": "stream",
     "text": [
      "time: 1.01 ms (started: 2023-02-22 16:16:18 +09:00)\n"
     ]
    }
   ],
   "source": [
    "scenario = 't1a'\n",
    "\n",
    "kwargs_bt.update({\n",
    "    'buy_prop': 1,\n",
    "    'sell_prop': 1\n",
    "})"
   ]
  },
  {
   "cell_type": "code",
   "execution_count": 16,
   "id": "9c720993-c5a9-4bab-93ef-12fd1b8ba6f6",
   "metadata": {
    "scrolled": true,
    "tags": []
   },
   "outputs": [
    {
     "name": "stdout",
     "output_type": "stream",
     "text": [
      "10 % done\n",
      "20 % done\n",
      "30 % done\n",
      "40 % done\n",
      "50 % done\n",
      "60 % done\n",
      "70 % done\n",
      "80 % done\n",
      "90 % done\n",
      "100 % done\n",
      "time: 13min 26s (started: 2023-02-22 16:16:18 +09:00)\n"
     ]
    }
   ],
   "source": [
    "df_result = pd.DataFrame(columns=['start', 'end', 'init', 'final', 'return'])\n",
    "print_step = 0.1\n",
    "n_last = 0\n",
    "\n",
    "for i, start in enumerate(dates_start):\n",
    "    df_result.loc[i] = run_backtest(start, df_bt, kwargs_bt)\n",
    "    n_last = print_progress(i, print_step, n_last)\n",
    "    if df_result.loc[i]['return'] is None:\n",
    "        print(f'{i}: No buy at all')"
   ]
  },
  {
   "cell_type": "code",
   "execution_count": 17,
   "id": "1275433d-3752-49f3-bdae-34f61a70697d",
   "metadata": {},
   "outputs": [
    {
     "data": {
      "text/plain": [
       "mean     8.054669\n",
       "min    -12.013608\n",
       "max     57.532363\n",
       "Name: return, dtype: float64"
      ]
     },
     "execution_count": 17,
     "metadata": {},
     "output_type": "execute_result"
    },
    {
     "name": "stdout",
     "output_type": "stream",
     "text": [
      "time: 16.1 ms (started: 2023-02-22 16:29:45 +09:00)\n"
     ]
    }
   ],
   "source": [
    "df_result['return'].agg(['mean','min','max'])"
   ]
  },
  {
   "cell_type": "code",
   "execution_count": 24,
   "id": "5e59319e-1108-4ef9-a023-9c0a9b069cc9",
   "metadata": {},
   "outputs": [
    {
     "name": "stdout",
     "output_type": "stream",
     "text": [
      "time: 8.17 ms (started: 2023-02-22 16:58:42 +09:00)\n"
     ]
    }
   ],
   "source": [
    "df = df_result.set_index('start').loc[:,'return'].to_frame().assign(scenario=scenario)\n",
    "df_compare = pd.concat([df_compare, df]) "
   ]
  },
  {
   "cell_type": "markdown",
   "id": "4f870c77-235e-4491-afec-0173fd778ddd",
   "metadata": {},
   "source": [
    "### bactesting 2"
   ]
  },
  {
   "cell_type": "code",
   "execution_count": 18,
   "id": "08fc85f7-2753-47e2-938c-62dde7c5d89a",
   "metadata": {},
   "outputs": [
    {
     "name": "stdout",
     "output_type": "stream",
     "text": [
      "time: 1.08 ms (started: 2023-02-22 16:29:45 +09:00)\n"
     ]
    }
   ],
   "source": [
    "scenario = 't1b'\n",
    "\n",
    "kwargs_bt.update({\n",
    "    'buy_prop': 0.5,\n",
    "    'sell_prop': 0.5\n",
    "})"
   ]
  },
  {
   "cell_type": "code",
   "execution_count": 19,
   "id": "8e32f4ea-5607-45dc-b0ae-2c92dc0eb02a",
   "metadata": {
    "scrolled": true,
    "tags": []
   },
   "outputs": [
    {
     "name": "stdout",
     "output_type": "stream",
     "text": [
      "10 % done\n",
      "20 % done\n",
      "30 % done\n",
      "40 % done\n",
      "50 % done\n",
      "60 % done\n",
      "70 % done\n",
      "80 % done\n",
      "90 % done\n",
      "100 % done\n",
      "time: 13min 57s (started: 2023-02-22 16:29:45 +09:00)\n"
     ]
    }
   ],
   "source": [
    "df_result = pd.DataFrame(columns=['start', 'end', 'init', 'final', 'return'])\n",
    "print_step = 0.1\n",
    "n_last = 0\n",
    "\n",
    "for i, start in enumerate(dates_start):\n",
    "    df_result.loc[i] = run_backtest(start, df_bt, kwargs_bt)\n",
    "    n_last = print_progress(i, print_step, n_last)\n",
    "    if df_result.loc[i]['return'] is None:\n",
    "        print(f'{i}: No buy at all')"
   ]
  },
  {
   "cell_type": "code",
   "execution_count": 20,
   "id": "82f02286-2e96-4ec7-97dc-592ded7ef3f1",
   "metadata": {},
   "outputs": [
    {
     "data": {
      "text/plain": [
       "mean     4.636345\n",
       "min     -6.153420\n",
       "max     36.403294\n",
       "Name: return, dtype: float64"
      ]
     },
     "execution_count": 20,
     "metadata": {},
     "output_type": "execute_result"
    },
    {
     "name": "stdout",
     "output_type": "stream",
     "text": [
      "time: 19.8 ms (started: 2023-02-22 16:43:42 +09:00)\n"
     ]
    }
   ],
   "source": [
    "df_result['return'].agg(['mean','min','max'])"
   ]
  },
  {
   "cell_type": "code",
   "execution_count": 24,
   "id": "23a58145-3bcb-4b18-9415-f161a7e0003f",
   "metadata": {},
   "outputs": [
    {
     "name": "stdout",
     "output_type": "stream",
     "text": [
      "time: 8.17 ms (started: 2023-02-22 16:58:42 +09:00)\n"
     ]
    }
   ],
   "source": [
    "df = df_result.set_index('start').loc[:,'return'].to_frame().assign(scenario=scenario)\n",
    "df_compare = pd.concat([df_compare, df]) "
   ]
  },
  {
   "cell_type": "markdown",
   "id": "a7cb488c-7fa4-4791-92b0-553dc80a9a6f",
   "metadata": {},
   "source": [
    "### bactesting 3"
   ]
  },
  {
   "cell_type": "code",
   "execution_count": 21,
   "id": "bd717f51-6eeb-4e4b-84bf-6debd842cd66",
   "metadata": {},
   "outputs": [
    {
     "name": "stdout",
     "output_type": "stream",
     "text": [
      "time: 1.11 ms (started: 2023-02-22 16:43:42 +09:00)\n"
     ]
    }
   ],
   "source": [
    "scenario = 't1c'\n",
    "\n",
    "kwargs_bt.update({\n",
    "    'buy_prop': 0.2,\n",
    "    'sell_prop': 0.2\n",
    "})"
   ]
  },
  {
   "cell_type": "code",
   "execution_count": 22,
   "id": "9a5d0aa9-9d58-4b58-9024-184d43e960d3",
   "metadata": {
    "scrolled": true,
    "tags": []
   },
   "outputs": [
    {
     "name": "stdout",
     "output_type": "stream",
     "text": [
      "10 % done\n",
      "20 % done\n",
      "30 % done\n",
      "40 % done\n",
      "50 % done\n",
      "60 % done\n",
      "70 % done\n",
      "80 % done\n",
      "90 % done\n",
      "100 % done\n",
      "time: 14min 59s (started: 2023-02-22 16:43:42 +09:00)\n"
     ]
    }
   ],
   "source": [
    "df_result = pd.DataFrame(columns=['start', 'end', 'init', 'final', 'return'])\n",
    "print_step = 0.1\n",
    "n_last = 0\n",
    "\n",
    "for i, start in enumerate(dates_start):\n",
    "    df_result.loc[i] = run_backtest(start, df_bt, kwargs_bt)\n",
    "    n_last = print_progress(i, print_step, n_last)\n",
    "    if df_result.loc[i]['return'] is None:\n",
    "        print(f'{i}: No buy at all')"
   ]
  },
  {
   "cell_type": "code",
   "execution_count": 23,
   "id": "a5189ff7-2d6f-4f2b-a2e4-3d0e294708eb",
   "metadata": {},
   "outputs": [
    {
     "data": {
      "text/plain": [
       "mean     1.854880\n",
       "min     -3.162596\n",
       "max     16.136710\n",
       "Name: return, dtype: float64"
      ]
     },
     "execution_count": 23,
     "metadata": {},
     "output_type": "execute_result"
    },
    {
     "name": "stdout",
     "output_type": "stream",
     "text": [
      "time: 11.9 ms (started: 2023-02-22 16:58:42 +09:00)\n"
     ]
    }
   ],
   "source": [
    "df_result['return'].agg(['mean','min','max'])"
   ]
  },
  {
   "cell_type": "code",
   "execution_count": 24,
   "id": "9024a295-6be2-4e5e-819f-882e57d04a83",
   "metadata": {},
   "outputs": [
    {
     "name": "stdout",
     "output_type": "stream",
     "text": [
      "time: 8.17 ms (started: 2023-02-22 16:58:42 +09:00)\n"
     ]
    }
   ],
   "source": [
    "df = df_result.set_index('start').loc[:,'return'].to_frame().assign(scenario=scenario)\n",
    "df_compare = pd.concat([df_compare, df]) "
   ]
  },
  {
   "cell_type": "code",
   "execution_count": null,
   "id": "da32fd3e-2d81-4384-8a60-109465930178",
   "metadata": {},
   "outputs": [],
   "source": []
  },
  {
   "cell_type": "code",
   "execution_count": 81,
   "id": "7d53b5a8-4e45-462f-a5f6-d81b66e6feba",
   "metadata": {
    "tags": []
   },
   "outputs": [
    {
     "name": "stdout",
     "output_type": "stream",
     "text": [
      "time: 94.9 ms (started: 2023-02-22 17:25:07 +09:00)\n"
     ]
    }
   ],
   "source": [
    "p = 0.7\n",
    "result = run_backtest(start, df_bt, kwargs_bt, p)"
   ]
  },
  {
   "cell_type": "code",
   "execution_count": 82,
   "id": "a4a217d2-1cf7-4ad3-b296-c0446eb270ef",
   "metadata": {},
   "outputs": [
    {
     "data": {
      "text/plain": [
       " 0    239\n",
       " 1      4\n",
       "-1      2\n",
       "Name: custom, dtype: int64"
      ]
     },
     "execution_count": 82,
     "metadata": {},
     "output_type": "execute_result"
    },
    {
     "name": "stdout",
     "output_type": "stream",
     "text": [
      "time: 23.5 ms (started: 2023-02-22 17:25:08 +09:00)\n"
     ]
    }
   ],
   "source": [
    "result.custom.value_counts()"
   ]
  },
  {
   "cell_type": "code",
   "execution_count": 76,
   "id": "ed11cc54-321a-4f5a-bd64-650302ead4e5",
   "metadata": {},
   "outputs": [
    {
     "data": {
      "text/plain": [
       " 0    229\n",
       " 1     10\n",
       "-1      6\n",
       "Name: custom, dtype: int64"
      ]
     },
     "execution_count": 76,
     "metadata": {},
     "output_type": "execute_result"
    },
    {
     "name": "stdout",
     "output_type": "stream",
     "text": [
      "time: 15.4 ms (started: 2023-02-22 17:24:43 +09:00)\n"
     ]
    }
   ],
   "source": [
    "from datetime import datetime\n",
    "start = datetime.strptime('2018-02-01', '%Y-%m-%d')\n",
    "end = start + timedelta(hold_period)\n",
    "df_bt.loc[start:end].custom.value_counts()\n",
    "#df_bt.custom.value_counts()"
   ]
  },
  {
   "cell_type": "code",
   "execution_count": 74,
   "id": "e7ac80b7-799c-4dfa-bc1e-ba138dc45de1",
   "metadata": {},
   "outputs": [
    {
     "data": {
      "text/html": [
       "<div>\n",
       "<style scoped>\n",
       "    .dataframe tbody tr th:only-of-type {\n",
       "        vertical-align: middle;\n",
       "    }\n",
       "\n",
       "    .dataframe tbody tr th {\n",
       "        vertical-align: top;\n",
       "    }\n",
       "\n",
       "    .dataframe thead th {\n",
       "        text-align: right;\n",
       "    }\n",
       "</style>\n",
       "<table border=\"1\" class=\"dataframe\">\n",
       "  <thead>\n",
       "    <tr style=\"text-align: right;\">\n",
       "      <th></th>\n",
       "      <th>close</th>\n",
       "      <th>custom</th>\n",
       "    </tr>\n",
       "    <tr>\n",
       "      <th>dt</th>\n",
       "      <th></th>\n",
       "      <th></th>\n",
       "    </tr>\n",
       "  </thead>\n",
       "  <tbody>\n",
       "    <tr>\n",
       "      <th>2018-02-07</th>\n",
       "      <td>28262</td>\n",
       "      <td>1</td>\n",
       "    </tr>\n",
       "    <tr>\n",
       "      <th>2018-03-05</th>\n",
       "      <td>27719</td>\n",
       "      <td>1</td>\n",
       "    </tr>\n",
       "    <tr>\n",
       "      <th>2018-03-27</th>\n",
       "      <td>28782</td>\n",
       "      <td>1</td>\n",
       "    </tr>\n",
       "    <tr>\n",
       "      <th>2018-05-17</th>\n",
       "      <td>28725</td>\n",
       "      <td>1</td>\n",
       "    </tr>\n",
       "    <tr>\n",
       "      <th>2018-05-30</th>\n",
       "      <td>28252</td>\n",
       "      <td>1</td>\n",
       "    </tr>\n",
       "    <tr>\n",
       "      <th>2018-06-14</th>\n",
       "      <td>28406</td>\n",
       "      <td>1</td>\n",
       "    </tr>\n",
       "    <tr>\n",
       "      <th>2018-08-13</th>\n",
       "      <td>26539</td>\n",
       "      <td>1</td>\n",
       "    </tr>\n",
       "    <tr>\n",
       "      <th>2018-09-10</th>\n",
       "      <td>26858</td>\n",
       "      <td>1</td>\n",
       "    </tr>\n",
       "    <tr>\n",
       "      <th>2018-10-08</th>\n",
       "      <td>26601</td>\n",
       "      <td>1</td>\n",
       "    </tr>\n",
       "    <tr>\n",
       "      <th>2018-12-10</th>\n",
       "      <td>24380</td>\n",
       "      <td>1</td>\n",
       "    </tr>\n",
       "    <tr>\n",
       "      <th>2019-03-11</th>\n",
       "      <td>25610</td>\n",
       "      <td>1</td>\n",
       "    </tr>\n",
       "    <tr>\n",
       "      <th>2019-03-25</th>\n",
       "      <td>25809</td>\n",
       "      <td>1</td>\n",
       "    </tr>\n",
       "    <tr>\n",
       "      <th>2019-05-08</th>\n",
       "      <td>26105</td>\n",
       "      <td>1</td>\n",
       "    </tr>\n",
       "    <tr>\n",
       "      <th>2019-07-10</th>\n",
       "      <td>25141</td>\n",
       "      <td>1</td>\n",
       "    </tr>\n",
       "    <tr>\n",
       "      <th>2019-07-18</th>\n",
       "      <td>25317</td>\n",
       "      <td>1</td>\n",
       "    </tr>\n",
       "    <tr>\n",
       "      <th>2019-07-29</th>\n",
       "      <td>25098</td>\n",
       "      <td>1</td>\n",
       "    </tr>\n",
       "    <tr>\n",
       "      <th>2019-12-04</th>\n",
       "      <td>25719</td>\n",
       "      <td>1</td>\n",
       "    </tr>\n",
       "    <tr>\n",
       "      <th>2020-02-24</th>\n",
       "      <td>26727</td>\n",
       "      <td>1</td>\n",
       "    </tr>\n",
       "    <tr>\n",
       "      <th>2020-09-25</th>\n",
       "      <td>28995</td>\n",
       "      <td>1</td>\n",
       "    </tr>\n",
       "    <tr>\n",
       "      <th>2020-10-29</th>\n",
       "      <td>29645</td>\n",
       "      <td>1</td>\n",
       "    </tr>\n",
       "    <tr>\n",
       "      <th>2021-03-09</th>\n",
       "      <td>39485</td>\n",
       "      <td>1</td>\n",
       "    </tr>\n",
       "    <tr>\n",
       "      <th>2021-03-19</th>\n",
       "      <td>40098</td>\n",
       "      <td>1</td>\n",
       "    </tr>\n",
       "    <tr>\n",
       "      <th>2021-05-14</th>\n",
       "      <td>40921</td>\n",
       "      <td>1</td>\n",
       "    </tr>\n",
       "    <tr>\n",
       "      <th>2021-07-20</th>\n",
       "      <td>41723</td>\n",
       "      <td>1</td>\n",
       "    </tr>\n",
       "    <tr>\n",
       "      <th>2021-08-11</th>\n",
       "      <td>41420</td>\n",
       "      <td>1</td>\n",
       "    </tr>\n",
       "    <tr>\n",
       "      <th>2021-09-13</th>\n",
       "      <td>39950</td>\n",
       "      <td>1</td>\n",
       "    </tr>\n",
       "    <tr>\n",
       "      <th>2021-09-28</th>\n",
       "      <td>39522</td>\n",
       "      <td>1</td>\n",
       "    </tr>\n",
       "    <tr>\n",
       "      <th>2021-11-11</th>\n",
       "      <td>37712</td>\n",
       "      <td>1</td>\n",
       "    </tr>\n",
       "    <tr>\n",
       "      <th>2021-11-29</th>\n",
       "      <td>37302</td>\n",
       "      <td>1</td>\n",
       "    </tr>\n",
       "  </tbody>\n",
       "</table>\n",
       "</div>"
      ],
      "text/plain": [
       "            close  custom\n",
       "dt                       \n",
       "2018-02-07  28262       1\n",
       "2018-03-05  27719       1\n",
       "2018-03-27  28782       1\n",
       "2018-05-17  28725       1\n",
       "2018-05-30  28252       1\n",
       "2018-06-14  28406       1\n",
       "2018-08-13  26539       1\n",
       "2018-09-10  26858       1\n",
       "2018-10-08  26601       1\n",
       "2018-12-10  24380       1\n",
       "2019-03-11  25610       1\n",
       "2019-03-25  25809       1\n",
       "2019-05-08  26105       1\n",
       "2019-07-10  25141       1\n",
       "2019-07-18  25317       1\n",
       "2019-07-29  25098       1\n",
       "2019-12-04  25719       1\n",
       "2020-02-24  26727       1\n",
       "2020-09-25  28995       1\n",
       "2020-10-29  29645       1\n",
       "2021-03-09  39485       1\n",
       "2021-03-19  40098       1\n",
       "2021-05-14  40921       1\n",
       "2021-07-20  41723       1\n",
       "2021-08-11  41420       1\n",
       "2021-09-13  39950       1\n",
       "2021-09-28  39522       1\n",
       "2021-11-11  37712       1\n",
       "2021-11-29  37302       1"
      ]
     },
     "execution_count": 74,
     "metadata": {},
     "output_type": "execute_result"
    },
    {
     "name": "stdout",
     "output_type": "stream",
     "text": [
      "time: 28 ms (started: 2023-02-22 17:20:46 +09:00)\n"
     ]
    }
   ],
   "source": [
    "df_bt.loc[df_bt.custom > 0]"
   ]
  },
  {
   "cell_type": "code",
   "execution_count": 43,
   "id": "323174f1-e561-4b97-bd48-889c6e7588cd",
   "metadata": {},
   "outputs": [
    {
     "name": "stdout",
     "output_type": "stream",
     "text": [
      "time: 4.34 ms (started: 2023-02-22 17:17:07 +09:00)\n"
     ]
    }
   ],
   "source": []
  },
  {
   "cell_type": "code",
   "execution_count": null,
   "id": "9d71db50-724d-4d9c-a152-8e12ad2125c8",
   "metadata": {},
   "outputs": [],
   "source": []
  },
  {
   "cell_type": "markdown",
   "id": "59d5d32a-e89d-465c-b12b-376d570f6e20",
   "metadata": {},
   "source": [
    "### bactesting 4"
   ]
  },
  {
   "cell_type": "code",
   "execution_count": 28,
   "id": "0c3cfcea-bb61-439f-9b8e-60ebf872f860",
   "metadata": {},
   "outputs": [
    {
     "name": "stdout",
     "output_type": "stream",
     "text": [
      "time: 1.12 ms (started: 2023-02-22 17:09:41 +09:00)\n"
     ]
    }
   ],
   "source": [
    "scenario = 't1d'\n",
    "\n",
    "kwargs_bt.update({\n",
    "    'buy_prop': 1,\n",
    "    'sell_prop': 1\n",
    "})"
   ]
  },
  {
   "cell_type": "code",
   "execution_count": null,
   "id": "7a39302a-e1c0-4ac9-95f7-e854bcbb631a",
   "metadata": {
    "scrolled": true,
    "tags": []
   },
   "outputs": [],
   "source": [
    "df_result = pd.DataFrame(columns=['start', 'end', 'init', 'final', 'return'])\n",
    "print_step = 0.1\n",
    "n_last = 0\n",
    "\n",
    "for i, start in enumerate(dates_start):\n",
    "    df_result.loc[i] = run_backtest(start, df_bt, kwargs_bt)\n",
    "    n_last = print_progress(i, print_step, n_last)\n",
    "    if df_result.loc[i]['return'] is None:\n",
    "        print(f'{i}: No buy at all')"
   ]
  },
  {
   "cell_type": "code",
   "execution_count": null,
   "id": "0e7e8e7a-adf0-4c50-8dfa-9ea1441c959c",
   "metadata": {},
   "outputs": [],
   "source": [
    "df_result['return'].agg(['mean','min','max'])"
   ]
  },
  {
   "cell_type": "code",
   "execution_count": null,
   "id": "47766591-db15-4746-9c8c-0f8120200d68",
   "metadata": {},
   "outputs": [],
   "source": [
    "df = df_result.set_index('start').loc[:,'return'].to_frame().assign(scenario=scenario)\n",
    "df_compare = pd.concat([df_compare, df]) "
   ]
  },
  {
   "cell_type": "markdown",
   "id": "98406267-f8f2-4ba3-8e5c-53a9e120da9c",
   "metadata": {},
   "source": [
    "### compare"
   ]
  },
  {
   "cell_type": "code",
   "execution_count": 27,
   "id": "a8ef1a15-e6d4-403f-96f1-b90a4cfbb26f",
   "metadata": {},
   "outputs": [
    {
     "data": {
      "image/png": "[encoded data removed]",
      "text/plain": [
       "<Figure size 864x360 with 2 Axes>"
      ]
     },
     "metadata": {
      "needs_background": "light"
     },
     "output_type": "display_data"
    },
    {
     "name": "stdout",
     "output_type": "stream",
     "text": [
      "time: 958 ms (started: 2023-02-22 17:07:40 +09:00)\n"
     ]
    }
   ],
   "source": [
    "fig = plt.figure(figsize=(12, 5))\n",
    "fig.suptitle(\"buy & hold for a year\")\n",
    "gs = GridSpec(1, 2, width_ratios=[2, 1])\n",
    "ax1 = fig.add_subplot(gs[0])\n",
    "ax2 = fig.add_subplot(gs[1])\n",
    "\n",
    "_ = sns.lineplot(data=df_compare.reset_index(), x='start', y='return', hue='scenario', ax=ax1)\n",
    "_ = sns.boxplot(data=df_compare.reset_index(), x='scenario', y='return', ax=ax2)"
   ]
  },
  {
   "cell_type": "markdown",
   "id": "64425471-9851-4148-a59b-c136b24bdec8",
   "metadata": {},
   "source": [
    "## SC02: Bollinger Bands"
   ]
  },
  {
   "cell_type": "markdown",
   "id": "5a2f4be4-5d29-4ec3-9351-9334dc9f1242",
   "metadata": {},
   "source": [
    "### calc tech indi"
   ]
  },
  {
   "cell_type": "code",
   "execution_count": 134,
   "id": "71b0850d-a554-43e5-a7da-45a946125929",
   "metadata": {},
   "outputs": [
    {
     "name": "stdout",
     "output_type": "stream",
     "text": [
      "time: 2.69 ms (started: 2023-02-20 16:56:30 +09:00)\n"
     ]
    }
   ],
   "source": [
    "df_bbands = calc_bbands(df_bt['close'])\n",
    "#df_bbands = calc_bbands(df_bt['close'], [20, 1])"
   ]
  },
  {
   "cell_type": "code",
   "execution_count": 128,
   "id": "1b324a16-c636-4eb7-a2cf-7579df37df76",
   "metadata": {},
   "outputs": [
    {
     "name": "stdout",
     "output_type": "stream",
     "text": [
      "time: 4.98 ms (started: 2023-02-20 16:55:04 +09:00)\n"
     ]
    }
   ],
   "source": [
    "df_ti = df_bbands\n",
    "\n",
    "cond = df_bt.close < df_ti.bbands_lower\n",
    "df_bt.loc[cond, 'custom'] = -1\n",
    "\n",
    "cond = df_bt.close > df_ti.bbands_upper\n",
    "df_bt.loc[cond, 'custom'] = 1"
   ]
  },
  {
   "cell_type": "code",
   "execution_count": 129,
   "id": "05c71c93-b55a-44e4-a555-4cad57c74b7c",
   "metadata": {},
   "outputs": [
    {
     "name": "stdout",
     "output_type": "stream",
     "text": [
      "time: 165 ms (started: 2023-02-20 16:55:05 +09:00)\n"
     ]
    }
   ],
   "source": [
    "df_bt = finish_custom(df_bt)"
   ]
  },
  {
   "cell_type": "markdown",
   "id": "5fc5aadf-5278-454f-b6e5-e6ce37ad3a72",
   "metadata": {},
   "source": [
    "### bactesting"
   ]
  },
  {
   "cell_type": "code",
   "execution_count": 121,
   "id": "e58be9f2-9bdb-4d55-add8-0e972d37349e",
   "metadata": {},
   "outputs": [
    {
     "name": "stdout",
     "output_type": "stream",
     "text": [
      "time: 1.16 ms (started: 2023-02-20 16:51:11 +09:00)\n"
     ]
    }
   ],
   "source": [
    "scenario = 't2'\n",
    "n_buy = 50 # krw 200,000 every buy\n",
    "\n",
    "kwargs_bt.update({\n",
    "    'buy_prop': 1/n_buy,\n",
    "})"
   ]
  },
  {
   "cell_type": "code",
   "execution_count": 130,
   "id": "fa05ee7e-686d-4327-baff-f9f7bff1336f",
   "metadata": {},
   "outputs": [
    {
     "name": "stdout",
     "output_type": "stream",
     "text": [
      "10 % done\n",
      "20 % done\n",
      "time: 41.8 s (started: 2023-02-20 16:55:12 +09:00)\n"
     ]
    }
   ],
   "source": [
    "df_result = pd.DataFrame(columns=['start', 'end', 'init', 'final', 'return'])\n",
    "print_step = 0.1\n",
    "n_last = 0\n",
    "\n",
    "for i, start in enumerate(dates_start):\n",
    "    df_result.loc[i] = run_backtest(start, df_bt, kwargs_bt)\n",
    "    n_last = print_progress(i, print_step, n_last)"
   ]
  },
  {
   "cell_type": "code",
   "execution_count": 131,
   "id": "5aeac050-4e23-44b6-9b26-877067909568",
   "metadata": {},
   "outputs": [
    {
     "data": {
      "text/plain": [
       "mean   -0.110801\n",
       "min    -0.406478\n",
       "max    -0.046123\n",
       "Name: return, dtype: float64"
      ]
     },
     "execution_count": 131,
     "metadata": {},
     "output_type": "execute_result"
    },
    {
     "name": "stdout",
     "output_type": "stream",
     "text": [
      "time: 14.5 ms (started: 2023-02-20 16:55:55 +09:00)\n"
     ]
    }
   ],
   "source": [
    "df_result['return'].agg(['mean','min','max'])"
   ]
  },
  {
   "cell_type": "code",
   "execution_count": 132,
   "id": "a43bb680-246e-480c-984b-17550cb0cbbd",
   "metadata": {},
   "outputs": [
    {
     "name": "stdout",
     "output_type": "stream",
     "text": [
      "time: 15.6 ms (started: 2023-02-20 16:55:58 +09:00)\n"
     ]
    }
   ],
   "source": [
    "df = df_result.set_index('start').loc[:,'return'].to_frame().assign(scenario=scenario)\n",
    "df_compare = pd.concat([df_compare, df]) "
   ]
  },
  {
   "cell_type": "markdown",
   "id": "5a88ae83-c99c-4966-aa7a-a29d406f346e",
   "metadata": {},
   "source": [
    "## SC03: Bollinger Bands & MACD"
   ]
  },
  {
   "cell_type": "code",
   "execution_count": 146,
   "id": "d571848a-a8e0-404d-83ee-a0549ac2c6ee",
   "metadata": {},
   "outputs": [
    {
     "name": "stdout",
     "output_type": "stream",
     "text": [
      "time: 4 ms (started: 2023-02-20 17:00:10 +09:00)\n"
     ]
    }
   ],
   "source": [
    "df_macd = calc_macd(df_bt['close'])\n",
    "calc_bbands = calc_macd(df_bt['close'])"
   ]
  },
  {
   "cell_type": "code",
   "execution_count": 147,
   "id": "6ad96a6b-a736-440a-80a5-327bc1135cd6",
   "metadata": {},
   "outputs": [
    {
     "name": "stdout",
     "output_type": "stream",
     "text": [
      "time: 19.4 ms (started: 2023-02-20 17:00:13 +09:00)\n"
     ]
    }
   ],
   "source": [
    "cond = (df_macd.macd > df_macd.macd_signal) & (df_macd.macd > 0)\n",
    "cond = cond + (df_bt.close < df_bbands.bbands_lower)\n",
    "df_bt.loc[cond, 'custom'] = -1\n",
    "\n",
    "cond = (df_macd.macd < df_macd.macd_signal) & (df_macd.macd < 0)\n",
    "cond = cond + (df_bt.close > df_bbands.bbands_lower)\n",
    "df_bt.loc[cond, 'custom'] = 1"
   ]
  },
  {
   "cell_type": "code",
   "execution_count": 148,
   "id": "84d94641-934f-49bc-8f89-1157d12a6e13",
   "metadata": {},
   "outputs": [
    {
     "name": "stdout",
     "output_type": "stream",
     "text": [
      "time: 271 ms (started: 2023-02-20 17:00:15 +09:00)\n"
     ]
    }
   ],
   "source": [
    "df_bt = finish_custom(df_bt)"
   ]
  },
  {
   "cell_type": "markdown",
   "id": "f4b001a9-3f83-4802-9e44-734c12853311",
   "metadata": {},
   "source": [
    "### bactesting"
   ]
  },
  {
   "cell_type": "code",
   "execution_count": 149,
   "id": "4ab20b6d-32ca-46b4-bf5e-4a9b239077c0",
   "metadata": {},
   "outputs": [
    {
     "name": "stdout",
     "output_type": "stream",
     "text": [
      "time: 1.12 ms (started: 2023-02-20 17:00:19 +09:00)\n"
     ]
    }
   ],
   "source": [
    "scenario = 't3'\n",
    "n_buy = 50 # krw 200,000 every buy\n",
    "\n",
    "kwargs_bt.update({\n",
    "    'buy_prop': 1/n_buy,\n",
    "})"
   ]
  },
  {
   "cell_type": "code",
   "execution_count": 150,
   "id": "f60f4b10-a5f6-4d7b-99be-834f6bc5c938",
   "metadata": {},
   "outputs": [
    {
     "name": "stdout",
     "output_type": "stream",
     "text": [
      "10 % done\n",
      "20 % done\n",
      "time: 41.1 s (started: 2023-02-20 17:00:20 +09:00)\n"
     ]
    }
   ],
   "source": [
    "df_result = pd.DataFrame(columns=['start', 'end', 'init', 'final', 'return'])\n",
    "print_step = 0.1\n",
    "n_last = 0\n",
    "\n",
    "for i, start in enumerate(dates_start):\n",
    "    df_result.loc[i] = run_backtest(start, df_bt, kwargs_bt)\n",
    "    n_last = print_progress(i, print_step, n_last)"
   ]
  },
  {
   "cell_type": "code",
   "execution_count": 151,
   "id": "6ee696ea-a4ed-4780-be9e-7cb527354973",
   "metadata": {},
   "outputs": [
    {
     "data": {
      "text/plain": [
       "mean   -0.015555\n",
       "min    -0.029766\n",
       "max     0.008556\n",
       "Name: return, dtype: float64"
      ]
     },
     "execution_count": 151,
     "metadata": {},
     "output_type": "execute_result"
    },
    {
     "name": "stdout",
     "output_type": "stream",
     "text": [
      "time: 20.1 ms (started: 2023-02-20 17:01:01 +09:00)\n"
     ]
    }
   ],
   "source": [
    "df_result['return'].agg(['mean','min','max'])"
   ]
  },
  {
   "cell_type": "code",
   "execution_count": 132,
   "id": "dfa637e5-ba2b-46e8-86f6-dbf10e1d10cc",
   "metadata": {},
   "outputs": [
    {
     "name": "stdout",
     "output_type": "stream",
     "text": [
      "time: 15.6 ms (started: 2023-02-20 16:55:58 +09:00)\n"
     ]
    }
   ],
   "source": [
    "df = df_result.set_index('start').loc[:,'return'].to_frame().assign(scenario=scenario)\n",
    "df_compare = pd.concat([df_compare, df]) "
   ]
  },
  {
   "cell_type": "code",
   "execution_count": 32,
   "id": "cce26ce8-d99d-47bb-a5cc-f9a37251a1ab",
   "metadata": {},
   "outputs": [
    {
     "data": {
      "image/png": "[encoded data removed]",
      "text/plain": [
       "<Figure size 864x360 with 2 Axes>"
      ]
     },
     "metadata": {
      "needs_background": "light"
     },
     "output_type": "display_data"
    },
    {
     "name": "stdout",
     "output_type": "stream",
     "text": [
      "time: 1.21 s (started: 2023-02-20 17:54:16 +09:00)\n"
     ]
    }
   ],
   "source": [
    "fig = plt.figure(figsize=(12, 5))\n",
    "fig.suptitle(\"buy & hold for a year\")\n",
    "gs = GridSpec(1, 2, width_ratios=[2, 1])\n",
    "ax1 = fig.add_subplot(gs[0])\n",
    "ax2 = fig.add_subplot(gs[1])\n",
    "\n",
    "_ = sns.lineplot(data=df_compare.reset_index(), x='start', y='return', hue='scenario', ax=ax1)\n",
    "_ = sns.boxplot(data=df_compare.reset_index(), x='scenario', y='return', ax=ax2)"
   ]
  },
  {
   "cell_type": "markdown",
   "id": "729f4b39-3293-4b23-88ee-3e1fa03a0778",
   "metadata": {},
   "source": [
    "# Comparison"
   ]
  },
  {
   "cell_type": "code",
   "execution_count": 32,
   "id": "42b0eb3b-112e-4281-8cc8-d44cbe16c6ff",
   "metadata": {},
   "outputs": [
    {
     "data": {
      "image/png": "[encoded data removed]",
      "text/plain": [
       "<Figure size 864x360 with 2 Axes>"
      ]
     },
     "metadata": {
      "needs_background": "light"
     },
     "output_type": "display_data"
    },
    {
     "name": "stdout",
     "output_type": "stream",
     "text": [
      "time: 1.21 s (started: 2023-02-20 17:54:16 +09:00)\n"
     ]
    }
   ],
   "source": [
    "fig = plt.figure(figsize=(12, 5))\n",
    "fig.suptitle(\"buy & hold for a year\")\n",
    "gs = GridSpec(1, 2, width_ratios=[2, 1])\n",
    "ax1 = fig.add_subplot(gs[0])\n",
    "ax2 = fig.add_subplot(gs[1])\n",
    "\n",
    "_ = sns.lineplot(data=df_compare.reset_index(), x='start', y='return', hue='scenario', ax=ax1)\n",
    "_ = sns.boxplot(data=df_compare.reset_index(), x='scenario', y='return', ax=ax2)"
   ]
  },
  {
   "cell_type": "code",
   "execution_count": null,
   "id": "a36ea66d-cac1-42d5-9580-3f026117bfdd",
   "metadata": {},
   "outputs": [],
   "source": []
  }
 ],
 "metadata": {
  "kernelspec": {
   "display_name": "Python 3",
   "language": "python",
   "name": "python3"
  },
  "language_info": {
   "codemirror_mode": {
    "name": "ipython",
    "version": 3
   },
   "file_extension": ".py",
   "mimetype": "text/x-python",
   "name": "python",
   "nbconvert_exporter": "python",
   "pygments_lexer": "ipython3",
   "version": "3.9.7"
  }
 },
 "nbformat": 4,
 "nbformat_minor": 5
}
