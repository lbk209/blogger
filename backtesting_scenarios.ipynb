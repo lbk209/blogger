{
 "cells": [
  {
   "cell_type": "code",
   "execution_count": 1,
   "id": "23caba7b-f99a-4b29-99ad-d85f00a905b7",
   "metadata": {},
   "outputs": [],
   "source": [
    "import sys\n",
    "\n",
    "# set lib path just next to current path to give priority to modules in lib\n",
    "sys.path.insert(sys.path.index('')+1, '/lib')"
   ]
  },
  {
   "cell_type": "code",
   "execution_count": 37,
   "id": "a141b869-8b6a-4f6a-bbed-e13eed408874",
   "metadata": {},
   "outputs": [
    {
     "name": "stdout",
     "output_type": "stream",
     "text": [
      "The autotime extension is already loaded. To reload it, use:\n",
      "  %reload_ext autotime\n",
      "time: 1.8 ms (started: 2023-02-20 14:58:56 +09:00)\n"
     ]
    }
   ],
   "source": [
    "%load_ext autotime\n",
    "\n",
    "import pandas as pd\n",
    "import FinanceDataReader as fdr\n",
    "\n",
    "from lib.fastquant import backtest_portfolio\n",
    "from lib.utils import HiddenPrints, DATE_FORMAT\n",
    "from datetime import datetime, timedelta"
   ]
  },
  {
   "cell_type": "code",
   "execution_count": 38,
   "id": "27a6a548-4e13-4533-958e-8a74c4c58c77",
   "metadata": {},
   "outputs": [
    {
     "name": "stdout",
     "output_type": "stream",
     "text": [
      "time: 242 ms (started: 2023-02-20 14:58:56 +09:00)\n"
     ]
    }
   ],
   "source": [
    "start = '20180101'\n",
    "end = '20191231'\n",
    "#end = '20221231'\n",
    "\n",
    "symbol = '069500' # KODEX 200\n",
    "df_all = fdr.DataReader(symbol, start, end)"
   ]
  },
  {
   "cell_type": "markdown",
   "id": "8912ca93-96da-4eef-ac35-cf8410cb5030",
   "metadata": {},
   "source": [
    "# buy & hold"
   ]
  },
  {
   "cell_type": "markdown",
   "id": "139e0445-cba8-46c5-a68a-3645b9685431",
   "metadata": {},
   "source": [
    "## Settings"
   ]
  },
  {
   "cell_type": "code",
   "execution_count": 39,
   "id": "47a5c216-ea9b-41d6-a94c-915e82444774",
   "metadata": {},
   "outputs": [
    {
     "name": "stdout",
     "output_type": "stream",
     "text": [
      "time: 11.6 ms (started: 2023-02-20 14:59:00 +09:00)\n"
     ]
    }
   ],
   "source": [
    "df_bt = (df_all.Close.rename_axis('dt').to_frame('close')\n",
    "               .assign(custom=0))\n",
    "dates_all = df_bt.index"
   ]
  },
  {
   "cell_type": "code",
   "execution_count": 40,
   "id": "69ecda4f-746b-4224-90c9-982c5cb3ff0a",
   "metadata": {},
   "outputs": [
    {
     "name": "stdout",
     "output_type": "stream",
     "text": [
      "time: 4.26 ms (started: 2023-02-20 14:59:01 +09:00)\n"
     ]
    }
   ],
   "source": [
    "hold_period = 365\n",
    "dates_start = df_bt.loc[: dates_all[-1] - timedelta(hold_period)].index\n",
    "n_dates = dates_start.size"
   ]
  },
  {
   "cell_type": "code",
   "execution_count": 41,
   "id": "93adf301-9973-40a3-9b15-3ab79cb0677b",
   "metadata": {},
   "outputs": [
    {
     "name": "stdout",
     "output_type": "stream",
     "text": [
      "time: 1.83 ms (started: 2023-02-20 14:59:01 +09:00)\n"
     ]
    }
   ],
   "source": [
    "def run_backtest(start, df_bt, kwargs):\n",
    "    df = {symbol: df_bt}\n",
    "    end = start + timedelta(hold_period)\n",
    "    with HiddenPrints(mark_end=False):\n",
    "        result = backtest_portfolio('custom', df, start.strftime(DATE_FORMAT), end.strftime(DATE_FORMAT), **kwargs)\n",
    "    return [start, end] + result['summary']\n",
    "\n",
    "def print_progress(i, print_step, last_print):\n",
    "    n = round((i+1) / n_dates * 100)\n",
    "    if n != last_print and n % (print_step*100) == 0:\n",
    "        print(f'{n} % done')\n",
    "        return n\n",
    "    else:\n",
    "        return last_print"
   ]
  },
  {
   "cell_type": "code",
   "execution_count": 42,
   "id": "f157f6aa-ce43-4953-b67d-72456c468125",
   "metadata": {},
   "outputs": [
    {
     "name": "stdout",
     "output_type": "stream",
     "text": [
      "time: 1 ms (started: 2023-02-20 14:59:02 +09:00)\n"
     ]
    }
   ],
   "source": [
    "kwargs_bt = {\n",
    "    'init_cash': 1e7, \n",
    "    'commission': 0.00363960/100,\n",
    "    'verbose': False, \n",
    "    'plot_bp':False,\n",
    "    'buy_prop': 1,\n",
    "    'sell_prop': 1,\n",
    "    'upper_limit':0.1, \n",
    "    'lower_limit':-0.1\n",
    "}"
   ]
  },
  {
   "cell_type": "code",
   "execution_count": 43,
   "id": "a6f5a352-b29f-443b-ab05-65064e7798a2",
   "metadata": {},
   "outputs": [
    {
     "name": "stdout",
     "output_type": "stream",
     "text": [
      "time: 978 µs (started: 2023-02-20 14:59:04 +09:00)\n"
     ]
    }
   ],
   "source": [
    "# testing\n",
    "dates_start = dates_start[:50]"
   ]
  },
  {
   "cell_type": "markdown",
   "id": "c11ddbc1-a117-4d2c-8a61-76d6693b2782",
   "metadata": {},
   "source": [
    "## SC01"
   ]
  },
  {
   "cell_type": "code",
   "execution_count": 9,
   "id": "c3532f4f-177a-424c-b368-0332c0c639a8",
   "metadata": {},
   "outputs": [
    {
     "name": "stdout",
     "output_type": "stream",
     "text": [
      "time: 1.1 ms (started: 2023-02-19 23:52:33 +09:00)\n"
     ]
    }
   ],
   "source": [
    "scenario = 1\n",
    "n_buy = 1\n",
    "\n",
    "kwargs_bt.update({\n",
    "    'buy_prop': 1/n_buy,\n",
    "})"
   ]
  },
  {
   "cell_type": "code",
   "execution_count": 10,
   "id": "cb3257b7-3613-4fa0-b452-314bb862f7bd",
   "metadata": {},
   "outputs": [
    {
     "name": "stdout",
     "output_type": "stream",
     "text": [
      "10 % done\n",
      "20 % done\n",
      "time: 40.9 s (started: 2023-02-19 23:52:34 +09:00)\n"
     ]
    }
   ],
   "source": [
    "df_result = pd.DataFrame(columns=['start', 'end', 'init', 'final', 'return'])\n",
    "print_step = 0.1\n",
    "n_last = 0\n",
    "\n",
    "for i, start in enumerate(dates_start):\n",
    "    df_bt['custom'] = 0 # reset\n",
    "    df_bt.loc[start,'custom'] = -1\n",
    "    \n",
    "    df_result.loc[i] = run_backtest(start, df_bt, kwargs_bt)\n",
    "    \n",
    "    n_last = print_progress(i, print_step, n_last)"
   ]
  },
  {
   "cell_type": "code",
   "execution_count": 11,
   "id": "1b0070bc-84f7-4a88-9af2-0fa1ad05f9c3",
   "metadata": {},
   "outputs": [
    {
     "data": {
      "text/plain": [
       "mean   -11.566873\n",
       "min    -19.743635\n",
       "max     -5.533235\n",
       "Name: return, dtype: float64"
      ]
     },
     "execution_count": 11,
     "metadata": {},
     "output_type": "execute_result"
    },
    {
     "name": "stdout",
     "output_type": "stream",
     "text": [
      "time: 22.8 ms (started: 2023-02-19 23:53:15 +09:00)\n"
     ]
    }
   ],
   "source": [
    "df_result['return'].agg(['mean','min','max'])"
   ]
  },
  {
   "cell_type": "code",
   "execution_count": 12,
   "id": "1ec190b8-9722-4725-bfec-9576afa2b903",
   "metadata": {},
   "outputs": [
    {
     "name": "stdout",
     "output_type": "stream",
     "text": [
      "time: 11.4 ms (started: 2023-02-19 23:53:15 +09:00)\n"
     ]
    }
   ],
   "source": [
    "df_compare = df_result.set_index('start').loc[:,'return'].to_frame().assign(scenario=scenario)"
   ]
  },
  {
   "cell_type": "markdown",
   "id": "ceed01cf-7d9e-4172-aca0-6fb0d1134fe4",
   "metadata": {},
   "source": [
    "## SC02"
   ]
  },
  {
   "cell_type": "code",
   "execution_count": 13,
   "id": "7fbbdb66-80c2-440f-93f5-b63e8eaeff8c",
   "metadata": {},
   "outputs": [
    {
     "name": "stdout",
     "output_type": "stream",
     "text": [
      "time: 1.33 ms (started: 2023-02-19 23:53:15 +09:00)\n"
     ]
    }
   ],
   "source": [
    "scenario = 2\n",
    "n_buy = 10\n",
    "\n",
    "kwargs_bt.update({\n",
    "    'buy_prop': 1/n_buy,\n",
    "})"
   ]
  },
  {
   "cell_type": "code",
   "execution_count": 14,
   "id": "2bd4a84b-8251-4f00-abdf-c0e97d50ccaa",
   "metadata": {},
   "outputs": [
    {
     "name": "stdout",
     "output_type": "stream",
     "text": [
      "10 % done\n",
      "20 % done\n",
      "time: 42.7 s (started: 2023-02-19 23:53:15 +09:00)\n"
     ]
    }
   ],
   "source": [
    "df_result = pd.DataFrame(columns=['start', 'end', 'init', 'final', 'return'])\n",
    "print_step = 0.1\n",
    "n_last = 0\n",
    "\n",
    "period = 20\n",
    "\n",
    "for i, start in enumerate(dates_start):\n",
    "    df_bt['custom'] = 0 # reset\n",
    "    dt = dates_all[[i + x*period for x in range(n_buy)]]\n",
    "    df_bt.loc[dt,'custom'] = -1\n",
    "    \n",
    "    df_result.loc[i] = run_backtest(start, df_bt, kwargs_bt)\n",
    "    \n",
    "    n_last = print_progress(i, print_step, n_last)"
   ]
  },
  {
   "cell_type": "code",
   "execution_count": 15,
   "id": "b1ca26bc-4767-41b8-bdf1-f3d80a44846c",
   "metadata": {},
   "outputs": [
    {
     "data": {
      "text/plain": [
       "mean    -4.837210\n",
       "min    -10.521555\n",
       "max     -1.752492\n",
       "Name: return, dtype: float64"
      ]
     },
     "execution_count": 15,
     "metadata": {},
     "output_type": "execute_result"
    },
    {
     "name": "stdout",
     "output_type": "stream",
     "text": [
      "time: 15.6 ms (started: 2023-02-19 23:53:58 +09:00)\n"
     ]
    }
   ],
   "source": [
    "df_result['return'].agg(['mean','min','max'])"
   ]
  },
  {
   "cell_type": "code",
   "execution_count": 16,
   "id": "b2c50990-5ae6-46fe-8f10-36d9d2cc4875",
   "metadata": {},
   "outputs": [
    {
     "name": "stdout",
     "output_type": "stream",
     "text": [
      "time: 13 ms (started: 2023-02-19 23:53:58 +09:00)\n"
     ]
    }
   ],
   "source": [
    "df = df_result.set_index('start').loc[:,'return'].to_frame().assign(scenario=scenario)\n",
    "df_compare = pd.concat([df_compare, df]) "
   ]
  },
  {
   "cell_type": "markdown",
   "id": "ed7bbf40-ec2b-4f9a-ba91-329345ca8bb8",
   "metadata": {},
   "source": [
    "## SC03"
   ]
  },
  {
   "cell_type": "code",
   "execution_count": 17,
   "id": "20afb37d-4747-4530-a777-08e45e65e50a",
   "metadata": {},
   "outputs": [
    {
     "name": "stdout",
     "output_type": "stream",
     "text": [
      "time: 1.12 ms (started: 2023-02-19 23:53:58 +09:00)\n"
     ]
    }
   ],
   "source": [
    "scenario = 3\n",
    "n_buy = 20\n",
    "\n",
    "kwargs_bt.update({\n",
    "    'buy_prop': 1/n_buy,\n",
    "})"
   ]
  },
  {
   "cell_type": "code",
   "execution_count": 18,
   "id": "bc344817-e61f-480b-8e34-f2f351f1a1b6",
   "metadata": {},
   "outputs": [
    {
     "name": "stdout",
     "output_type": "stream",
     "text": [
      "10 % done\n",
      "20 % done\n",
      "time: 42.6 s (started: 2023-02-19 23:53:58 +09:00)\n"
     ]
    }
   ],
   "source": [
    "df_result = pd.DataFrame(columns=['start', 'end', 'init', 'final', 'return'])\n",
    "print_step = 0.1\n",
    "n_last = 0\n",
    "\n",
    "period = 10\n",
    "\n",
    "for i, start in enumerate(dates_start):\n",
    "    df_bt['custom'] = 0 # reset\n",
    "    dt = dates_all[[i + x*period for x in range(n_buy)]]\n",
    "    df_bt.loc[dt,'custom'] = -1\n",
    "    \n",
    "    df_result.loc[i] = run_backtest(start, df_bt, kwargs_bt)\n",
    "    \n",
    "    n_last = print_progress(i, print_step, n_last)"
   ]
  },
  {
   "cell_type": "code",
   "execution_count": 19,
   "id": "2f1ceb69-326a-45d0-bca9-8b2437b53a27",
   "metadata": {},
   "outputs": [
    {
     "data": {
      "text/plain": [
       "mean   -4.461819\n",
       "min    -9.894740\n",
       "max    -1.633529\n",
       "Name: return, dtype: float64"
      ]
     },
     "execution_count": 19,
     "metadata": {},
     "output_type": "execute_result"
    },
    {
     "name": "stdout",
     "output_type": "stream",
     "text": [
      "time: 11.3 ms (started: 2023-02-19 23:54:40 +09:00)\n"
     ]
    }
   ],
   "source": [
    "df_result['return'].agg(['mean','min','max'])"
   ]
  },
  {
   "cell_type": "code",
   "execution_count": 20,
   "id": "f89bdc9e-e05d-4510-8300-b07d5ce8e389",
   "metadata": {},
   "outputs": [
    {
     "name": "stdout",
     "output_type": "stream",
     "text": [
      "time: 16.5 ms (started: 2023-02-19 23:54:40 +09:00)\n"
     ]
    }
   ],
   "source": [
    "df = df_result.set_index('start').loc[:,'return'].to_frame().assign(scenario=scenario)\n",
    "df_compare = pd.concat([df_compare, df]) "
   ]
  },
  {
   "cell_type": "code",
   "execution_count": 25,
   "id": "ae491d9d-c80b-4916-89eb-b8bcff6122ca",
   "metadata": {
    "tags": []
   },
   "outputs": [
    {
     "data": {
      "image/png": "[encoded data removed]",
      "text/plain": [
       "<Figure size 864x360 with 2 Axes>"
      ]
     },
     "metadata": {
      "needs_background": "light"
     },
     "output_type": "display_data"
    },
    {
     "name": "stdout",
     "output_type": "stream",
     "text": [
      "time: 987 ms (started: 2023-02-19 23:58:45 +09:00)\n"
     ]
    }
   ],
   "source": [
    "from matplotlib import pyplot as plt\n",
    "import seaborn as sns\n",
    "\n",
    "fig, (ax1, ax2) = plt.subplots(1,2, figsize=(12,5))\n",
    "_ = sns.lineplot(data=df_compare.reset_index(), x='start', y='return', hue='scenario', ax=ax1)\n",
    "_ = sns.boxplot(data=df_compare.reset_index(), x='scenario', y='return', ax=ax2)"
   ]
  },
  {
   "cell_type": "markdown",
   "id": "f5a88073-349f-42e9-9c2c-30c79ee61f80",
   "metadata": {},
   "source": [
    "# Technical Indicator"
   ]
  },
  {
   "cell_type": "code",
   "execution_count": 18,
   "id": "c46e0f2b-b87f-4acb-abd2-de65372a8814",
   "metadata": {},
   "outputs": [
    {
     "name": "stdout",
     "output_type": "stream",
     "text": [
      "time: 19.3 ms (started: 2023-02-20 14:52:57 +09:00)\n"
     ]
    }
   ],
   "source": [
    "import tulipy as ti\n",
    "import numpy as np\n",
    "\n",
    "# https://tulipindicators.org/macd\n",
    "# https://finance.naver.com/item/fchart.naver?code=069500\n",
    "\n",
    "# https://github.com/lbk209/mypackage/blob/main/flowers.py"
   ]
  },
  {
   "cell_type": "code",
   "execution_count": 51,
   "id": "07fb5b1c-d1fd-4439-8959-554cfd00e305",
   "metadata": {
    "tags": []
   },
   "outputs": [
    {
     "name": "stdout",
     "output_type": "stream",
     "text": [
      "time: 9.95 ms (started: 2023-02-20 00:35:22 +09:00)\n"
     ]
    }
   ],
   "source": [
    "ind = ti.macd(df_bt['close'].astype(float).to_numpy(), *[12,26,9])\n",
    "\n",
    "name = 'macd'\n",
    "cols = [name, name+'_signal', name+'_histogram']\n",
    "index_size = len(df_bt.index)\n",
    "indi = np.full((len(cols), index_size), np.nan)\n",
    "\n",
    "indi[:, index_size-ind[0].size:] = ind\n",
    "df = pd.DataFrame(dict(zip(cols, indi)), index=df_bt.index)"
   ]
  },
  {
   "cell_type": "code",
   "execution_count": 55,
   "id": "65d808fd-2e00-4bbe-a6e5-466425a5246c",
   "metadata": {},
   "outputs": [
    {
     "data": {
      "text/html": [
       "<div>\n",
       "<style scoped>\n",
       "    .dataframe tbody tr th:only-of-type {\n",
       "        vertical-align: middle;\n",
       "    }\n",
       "\n",
       "    .dataframe tbody tr th {\n",
       "        vertical-align: top;\n",
       "    }\n",
       "\n",
       "    .dataframe thead th {\n",
       "        text-align: right;\n",
       "    }\n",
       "</style>\n",
       "<table border=\"1\" class=\"dataframe\">\n",
       "  <thead>\n",
       "    <tr style=\"text-align: right;\">\n",
       "      <th></th>\n",
       "      <th>macd</th>\n",
       "      <th>macd_signal</th>\n",
       "      <th>macd_histogram</th>\n",
       "    </tr>\n",
       "    <tr>\n",
       "      <th>dt</th>\n",
       "      <th></th>\n",
       "      <th></th>\n",
       "      <th></th>\n",
       "    </tr>\n",
       "  </thead>\n",
       "  <tbody>\n",
       "    <tr>\n",
       "      <th>2019-12-02</th>\n",
       "      <td>51.060887</td>\n",
       "      <td>142.310034</td>\n",
       "      <td>-91.249147</td>\n",
       "    </tr>\n",
       "    <tr>\n",
       "      <th>2019-12-03</th>\n",
       "      <td>15.282738</td>\n",
       "      <td>116.904575</td>\n",
       "      <td>-101.621836</td>\n",
       "    </tr>\n",
       "    <tr>\n",
       "      <th>2019-12-04</th>\n",
       "      <td>-25.919762</td>\n",
       "      <td>88.339707</td>\n",
       "      <td>-114.259469</td>\n",
       "    </tr>\n",
       "    <tr>\n",
       "      <th>2019-12-05</th>\n",
       "      <td>-62.523631</td>\n",
       "      <td>58.167040</td>\n",
       "      <td>-120.690670</td>\n",
       "    </tr>\n",
       "    <tr>\n",
       "      <th>2019-12-06</th>\n",
       "      <td>-68.325032</td>\n",
       "      <td>32.868625</td>\n",
       "      <td>-101.193657</td>\n",
       "    </tr>\n",
       "    <tr>\n",
       "      <th>2019-12-09</th>\n",
       "      <td>-63.267726</td>\n",
       "      <td>13.641355</td>\n",
       "      <td>-76.909082</td>\n",
       "    </tr>\n",
       "    <tr>\n",
       "      <th>2019-12-10</th>\n",
       "      <td>-48.679658</td>\n",
       "      <td>1.177152</td>\n",
       "      <td>-49.856811</td>\n",
       "    </tr>\n",
       "    <tr>\n",
       "      <th>2019-12-11</th>\n",
       "      <td>-29.012144</td>\n",
       "      <td>-4.860707</td>\n",
       "      <td>-24.151437</td>\n",
       "    </tr>\n",
       "    <tr>\n",
       "      <th>2019-12-12</th>\n",
       "      <td>22.552826</td>\n",
       "      <td>0.622000</td>\n",
       "      <td>21.930827</td>\n",
       "    </tr>\n",
       "    <tr>\n",
       "      <th>2019-12-13</th>\n",
       "      <td>94.117065</td>\n",
       "      <td>19.321013</td>\n",
       "      <td>74.796052</td>\n",
       "    </tr>\n",
       "    <tr>\n",
       "      <th>2019-12-16</th>\n",
       "      <td>148.650630</td>\n",
       "      <td>45.186936</td>\n",
       "      <td>103.463694</td>\n",
       "    </tr>\n",
       "    <tr>\n",
       "      <th>2019-12-17</th>\n",
       "      <td>217.980327</td>\n",
       "      <td>79.745614</td>\n",
       "      <td>138.234712</td>\n",
       "    </tr>\n",
       "    <tr>\n",
       "      <th>2019-12-18</th>\n",
       "      <td>269.663522</td>\n",
       "      <td>117.729196</td>\n",
       "      <td>151.934326</td>\n",
       "    </tr>\n",
       "    <tr>\n",
       "      <th>2019-12-19</th>\n",
       "      <td>309.440719</td>\n",
       "      <td>156.071500</td>\n",
       "      <td>153.369219</td>\n",
       "    </tr>\n",
       "    <tr>\n",
       "      <th>2019-12-20</th>\n",
       "      <td>341.809332</td>\n",
       "      <td>193.219067</td>\n",
       "      <td>148.590266</td>\n",
       "    </tr>\n",
       "    <tr>\n",
       "      <th>2019-12-23</th>\n",
       "      <td>363.113800</td>\n",
       "      <td>227.198013</td>\n",
       "      <td>135.915786</td>\n",
       "    </tr>\n",
       "    <tr>\n",
       "      <th>2019-12-24</th>\n",
       "      <td>362.429407</td>\n",
       "      <td>254.244292</td>\n",
       "      <td>108.185115</td>\n",
       "    </tr>\n",
       "    <tr>\n",
       "      <th>2019-12-26</th>\n",
       "      <td>366.213972</td>\n",
       "      <td>276.638228</td>\n",
       "      <td>89.575744</td>\n",
       "    </tr>\n",
       "    <tr>\n",
       "      <th>2019-12-27</th>\n",
       "      <td>395.219680</td>\n",
       "      <td>300.354518</td>\n",
       "      <td>94.865161</td>\n",
       "    </tr>\n",
       "    <tr>\n",
       "      <th>2019-12-30</th>\n",
       "      <td>406.229196</td>\n",
       "      <td>321.529454</td>\n",
       "      <td>84.699742</td>\n",
       "    </tr>\n",
       "  </tbody>\n",
       "</table>\n",
       "</div>"
      ],
      "text/plain": [
       "                  macd  macd_signal  macd_histogram\n",
       "dt                                                 \n",
       "2019-12-02   51.060887   142.310034      -91.249147\n",
       "2019-12-03   15.282738   116.904575     -101.621836\n",
       "2019-12-04  -25.919762    88.339707     -114.259469\n",
       "2019-12-05  -62.523631    58.167040     -120.690670\n",
       "2019-12-06  -68.325032    32.868625     -101.193657\n",
       "2019-12-09  -63.267726    13.641355      -76.909082\n",
       "2019-12-10  -48.679658     1.177152      -49.856811\n",
       "2019-12-11  -29.012144    -4.860707      -24.151437\n",
       "2019-12-12   22.552826     0.622000       21.930827\n",
       "2019-12-13   94.117065    19.321013       74.796052\n",
       "2019-12-16  148.650630    45.186936      103.463694\n",
       "2019-12-17  217.980327    79.745614      138.234712\n",
       "2019-12-18  269.663522   117.729196      151.934326\n",
       "2019-12-19  309.440719   156.071500      153.369219\n",
       "2019-12-20  341.809332   193.219067      148.590266\n",
       "2019-12-23  363.113800   227.198013      135.915786\n",
       "2019-12-24  362.429407   254.244292      108.185115\n",
       "2019-12-26  366.213972   276.638228       89.575744\n",
       "2019-12-27  395.219680   300.354518       94.865161\n",
       "2019-12-30  406.229196   321.529454       84.699742"
      ]
     },
     "execution_count": 55,
     "metadata": {},
     "output_type": "execute_result"
    },
    {
     "name": "stdout",
     "output_type": "stream",
     "text": [
      "time: 40.6 ms (started: 2023-02-20 00:36:45 +09:00)\n"
     ]
    }
   ],
   "source": [
    "#df.macd.plot()\n",
    "df.loc['2019-12']"
   ]
  },
  {
   "cell_type": "code",
   "execution_count": 32,
   "id": "c4669eed-2def-485b-ba8e-270365d28cae",
   "metadata": {},
   "outputs": [
    {
     "name": "stdout",
     "output_type": "stream",
     "text": [
      "time: 1.38 ms (started: 2023-02-20 14:57:26 +09:00)\n"
     ]
    }
   ],
   "source": [
    "def calc_macd(df, periods=[12,26,9]):\n",
    "    ind = ti.macd(df.astype(float).to_numpy(), *periods)\n",
    "\n",
    "    name = 'macd'\n",
    "    cols = [name, name+'_signal', name+'_histogram']\n",
    "    \n",
    "    index_size = len(df.index)\n",
    "    indi = np.full((len(cols), index_size), np.nan)\n",
    "    indi[:, index_size-ind[0].size:] = ind\n",
    "    \n",
    "    return pd.DataFrame(dict(zip(cols, indi)), index=df.index)"
   ]
  },
  {
   "cell_type": "code",
   "execution_count": 28,
   "id": "b00e6c6d-7c74-4e2b-933a-a6f295bf83a1",
   "metadata": {},
   "outputs": [
    {
     "data": {
      "text/html": [
       "<div>\n",
       "<style scoped>\n",
       "    .dataframe tbody tr th:only-of-type {\n",
       "        vertical-align: middle;\n",
       "    }\n",
       "\n",
       "    .dataframe tbody tr th {\n",
       "        vertical-align: top;\n",
       "    }\n",
       "\n",
       "    .dataframe thead th {\n",
       "        text-align: right;\n",
       "    }\n",
       "</style>\n",
       "<table border=\"1\" class=\"dataframe\">\n",
       "  <thead>\n",
       "    <tr style=\"text-align: right;\">\n",
       "      <th></th>\n",
       "      <th>input</th>\n",
       "    </tr>\n",
       "    <tr>\n",
       "      <th>date</th>\n",
       "      <th></th>\n",
       "    </tr>\n",
       "  </thead>\n",
       "  <tbody>\n",
       "    <tr>\n",
       "      <th>2005-11-01</th>\n",
       "      <td>81.59</td>\n",
       "    </tr>\n",
       "    <tr>\n",
       "      <th>2005-11-02</th>\n",
       "      <td>81.06</td>\n",
       "    </tr>\n",
       "    <tr>\n",
       "      <th>2005-11-03</th>\n",
       "      <td>82.87</td>\n",
       "    </tr>\n",
       "    <tr>\n",
       "      <th>2005-11-04</th>\n",
       "      <td>83.00</td>\n",
       "    </tr>\n",
       "    <tr>\n",
       "      <th>2005-11-07</th>\n",
       "      <td>83.61</td>\n",
       "    </tr>\n",
       "    <tr>\n",
       "      <th>2005-11-08</th>\n",
       "      <td>83.15</td>\n",
       "    </tr>\n",
       "    <tr>\n",
       "      <th>2005-11-09</th>\n",
       "      <td>82.84</td>\n",
       "    </tr>\n",
       "    <tr>\n",
       "      <th>2005-11-10</th>\n",
       "      <td>83.99</td>\n",
       "    </tr>\n",
       "    <tr>\n",
       "      <th>2005-11-11</th>\n",
       "      <td>84.55</td>\n",
       "    </tr>\n",
       "    <tr>\n",
       "      <th>2005-11-14</th>\n",
       "      <td>84.36</td>\n",
       "    </tr>\n",
       "    <tr>\n",
       "      <th>2005-11-15</th>\n",
       "      <td>85.53</td>\n",
       "    </tr>\n",
       "    <tr>\n",
       "      <th>2005-11-16</th>\n",
       "      <td>86.54</td>\n",
       "    </tr>\n",
       "    <tr>\n",
       "      <th>2005-11-17</th>\n",
       "      <td>86.89</td>\n",
       "    </tr>\n",
       "    <tr>\n",
       "      <th>2005-11-18</th>\n",
       "      <td>87.77</td>\n",
       "    </tr>\n",
       "    <tr>\n",
       "      <th>2005-11-21</th>\n",
       "      <td>87.29</td>\n",
       "    </tr>\n",
       "  </tbody>\n",
       "</table>\n",
       "</div>"
      ],
      "text/plain": [
       "            input\n",
       "date             \n",
       "2005-11-01  81.59\n",
       "2005-11-02  81.06\n",
       "2005-11-03  82.87\n",
       "2005-11-04  83.00\n",
       "2005-11-07  83.61\n",
       "2005-11-08  83.15\n",
       "2005-11-09  82.84\n",
       "2005-11-10  83.99\n",
       "2005-11-11  84.55\n",
       "2005-11-14  84.36\n",
       "2005-11-15  85.53\n",
       "2005-11-16  86.54\n",
       "2005-11-17  86.89\n",
       "2005-11-18  87.77\n",
       "2005-11-21  87.29"
      ]
     },
     "execution_count": 28,
     "metadata": {},
     "output_type": "execute_result"
    },
    {
     "name": "stdout",
     "output_type": "stream",
     "text": [
      "time: 47.6 ms (started: 2023-02-20 14:56:10 +09:00)\n"
     ]
    }
   ],
   "source": [
    "#df = pd.read_csv('tmp_data.csv', sep='\\t', names=['date','input']).set_index('date')\n",
    "df = pd.read_csv('tmp_data.csv', sep='\\t', names=['date','input'], index_col=0, parse_dates=['date'])\n",
    "df"
   ]
  },
  {
   "cell_type": "code",
   "execution_count": 49,
   "id": "3a7e30f1-d4d0-4b97-a107-4d3ffeff9644",
   "metadata": {},
   "outputs": [
    {
     "data": {
      "text/html": [
       "<div>\n",
       "<style scoped>\n",
       "    .dataframe tbody tr th:only-of-type {\n",
       "        vertical-align: middle;\n",
       "    }\n",
       "\n",
       "    .dataframe tbody tr th {\n",
       "        vertical-align: top;\n",
       "    }\n",
       "\n",
       "    .dataframe thead th {\n",
       "        text-align: right;\n",
       "    }\n",
       "</style>\n",
       "<table border=\"1\" class=\"dataframe\">\n",
       "  <thead>\n",
       "    <tr style=\"text-align: right;\">\n",
       "      <th></th>\n",
       "      <th>macd</th>\n",
       "      <th>macd_signal</th>\n",
       "      <th>macd_histogram</th>\n",
       "    </tr>\n",
       "    <tr>\n",
       "      <th>date</th>\n",
       "      <th></th>\n",
       "      <th></th>\n",
       "      <th></th>\n",
       "    </tr>\n",
       "  </thead>\n",
       "  <tbody>\n",
       "    <tr>\n",
       "      <th>2005-11-01</th>\n",
       "      <td>NaN</td>\n",
       "      <td>NaN</td>\n",
       "      <td>NaN</td>\n",
       "    </tr>\n",
       "    <tr>\n",
       "      <th>2005-11-02</th>\n",
       "      <td>NaN</td>\n",
       "      <td>NaN</td>\n",
       "      <td>NaN</td>\n",
       "    </tr>\n",
       "    <tr>\n",
       "      <th>2005-11-03</th>\n",
       "      <td>NaN</td>\n",
       "      <td>NaN</td>\n",
       "      <td>NaN</td>\n",
       "    </tr>\n",
       "    <tr>\n",
       "      <th>2005-11-04</th>\n",
       "      <td>NaN</td>\n",
       "      <td>NaN</td>\n",
       "      <td>NaN</td>\n",
       "    </tr>\n",
       "    <tr>\n",
       "      <th>2005-11-07</th>\n",
       "      <td>0.617778</td>\n",
       "      <td>0.617778</td>\n",
       "      <td>0.000000</td>\n",
       "    </tr>\n",
       "    <tr>\n",
       "      <th>2005-11-08</th>\n",
       "      <td>0.351276</td>\n",
       "      <td>0.564477</td>\n",
       "      <td>-0.213202</td>\n",
       "    </tr>\n",
       "    <tr>\n",
       "      <th>2005-11-09</th>\n",
       "      <td>0.110658</td>\n",
       "      <td>0.473714</td>\n",
       "      <td>-0.363055</td>\n",
       "    </tr>\n",
       "    <tr>\n",
       "      <th>2005-11-10</th>\n",
       "      <td>0.415930</td>\n",
       "      <td>0.462157</td>\n",
       "      <td>-0.046226</td>\n",
       "    </tr>\n",
       "    <tr>\n",
       "      <th>2005-11-11</th>\n",
       "      <td>0.578006</td>\n",
       "      <td>0.485327</td>\n",
       "      <td>0.092680</td>\n",
       "    </tr>\n",
       "    <tr>\n",
       "      <th>2005-11-14</th>\n",
       "      <td>0.422244</td>\n",
       "      <td>0.472710</td>\n",
       "      <td>-0.050466</td>\n",
       "    </tr>\n",
       "    <tr>\n",
       "      <th>2005-11-15</th>\n",
       "      <td>0.683798</td>\n",
       "      <td>0.514928</td>\n",
       "      <td>0.168870</td>\n",
       "    </tr>\n",
       "    <tr>\n",
       "      <th>2005-11-16</th>\n",
       "      <td>0.926633</td>\n",
       "      <td>0.597269</td>\n",
       "      <td>0.329364</td>\n",
       "    </tr>\n",
       "    <tr>\n",
       "      <th>2005-11-17</th>\n",
       "      <td>0.891344</td>\n",
       "      <td>0.656084</td>\n",
       "      <td>0.235260</td>\n",
       "    </tr>\n",
       "    <tr>\n",
       "      <th>2005-11-18</th>\n",
       "      <td>0.978759</td>\n",
       "      <td>0.720619</td>\n",
       "      <td>0.258140</td>\n",
       "    </tr>\n",
       "    <tr>\n",
       "      <th>2005-11-21</th>\n",
       "      <td>0.620683</td>\n",
       "      <td>0.700632</td>\n",
       "      <td>-0.079949</td>\n",
       "    </tr>\n",
       "  </tbody>\n",
       "</table>\n",
       "</div>"
      ],
      "text/plain": [
       "                macd  macd_signal  macd_histogram\n",
       "date                                             \n",
       "2005-11-01       NaN          NaN             NaN\n",
       "2005-11-02       NaN          NaN             NaN\n",
       "2005-11-03       NaN          NaN             NaN\n",
       "2005-11-04       NaN          NaN             NaN\n",
       "2005-11-07  0.617778     0.617778        0.000000\n",
       "2005-11-08  0.351276     0.564477       -0.213202\n",
       "2005-11-09  0.110658     0.473714       -0.363055\n",
       "2005-11-10  0.415930     0.462157       -0.046226\n",
       "2005-11-11  0.578006     0.485327        0.092680\n",
       "2005-11-14  0.422244     0.472710       -0.050466\n",
       "2005-11-15  0.683798     0.514928        0.168870\n",
       "2005-11-16  0.926633     0.597269        0.329364\n",
       "2005-11-17  0.891344     0.656084        0.235260\n",
       "2005-11-18  0.978759     0.720619        0.258140\n",
       "2005-11-21  0.620683     0.700632       -0.079949"
      ]
     },
     "execution_count": 49,
     "metadata": {},
     "output_type": "execute_result"
    },
    {
     "name": "stdout",
     "output_type": "stream",
     "text": [
      "time: 35.1 ms (started: 2023-02-20 15:01:23 +09:00)\n"
     ]
    }
   ],
   "source": [
    "calc_macd(df['input'], [2,5,9])"
   ]
  },
  {
   "cell_type": "code",
   "execution_count": null,
   "id": "6f06d357-df0b-4767-8c7c-7b9348923cec",
   "metadata": {},
   "outputs": [],
   "source": []
  }
 ],
 "metadata": {
  "kernelspec": {
   "display_name": "Python 3",
   "language": "python",
   "name": "python3"
  },
  "language_info": {
   "codemirror_mode": {
    "name": "ipython",
    "version": 3
   },
   "file_extension": ".py",
   "mimetype": "text/x-python",
   "name": "python",
   "nbconvert_exporter": "python",
   "pygments_lexer": "ipython3",
   "version": "3.9.7"
  }
 },
 "nbformat": 4,
 "nbformat_minor": 5
}
