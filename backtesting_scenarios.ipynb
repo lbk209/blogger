{
 "cells": [
  {
   "cell_type": "markdown",
   "id": "fe200c70-7f64-4b42-921b-4dbf19ae3700",
   "metadata": {},
   "source": [
    "# Settings"
   ]
  },
  {
   "cell_type": "code",
   "execution_count": 1,
   "id": "23caba7b-f99a-4b29-99ad-d85f00a905b7",
   "metadata": {},
   "outputs": [],
   "source": [
    "import sys\n",
    "\n",
    "# set lib path just next to current path to give priority to modules in lib\n",
    "sys.path.insert(sys.path.index('')+1, '/lib')"
   ]
  },
  {
   "cell_type": "code",
   "execution_count": 2,
   "id": "a141b869-8b6a-4f6a-bbed-e13eed408874",
   "metadata": {},
   "outputs": [
    {
     "name": "stdout",
     "output_type": "stream",
     "text": [
      "time: 8.05 s (started: 2023-02-20 17:01:44 +09:00)\n"
     ]
    }
   ],
   "source": [
    "%load_ext autotime\n",
    "\n",
    "import pandas as pd\n",
    "import FinanceDataReader as fdr\n",
    "\n",
    "from lib.fastquant import backtest_portfolio\n",
    "from lib.utils import HiddenPrints, DATE_FORMAT\n",
    "from datetime import datetime, timedelta\n",
    "\n",
    "from matplotlib import pyplot as plt\n",
    "import seaborn as sns"
   ]
  },
  {
   "cell_type": "code",
   "execution_count": 3,
   "id": "27a6a548-4e13-4533-958e-8a74c4c58c77",
   "metadata": {},
   "outputs": [
    {
     "name": "stdout",
     "output_type": "stream",
     "text": [
      "time: 252 ms (started: 2023-02-20 17:01:52 +09:00)\n"
     ]
    }
   ],
   "source": [
    "start = '20180101'\n",
    "#end = '20191231'\n",
    "end = '20221231'\n",
    "\n",
    "symbol = '069500' # KODEX 200\n",
    "df_all = fdr.DataReader(symbol, start, end)"
   ]
  },
  {
   "cell_type": "code",
   "execution_count": 4,
   "id": "93adf301-9973-40a3-9b15-3ab79cb0677b",
   "metadata": {},
   "outputs": [
    {
     "name": "stdout",
     "output_type": "stream",
     "text": [
      "time: 1.7 ms (started: 2023-02-20 17:01:52 +09:00)\n"
     ]
    }
   ],
   "source": [
    "def run_backtest(start, df_bt, kwargs, strategy='custom'):\n",
    "    df = {symbol: df_bt}\n",
    "    end = start + timedelta(hold_period)\n",
    "    with HiddenPrints(mark_end=False):\n",
    "        result = backtest_portfolio(strategy, df, start.strftime(DATE_FORMAT), end.strftime(DATE_FORMAT), **kwargs)\n",
    "    return [start, end] + result['summary']\n",
    "\n",
    "def print_progress(i, print_step, last_print):\n",
    "    n = round((i+1) / n_dates * 100)\n",
    "    if n != last_print and n % (print_step*100) == 0:\n",
    "        print(f'{n} % done')\n",
    "        return n\n",
    "    else:\n",
    "        return last_print"
   ]
  },
  {
   "cell_type": "code",
   "execution_count": 5,
   "id": "d5f1c908-9c66-493a-bd3e-9c6751f5a9a7",
   "metadata": {},
   "outputs": [
    {
     "name": "stdout",
     "output_type": "stream",
     "text": [
      "time: 2.14 ms (started: 2023-02-20 17:01:56 +09:00)\n"
     ]
    }
   ],
   "source": [
    "df_compare = pd.DataFrame()"
   ]
  },
  {
   "cell_type": "markdown",
   "id": "8912ca93-96da-4eef-ac35-cf8410cb5030",
   "metadata": {},
   "source": [
    "# Buy & hold"
   ]
  },
  {
   "cell_type": "markdown",
   "id": "139e0445-cba8-46c5-a68a-3645b9685431",
   "metadata": {},
   "source": [
    "## Settings"
   ]
  },
  {
   "cell_type": "code",
   "execution_count": 100,
   "id": "47a5c216-ea9b-41d6-a94c-915e82444774",
   "metadata": {},
   "outputs": [
    {
     "name": "stdout",
     "output_type": "stream",
     "text": [
      "time: 7.44 ms (started: 2023-02-20 20:03:20 +09:00)\n"
     ]
    }
   ],
   "source": [
    "df_bt = (df_all.Close.rename_axis('dt').to_frame('close')\n",
    "               .assign(custom=0))\n",
    "dates_all = df_bt.index"
   ]
  },
  {
   "cell_type": "code",
   "execution_count": 101,
   "id": "69ecda4f-746b-4224-90c9-982c5cb3ff0a",
   "metadata": {},
   "outputs": [
    {
     "name": "stdout",
     "output_type": "stream",
     "text": [
      "time: 2.07 ms (started: 2023-02-20 20:03:20 +09:00)\n"
     ]
    }
   ],
   "source": [
    "hold_period = 365\n",
    "dates_start = df_bt.loc[: dates_all[-1] - timedelta(hold_period)].index\n",
    "n_dates = dates_start.size"
   ]
  },
  {
   "cell_type": "code",
   "execution_count": 102,
   "id": "f157f6aa-ce43-4953-b67d-72456c468125",
   "metadata": {},
   "outputs": [
    {
     "name": "stdout",
     "output_type": "stream",
     "text": [
      "time: 957 µs (started: 2023-02-20 20:03:21 +09:00)\n"
     ]
    }
   ],
   "source": [
    "kwargs_bt = {\n",
    "    'init_cash': 1e7, \n",
    "    'commission': 0.00363960/100,\n",
    "    'verbose': False, \n",
    "    'plot_bp':False,\n",
    "    'buy_prop': 1,\n",
    "    'sell_prop': 1,\n",
    "    'upper_limit':0.1, \n",
    "    'lower_limit':-0.1\n",
    "}"
   ]
  },
  {
   "cell_type": "code",
   "execution_count": 103,
   "id": "a6f5a352-b29f-443b-ab05-65064e7798a2",
   "metadata": {},
   "outputs": [
    {
     "name": "stdout",
     "output_type": "stream",
     "text": [
      "time: 625 µs (started: 2023-02-20 20:03:21 +09:00)\n"
     ]
    }
   ],
   "source": [
    "# testing\n",
    "#dates_start = dates_start[:50]"
   ]
  },
  {
   "cell_type": "markdown",
   "id": "c11ddbc1-a117-4d2c-8a61-76d6693b2782",
   "metadata": {},
   "source": [
    "## SC01"
   ]
  },
  {
   "cell_type": "code",
   "execution_count": 104,
   "id": "c3532f4f-177a-424c-b368-0332c0c639a8",
   "metadata": {},
   "outputs": [
    {
     "name": "stdout",
     "output_type": "stream",
     "text": [
      "time: 1.03 ms (started: 2023-02-20 20:03:23 +09:00)\n"
     ]
    }
   ],
   "source": [
    "scenario = 'b1'\n",
    "n_buy = 1\n",
    "\n",
    "kwargs_bt.update({\n",
    "    'buy_prop': 1/n_buy,\n",
    "})"
   ]
  },
  {
   "cell_type": "code",
   "execution_count": 10,
   "id": "cb3257b7-3613-4fa0-b452-314bb862f7bd",
   "metadata": {},
   "outputs": [
    {
     "name": "stdout",
     "output_type": "stream",
     "text": [
      "10 % done\n",
      "20 % done\n",
      "30 % done\n",
      "40 % done\n",
      "50 % done\n",
      "60 % done\n",
      "70 % done\n",
      "80 % done\n",
      "90 % done\n",
      "100 % done\n",
      "time: 13min 9s (started: 2023-02-20 17:02:13 +09:00)\n"
     ]
    }
   ],
   "source": [
    "df_result = pd.DataFrame(columns=['start', 'end', 'init', 'final', 'return'])\n",
    "print_step = 0.1\n",
    "n_last = 0\n",
    "\n",
    "for i, start in enumerate(dates_start):\n",
    "    df_bt['custom'] = 0 # reset\n",
    "    df_bt.loc[start,'custom'] = -1\n",
    "    \n",
    "    df_result.loc[i] = run_backtest(start, df_bt, kwargs_bt)\n",
    "    \n",
    "    n_last = print_progress(i, print_step, n_last)"
   ]
  },
  {
   "cell_type": "code",
   "execution_count": 11,
   "id": "1b0070bc-84f7-4a88-9af2-0fa1ad05f9c3",
   "metadata": {},
   "outputs": [
    {
     "data": {
      "text/plain": [
       "mean      7.878639\n",
       "min     -29.578320\n",
       "max     111.056006\n",
       "Name: return, dtype: float64"
      ]
     },
     "execution_count": 11,
     "metadata": {},
     "output_type": "execute_result"
    },
    {
     "name": "stdout",
     "output_type": "stream",
     "text": [
      "time: 21.5 ms (started: 2023-02-20 17:15:23 +09:00)\n"
     ]
    }
   ],
   "source": [
    "df_result['return'].agg(['mean','min','max'])"
   ]
  },
  {
   "cell_type": "code",
   "execution_count": 12,
   "id": "1ec190b8-9722-4725-bfec-9576afa2b903",
   "metadata": {},
   "outputs": [
    {
     "name": "stdout",
     "output_type": "stream",
     "text": [
      "time: 8.29 ms (started: 2023-02-20 17:15:23 +09:00)\n"
     ]
    }
   ],
   "source": [
    "df = df_result.set_index('start').loc[:,'return'].to_frame().assign(scenario=scenario)\n",
    "df_compare = pd.concat([df_compare, df]) "
   ]
  },
  {
   "cell_type": "markdown",
   "id": "ceed01cf-7d9e-4172-aca0-6fb0d1134fe4",
   "metadata": {},
   "source": [
    "## SC02"
   ]
  },
  {
   "cell_type": "code",
   "execution_count": 13,
   "id": "7fbbdb66-80c2-440f-93f5-b63e8eaeff8c",
   "metadata": {},
   "outputs": [
    {
     "name": "stdout",
     "output_type": "stream",
     "text": [
      "time: 5.1 ms (started: 2023-02-20 17:15:23 +09:00)\n"
     ]
    }
   ],
   "source": [
    "scenario = 'b2'\n",
    "n_buy = 10\n",
    "\n",
    "kwargs_bt.update({\n",
    "    'buy_prop': 1/n_buy,\n",
    "})"
   ]
  },
  {
   "cell_type": "code",
   "execution_count": 14,
   "id": "2bd4a84b-8251-4f00-abdf-c0e97d50ccaa",
   "metadata": {},
   "outputs": [
    {
     "name": "stdout",
     "output_type": "stream",
     "text": [
      "10 % done\n",
      "20 % done\n",
      "30 % done\n",
      "40 % done\n",
      "50 % done\n",
      "60 % done\n",
      "70 % done\n",
      "80 % done\n",
      "90 % done\n",
      "100 % done\n",
      "time: 13min 51s (started: 2023-02-20 17:15:23 +09:00)\n"
     ]
    }
   ],
   "source": [
    "df_result = pd.DataFrame(columns=['start', 'end', 'init', 'final', 'return'])\n",
    "print_step = 0.1\n",
    "n_last = 0\n",
    "\n",
    "period = 20\n",
    "\n",
    "for i, start in enumerate(dates_start):\n",
    "    df_bt['custom'] = 0 # reset\n",
    "    dt = dates_all[[i + x*period for x in range(n_buy)]]\n",
    "    df_bt.loc[dt,'custom'] = -1\n",
    "    \n",
    "    df_result.loc[i] = run_backtest(start, df_bt, kwargs_bt)\n",
    "    \n",
    "    n_last = print_progress(i, print_step, n_last)"
   ]
  },
  {
   "cell_type": "code",
   "execution_count": 15,
   "id": "b1ca26bc-4767-41b8-bdf1-f3d80a44846c",
   "metadata": {},
   "outputs": [
    {
     "data": {
      "text/plain": [
       "mean     3.414606\n",
       "min    -16.512425\n",
       "max     38.402674\n",
       "Name: return, dtype: float64"
      ]
     },
     "execution_count": 15,
     "metadata": {},
     "output_type": "execute_result"
    },
    {
     "name": "stdout",
     "output_type": "stream",
     "text": [
      "time: 14.6 ms (started: 2023-02-20 17:29:15 +09:00)\n"
     ]
    }
   ],
   "source": [
    "df_result['return'].agg(['mean','min','max'])"
   ]
  },
  {
   "cell_type": "code",
   "execution_count": 16,
   "id": "b2c50990-5ae6-46fe-8f10-36d9d2cc4875",
   "metadata": {},
   "outputs": [
    {
     "name": "stdout",
     "output_type": "stream",
     "text": [
      "time: 13 ms (started: 2023-02-20 17:29:15 +09:00)\n"
     ]
    }
   ],
   "source": [
    "df = df_result.set_index('start').loc[:,'return'].to_frame().assign(scenario=scenario)\n",
    "df_compare = pd.concat([df_compare, df]) "
   ]
  },
  {
   "cell_type": "markdown",
   "id": "ed7bbf40-ec2b-4f9a-ba91-329345ca8bb8",
   "metadata": {},
   "source": [
    "## SC03"
   ]
  },
  {
   "cell_type": "code",
   "execution_count": 17,
   "id": "20afb37d-4747-4530-a777-08e45e65e50a",
   "metadata": {},
   "outputs": [
    {
     "name": "stdout",
     "output_type": "stream",
     "text": [
      "time: 8.33 ms (started: 2023-02-20 17:29:15 +09:00)\n"
     ]
    }
   ],
   "source": [
    "scenario = 'b3'\n",
    "n_buy = 20\n",
    "\n",
    "kwargs_bt.update({\n",
    "    'buy_prop': 1/n_buy,\n",
    "})"
   ]
  },
  {
   "cell_type": "code",
   "execution_count": 18,
   "id": "bc344817-e61f-480b-8e34-f2f351f1a1b6",
   "metadata": {},
   "outputs": [
    {
     "name": "stdout",
     "output_type": "stream",
     "text": [
      "10 % done\n",
      "20 % done\n",
      "30 % done\n",
      "40 % done\n",
      "50 % done\n",
      "60 % done\n",
      "70 % done\n",
      "80 % done\n",
      "90 % done\n",
      "100 % done\n",
      "time: 15min 15s (started: 2023-02-20 17:29:15 +09:00)\n"
     ]
    }
   ],
   "source": [
    "df_result = pd.DataFrame(columns=['start', 'end', 'init', 'final', 'return'])\n",
    "print_step = 0.1\n",
    "n_last = 0\n",
    "\n",
    "period = 10\n",
    "\n",
    "for i, start in enumerate(dates_start):\n",
    "    df_bt['custom'] = 0 # reset\n",
    "    dt = dates_all[[i + x*period for x in range(n_buy)]]\n",
    "    df_bt.loc[dt,'custom'] = -1\n",
    "    \n",
    "    df_result.loc[i] = run_backtest(start, df_bt, kwargs_bt)\n",
    "    \n",
    "    n_last = print_progress(i, print_step, n_last)"
   ]
  },
  {
   "cell_type": "code",
   "execution_count": 19,
   "id": "2f1ceb69-326a-45d0-bca9-8b2437b53a27",
   "metadata": {},
   "outputs": [
    {
     "data": {
      "text/plain": [
       "mean     3.217287\n",
       "min    -16.298809\n",
       "max     36.433602\n",
       "Name: return, dtype: float64"
      ]
     },
     "execution_count": 19,
     "metadata": {},
     "output_type": "execute_result"
    },
    {
     "name": "stdout",
     "output_type": "stream",
     "text": [
      "time: 14.5 ms (started: 2023-02-20 17:44:30 +09:00)\n"
     ]
    }
   ],
   "source": [
    "df_result['return'].agg(['mean','min','max'])"
   ]
  },
  {
   "cell_type": "code",
   "execution_count": 20,
   "id": "f89bdc9e-e05d-4510-8300-b07d5ce8e389",
   "metadata": {},
   "outputs": [
    {
     "name": "stdout",
     "output_type": "stream",
     "text": [
      "time: 15 ms (started: 2023-02-20 17:44:30 +09:00)\n"
     ]
    }
   ],
   "source": [
    "df = df_result.set_index('start').loc[:,'return'].to_frame().assign(scenario=scenario)\n",
    "df_compare = pd.concat([df_compare, df]) "
   ]
  },
  {
   "cell_type": "markdown",
   "id": "76ab9835-daa9-4f43-84de-8d2ebdcab207",
   "metadata": {},
   "source": [
    "## Compare"
   ]
  },
  {
   "cell_type": "code",
   "execution_count": 32,
   "id": "c7186496-fb70-4cf4-8c77-5245c0234be6",
   "metadata": {},
   "outputs": [
    {
     "data": {
      "image/png": "[encoded data removed]",
      "text/plain": [
       "<Figure size 864x360 with 2 Axes>"
      ]
     },
     "metadata": {
      "needs_background": "light"
     },
     "output_type": "display_data"
    },
    {
     "name": "stdout",
     "output_type": "stream",
     "text": [
      "time: 1.21 s (started: 2023-02-20 17:54:16 +09:00)\n"
     ]
    }
   ],
   "source": [
    "from matplotlib.gridspec import GridSpec\n",
    "\n",
    "fig = plt.figure(figsize=(12, 5))\n",
    "fig.suptitle(\"buy & hold for a year\")\n",
    "gs = GridSpec(1, 2, width_ratios=[2, 1])\n",
    "ax1 = fig.add_subplot(gs[0])\n",
    "ax2 = fig.add_subplot(gs[1])\n",
    "\n",
    "_ = sns.lineplot(data=df_compare.reset_index(), x='start', y='return', hue='scenario', ax=ax1)\n",
    "_ = sns.boxplot(data=df_compare.reset_index(), x='scenario', y='return', ax=ax2)"
   ]
  },
  {
   "cell_type": "code",
   "execution_count": 50,
   "id": "ec876b1b-4dfd-4e5f-a176-1350ba16ba19",
   "metadata": {},
   "outputs": [
    {
     "name": "stdout",
     "output_type": "stream",
     "text": [
      "time: 88.7 ms (started: 2023-02-20 18:22:01 +09:00)\n"
     ]
    }
   ],
   "source": [
    "#df_compare = df_compare.loc[df_compare.scenario != 't1']\n",
    "df_compare.to_csv('df_compare.csv')"
   ]
  },
  {
   "cell_type": "markdown",
   "id": "f5a88073-349f-42e9-9c2c-30c79ee61f80",
   "metadata": {},
   "source": [
    "# Technical Indicator"
   ]
  },
  {
   "cell_type": "markdown",
   "id": "73325bef-9885-4482-b68f-2511d24ea567",
   "metadata": {},
   "source": [
    "## Settings"
   ]
  },
  {
   "cell_type": "code",
   "execution_count": 33,
   "id": "c46e0f2b-b87f-4acb-abd2-de65372a8814",
   "metadata": {},
   "outputs": [
    {
     "name": "stdout",
     "output_type": "stream",
     "text": [
      "time: 618 ms (started: 2023-02-20 17:55:49 +09:00)\n"
     ]
    }
   ],
   "source": [
    "import tulipy as ti\n",
    "import numpy as np"
   ]
  },
  {
   "cell_type": "code",
   "execution_count": 75,
   "id": "3ce3de3e-413e-4170-bf8a-84af20fad152",
   "metadata": {},
   "outputs": [
    {
     "name": "stdout",
     "output_type": "stream",
     "text": [
      "time: 2.99 ms (started: 2023-02-20 19:27:45 +09:00)\n"
     ]
    }
   ],
   "source": [
    "def calc_macd(df, periods=[12,26,9]):\n",
    "    ind = ti.macd(df.astype(float).to_numpy(), *periods)\n",
    "\n",
    "    name = 'macd'\n",
    "    cols = [name, name+'_signal', name+'_histogram']\n",
    "    \n",
    "    index_size = len(df.index)\n",
    "    indi = np.full((len(cols), index_size), np.nan)\n",
    "    indi[:, index_size-ind[0].size:] = ind\n",
    "    \n",
    "    return pd.DataFrame(dict(zip(cols, indi)), index=df.index)\n",
    "\n",
    "\n",
    "def calc_bbands(df, periods=[20,2]):\n",
    "    ind = ti.bbands(df.astype(float).to_numpy(), *periods)\n",
    "\n",
    "    name = 'bbands'\n",
    "    cols = [name+'_lower', name+'_middle', name+'_upper']\n",
    "    \n",
    "    index_size = len(df.index)\n",
    "    indi = np.full((len(cols), index_size), np.nan)\n",
    "    indi[:, index_size-ind[0].size:] = ind\n",
    "    \n",
    "    return pd.DataFrame(dict(zip(cols, indi)), index=df.index)\n",
    "\n",
    "\n",
    "def finish_custom(df_bt):\n",
    "    df = df_bt.copy()\n",
    "    prv = 0\n",
    "    for dt, (_, c) in df.iterrows():\n",
    "        if c in [1, -1]:\n",
    "            if c == prv:\n",
    "                df.loc[dt, 'custom'] = 0\n",
    "            else:\n",
    "                prv = c\n",
    "        else:\n",
    "            prv = 0\n",
    "    return df\n"
   ]
  },
  {
   "cell_type": "code",
   "execution_count": 76,
   "id": "9ecbb3f8-9fc5-4a7e-81e7-6533715aeee8",
   "metadata": {},
   "outputs": [
    {
     "name": "stdout",
     "output_type": "stream",
     "text": [
      "time: 6.33 ms (started: 2023-02-20 19:27:45 +09:00)\n"
     ]
    }
   ],
   "source": [
    "df_bt = (df_all.Close.rename_axis('dt').to_frame('close')\n",
    "               .assign(custom=0))\n",
    "dates_all = df_bt.index"
   ]
  },
  {
   "cell_type": "code",
   "execution_count": 77,
   "id": "5770cc6f-f95b-4fa6-95df-7234c964e588",
   "metadata": {},
   "outputs": [
    {
     "name": "stdout",
     "output_type": "stream",
     "text": [
      "time: 2.99 ms (started: 2023-02-20 19:27:46 +09:00)\n"
     ]
    }
   ],
   "source": [
    "hold_period = 365\n",
    "dates_start = df_bt.loc[: dates_all[-1] - timedelta(hold_period)].index\n",
    "n_dates = dates_start.size"
   ]
  },
  {
   "cell_type": "code",
   "execution_count": 78,
   "id": "3e168f99-b5d1-481b-8351-6235bc935dee",
   "metadata": {},
   "outputs": [
    {
     "name": "stdout",
     "output_type": "stream",
     "text": [
      "time: 5.85 ms (started: 2023-02-20 19:27:46 +09:00)\n"
     ]
    }
   ],
   "source": [
    "kwargs_bt = {\n",
    "    'init_cash': 1e7, \n",
    "    'commission': 0.00363960/100,\n",
    "    'verbose': False, \n",
    "    'plot_bp':False,\n",
    "    'buy_prop': 1,\n",
    "    'sell_prop': 1,\n",
    "    'upper_limit':0.1, \n",
    "    'lower_limit':-0.1\n",
    "}"
   ]
  },
  {
   "cell_type": "code",
   "execution_count": 90,
   "id": "4b3d60ad-0210-4f9a-8ff8-cfad0b195a43",
   "metadata": {},
   "outputs": [
    {
     "name": "stdout",
     "output_type": "stream",
     "text": [
      "time: 1.03 ms (started: 2023-02-20 19:59:29 +09:00)\n"
     ]
    }
   ],
   "source": [
    "# testing\n",
    "#dates_start = dates_start[:50]"
   ]
  },
  {
   "cell_type": "markdown",
   "id": "08464555-d47a-48a0-8483-688464a515ba",
   "metadata": {},
   "source": [
    "## SC01: MACD"
   ]
  },
  {
   "cell_type": "markdown",
   "id": "972d4641-ada9-48e6-b411-96f21c77bc91",
   "metadata": {},
   "source": [
    "### calc tech indi"
   ]
  },
  {
   "cell_type": "code",
   "execution_count": 79,
   "id": "f3238737-6221-499d-ade0-32a68942e86b",
   "metadata": {},
   "outputs": [
    {
     "name": "stdout",
     "output_type": "stream",
     "text": [
      "time: 9.73 ms (started: 2023-02-20 19:27:49 +09:00)\n"
     ]
    }
   ],
   "source": [
    "df_macd = calc_macd(df_bt['close'])"
   ]
  },
  {
   "cell_type": "code",
   "execution_count": 80,
   "id": "f649a07d-7610-4902-b360-ce916e62cec4",
   "metadata": {},
   "outputs": [
    {
     "name": "stdout",
     "output_type": "stream",
     "text": [
      "time: 10.8 ms (started: 2023-02-20 19:27:50 +09:00)\n"
     ]
    }
   ],
   "source": [
    "df_ti = df_macd\n",
    "\n",
    "cond = (df_ti.macd > df_ti.macd_signal) \n",
    "cond = cond & (df_ti.macd > 0)\n",
    "df_bt.loc[cond, 'custom'] = -1\n",
    "\n",
    "cond = (df_ti.macd < df_ti.macd_signal) \n",
    "cond = cond & (df_ti.macd < 0)\n",
    "df_bt.loc[cond, 'custom'] = 1"
   ]
  },
  {
   "cell_type": "code",
   "execution_count": 81,
   "id": "c32b2416-0048-4474-b681-6e15dcd0646d",
   "metadata": {},
   "outputs": [
    {
     "name": "stdout",
     "output_type": "stream",
     "text": [
      "time: 379 ms (started: 2023-02-20 19:27:52 +09:00)\n"
     ]
    }
   ],
   "source": [
    "df_bt = finish_custom(df_bt)"
   ]
  },
  {
   "cell_type": "code",
   "execution_count": 91,
   "id": "0457a857-a101-48d9-9cd9-ed1438b6f76e",
   "metadata": {},
   "outputs": [
    {
     "data": {
      "text/plain": [
       "33"
      ]
     },
     "execution_count": 91,
     "metadata": {},
     "output_type": "execute_result"
    },
    {
     "name": "stdout",
     "output_type": "stream",
     "text": [
      "time: 8.61 ms (started: 2023-02-20 20:00:04 +09:00)\n"
     ]
    }
   ],
   "source": [
    "# small number of chance to buy\n",
    "#df_bt.loc[df_bt.custom < 0, 'close'].count() / df_bt.close.count()\n",
    "df_bt.loc[df_bt.custom < 0, 'close'].count()"
   ]
  },
  {
   "cell_type": "code",
   "execution_count": 94,
   "id": "44380b38-048c-4d65-b1fb-41934d13ffd3",
   "metadata": {},
   "outputs": [
    {
     "data": {
      "text/html": [
       "<div>\n",
       "<style scoped>\n",
       "    .dataframe tbody tr th:only-of-type {\n",
       "        vertical-align: middle;\n",
       "    }\n",
       "\n",
       "    .dataframe tbody tr th {\n",
       "        vertical-align: top;\n",
       "    }\n",
       "\n",
       "    .dataframe thead th {\n",
       "        text-align: right;\n",
       "    }\n",
       "</style>\n",
       "<table border=\"1\" class=\"dataframe\">\n",
       "  <thead>\n",
       "    <tr style=\"text-align: right;\">\n",
       "      <th></th>\n",
       "      <th>close</th>\n",
       "      <th>custom</th>\n",
       "    </tr>\n",
       "    <tr>\n",
       "      <th>dt</th>\n",
       "      <th></th>\n",
       "      <th></th>\n",
       "    </tr>\n",
       "  </thead>\n",
       "  <tbody>\n",
       "    <tr>\n",
       "      <th>2018-01-02</th>\n",
       "      <td>29600</td>\n",
       "      <td>0</td>\n",
       "    </tr>\n",
       "    <tr>\n",
       "      <th>2018-01-03</th>\n",
       "      <td>29727</td>\n",
       "      <td>0</td>\n",
       "    </tr>\n",
       "    <tr>\n",
       "      <th>2018-01-04</th>\n",
       "      <td>29491</td>\n",
       "      <td>0</td>\n",
       "    </tr>\n",
       "    <tr>\n",
       "      <th>2018-01-05</th>\n",
       "      <td>29892</td>\n",
       "      <td>0</td>\n",
       "    </tr>\n",
       "    <tr>\n",
       "      <th>2018-01-08</th>\n",
       "      <td>30093</td>\n",
       "      <td>0</td>\n",
       "    </tr>\n",
       "    <tr>\n",
       "      <th>...</th>\n",
       "      <td>...</td>\n",
       "      <td>...</td>\n",
       "    </tr>\n",
       "    <tr>\n",
       "      <th>2022-12-23</th>\n",
       "      <td>30167</td>\n",
       "      <td>0</td>\n",
       "    </tr>\n",
       "    <tr>\n",
       "      <th>2022-12-26</th>\n",
       "      <td>30212</td>\n",
       "      <td>0</td>\n",
       "    </tr>\n",
       "    <tr>\n",
       "      <th>2022-12-27</th>\n",
       "      <td>30426</td>\n",
       "      <td>0</td>\n",
       "    </tr>\n",
       "    <tr>\n",
       "      <th>2022-12-28</th>\n",
       "      <td>30067</td>\n",
       "      <td>0</td>\n",
       "    </tr>\n",
       "    <tr>\n",
       "      <th>2022-12-29</th>\n",
       "      <td>29528</td>\n",
       "      <td>0</td>\n",
       "    </tr>\n",
       "  </tbody>\n",
       "</table>\n",
       "<p>1232 rows × 2 columns</p>\n",
       "</div>"
      ],
      "text/plain": [
       "            close  custom\n",
       "dt                       \n",
       "2018-01-02  29600       0\n",
       "2018-01-03  29727       0\n",
       "2018-01-04  29491       0\n",
       "2018-01-05  29892       0\n",
       "2018-01-08  30093       0\n",
       "...           ...     ...\n",
       "2022-12-23  30167       0\n",
       "2022-12-26  30212       0\n",
       "2022-12-27  30426       0\n",
       "2022-12-28  30067       0\n",
       "2022-12-29  29528       0\n",
       "\n",
       "[1232 rows x 2 columns]"
      ]
     },
     "execution_count": 94,
     "metadata": {},
     "output_type": "execute_result"
    },
    {
     "name": "stdout",
     "output_type": "stream",
     "text": [
      "time: 23.2 ms (started: 2023-02-20 20:01:01 +09:00)\n"
     ]
    }
   ],
   "source": [
    "df_bt"
   ]
  },
  {
   "cell_type": "code",
   "execution_count": null,
   "id": "f7de6361-2618-46a5-a460-30c399351746",
   "metadata": {},
   "outputs": [],
   "source": []
  },
  {
   "cell_type": "markdown",
   "id": "76991319-10f5-4c13-88f5-f7d63405c1ca",
   "metadata": {},
   "source": [
    "### bactesting 1"
   ]
  },
  {
   "cell_type": "code",
   "execution_count": 83,
   "id": "94a781c8-ec55-487e-a222-3981239c7403",
   "metadata": {},
   "outputs": [
    {
     "name": "stdout",
     "output_type": "stream",
     "text": [
      "time: 1.07 ms (started: 2023-02-20 19:28:28 +09:00)\n"
     ]
    }
   ],
   "source": [
    "scenario = 't1'\n",
    "#n_buy = 50 # krw 200,000 every buy\n",
    "n_buy = 5\n",
    "\n",
    "kwargs_bt.update({\n",
    "    'buy_prop': 1/n_buy,\n",
    "})"
   ]
  },
  {
   "cell_type": "code",
   "execution_count": 84,
   "id": "9c720993-c5a9-4bab-93ef-12fd1b8ba6f6",
   "metadata": {},
   "outputs": [
    {
     "name": "stdout",
     "output_type": "stream",
     "text": [
      "10 % done\n",
      "20 % done\n",
      "30 % done\n",
      "40 % done\n",
      "50 % done\n",
      "60 % done\n",
      "70 % done\n",
      "80 % done\n",
      "90 % done\n",
      "100 % done\n",
      "time: 21min 24s (started: 2023-02-20 19:28:29 +09:00)\n"
     ]
    }
   ],
   "source": [
    "df_result = pd.DataFrame(columns=['start', 'end', 'init', 'final', 'return'])\n",
    "print_step = 0.1\n",
    "n_last = 0\n",
    "\n",
    "for i, start in enumerate(dates_start):\n",
    "    df_result.loc[i] = run_backtest(start, df_bt, kwargs_bt)\n",
    "    n_last = print_progress(i, print_step, n_last)"
   ]
  },
  {
   "cell_type": "code",
   "execution_count": 85,
   "id": "1275433d-3752-49f3-bdae-34f61a70697d",
   "metadata": {},
   "outputs": [
    {
     "data": {
      "text/plain": [
       "mean     1.854880\n",
       "min     -3.162596\n",
       "max     16.136710\n",
       "Name: return, dtype: float64"
      ]
     },
     "execution_count": 85,
     "metadata": {},
     "output_type": "execute_result"
    },
    {
     "name": "stdout",
     "output_type": "stream",
     "text": [
      "time: 19.2 ms (started: 2023-02-20 19:49:53 +09:00)\n"
     ]
    }
   ],
   "source": [
    "df_result['return'].agg(['mean','min','max'])"
   ]
  },
  {
   "cell_type": "markdown",
   "id": "bd1501fc-7288-48cc-bfc0-e6b19d0fffb1",
   "metadata": {},
   "source": [
    "### testing"
   ]
  },
  {
   "cell_type": "code",
   "execution_count": 105,
   "id": "dff1c051-4f68-4208-8262-4b137ccdf07e",
   "metadata": {},
   "outputs": [
    {
     "name": "stdout",
     "output_type": "stream",
     "text": [
      "time: 1.42 s (started: 2023-02-20 20:03:34 +09:00)\n"
     ]
    }
   ],
   "source": [
    "def run_backtest(start, df_bt, kwargs, strategy='custom'):\n",
    "    df = {symbol: df_bt}\n",
    "    end = start + timedelta(hold_period)\n",
    "    with HiddenPrints(mark_end=False):\n",
    "        result = backtest_portfolio(strategy, df, start.strftime(DATE_FORMAT), end.strftime(DATE_FORMAT), **kwargs)\n",
    "    return result\n",
    "\n",
    "\n",
    "result = run_backtest(start, df_bt, kwargs_bt)\n",
    "\n",
    "#df = df_bt.copy()\n",
    "#df.custom = 0\n",
    "#result = run_backtest(start, df, kwargs_bt)"
   ]
  },
  {
   "cell_type": "code",
   "execution_count": 106,
   "id": "67e47a32-fa68-48a1-976e-3d3d484e50f8",
   "metadata": {},
   "outputs": [
    {
     "data": {
      "text/html": [
       "<div>\n",
       "<style scoped>\n",
       "    .dataframe tbody tr th:only-of-type {\n",
       "        vertical-align: middle;\n",
       "    }\n",
       "\n",
       "    .dataframe tbody tr th {\n",
       "        vertical-align: top;\n",
       "    }\n",
       "\n",
       "    .dataframe thead th {\n",
       "        text-align: right;\n",
       "    }\n",
       "</style>\n",
       "<table border=\"1\" class=\"dataframe\">\n",
       "  <thead>\n",
       "    <tr style=\"text-align: right;\">\n",
       "      <th></th>\n",
       "      <th></th>\n",
       "      <th></th>\n",
       "      <th>stop_trail</th>\n",
       "      <th>init_cash</th>\n",
       "      <th>buy_prop</th>\n",
       "      <th>sell_prop</th>\n",
       "      <th>fractional</th>\n",
       "      <th>commission</th>\n",
       "      <th>stop_loss</th>\n",
       "      <th>take_profit</th>\n",
       "      <th>execution_type</th>\n",
       "      <th>channel</th>\n",
       "      <th>...</th>\n",
       "      <th>won</th>\n",
       "      <th>lost</th>\n",
       "      <th>won_avg</th>\n",
       "      <th>won_avg_prcnt</th>\n",
       "      <th>lost_avg</th>\n",
       "      <th>lost_avg_prcnt</th>\n",
       "      <th>won_max</th>\n",
       "      <th>won_max_prcnt</th>\n",
       "      <th>lost_max</th>\n",
       "      <th>lost_max_prcnt</th>\n",
       "    </tr>\n",
       "    <tr>\n",
       "      <th>start_date</th>\n",
       "      <th>end_date</th>\n",
       "      <th>symbol</th>\n",
       "      <th></th>\n",
       "      <th></th>\n",
       "      <th></th>\n",
       "      <th></th>\n",
       "      <th></th>\n",
       "      <th></th>\n",
       "      <th></th>\n",
       "      <th></th>\n",
       "      <th></th>\n",
       "      <th></th>\n",
       "      <th></th>\n",
       "      <th></th>\n",
       "      <th></th>\n",
       "      <th></th>\n",
       "      <th></th>\n",
       "      <th></th>\n",
       "      <th></th>\n",
       "      <th></th>\n",
       "      <th></th>\n",
       "      <th></th>\n",
       "      <th></th>\n",
       "    </tr>\n",
       "  </thead>\n",
       "  <tbody>\n",
       "    <tr>\n",
       "      <th>2021-12-29</th>\n",
       "      <th>2022-12-29</th>\n",
       "      <th>069500</th>\n",
       "      <td>0</td>\n",
       "      <td>10000000.0</td>\n",
       "      <td>1.0</td>\n",
       "      <td>1</td>\n",
       "      <td>False</td>\n",
       "      <td>0.000036</td>\n",
       "      <td>0</td>\n",
       "      <td>0</td>\n",
       "      <td>close</td>\n",
       "      <td></td>\n",
       "      <td>...</td>\n",
       "      <td>NaN</td>\n",
       "      <td>NaN</td>\n",
       "      <td>NaN</td>\n",
       "      <td>NaN</td>\n",
       "      <td>NaN</td>\n",
       "      <td>NaN</td>\n",
       "      <td>NaN</td>\n",
       "      <td>NaN</td>\n",
       "      <td>NaN</td>\n",
       "      <td>NaN</td>\n",
       "    </tr>\n",
       "  </tbody>\n",
       "</table>\n",
       "<p>1 rows × 43 columns</p>\n",
       "</div>"
      ],
      "text/plain": [
       "                              stop_trail   init_cash  buy_prop  sell_prop  \\\n",
       "start_date end_date   symbol                                                \n",
       "2021-12-29 2022-12-29 069500           0  10000000.0       1.0          1   \n",
       "\n",
       "                              fractional  commission  stop_loss  take_profit  \\\n",
       "start_date end_date   symbol                                                   \n",
       "2021-12-29 2022-12-29 069500       False    0.000036          0            0   \n",
       "\n",
       "                             execution_type channel  ...  won  lost  won_avg  \\\n",
       "start_date end_date   symbol                         ...                       \n",
       "2021-12-29 2022-12-29 069500          close          ...  NaN   NaN      NaN   \n",
       "\n",
       "                             won_avg_prcnt  lost_avg  lost_avg_prcnt  won_max  \\\n",
       "start_date end_date   symbol                                                    \n",
       "2021-12-29 2022-12-29 069500           NaN       NaN             NaN      NaN   \n",
       "\n",
       "                             won_max_prcnt  lost_max  lost_max_prcnt  \n",
       "start_date end_date   symbol                                          \n",
       "2021-12-29 2022-12-29 069500           NaN       NaN             NaN  \n",
       "\n",
       "[1 rows x 43 columns]"
      ]
     },
     "execution_count": 106,
     "metadata": {},
     "output_type": "execute_result"
    },
    {
     "name": "stdout",
     "output_type": "stream",
     "text": [
      "time: 60.4 ms (started: 2023-02-20 20:03:36 +09:00)\n"
     ]
    }
   ],
   "source": [
    "result['history']"
   ]
  },
  {
   "cell_type": "code",
   "execution_count": 108,
   "id": "fba38d2e-baf2-4cc5-b5e8-625cd2fcf952",
   "metadata": {},
   "outputs": [
    {
     "data": {
      "text/plain": [
       "dict_keys(['summary', 'history'])"
      ]
     },
     "execution_count": 108,
     "metadata": {},
     "output_type": "execute_result"
    },
    {
     "name": "stdout",
     "output_type": "stream",
     "text": [
      "time: 10.8 ms (started: 2023-02-20 20:04:15 +09:00)\n"
     ]
    }
   ],
   "source": [
    "result.keys()"
   ]
  },
  {
   "cell_type": "code",
   "execution_count": 99,
   "id": "873fdb89-37bf-4940-9560-08c74cb17bf2",
   "metadata": {},
   "outputs": [
    {
     "data": {
      "text/html": [
       "<div>\n",
       "<style scoped>\n",
       "    .dataframe tbody tr th:only-of-type {\n",
       "        vertical-align: middle;\n",
       "    }\n",
       "\n",
       "    .dataframe tbody tr th {\n",
       "        vertical-align: top;\n",
       "    }\n",
       "\n",
       "    .dataframe thead th {\n",
       "        text-align: right;\n",
       "    }\n",
       "</style>\n",
       "<table border=\"1\" class=\"dataframe\">\n",
       "  <thead>\n",
       "    <tr style=\"text-align: right;\">\n",
       "      <th></th>\n",
       "      <th></th>\n",
       "      <th></th>\n",
       "      <th>stop_trail</th>\n",
       "      <th>init_cash</th>\n",
       "      <th>buy_prop</th>\n",
       "      <th>sell_prop</th>\n",
       "      <th>fractional</th>\n",
       "      <th>commission</th>\n",
       "      <th>stop_loss</th>\n",
       "      <th>take_profit</th>\n",
       "      <th>execution_type</th>\n",
       "      <th>channel</th>\n",
       "      <th>...</th>\n",
       "      <th>won</th>\n",
       "      <th>lost</th>\n",
       "      <th>won_avg</th>\n",
       "      <th>won_avg_prcnt</th>\n",
       "      <th>lost_avg</th>\n",
       "      <th>lost_avg_prcnt</th>\n",
       "      <th>won_max</th>\n",
       "      <th>won_max_prcnt</th>\n",
       "      <th>lost_max</th>\n",
       "      <th>lost_max_prcnt</th>\n",
       "    </tr>\n",
       "    <tr>\n",
       "      <th>start_date</th>\n",
       "      <th>end_date</th>\n",
       "      <th>symbol</th>\n",
       "      <th></th>\n",
       "      <th></th>\n",
       "      <th></th>\n",
       "      <th></th>\n",
       "      <th></th>\n",
       "      <th></th>\n",
       "      <th></th>\n",
       "      <th></th>\n",
       "      <th></th>\n",
       "      <th></th>\n",
       "      <th></th>\n",
       "      <th></th>\n",
       "      <th></th>\n",
       "      <th></th>\n",
       "      <th></th>\n",
       "      <th></th>\n",
       "      <th></th>\n",
       "      <th></th>\n",
       "      <th></th>\n",
       "      <th></th>\n",
       "      <th></th>\n",
       "    </tr>\n",
       "  </thead>\n",
       "  <tbody>\n",
       "    <tr>\n",
       "      <th>2021-12-29</th>\n",
       "      <th>2022-12-29</th>\n",
       "      <th>069500</th>\n",
       "      <td>0</td>\n",
       "      <td>10000000.0</td>\n",
       "      <td>0.2</td>\n",
       "      <td>1</td>\n",
       "      <td>False</td>\n",
       "      <td>0.000036</td>\n",
       "      <td>0</td>\n",
       "      <td>0</td>\n",
       "      <td>close</td>\n",
       "      <td></td>\n",
       "      <td>...</td>\n",
       "      <td>1</td>\n",
       "      <td>2</td>\n",
       "      <td>21565.860193</td>\n",
       "      <td>0.215659</td>\n",
       "      <td>-31184.945545</td>\n",
       "      <td>-0.311849</td>\n",
       "      <td>21565.860193</td>\n",
       "      <td>0.215659</td>\n",
       "      <td>-52833.259387</td>\n",
       "      <td>-0.528333</td>\n",
       "    </tr>\n",
       "  </tbody>\n",
       "</table>\n",
       "<p>1 rows × 43 columns</p>\n",
       "</div>"
      ],
      "text/plain": [
       "                              stop_trail   init_cash  buy_prop  sell_prop  \\\n",
       "start_date end_date   symbol                                                \n",
       "2021-12-29 2022-12-29 069500           0  10000000.0       0.2          1   \n",
       "\n",
       "                              fractional  commission  stop_loss  take_profit  \\\n",
       "start_date end_date   symbol                                                   \n",
       "2021-12-29 2022-12-29 069500       False    0.000036          0            0   \n",
       "\n",
       "                             execution_type channel  ...  won  lost  \\\n",
       "start_date end_date   symbol                         ...              \n",
       "2021-12-29 2022-12-29 069500          close          ...    1     2   \n",
       "\n",
       "                                   won_avg won_avg_prcnt      lost_avg  \\\n",
       "start_date end_date   symbol                                             \n",
       "2021-12-29 2022-12-29 069500  21565.860193      0.215659 -31184.945545   \n",
       "\n",
       "                              lost_avg_prcnt       won_max won_max_prcnt  \\\n",
       "start_date end_date   symbol                                               \n",
       "2021-12-29 2022-12-29 069500       -0.311849  21565.860193      0.215659   \n",
       "\n",
       "                                  lost_max  lost_max_prcnt  \n",
       "start_date end_date   symbol                                \n",
       "2021-12-29 2022-12-29 069500 -52833.259387       -0.528333  \n",
       "\n",
       "[1 rows x 43 columns]"
      ]
     },
     "execution_count": 99,
     "metadata": {},
     "output_type": "execute_result"
    },
    {
     "name": "stdout",
     "output_type": "stream",
     "text": [
      "time: 1.44 s (started: 2023-02-20 20:03:02 +09:00)\n"
     ]
    }
   ],
   "source": [
    "result = run_backtest(start, df_bt, kwargs_bt)\n",
    "result['history']"
   ]
  },
  {
   "cell_type": "markdown",
   "id": "4f870c77-235e-4491-afec-0173fd778ddd",
   "metadata": {},
   "source": [
    "### bactesting 2"
   ]
  },
  {
   "cell_type": "code",
   "execution_count": 52,
   "id": "08fc85f7-2753-47e2-938c-62dde7c5d89a",
   "metadata": {},
   "outputs": [
    {
     "name": "stdout",
     "output_type": "stream",
     "text": [
      "time: 1.08 ms (started: 2023-02-20 18:28:00 +09:00)\n"
     ]
    }
   ],
   "source": [
    "scenario = 't1'\n",
    "n_buy = 50 # krw 200,000 every buy\n",
    "\n",
    "kwargs_bt.update({\n",
    "    'buy_prop': 1/n_buy,\n",
    "    'sell_prop': 0.5,\n",
    "})"
   ]
  },
  {
   "cell_type": "code",
   "execution_count": 53,
   "id": "85f1d7db-dd06-4531-bcbd-0f2f2455d37f",
   "metadata": {},
   "outputs": [
    {
     "name": "stdout",
     "output_type": "stream",
     "text": [
      "10 % done\n",
      "20 % done\n",
      "30 % done\n",
      "40 % done\n",
      "50 % done\n",
      "60 % done\n",
      "70 % done\n",
      "80 % done\n",
      "90 % done\n",
      "100 % done\n",
      "time: 18min 44s (started: 2023-02-20 18:28:01 +09:00)\n"
     ]
    }
   ],
   "source": [
    "df_result = pd.DataFrame(columns=['start', 'end', 'init', 'final', 'return'])\n",
    "print_step = 0.1\n",
    "n_last = 0\n",
    "\n",
    "for i, start in enumerate(dates_start):\n",
    "    df_result.loc[i] = run_backtest(start, df_bt, kwargs_bt)\n",
    "    n_last = print_progress(i, print_step, n_last)"
   ]
  },
  {
   "cell_type": "code",
   "execution_count": 54,
   "id": "82f02286-2e96-4ec7-97dc-592ded7ef3f1",
   "metadata": {},
   "outputs": [
    {
     "data": {
      "text/plain": [
       "mean    0.164336\n",
       "min    -0.419441\n",
       "max     1.562607\n",
       "Name: return, dtype: float64"
      ]
     },
     "execution_count": 54,
     "metadata": {},
     "output_type": "execute_result"
    },
    {
     "name": "stdout",
     "output_type": "stream",
     "text": [
      "time: 12.1 ms (started: 2023-02-20 18:46:46 +09:00)\n"
     ]
    }
   ],
   "source": [
    "df_result['return'].agg(['mean','min','max'])"
   ]
  },
  {
   "cell_type": "code",
   "execution_count": 55,
   "id": "9024a295-6be2-4e5e-819f-882e57d04a83",
   "metadata": {},
   "outputs": [
    {
     "name": "stdout",
     "output_type": "stream",
     "text": [
      "time: 18.3 ms (started: 2023-02-20 19:19:22 +09:00)\n"
     ]
    }
   ],
   "source": [
    "df = df_result.set_index('start').loc[:,'return'].to_frame().assign(scenario=scenario)\n",
    "df_compare = pd.concat([df_compare, df]) "
   ]
  },
  {
   "cell_type": "markdown",
   "id": "64425471-9851-4148-a59b-c136b24bdec8",
   "metadata": {},
   "source": [
    "## SC02: Bollinger Bands"
   ]
  },
  {
   "cell_type": "markdown",
   "id": "5a2f4be4-5d29-4ec3-9351-9334dc9f1242",
   "metadata": {},
   "source": [
    "### calc tech indi"
   ]
  },
  {
   "cell_type": "code",
   "execution_count": 134,
   "id": "71b0850d-a554-43e5-a7da-45a946125929",
   "metadata": {},
   "outputs": [
    {
     "name": "stdout",
     "output_type": "stream",
     "text": [
      "time: 2.69 ms (started: 2023-02-20 16:56:30 +09:00)\n"
     ]
    }
   ],
   "source": [
    "df_bbands = calc_bbands(df_bt['close'])\n",
    "#df_bbands = calc_bbands(df_bt['close'], [20, 1])"
   ]
  },
  {
   "cell_type": "code",
   "execution_count": 128,
   "id": "1b324a16-c636-4eb7-a2cf-7579df37df76",
   "metadata": {},
   "outputs": [
    {
     "name": "stdout",
     "output_type": "stream",
     "text": [
      "time: 4.98 ms (started: 2023-02-20 16:55:04 +09:00)\n"
     ]
    }
   ],
   "source": [
    "df_ti = df_bbands\n",
    "\n",
    "cond = df_bt.close < df_ti.bbands_lower\n",
    "df_bt.loc[cond, 'custom'] = -1\n",
    "\n",
    "cond = df_bt.close > df_ti.bbands_upper\n",
    "df_bt.loc[cond, 'custom'] = 1"
   ]
  },
  {
   "cell_type": "code",
   "execution_count": 129,
   "id": "05c71c93-b55a-44e4-a555-4cad57c74b7c",
   "metadata": {},
   "outputs": [
    {
     "name": "stdout",
     "output_type": "stream",
     "text": [
      "time: 165 ms (started: 2023-02-20 16:55:05 +09:00)\n"
     ]
    }
   ],
   "source": [
    "df_bt = finish_custom(df_bt)"
   ]
  },
  {
   "cell_type": "markdown",
   "id": "5fc5aadf-5278-454f-b6e5-e6ce37ad3a72",
   "metadata": {},
   "source": [
    "### bactesting"
   ]
  },
  {
   "cell_type": "code",
   "execution_count": 121,
   "id": "e58be9f2-9bdb-4d55-add8-0e972d37349e",
   "metadata": {},
   "outputs": [
    {
     "name": "stdout",
     "output_type": "stream",
     "text": [
      "time: 1.16 ms (started: 2023-02-20 16:51:11 +09:00)\n"
     ]
    }
   ],
   "source": [
    "scenario = 't2'\n",
    "n_buy = 50 # krw 200,000 every buy\n",
    "\n",
    "kwargs_bt.update({\n",
    "    'buy_prop': 1/n_buy,\n",
    "})"
   ]
  },
  {
   "cell_type": "code",
   "execution_count": 130,
   "id": "fa05ee7e-686d-4327-baff-f9f7bff1336f",
   "metadata": {},
   "outputs": [
    {
     "name": "stdout",
     "output_type": "stream",
     "text": [
      "10 % done\n",
      "20 % done\n",
      "time: 41.8 s (started: 2023-02-20 16:55:12 +09:00)\n"
     ]
    }
   ],
   "source": [
    "df_result = pd.DataFrame(columns=['start', 'end', 'init', 'final', 'return'])\n",
    "print_step = 0.1\n",
    "n_last = 0\n",
    "\n",
    "for i, start in enumerate(dates_start):\n",
    "    df_result.loc[i] = run_backtest(start, df_bt, kwargs_bt)\n",
    "    n_last = print_progress(i, print_step, n_last)"
   ]
  },
  {
   "cell_type": "code",
   "execution_count": 131,
   "id": "5aeac050-4e23-44b6-9b26-877067909568",
   "metadata": {},
   "outputs": [
    {
     "data": {
      "text/plain": [
       "mean   -0.110801\n",
       "min    -0.406478\n",
       "max    -0.046123\n",
       "Name: return, dtype: float64"
      ]
     },
     "execution_count": 131,
     "metadata": {},
     "output_type": "execute_result"
    },
    {
     "name": "stdout",
     "output_type": "stream",
     "text": [
      "time: 14.5 ms (started: 2023-02-20 16:55:55 +09:00)\n"
     ]
    }
   ],
   "source": [
    "df_result['return'].agg(['mean','min','max'])"
   ]
  },
  {
   "cell_type": "code",
   "execution_count": 132,
   "id": "a43bb680-246e-480c-984b-17550cb0cbbd",
   "metadata": {},
   "outputs": [
    {
     "name": "stdout",
     "output_type": "stream",
     "text": [
      "time: 15.6 ms (started: 2023-02-20 16:55:58 +09:00)\n"
     ]
    }
   ],
   "source": [
    "df = df_result.set_index('start').loc[:,'return'].to_frame().assign(scenario=scenario)\n",
    "df_compare = pd.concat([df_compare, df]) "
   ]
  },
  {
   "cell_type": "markdown",
   "id": "5a88ae83-c99c-4966-aa7a-a29d406f346e",
   "metadata": {},
   "source": [
    "## SC03: Bollinger Bands & MACD"
   ]
  },
  {
   "cell_type": "code",
   "execution_count": 146,
   "id": "d571848a-a8e0-404d-83ee-a0549ac2c6ee",
   "metadata": {},
   "outputs": [
    {
     "name": "stdout",
     "output_type": "stream",
     "text": [
      "time: 4 ms (started: 2023-02-20 17:00:10 +09:00)\n"
     ]
    }
   ],
   "source": [
    "df_macd = calc_macd(df_bt['close'])\n",
    "calc_bbands = calc_macd(df_bt['close'])"
   ]
  },
  {
   "cell_type": "code",
   "execution_count": 147,
   "id": "6ad96a6b-a736-440a-80a5-327bc1135cd6",
   "metadata": {},
   "outputs": [
    {
     "name": "stdout",
     "output_type": "stream",
     "text": [
      "time: 19.4 ms (started: 2023-02-20 17:00:13 +09:00)\n"
     ]
    }
   ],
   "source": [
    "cond = (df_macd.macd > df_macd.macd_signal) & (df_macd.macd > 0)\n",
    "cond = cond + (df_bt.close < df_bbands.bbands_lower)\n",
    "df_bt.loc[cond, 'custom'] = -1\n",
    "\n",
    "cond = (df_macd.macd < df_macd.macd_signal) & (df_macd.macd < 0)\n",
    "cond = cond + (df_bt.close > df_bbands.bbands_lower)\n",
    "df_bt.loc[cond, 'custom'] = 1"
   ]
  },
  {
   "cell_type": "code",
   "execution_count": 148,
   "id": "84d94641-934f-49bc-8f89-1157d12a6e13",
   "metadata": {},
   "outputs": [
    {
     "name": "stdout",
     "output_type": "stream",
     "text": [
      "time: 271 ms (started: 2023-02-20 17:00:15 +09:00)\n"
     ]
    }
   ],
   "source": [
    "df_bt = finish_custom(df_bt)"
   ]
  },
  {
   "cell_type": "markdown",
   "id": "f4b001a9-3f83-4802-9e44-734c12853311",
   "metadata": {},
   "source": [
    "### bactesting"
   ]
  },
  {
   "cell_type": "code",
   "execution_count": 149,
   "id": "4ab20b6d-32ca-46b4-bf5e-4a9b239077c0",
   "metadata": {},
   "outputs": [
    {
     "name": "stdout",
     "output_type": "stream",
     "text": [
      "time: 1.12 ms (started: 2023-02-20 17:00:19 +09:00)\n"
     ]
    }
   ],
   "source": [
    "scenario = 't3'\n",
    "n_buy = 50 # krw 200,000 every buy\n",
    "\n",
    "kwargs_bt.update({\n",
    "    'buy_prop': 1/n_buy,\n",
    "})"
   ]
  },
  {
   "cell_type": "code",
   "execution_count": 150,
   "id": "f60f4b10-a5f6-4d7b-99be-834f6bc5c938",
   "metadata": {},
   "outputs": [
    {
     "name": "stdout",
     "output_type": "stream",
     "text": [
      "10 % done\n",
      "20 % done\n",
      "time: 41.1 s (started: 2023-02-20 17:00:20 +09:00)\n"
     ]
    }
   ],
   "source": [
    "df_result = pd.DataFrame(columns=['start', 'end', 'init', 'final', 'return'])\n",
    "print_step = 0.1\n",
    "n_last = 0\n",
    "\n",
    "for i, start in enumerate(dates_start):\n",
    "    df_result.loc[i] = run_backtest(start, df_bt, kwargs_bt)\n",
    "    n_last = print_progress(i, print_step, n_last)"
   ]
  },
  {
   "cell_type": "code",
   "execution_count": 151,
   "id": "6ee696ea-a4ed-4780-be9e-7cb527354973",
   "metadata": {},
   "outputs": [
    {
     "data": {
      "text/plain": [
       "mean   -0.015555\n",
       "min    -0.029766\n",
       "max     0.008556\n",
       "Name: return, dtype: float64"
      ]
     },
     "execution_count": 151,
     "metadata": {},
     "output_type": "execute_result"
    },
    {
     "name": "stdout",
     "output_type": "stream",
     "text": [
      "time: 20.1 ms (started: 2023-02-20 17:01:01 +09:00)\n"
     ]
    }
   ],
   "source": [
    "df_result['return'].agg(['mean','min','max'])"
   ]
  },
  {
   "cell_type": "code",
   "execution_count": 132,
   "id": "dfa637e5-ba2b-46e8-86f6-dbf10e1d10cc",
   "metadata": {},
   "outputs": [
    {
     "name": "stdout",
     "output_type": "stream",
     "text": [
      "time: 15.6 ms (started: 2023-02-20 16:55:58 +09:00)\n"
     ]
    }
   ],
   "source": [
    "df = df_result.set_index('start').loc[:,'return'].to_frame().assign(scenario=scenario)\n",
    "df_compare = pd.concat([df_compare, df]) "
   ]
  },
  {
   "cell_type": "code",
   "execution_count": 56,
   "id": "13de2aa6-5fcc-4fc5-b840-6218ee99c81f",
   "metadata": {
    "tags": []
   },
   "outputs": [
    {
     "data": {
      "image/png": "[encoded data removed]",
      "text/plain": [
       "<Figure size 864x360 with 2 Axes>"
      ]
     },
     "metadata": {
      "needs_background": "light"
     },
     "output_type": "display_data"
    },
    {
     "name": "stdout",
     "output_type": "stream",
     "text": [
      "time: 1.41 s (started: 2023-02-20 19:19:29 +09:00)\n"
     ]
    }
   ],
   "source": [
    "fig, (ax1, ax2) = plt.subplots(1,2, figsize=(12,5))\n",
    "_ = sns.lineplot(data=df_compare.reset_index(), x='start', y='return', hue='scenario', ax=ax1)\n",
    "_ = sns.boxplot(data=df_compare.reset_index(), x='scenario', y='return', ax=ax2)"
   ]
  },
  {
   "cell_type": "markdown",
   "id": "729f4b39-3293-4b23-88ee-3e1fa03a0778",
   "metadata": {},
   "source": [
    "# Comparison"
   ]
  },
  {
   "cell_type": "code",
   "execution_count": 56,
   "id": "5a1e35b5-a1ae-4ae8-992a-d6f97f113771",
   "metadata": {
    "tags": []
   },
   "outputs": [
    {
     "data": {
      "image/png": "[encoded data removed]",
      "text/plain": [
       "<Figure size 864x360 with 2 Axes>"
      ]
     },
     "metadata": {
      "needs_background": "light"
     },
     "output_type": "display_data"
    },
    {
     "name": "stdout",
     "output_type": "stream",
     "text": [
      "time: 1.41 s (started: 2023-02-20 19:19:29 +09:00)\n"
     ]
    }
   ],
   "source": [
    "fig, (ax1, ax2) = plt.subplots(1,2, figsize=(12,5))\n",
    "_ = sns.lineplot(data=df_compare.reset_index(), x='start', y='return', hue='scenario', ax=ax1)\n",
    "_ = sns.boxplot(data=df_compare.reset_index(), x='scenario', y='return', ax=ax2)"
   ]
  },
  {
   "cell_type": "code",
   "execution_count": null,
   "id": "a36ea66d-cac1-42d5-9580-3f026117bfdd",
   "metadata": {},
   "outputs": [],
   "source": []
  }
 ],
 "metadata": {
  "kernelspec": {
   "display_name": "Python 3",
   "language": "python",
   "name": "python3"
  },
  "language_info": {
   "codemirror_mode": {
    "name": "ipython",
    "version": 3
   },
   "file_extension": ".py",
   "mimetype": "text/x-python",
   "name": "python",
   "nbconvert_exporter": "python",
   "pygments_lexer": "ipython3",
   "version": "3.9.7"
  }
 },
 "nbformat": 4,
 "nbformat_minor": 5
}
