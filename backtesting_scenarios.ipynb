{
 "cells": [
  {
   "cell_type": "markdown",
   "id": "fe200c70-7f64-4b42-921b-4dbf19ae3700",
   "metadata": {},
   "source": [
    "# Settings"
   ]
  },
  {
   "cell_type": "code",
   "execution_count": 1,
   "id": "23caba7b-f99a-4b29-99ad-d85f00a905b7",
   "metadata": {},
   "outputs": [],
   "source": [
    "import sys\n",
    "\n",
    "# set lib path just next to current path to give priority to modules in lib\n",
    "sys.path.insert(sys.path.index('')+1, '/lib')"
   ]
  },
  {
   "cell_type": "code",
   "execution_count": 2,
   "id": "a141b869-8b6a-4f6a-bbed-e13eed408874",
   "metadata": {},
   "outputs": [
    {
     "name": "stdout",
     "output_type": "stream",
     "text": [
      "time: 6.79 s (started: 2023-02-23 12:18:40 +09:00)\n"
     ]
    }
   ],
   "source": [
    "%load_ext autotime\n",
    "\n",
    "import pandas as pd\n",
    "import FinanceDataReader as fdr\n",
    "\n",
    "from lib.fastquant import backtest_portfolio\n",
    "from lib.utils import HiddenPrints, DATE_FORMAT\n",
    "from datetime import datetime, timedelta\n",
    "\n",
    "from matplotlib import pyplot as plt\n",
    "from matplotlib.gridspec import GridSpec\n",
    "import seaborn as sns\n",
    "import numpy as np"
   ]
  },
  {
   "cell_type": "code",
   "execution_count": 3,
   "id": "27a6a548-4e13-4533-958e-8a74c4c58c77",
   "metadata": {},
   "outputs": [
    {
     "name": "stdout",
     "output_type": "stream",
     "text": [
      "time: 261 ms (started: 2023-02-23 12:18:47 +09:00)\n"
     ]
    }
   ],
   "source": [
    "start = '20180101'\n",
    "end = '20221231'\n",
    "\n",
    "symbol = '069500' # KODEX 200\n",
    "df_all = fdr.DataReader(symbol, start, end)"
   ]
  },
  {
   "cell_type": "code",
   "execution_count": 4,
   "id": "dcd6b7dd-e64a-4591-ac0c-356895bb73c2",
   "metadata": {},
   "outputs": [
    {
     "name": "stdout",
     "output_type": "stream",
     "text": [
      "time: 2.31 ms (started: 2023-02-23 12:18:48 +09:00)\n"
     ]
    }
   ],
   "source": [
    "def run_backtest(start, df_bt, kwargs, proba=1, strategy='custom'):\n",
    "    \n",
    "    df = df_bt.copy()\n",
    "    end = start + timedelta(hold_period)\n",
    "    df = df.loc[start:end]\n",
    "    if proba < 1:\n",
    "        df.loc[:,'custom'] = df.custom.apply(lambda x:x*np.random.choice(2, 1, p=[1.-proba, proba])[0])\n",
    "    df = {symbol: df}\n",
    "    with HiddenPrints(mark_end=False):\n",
    "        result = backtest_portfolio(strategy, df, start.strftime(DATE_FORMAT), end.strftime(DATE_FORMAT), **kwargs)\n",
    "    #return result # testing\n",
    "        \n",
    "    #if np.isnan(result['history']['win_rate'].squeeze()):\n",
    "    if result['history']['len'].squeeze() == 0:\n",
    "        #return [start, end, None, None, None] # last col 'return' cast to NaT instead of None \n",
    "        return [start, end, -1, None, None]\n",
    "    else:\n",
    "        return [start, end] + result['summary']\n",
    "    \n",
    "\n",
    "def print_progress(i, print_step, last_print):\n",
    "    n = round((i+1) / n_dates * 100)\n",
    "    if n != last_print and n % (print_step*100) == 0:\n",
    "        print(f'{n}% done')\n",
    "        return n\n",
    "    else:\n",
    "        return last_print"
   ]
  },
  {
   "cell_type": "code",
   "execution_count": 5,
   "id": "d5f1c908-9c66-493a-bd3e-9c6751f5a9a7",
   "metadata": {},
   "outputs": [
    {
     "name": "stdout",
     "output_type": "stream",
     "text": [
      "time: 1.62 ms (started: 2023-02-23 12:18:48 +09:00)\n"
     ]
    }
   ],
   "source": [
    "df_compare = pd.DataFrame()"
   ]
  },
  {
   "cell_type": "markdown",
   "id": "8912ca93-96da-4eef-ac35-cf8410cb5030",
   "metadata": {},
   "source": [
    "# Buy & hold"
   ]
  },
  {
   "cell_type": "markdown",
   "id": "139e0445-cba8-46c5-a68a-3645b9685431",
   "metadata": {},
   "source": [
    "## Settings"
   ]
  },
  {
   "cell_type": "code",
   "execution_count": 6,
   "id": "47a5c216-ea9b-41d6-a94c-915e82444774",
   "metadata": {},
   "outputs": [
    {
     "name": "stdout",
     "output_type": "stream",
     "text": [
      "time: 7.12 ms (started: 2023-02-23 12:18:48 +09:00)\n"
     ]
    }
   ],
   "source": [
    "df_bt = (df_all.Close.rename_axis('dt').to_frame('close')\n",
    "               .assign(custom=0))\n",
    "dates_all = df_bt.index"
   ]
  },
  {
   "cell_type": "code",
   "execution_count": 7,
   "id": "69ecda4f-746b-4224-90c9-982c5cb3ff0a",
   "metadata": {},
   "outputs": [
    {
     "name": "stdout",
     "output_type": "stream",
     "text": [
      "time: 7.68 ms (started: 2023-02-23 12:18:49 +09:00)\n"
     ]
    }
   ],
   "source": [
    "hold_period = 365\n",
    "dates_start = df_bt.loc[: dates_all[-1] - timedelta(hold_period)].index\n",
    "n_dates = dates_start.size"
   ]
  },
  {
   "cell_type": "code",
   "execution_count": 8,
   "id": "f157f6aa-ce43-4953-b67d-72456c468125",
   "metadata": {},
   "outputs": [
    {
     "name": "stdout",
     "output_type": "stream",
     "text": [
      "time: 7.1 ms (started: 2023-02-23 12:18:49 +09:00)\n"
     ]
    }
   ],
   "source": [
    "kwargs_bt = {\n",
    "    'init_cash': 1e7, \n",
    "    'commission': 0.00363960/100,\n",
    "    'verbose': False, \n",
    "    'plot_bp':False,\n",
    "    'buy_prop': 1,\n",
    "    'sell_prop': 1,\n",
    "    'upper_limit':0.1, \n",
    "    'lower_limit':-0.1\n",
    "}"
   ]
  },
  {
   "cell_type": "code",
   "execution_count": 9,
   "id": "a6f5a352-b29f-443b-ab05-65064e7798a2",
   "metadata": {},
   "outputs": [
    {
     "name": "stdout",
     "output_type": "stream",
     "text": [
      "time: 6.51 ms (started: 2023-02-23 12:18:50 +09:00)\n"
     ]
    }
   ],
   "source": [
    "# testing\n",
    "#dates_start = dates_start[:50]"
   ]
  },
  {
   "cell_type": "markdown",
   "id": "c11ddbc1-a117-4d2c-8a61-76d6693b2782",
   "metadata": {},
   "source": [
    "## SC01"
   ]
  },
  {
   "cell_type": "code",
   "execution_count": 10,
   "id": "c3532f4f-177a-424c-b368-0332c0c639a8",
   "metadata": {},
   "outputs": [
    {
     "name": "stdout",
     "output_type": "stream",
     "text": [
      "time: 1e+03 µs (started: 2023-02-23 12:18:51 +09:00)\n"
     ]
    }
   ],
   "source": [
    "scenario = 'b1'\n",
    "n_buy = 1\n",
    "\n",
    "kwargs_bt.update({\n",
    "    'buy_prop': 1/n_buy,\n",
    "})"
   ]
  },
  {
   "cell_type": "code",
   "execution_count": 11,
   "id": "cb3257b7-3613-4fa0-b452-314bb862f7bd",
   "metadata": {},
   "outputs": [
    {
     "name": "stdout",
     "output_type": "stream",
     "text": [
      "10 % done\n",
      "20 % done\n",
      "30 % done\n",
      "40 % done\n",
      "50 % done\n",
      "60 % done\n",
      "70 % done\n",
      "80 % done\n",
      "90 % done\n",
      "100 % done\n",
      "time: 13min 6s (started: 2023-02-23 12:18:52 +09:00)\n"
     ]
    }
   ],
   "source": [
    "df_result = pd.DataFrame(columns=['start', 'end', 'init', 'final', 'return'])\n",
    "print_step = 0.1\n",
    "n_last = 0\n",
    "\n",
    "for i, start in enumerate(dates_start):\n",
    "    df_bt['custom'] = 0 # reset\n",
    "    df_bt.loc[start,'custom'] = -1\n",
    "    \n",
    "    df_result.loc[i] = run_backtest(start, df_bt, kwargs_bt)\n",
    "    \n",
    "    n_last = print_progress(i, print_step, n_last)"
   ]
  },
  {
   "cell_type": "code",
   "execution_count": 12,
   "id": "1b0070bc-84f7-4a88-9af2-0fa1ad05f9c3",
   "metadata": {},
   "outputs": [
    {
     "data": {
      "text/plain": [
       "mean      6.723509\n",
       "min     -29.578320\n",
       "max     111.056006\n",
       "Name: return, dtype: float64"
      ]
     },
     "execution_count": 12,
     "metadata": {},
     "output_type": "execute_result"
    },
    {
     "name": "stdout",
     "output_type": "stream",
     "text": [
      "time: 19.3 ms (started: 2023-02-23 12:31:58 +09:00)\n"
     ]
    }
   ],
   "source": [
    "df_result['return'].agg(['mean','min','max'])"
   ]
  },
  {
   "cell_type": "code",
   "execution_count": 13,
   "id": "1ec190b8-9722-4725-bfec-9576afa2b903",
   "metadata": {},
   "outputs": [
    {
     "name": "stdout",
     "output_type": "stream",
     "text": [
      "time: 10.9 ms (started: 2023-02-23 12:31:58 +09:00)\n"
     ]
    }
   ],
   "source": [
    "df = df_result.set_index('start').loc[:,'return'].to_frame().assign(scenario=scenario)\n",
    "df_compare = pd.concat([df_compare, df]) "
   ]
  },
  {
   "cell_type": "markdown",
   "id": "ceed01cf-7d9e-4172-aca0-6fb0d1134fe4",
   "metadata": {},
   "source": [
    "## SC02"
   ]
  },
  {
   "cell_type": "code",
   "execution_count": 14,
   "id": "7fbbdb66-80c2-440f-93f5-b63e8eaeff8c",
   "metadata": {},
   "outputs": [
    {
     "name": "stdout",
     "output_type": "stream",
     "text": [
      "time: 7.29 ms (started: 2023-02-23 12:32:42 +09:00)\n"
     ]
    }
   ],
   "source": [
    "scenario = 'b2'\n",
    "n_buy = 10\n",
    "\n",
    "kwargs_bt.update({\n",
    "    'buy_prop': 1/n_buy,\n",
    "})"
   ]
  },
  {
   "cell_type": "code",
   "execution_count": 15,
   "id": "2bd4a84b-8251-4f00-abdf-c0e97d50ccaa",
   "metadata": {},
   "outputs": [
    {
     "name": "stdout",
     "output_type": "stream",
     "text": [
      "10 % done\n",
      "20 % done\n",
      "30 % done\n",
      "40 % done\n",
      "50 % done\n",
      "60 % done\n",
      "70 % done\n",
      "80 % done\n",
      "90 % done\n",
      "100 % done\n",
      "time: 14min (started: 2023-02-23 12:32:45 +09:00)\n"
     ]
    }
   ],
   "source": [
    "df_result = pd.DataFrame(columns=['start', 'end', 'init', 'final', 'return'])\n",
    "print_step = 0.1\n",
    "n_last = 0\n",
    "\n",
    "period = 20\n",
    "\n",
    "for i, start in enumerate(dates_start):\n",
    "    df_bt['custom'] = 0 # reset\n",
    "    dt = dates_all[[i + x*period for x in range(n_buy)]]\n",
    "    df_bt.loc[dt,'custom'] = -1\n",
    "    \n",
    "    df_result.loc[i] = run_backtest(start, df_bt, kwargs_bt)\n",
    "    \n",
    "    n_last = print_progress(i, print_step, n_last)"
   ]
  },
  {
   "cell_type": "code",
   "execution_count": 16,
   "id": "b1ca26bc-4767-41b8-bdf1-f3d80a44846c",
   "metadata": {},
   "outputs": [
    {
     "data": {
      "text/plain": [
       "mean     2.625810\n",
       "min    -16.512425\n",
       "max     38.402674\n",
       "Name: return, dtype: float64"
      ]
     },
     "execution_count": 16,
     "metadata": {},
     "output_type": "execute_result"
    },
    {
     "name": "stdout",
     "output_type": "stream",
     "text": [
      "time: 21.3 ms (started: 2023-02-23 12:46:46 +09:00)\n"
     ]
    }
   ],
   "source": [
    "df_result['return'].agg(['mean','min','max'])"
   ]
  },
  {
   "cell_type": "code",
   "execution_count": 17,
   "id": "b2c50990-5ae6-46fe-8f10-36d9d2cc4875",
   "metadata": {},
   "outputs": [
    {
     "name": "stdout",
     "output_type": "stream",
     "text": [
      "time: 22.4 ms (started: 2023-02-23 12:46:46 +09:00)\n"
     ]
    }
   ],
   "source": [
    "df = df_result.set_index('start').loc[:,'return'].to_frame().assign(scenario=scenario)\n",
    "df_compare = pd.concat([df_compare, df]) "
   ]
  },
  {
   "cell_type": "markdown",
   "id": "ed7bbf40-ec2b-4f9a-ba91-329345ca8bb8",
   "metadata": {},
   "source": [
    "## SC03"
   ]
  },
  {
   "cell_type": "code",
   "execution_count": 18,
   "id": "20afb37d-4747-4530-a777-08e45e65e50a",
   "metadata": {},
   "outputs": [
    {
     "name": "stdout",
     "output_type": "stream",
     "text": [
      "time: 1.06 ms (started: 2023-02-23 12:46:46 +09:00)\n"
     ]
    }
   ],
   "source": [
    "scenario = 'b3'\n",
    "n_buy = 20\n",
    "\n",
    "kwargs_bt.update({\n",
    "    'buy_prop': 1/n_buy,\n",
    "})"
   ]
  },
  {
   "cell_type": "code",
   "execution_count": 19,
   "id": "bc344817-e61f-480b-8e34-f2f351f1a1b6",
   "metadata": {},
   "outputs": [
    {
     "name": "stdout",
     "output_type": "stream",
     "text": [
      "10 % done\n",
      "20 % done\n",
      "30 % done\n",
      "40 % done\n",
      "50 % done\n",
      "60 % done\n",
      "70 % done\n",
      "80 % done\n",
      "90 % done\n",
      "100 % done\n",
      "time: 15min 10s (started: 2023-02-23 12:46:46 +09:00)\n"
     ]
    }
   ],
   "source": [
    "df_result = pd.DataFrame(columns=['start', 'end', 'init', 'final', 'return'])\n",
    "print_step = 0.1\n",
    "n_last = 0\n",
    "\n",
    "period = 10\n",
    "\n",
    "for i, start in enumerate(dates_start):\n",
    "    df_bt['custom'] = 0 # reset\n",
    "    dt = dates_all[[i + x*period for x in range(n_buy)]]\n",
    "    df_bt.loc[dt,'custom'] = -1\n",
    "    \n",
    "    df_result.loc[i] = run_backtest(start, df_bt, kwargs_bt)\n",
    "    \n",
    "    n_last = print_progress(i, print_step, n_last)"
   ]
  },
  {
   "cell_type": "code",
   "execution_count": 20,
   "id": "2f1ceb69-326a-45d0-bca9-8b2437b53a27",
   "metadata": {},
   "outputs": [
    {
     "data": {
      "text/plain": [
       "mean     2.453650\n",
       "min    -16.298809\n",
       "max     36.055343\n",
       "Name: return, dtype: float64"
      ]
     },
     "execution_count": 20,
     "metadata": {},
     "output_type": "execute_result"
    },
    {
     "name": "stdout",
     "output_type": "stream",
     "text": [
      "time: 21 ms (started: 2023-02-23 13:01:56 +09:00)\n"
     ]
    }
   ],
   "source": [
    "df_result['return'].agg(['mean','min','max'])"
   ]
  },
  {
   "cell_type": "code",
   "execution_count": 21,
   "id": "f89bdc9e-e05d-4510-8300-b07d5ce8e389",
   "metadata": {},
   "outputs": [
    {
     "name": "stdout",
     "output_type": "stream",
     "text": [
      "time: 18.3 ms (started: 2023-02-23 13:01:56 +09:00)\n"
     ]
    }
   ],
   "source": [
    "df = df_result.set_index('start').loc[:,'return'].to_frame().assign(scenario=scenario)\n",
    "df_compare = pd.concat([df_compare, df]) "
   ]
  },
  {
   "cell_type": "markdown",
   "id": "76ab9835-daa9-4f43-84de-8d2ebdcab207",
   "metadata": {},
   "source": [
    "## Compare"
   ]
  },
  {
   "cell_type": "code",
   "execution_count": 23,
   "id": "3fed059d-5f92-4e52-acf7-b776e6e0f74c",
   "metadata": {
    "tags": []
   },
   "outputs": [
    {
     "data": {
      "image/png": "[encoded data removed]",
      "text/plain": [
       "<Figure size 864x288 with 2 Axes>"
      ]
     },
     "metadata": {
      "needs_background": "light"
     },
     "output_type": "display_data"
    },
    {
     "name": "stdout",
     "output_type": "stream",
     "text": [
      "time: 1.35 s (started: 2023-02-23 13:01:56 +09:00)\n"
     ]
    }
   ],
   "source": [
    "fig = plt.figure(figsize=(12, 4))\n",
    "fig.suptitle(\"buy & hold for a year\")\n",
    "gs = GridSpec(1, 2, width_ratios=[2, 1])\n",
    "ax1 = fig.add_subplot(gs[0])\n",
    "ax2 = fig.add_subplot(gs[1])\n",
    "\n",
    "df = df_compare.dropna(subset='return').reset_index()\n",
    "_ = sns.lineplot(data=df, x='start', y='return', hue='scenario', ax=ax1)\n",
    "_ = sns.boxplot(data=df, x='scenario', y='return', ax=ax2)"
   ]
  },
  {
   "cell_type": "markdown",
   "id": "f5a88073-349f-42e9-9c2c-30c79ee61f80",
   "metadata": {},
   "source": [
    "# Technical Indicator"
   ]
  },
  {
   "cell_type": "markdown",
   "id": "73325bef-9885-4482-b68f-2511d24ea567",
   "metadata": {},
   "source": [
    "## Settings"
   ]
  },
  {
   "cell_type": "code",
   "execution_count": 24,
   "id": "c46e0f2b-b87f-4acb-abd2-de65372a8814",
   "metadata": {},
   "outputs": [
    {
     "name": "stdout",
     "output_type": "stream",
     "text": [
      "time: 17.2 ms (started: 2023-02-23 13:02:30 +09:00)\n"
     ]
    }
   ],
   "source": [
    "import tulipy as ti"
   ]
  },
  {
   "cell_type": "code",
   "execution_count": 25,
   "id": "3ce3de3e-413e-4170-bf8a-84af20fad152",
   "metadata": {},
   "outputs": [
    {
     "name": "stdout",
     "output_type": "stream",
     "text": [
      "time: 3.78 ms (started: 2023-02-23 13:02:31 +09:00)\n"
     ]
    }
   ],
   "source": [
    "def calc_macd(df, periods=[12,26,9]):\n",
    "    ind = ti.macd(df.astype(float).to_numpy(), *periods)\n",
    "\n",
    "    name = 'macd'\n",
    "    cols = [name, name+'_signal', name+'_histogram']\n",
    "    \n",
    "    index_size = len(df.index)\n",
    "    indi = np.full((len(cols), index_size), np.nan)\n",
    "    indi[:, index_size-ind[0].size:] = ind\n",
    "    \n",
    "    return pd.DataFrame(dict(zip(cols, indi)), index=df.index)\n",
    "\n",
    "\n",
    "def calc_bbands(df, periods=[20,2]):\n",
    "    ind = ti.bbands(df.astype(float).to_numpy(), *periods)\n",
    "\n",
    "    name = 'bbands'\n",
    "    cols = [name+'_lower', name+'_middle', name+'_upper']\n",
    "    \n",
    "    index_size = len(df.index)\n",
    "    indi = np.full((len(cols), index_size), np.nan)\n",
    "    indi[:, index_size-ind[0].size:] = ind\n",
    "    \n",
    "    return pd.DataFrame(dict(zip(cols, indi)), index=df.index)\n",
    "\n",
    "\n",
    "def finish_custom(df_bt):\n",
    "    df = df_bt.copy()\n",
    "    prv = 0\n",
    "    for dt, (_, c) in df.iterrows():\n",
    "        if c in [1, -1]:\n",
    "            if c == prv:\n",
    "                df.loc[dt, 'custom'] = 0\n",
    "            else:\n",
    "                prv = c\n",
    "        else:\n",
    "            prv = 0\n",
    "    return df\n",
    "\n",
    "\n",
    "def check_scenario(idx_nobuy, i=None, df_result=None):\n",
    "    if df_result is None:\n",
    "        n = len(idx_nobuy)\n",
    "        if n > 0:\n",
    "            print(f'{n} scenarios of no buy.')\n",
    "        return None\n",
    "    if pd.isnull(df_result.loc[i]['return']):\n",
    "        idx_nobuy.append(i)\n",
    "        n = len(idx_nobuy)\n",
    "        if n < 2:\n",
    "            print(f'{i}: No buy at all')\n",
    "        elif n == 2:\n",
    "            print('there are more scenarios of no buy.')\n",
    "        else:\n",
    "            pass\n",
    "    return idx_nobuy"
   ]
  },
  {
   "cell_type": "code",
   "execution_count": 75,
   "id": "9ecbb3f8-9fc5-4a7e-81e7-6533715aeee8",
   "metadata": {},
   "outputs": [
    {
     "name": "stdout",
     "output_type": "stream",
     "text": [
      "time: 12.9 ms (started: 2023-02-23 14:48:52 +09:00)\n"
     ]
    }
   ],
   "source": [
    "df_bt_ori = (df_all.Close.rename_axis('dt').to_frame('close')\n",
    "               .assign(custom=0))\n",
    "dates_all = df_bt_ori.index"
   ]
  },
  {
   "cell_type": "code",
   "execution_count": 76,
   "id": "5770cc6f-f95b-4fa6-95df-7234c964e588",
   "metadata": {},
   "outputs": [
    {
     "name": "stdout",
     "output_type": "stream",
     "text": [
      "time: 3.03 ms (started: 2023-02-23 14:48:53 +09:00)\n"
     ]
    }
   ],
   "source": [
    "hold_period = 365\n",
    "dates_start = df_bt_ori.loc[: dates_all[-1] - timedelta(hold_period)].index\n",
    "n_dates = dates_start.size"
   ]
  },
  {
   "cell_type": "code",
   "execution_count": 31,
   "id": "3e168f99-b5d1-481b-8351-6235bc935dee",
   "metadata": {},
   "outputs": [
    {
     "name": "stdout",
     "output_type": "stream",
     "text": [
      "time: 1.08 ms (started: 2023-02-23 13:02:54 +09:00)\n"
     ]
    }
   ],
   "source": [
    "kwargs_bt = {\n",
    "    'init_cash': 1e7, \n",
    "    'commission': 0.00363960/100,\n",
    "    'verbose': False, \n",
    "    'plot_bp':False,\n",
    "    'buy_prop': 1,\n",
    "    'sell_prop': 1,\n",
    "    'upper_limit':0.1, \n",
    "    'lower_limit':-0.1\n",
    "}"
   ]
  },
  {
   "cell_type": "code",
   "execution_count": 32,
   "id": "4b3d60ad-0210-4f9a-8ff8-cfad0b195a43",
   "metadata": {},
   "outputs": [
    {
     "name": "stdout",
     "output_type": "stream",
     "text": [
      "time: 642 µs (started: 2023-02-23 13:02:55 +09:00)\n"
     ]
    }
   ],
   "source": [
    "# testing\n",
    "#dates_start = dates_start[400:500]"
   ]
  },
  {
   "cell_type": "markdown",
   "id": "08464555-d47a-48a0-8483-688464a515ba",
   "metadata": {},
   "source": [
    "## SC01: MACD"
   ]
  },
  {
   "cell_type": "markdown",
   "id": "972d4641-ada9-48e6-b411-96f21c77bc91",
   "metadata": {},
   "source": [
    "### calc tech indi"
   ]
  },
  {
   "cell_type": "code",
   "execution_count": 78,
   "id": "f3238737-6221-499d-ade0-32a68942e86b",
   "metadata": {},
   "outputs": [
    {
     "name": "stdout",
     "output_type": "stream",
     "text": [
      "time: 10.6 ms (started: 2023-02-23 14:49:23 +09:00)\n"
     ]
    }
   ],
   "source": [
    "df_bt = df_bt_ori.copy()\n",
    "df_macd = calc_macd(df_bt['close'])"
   ]
  },
  {
   "cell_type": "code",
   "execution_count": 34,
   "id": "f649a07d-7610-4902-b360-ce916e62cec4",
   "metadata": {},
   "outputs": [
    {
     "name": "stdout",
     "output_type": "stream",
     "text": [
      "time: 11.8 ms (started: 2023-02-23 13:02:57 +09:00)\n"
     ]
    }
   ],
   "source": [
    "df_ti = df_macd\n",
    "\n",
    "cond = (df_ti.macd > df_ti.macd_signal) \n",
    "cond = cond & (df_ti.macd > 0)\n",
    "df_bt.loc[cond, 'custom'] = -1\n",
    "\n",
    "cond = (df_ti.macd < df_ti.macd_signal) \n",
    "cond = cond & (df_ti.macd < 0)\n",
    "df_bt.loc[cond, 'custom'] = 1"
   ]
  },
  {
   "cell_type": "code",
   "execution_count": 35,
   "id": "c32b2416-0048-4474-b681-6e15dcd0646d",
   "metadata": {},
   "outputs": [
    {
     "name": "stdout",
     "output_type": "stream",
     "text": [
      "time: 373 ms (started: 2023-02-23 13:02:58 +09:00)\n"
     ]
    }
   ],
   "source": [
    "df_bt = finish_custom(df_bt)"
   ]
  },
  {
   "cell_type": "code",
   "execution_count": 36,
   "id": "0457a857-a101-48d9-9cd9-ed1438b6f76e",
   "metadata": {},
   "outputs": [
    {
     "data": {
      "text/plain": [
       " 0    1161\n",
       " 1      38\n",
       "-1      33\n",
       "Name: custom, dtype: int64"
      ]
     },
     "execution_count": 36,
     "metadata": {},
     "output_type": "execute_result"
    },
    {
     "name": "stdout",
     "output_type": "stream",
     "text": [
      "time: 10.4 ms (started: 2023-02-23 13:02:58 +09:00)\n"
     ]
    }
   ],
   "source": [
    "# small number of chance to buy\n",
    "df_bt.custom.value_counts()"
   ]
  },
  {
   "cell_type": "markdown",
   "id": "76991319-10f5-4c13-88f5-f7d63405c1ca",
   "metadata": {},
   "source": [
    "### bactesting 1"
   ]
  },
  {
   "cell_type": "code",
   "execution_count": 37,
   "id": "94a781c8-ec55-487e-a222-3981239c7403",
   "metadata": {},
   "outputs": [
    {
     "name": "stdout",
     "output_type": "stream",
     "text": [
      "time: 990 µs (started: 2023-02-23 13:03:02 +09:00)\n"
     ]
    }
   ],
   "source": [
    "scenario = 't1a'\n",
    "\n",
    "kwargs_bt.update({\n",
    "    'buy_prop': 1,\n",
    "    'sell_prop': 1\n",
    "})"
   ]
  },
  {
   "cell_type": "code",
   "execution_count": 39,
   "id": "9c720993-c5a9-4bab-93ef-12fd1b8ba6f6",
   "metadata": {
    "tags": []
   },
   "outputs": [
    {
     "name": "stdout",
     "output_type": "stream",
     "text": [
      "10 % done\n",
      "20 % done\n",
      "255: No buy at all\n",
      "there are more scenarios of no buy.\n",
      "30 % done\n",
      "40 % done\n",
      "50 % done\n",
      "60 % done\n",
      "70 % done\n",
      "80 % done\n",
      "90 % done\n",
      "100 % done\n",
      "40 scenarios of no buy.\n",
      "time: 16min 39s (started: 2023-02-23 13:03:52 +09:00)\n"
     ]
    }
   ],
   "source": [
    "df_result = pd.DataFrame(columns=['start', 'end', 'init', 'final', 'return'])\n",
    "print_step = 0.1\n",
    "n_last = 0\n",
    "idx_nobuy = []\n",
    "\n",
    "for i, start in enumerate(dates_start):\n",
    "    df_result.loc[i] = run_backtest(start, df_bt, kwargs_bt)\n",
    "    n_last = print_progress(i, print_step, n_last)\n",
    "    idx_nobuy = check_scenario(idx_nobuy, i, df_result)\n",
    "\n",
    "check_scenario(idx_nobuy)"
   ]
  },
  {
   "cell_type": "code",
   "execution_count": 40,
   "id": "1275433d-3752-49f3-bdae-34f61a70697d",
   "metadata": {},
   "outputs": [
    {
     "data": {
      "text/plain": [
       "mean     7.291352\n",
       "min    -12.013608\n",
       "max     57.532363\n",
       "Name: return, dtype: float64"
      ]
     },
     "execution_count": 40,
     "metadata": {},
     "output_type": "execute_result"
    },
    {
     "name": "stdout",
     "output_type": "stream",
     "text": [
      "time: 14.3 ms (started: 2023-02-23 13:20:32 +09:00)\n"
     ]
    }
   ],
   "source": [
    "df_result['return'].agg(['mean','min','max'])"
   ]
  },
  {
   "cell_type": "code",
   "execution_count": 41,
   "id": "5e59319e-1108-4ef9-a023-9c0a9b069cc9",
   "metadata": {},
   "outputs": [
    {
     "name": "stdout",
     "output_type": "stream",
     "text": [
      "time: 15.4 ms (started: 2023-02-23 13:20:32 +09:00)\n"
     ]
    }
   ],
   "source": [
    "df = df_result.set_index('start').loc[:,'return'].to_frame().assign(scenario=scenario)\n",
    "df_compare = pd.concat([df_compare, df]) "
   ]
  },
  {
   "cell_type": "markdown",
   "id": "4f870c77-235e-4491-afec-0173fd778ddd",
   "metadata": {},
   "source": [
    "### bactesting 2"
   ]
  },
  {
   "cell_type": "code",
   "execution_count": 42,
   "id": "08fc85f7-2753-47e2-938c-62dde7c5d89a",
   "metadata": {},
   "outputs": [
    {
     "name": "stdout",
     "output_type": "stream",
     "text": [
      "time: 1.01 ms (started: 2023-02-23 13:20:32 +09:00)\n"
     ]
    }
   ],
   "source": [
    "scenario = 't1b'\n",
    "\n",
    "kwargs_bt.update({\n",
    "    'buy_prop': 0.5,\n",
    "    'sell_prop': 0.5\n",
    "})"
   ]
  },
  {
   "cell_type": "code",
   "execution_count": 43,
   "id": "8e32f4ea-5607-45dc-b0ae-2c92dc0eb02a",
   "metadata": {
    "tags": []
   },
   "outputs": [
    {
     "name": "stdout",
     "output_type": "stream",
     "text": [
      "10 % done\n",
      "20 % done\n",
      "258: No buy at all\n",
      "30 % done\n",
      "there are more scenarios of no buy.\n",
      "40 % done\n",
      "50 % done\n",
      "60 % done\n",
      "70 % done\n",
      "80 % done\n",
      "90 % done\n",
      "100 % done\n",
      "33 scenarios of no buy.\n",
      "time: 18min 49s (started: 2023-02-23 13:20:32 +09:00)\n"
     ]
    }
   ],
   "source": [
    "df_result = pd.DataFrame(columns=['start', 'end', 'init', 'final', 'return'])\n",
    "print_step = 0.1\n",
    "n_last = 0\n",
    "idx_nobuy = []\n",
    "\n",
    "for i, start in enumerate(dates_start):\n",
    "    df_result.loc[i] = run_backtest(start, df_bt, kwargs_bt)\n",
    "    n_last = print_progress(i, print_step, n_last)\n",
    "    idx_nobuy = check_scenario(idx_nobuy, i, df_result)\n",
    "\n",
    "check_scenario(idx_nobuy)"
   ]
  },
  {
   "cell_type": "code",
   "execution_count": 44,
   "id": "82f02286-2e96-4ec7-97dc-592ded7ef3f1",
   "metadata": {},
   "outputs": [
    {
     "data": {
      "text/plain": [
       "mean     4.238674\n",
       "min     -6.153420\n",
       "max     36.403294\n",
       "Name: return, dtype: float64"
      ]
     },
     "execution_count": 44,
     "metadata": {},
     "output_type": "execute_result"
    },
    {
     "name": "stdout",
     "output_type": "stream",
     "text": [
      "time: 14.5 ms (started: 2023-02-23 13:39:21 +09:00)\n"
     ]
    }
   ],
   "source": [
    "df_result['return'].agg(['mean','min','max'])"
   ]
  },
  {
   "cell_type": "code",
   "execution_count": 45,
   "id": "23a58145-3bcb-4b18-9415-f161a7e0003f",
   "metadata": {},
   "outputs": [
    {
     "name": "stdout",
     "output_type": "stream",
     "text": [
      "time: 13.7 ms (started: 2023-02-23 13:39:21 +09:00)\n"
     ]
    }
   ],
   "source": [
    "df = df_result.set_index('start').loc[:,'return'].to_frame().assign(scenario=scenario)\n",
    "df_compare = pd.concat([df_compare, df]) "
   ]
  },
  {
   "cell_type": "markdown",
   "id": "a7cb488c-7fa4-4791-92b0-553dc80a9a6f",
   "metadata": {},
   "source": [
    "### bactesting 3"
   ]
  },
  {
   "cell_type": "code",
   "execution_count": 46,
   "id": "bd717f51-6eeb-4e4b-84bf-6debd842cd66",
   "metadata": {},
   "outputs": [
    {
     "name": "stdout",
     "output_type": "stream",
     "text": [
      "time: 1.15 ms (started: 2023-02-23 13:39:21 +09:00)\n"
     ]
    }
   ],
   "source": [
    "scenario = 't1c'\n",
    "\n",
    "kwargs_bt.update({\n",
    "    'buy_prop': 0.2,\n",
    "    'sell_prop': 0.2\n",
    "})"
   ]
  },
  {
   "cell_type": "code",
   "execution_count": 47,
   "id": "9a5d0aa9-9d58-4b58-9024-184d43e960d3",
   "metadata": {
    "tags": []
   },
   "outputs": [
    {
     "name": "stdout",
     "output_type": "stream",
     "text": [
      "10 % done\n",
      "20 % done\n",
      "213: No buy at all\n",
      "there are more scenarios of no buy.\n",
      "30 % done\n",
      "40 % done\n",
      "50 % done\n",
      "60 % done\n",
      "70 % done\n",
      "80 % done\n",
      "90 % done\n",
      "100 % done\n",
      "25 scenarios of no buy.\n",
      "time: 21min 46s (started: 2023-02-23 13:39:21 +09:00)\n"
     ]
    }
   ],
   "source": [
    "df_result = pd.DataFrame(columns=['start', 'end', 'init', 'final', 'return'])\n",
    "print_step = 0.1\n",
    "n_last = 0\n",
    "idx_nobuy = []\n",
    "\n",
    "for i, start in enumerate(dates_start):\n",
    "    df_result.loc[i] = run_backtest(start, df_bt, kwargs_bt)\n",
    "    n_last = print_progress(i, print_step, n_last)\n",
    "    idx_nobuy = check_scenario(idx_nobuy, i, df_result)\n",
    "\n",
    "check_scenario(idx_nobuy)"
   ]
  },
  {
   "cell_type": "code",
   "execution_count": 48,
   "id": "a5189ff7-2d6f-4f2b-a2e4-3d0e294708eb",
   "metadata": {},
   "outputs": [
    {
     "data": {
      "text/plain": [
       "mean     1.731516\n",
       "min     -3.162596\n",
       "max     16.136710\n",
       "Name: return, dtype: float64"
      ]
     },
     "execution_count": 48,
     "metadata": {},
     "output_type": "execute_result"
    },
    {
     "name": "stdout",
     "output_type": "stream",
     "text": [
      "time: 15.9 ms (started: 2023-02-23 14:01:08 +09:00)\n"
     ]
    }
   ],
   "source": [
    "df_result['return'].agg(['mean','min','max'])"
   ]
  },
  {
   "cell_type": "code",
   "execution_count": 49,
   "id": "9024a295-6be2-4e5e-819f-882e57d04a83",
   "metadata": {},
   "outputs": [
    {
     "name": "stdout",
     "output_type": "stream",
     "text": [
      "time: 12.3 ms (started: 2023-02-23 14:01:08 +09:00)\n"
     ]
    }
   ],
   "source": [
    "df = df_result.set_index('start').loc[:,'return'].to_frame().assign(scenario=scenario)\n",
    "df_compare = pd.concat([df_compare, df]) "
   ]
  },
  {
   "cell_type": "markdown",
   "id": "59d5d32a-e89d-465c-b12b-376d570f6e20",
   "metadata": {},
   "source": [
    "### bactesting 4"
   ]
  },
  {
   "cell_type": "code",
   "execution_count": 60,
   "id": "0c3cfcea-bb61-439f-9b8e-60ebf872f860",
   "metadata": {},
   "outputs": [
    {
     "name": "stdout",
     "output_type": "stream",
     "text": [
      "time: 1.21 ms (started: 2023-02-23 14:14:27 +09:00)\n"
     ]
    }
   ],
   "source": [
    "scenario = 't1d'\n",
    "\n",
    "kwargs_bt.update({\n",
    "    'buy_prop': 1,\n",
    "    'sell_prop': 1\n",
    "})\n",
    "\n",
    "proba = 0.8"
   ]
  },
  {
   "cell_type": "code",
   "execution_count": 61,
   "id": "4be056cf-12ba-4c79-b5f2-a66b990eadae",
   "metadata": {
    "tags": []
   },
   "outputs": [
    {
     "name": "stdout",
     "output_type": "stream",
     "text": [
      "36: No buy at all\n",
      "10 % done\n",
      "20 % done\n",
      "there are more scenarios of no buy.\n",
      "30 % done\n",
      "40 % done\n",
      "50 % done\n",
      "60 % done\n",
      "70 % done\n",
      "80 % done\n",
      "90 % done\n",
      "100 % done\n",
      "42 scenarios of no buy.\n",
      "time: 25min 38s (started: 2023-02-23 14:14:29 +09:00)\n"
     ]
    }
   ],
   "source": [
    "df_result = pd.DataFrame(columns=['start', 'end', 'init', 'final', 'return'])\n",
    "print_step = 0.1\n",
    "n_last = 0\n",
    "idx_nobuy = []\n",
    "\n",
    "for i, start in enumerate(dates_start):\n",
    "    df_result.loc[i] = run_backtest(start, df_bt, kwargs_bt, proba)\n",
    "    n_last = print_progress(i, print_step, n_last)\n",
    "    idx_nobuy = check_scenario(idx_nobuy, i, df_result)\n",
    "\n",
    "check_scenario(idx_nobuy)"
   ]
  },
  {
   "cell_type": "code",
   "execution_count": 62,
   "id": "0e7e8e7a-adf0-4c50-8dfa-9ea1441c959c",
   "metadata": {},
   "outputs": [
    {
     "data": {
      "text/plain": [
       "mean     6.535910\n",
       "min    -18.098724\n",
       "max     68.160862\n",
       "Name: return, dtype: float64"
      ]
     },
     "execution_count": 62,
     "metadata": {},
     "output_type": "execute_result"
    },
    {
     "name": "stdout",
     "output_type": "stream",
     "text": [
      "time: 14.9 ms (started: 2023-02-23 14:40:08 +09:00)\n"
     ]
    }
   ],
   "source": [
    "df_result['return'].agg(['mean','min','max'])"
   ]
  },
  {
   "cell_type": "code",
   "execution_count": 63,
   "id": "47766591-db15-4746-9c8c-0f8120200d68",
   "metadata": {},
   "outputs": [
    {
     "name": "stdout",
     "output_type": "stream",
     "text": [
      "time: 16.4 ms (started: 2023-02-23 14:40:08 +09:00)\n"
     ]
    }
   ],
   "source": [
    "df = df_result.set_index('start').loc[:,'return'].to_frame().assign(scenario=scenario)\n",
    "df_compare = pd.concat([df_compare, df]) "
   ]
  },
  {
   "cell_type": "code",
   "execution_count": 74,
   "id": "ec876b1b-4dfd-4e5f-a176-1350ba16ba19",
   "metadata": {},
   "outputs": [
    {
     "name": "stdout",
     "output_type": "stream",
     "text": [
      "time: 224 ms (started: 2023-02-23 14:47:22 +09:00)\n"
     ]
    }
   ],
   "source": [
    "df_compare.to_csv('df_compare_5yrs.csv')"
   ]
  },
  {
   "cell_type": "markdown",
   "id": "98406267-f8f2-4ba3-8e5c-53a9e120da9c",
   "metadata": {},
   "source": [
    "### compare"
   ]
  },
  {
   "cell_type": "code",
   "execution_count": 105,
   "id": "a8ef1a15-e6d4-403f-96f1-b90a4cfbb26f",
   "metadata": {
    "tags": []
   },
   "outputs": [
    {
     "data": {
      "image/png": "[encoded data removed]",
      "text/plain": [
       "<Figure size 1008x360 with 2 Axes>"
      ]
     },
     "metadata": {
      "needs_background": "light"
     },
     "output_type": "display_data"
    },
    {
     "name": "stdout",
     "output_type": "stream",
     "text": [
      "time: 1.39 s (started: 2023-02-23 17:23:01 +09:00)\n"
     ]
    }
   ],
   "source": [
    "fig = plt.figure(figsize=(14, 5))\n",
    "fig.suptitle(\"buy & hold for a year\")\n",
    "gs = GridSpec(1, 2, width_ratios=[2, 1])\n",
    "ax1 = fig.add_subplot(gs[0])\n",
    "ax2 = fig.add_subplot(gs[1], sharey=ax1)\n",
    "#fig.tight_layout()\n",
    "\n",
    "df = (df_compare.loc[df_compare.scenario.str.startswith('t1')]\n",
    "                .dropna(subset='return').reset_index())\n",
    "_ = sns.lineplot(data=df, x='start', y='return', hue='scenario', ax=ax1, lw=0.5)\n",
    "_ = sns.boxplot(data=df, x='scenario', y='return', ax=ax2)"
   ]
  },
  {
   "cell_type": "markdown",
   "id": "64425471-9851-4148-a59b-c136b24bdec8",
   "metadata": {},
   "source": [
    "## SC02: Bollinger Bands"
   ]
  },
  {
   "cell_type": "markdown",
   "id": "5a2f4be4-5d29-4ec3-9351-9334dc9f1242",
   "metadata": {},
   "source": [
    "### calc tech indi"
   ]
  },
  {
   "cell_type": "code",
   "execution_count": 79,
   "id": "71b0850d-a554-43e5-a7da-45a946125929",
   "metadata": {},
   "outputs": [
    {
     "name": "stdout",
     "output_type": "stream",
     "text": [
      "time: 5.56 ms (started: 2023-02-23 14:49:34 +09:00)\n"
     ]
    }
   ],
   "source": [
    "df_bt = df_bt_ori.copy()\n",
    "df_bbands = calc_bbands(df_bt['close'])\n",
    "#df_bbands = calc_bbands(df_bt['close'], [20, 1])"
   ]
  },
  {
   "cell_type": "code",
   "execution_count": 80,
   "id": "1b324a16-c636-4eb7-a2cf-7579df37df76",
   "metadata": {},
   "outputs": [
    {
     "name": "stdout",
     "output_type": "stream",
     "text": [
      "time: 8.15 ms (started: 2023-02-23 14:49:40 +09:00)\n"
     ]
    }
   ],
   "source": [
    "df_ti = df_bbands\n",
    "\n",
    "cond = df_bt.close < df_ti.bbands_lower\n",
    "df_bt.loc[cond, 'custom'] = -1\n",
    "\n",
    "cond = df_bt.close > df_ti.bbands_upper\n",
    "df_bt.loc[cond, 'custom'] = 1"
   ]
  },
  {
   "cell_type": "code",
   "execution_count": 81,
   "id": "05c71c93-b55a-44e4-a555-4cad57c74b7c",
   "metadata": {},
   "outputs": [
    {
     "name": "stdout",
     "output_type": "stream",
     "text": [
      "time: 193 ms (started: 2023-02-23 14:49:42 +09:00)\n"
     ]
    }
   ],
   "source": [
    "df_bt = finish_custom(df_bt)"
   ]
  },
  {
   "cell_type": "code",
   "execution_count": 82,
   "id": "6e0b4d2a-771f-456a-8585-1aebf1db176f",
   "metadata": {},
   "outputs": [
    {
     "data": {
      "text/plain": [
       " 0    1157\n",
       "-1      42\n",
       " 1      33\n",
       "Name: custom, dtype: int64"
      ]
     },
     "execution_count": 82,
     "metadata": {},
     "output_type": "execute_result"
    },
    {
     "name": "stdout",
     "output_type": "stream",
     "text": [
      "time: 18.3 ms (started: 2023-02-23 14:49:44 +09:00)\n"
     ]
    }
   ],
   "source": [
    "df_bt.custom.value_counts()"
   ]
  },
  {
   "cell_type": "markdown",
   "id": "054264ab-68f2-499f-af4f-64694e93d79d",
   "metadata": {},
   "source": [
    "### bactesting 1"
   ]
  },
  {
   "cell_type": "code",
   "execution_count": 83,
   "id": "c2dc8afb-4ec1-4c44-90e8-077b48fc0a07",
   "metadata": {},
   "outputs": [
    {
     "name": "stdout",
     "output_type": "stream",
     "text": [
      "time: 5.57 ms (started: 2023-02-23 14:50:05 +09:00)\n"
     ]
    }
   ],
   "source": [
    "scenario = 't2a'\n",
    "\n",
    "kwargs_bt.update({\n",
    "    'buy_prop': 1,\n",
    "    'sell_prop': 1\n",
    "})"
   ]
  },
  {
   "cell_type": "code",
   "execution_count": 84,
   "id": "3ab87e59-791b-4e3a-949e-d435abf42dde",
   "metadata": {
    "tags": []
   },
   "outputs": [
    {
     "name": "stdout",
     "output_type": "stream",
     "text": [
      "10 % done\n",
      "107: No buy at all\n",
      "there are more scenarios of no buy.\n",
      "20 % done\n",
      "30 % done\n",
      "40 % done\n",
      "50 % done\n",
      "60 % done\n",
      "70 % done\n",
      "80 % done\n",
      "90 % done\n",
      "100 % done\n",
      "72 scenarios of no buy.\n",
      "time: 29min 5s (started: 2023-02-23 14:50:07 +09:00)\n"
     ]
    }
   ],
   "source": [
    "df_result = pd.DataFrame(columns=['start', 'end', 'init', 'final', 'return'])\n",
    "print_step = 0.1\n",
    "n_last = 0\n",
    "idx_nobuy = []\n",
    "\n",
    "for i, start in enumerate(dates_start):\n",
    "    df_result.loc[i] = run_backtest(start, df_bt, kwargs_bt)\n",
    "    n_last = print_progress(i, print_step, n_last)\n",
    "    idx_nobuy = check_scenario(idx_nobuy, i, df_result)\n",
    "\n",
    "check_scenario(idx_nobuy)"
   ]
  },
  {
   "cell_type": "code",
   "execution_count": 85,
   "id": "79794a4d-9efc-456e-b221-61b74799719e",
   "metadata": {},
   "outputs": [
    {
     "data": {
      "text/plain": [
       "mean    -2.072691\n",
       "min    -25.756412\n",
       "max     19.857751\n",
       "Name: return, dtype: float64"
      ]
     },
     "execution_count": 85,
     "metadata": {},
     "output_type": "execute_result"
    },
    {
     "name": "stdout",
     "output_type": "stream",
     "text": [
      "time: 15.5 ms (started: 2023-02-23 15:19:12 +09:00)\n"
     ]
    }
   ],
   "source": [
    "df_result['return'].agg(['mean','min','max'])"
   ]
  },
  {
   "cell_type": "code",
   "execution_count": 86,
   "id": "44fc660b-2869-4ea9-9881-64f8d159a502",
   "metadata": {},
   "outputs": [
    {
     "name": "stdout",
     "output_type": "stream",
     "text": [
      "time: 11.4 ms (started: 2023-02-23 15:19:12 +09:00)\n"
     ]
    }
   ],
   "source": [
    "df = df_result.set_index('start').loc[:,'return'].to_frame().assign(scenario=scenario)\n",
    "df_compare = pd.concat([df_compare, df]) "
   ]
  },
  {
   "cell_type": "markdown",
   "id": "12ff8420-8965-477b-9623-20b2a44b5a25",
   "metadata": {},
   "source": [
    "### bactesting 2"
   ]
  },
  {
   "cell_type": "code",
   "execution_count": 87,
   "id": "b075f2ba-6919-4139-b6ce-ebf0ab16b8a8",
   "metadata": {},
   "outputs": [
    {
     "name": "stdout",
     "output_type": "stream",
     "text": [
      "time: 1.03 ms (started: 2023-02-23 15:19:12 +09:00)\n"
     ]
    }
   ],
   "source": [
    "scenario = 't2b'\n",
    "\n",
    "kwargs_bt.update({\n",
    "    'buy_prop': 0.5,\n",
    "    'sell_prop': 0.5\n",
    "})"
   ]
  },
  {
   "cell_type": "code",
   "execution_count": 88,
   "id": "6fc96423-b149-43e1-9867-79265354a0dd",
   "metadata": {
    "tags": []
   },
   "outputs": [
    {
     "name": "stdout",
     "output_type": "stream",
     "text": [
      "10 % done\n",
      "107: No buy at all\n",
      "there are more scenarios of no buy.\n",
      "20 % done\n",
      "30 % done\n",
      "40 % done\n",
      "50 % done\n",
      "60 % done\n",
      "70 % done\n",
      "80 % done\n",
      "90 % done\n",
      "100 % done\n",
      "79 scenarios of no buy.\n",
      "time: 33min 50s (started: 2023-02-23 15:19:13 +09:00)\n"
     ]
    }
   ],
   "source": [
    "df_result = pd.DataFrame(columns=['start', 'end', 'init', 'final', 'return'])\n",
    "print_step = 0.1\n",
    "n_last = 0\n",
    "idx_nobuy = []\n",
    "\n",
    "for i, start in enumerate(dates_start):\n",
    "    df_result.loc[i] = run_backtest(start, df_bt, kwargs_bt)\n",
    "    n_last = print_progress(i, print_step, n_last)\n",
    "    idx_nobuy = check_scenario(idx_nobuy, i, df_result)\n",
    "\n",
    "check_scenario(idx_nobuy)"
   ]
  },
  {
   "cell_type": "code",
   "execution_count": 89,
   "id": "796bf951-3401-43e4-a5cb-26c8c20789b6",
   "metadata": {},
   "outputs": [
    {
     "data": {
      "text/plain": [
       "mean    -2.049049\n",
       "min    -24.544178\n",
       "max     13.797432\n",
       "Name: return, dtype: float64"
      ]
     },
     "execution_count": 89,
     "metadata": {},
     "output_type": "execute_result"
    },
    {
     "name": "stdout",
     "output_type": "stream",
     "text": [
      "time: 12.8 ms (started: 2023-02-23 15:53:03 +09:00)\n"
     ]
    }
   ],
   "source": [
    "df_result['return'].agg(['mean','min','max'])"
   ]
  },
  {
   "cell_type": "code",
   "execution_count": 90,
   "id": "f43a02a2-87a9-4923-a954-8a6815c37336",
   "metadata": {},
   "outputs": [
    {
     "name": "stdout",
     "output_type": "stream",
     "text": [
      "time: 13.9 ms (started: 2023-02-23 15:53:03 +09:00)\n"
     ]
    }
   ],
   "source": [
    "df = df_result.set_index('start').loc[:,'return'].to_frame().assign(scenario=scenario)\n",
    "df_compare = pd.concat([df_compare, df]) "
   ]
  },
  {
   "cell_type": "markdown",
   "id": "9944673e-eec2-4ae2-849b-37f55886e799",
   "metadata": {},
   "source": [
    "### bactesting 3"
   ]
  },
  {
   "cell_type": "code",
   "execution_count": 91,
   "id": "0adae720-6c3b-444c-b545-e0e4ff8a17c4",
   "metadata": {},
   "outputs": [
    {
     "name": "stdout",
     "output_type": "stream",
     "text": [
      "time: 1.02 ms (started: 2023-02-23 15:53:03 +09:00)\n"
     ]
    }
   ],
   "source": [
    "scenario = 't2c'\n",
    "\n",
    "kwargs_bt.update({\n",
    "    'buy_prop': 0.2,\n",
    "    'sell_prop': 0.2\n",
    "})"
   ]
  },
  {
   "cell_type": "code",
   "execution_count": 92,
   "id": "9b692d4f-a632-4cb1-bb7b-9c03dfb34bbc",
   "metadata": {
    "tags": []
   },
   "outputs": [
    {
     "name": "stdout",
     "output_type": "stream",
     "text": [
      "62: No buy at all\n",
      "there are more scenarios of no buy.\n",
      "10 % done\n",
      "20 % done\n",
      "30 % done\n",
      "40 % done\n",
      "50 % done\n",
      "60 % done\n",
      "70 % done\n",
      "80 % done\n",
      "90 % done\n",
      "100 % done\n",
      "111 scenarios of no buy.\n",
      "time: 38min 46s (started: 2023-02-23 15:53:04 +09:00)\n"
     ]
    }
   ],
   "source": [
    "df_result = pd.DataFrame(columns=['start', 'end', 'init', 'final', 'return'])\n",
    "print_step = 0.1\n",
    "n_last = 0\n",
    "idx_nobuy = []\n",
    "\n",
    "for i, start in enumerate(dates_start):\n",
    "    df_result.loc[i] = run_backtest(start, df_bt, kwargs_bt)\n",
    "    n_last = print_progress(i, print_step, n_last)\n",
    "    idx_nobuy = check_scenario(idx_nobuy, i, df_result)\n",
    "\n",
    "check_scenario(idx_nobuy)"
   ]
  },
  {
   "cell_type": "code",
   "execution_count": 93,
   "id": "95a562c1-5434-458e-be81-60fcbd0f21cd",
   "metadata": {},
   "outputs": [
    {
     "data": {
      "text/plain": [
       "mean    -1.976350\n",
       "min    -20.921568\n",
       "max      6.320392\n",
       "Name: return, dtype: float64"
      ]
     },
     "execution_count": 93,
     "metadata": {},
     "output_type": "execute_result"
    },
    {
     "name": "stdout",
     "output_type": "stream",
     "text": [
      "time: 18.8 ms (started: 2023-02-23 16:31:50 +09:00)\n"
     ]
    }
   ],
   "source": [
    "df_result['return'].agg(['mean','min','max'])"
   ]
  },
  {
   "cell_type": "code",
   "execution_count": 94,
   "id": "972832ae-fa61-48b9-bd60-522c3bde8fc5",
   "metadata": {},
   "outputs": [
    {
     "name": "stdout",
     "output_type": "stream",
     "text": [
      "time: 22 ms (started: 2023-02-23 16:31:50 +09:00)\n"
     ]
    }
   ],
   "source": [
    "df = df_result.set_index('start').loc[:,'return'].to_frame().assign(scenario=scenario)\n",
    "df_compare = pd.concat([df_compare, df]) "
   ]
  },
  {
   "cell_type": "markdown",
   "id": "7fe0b1a4-e94d-4a6e-93bc-e2753c06c098",
   "metadata": {},
   "source": [
    "### bactesting 4"
   ]
  },
  {
   "cell_type": "code",
   "execution_count": 95,
   "id": "dcbfa747-f601-46bf-a236-214a8f2c9a9e",
   "metadata": {},
   "outputs": [
    {
     "name": "stdout",
     "output_type": "stream",
     "text": [
      "time: 1.14 ms (started: 2023-02-23 16:31:50 +09:00)\n"
     ]
    }
   ],
   "source": [
    "scenario = 't2d'\n",
    "\n",
    "kwargs_bt.update({\n",
    "    'buy_prop': 0.2,\n",
    "    'sell_prop': 0.2\n",
    "})\n",
    "\n",
    "proba = 0.5"
   ]
  },
  {
   "cell_type": "code",
   "execution_count": 96,
   "id": "9608add3-870e-4b6c-8255-5e1c259e1040",
   "metadata": {
    "tags": []
   },
   "outputs": [
    {
     "name": "stdout",
     "output_type": "stream",
     "text": [
      "17: No buy at all\n",
      "there are more scenarios of no buy.\n",
      "10 % done\n",
      "20 % done\n",
      "30 % done\n",
      "40 % done\n",
      "50 % done\n",
      "60 % done\n",
      "70 % done\n",
      "80 % done\n",
      "90 % done\n",
      "100 % done\n",
      "133 scenarios of no buy.\n",
      "time: 45min (started: 2023-02-23 16:31:51 +09:00)\n"
     ]
    }
   ],
   "source": [
    "df_result = pd.DataFrame(columns=['start', 'end', 'init', 'final', 'return'])\n",
    "print_step = 0.1\n",
    "n_last = 0\n",
    "idx_nobuy = []\n",
    "\n",
    "for i, start in enumerate(dates_start):\n",
    "    df_result.loc[i] = run_backtest(start, df_bt, kwargs_bt, proba)\n",
    "    n_last = print_progress(i, print_step, n_last)\n",
    "    idx_nobuy = check_scenario(idx_nobuy, i, df_result)\n",
    "\n",
    "check_scenario(idx_nobuy)"
   ]
  },
  {
   "cell_type": "code",
   "execution_count": 97,
   "id": "4ac89964-2d10-4f04-87b0-cbf0899a5433",
   "metadata": {},
   "outputs": [
    {
     "data": {
      "text/plain": [
       "mean    -1.766146\n",
       "min    -17.846510\n",
       "max     10.629953\n",
       "Name: return, dtype: float64"
      ]
     },
     "execution_count": 97,
     "metadata": {},
     "output_type": "execute_result"
    },
    {
     "name": "stdout",
     "output_type": "stream",
     "text": [
      "time: 19.8 ms (started: 2023-02-23 17:16:51 +09:00)\n"
     ]
    }
   ],
   "source": [
    "df_result['return'].agg(['mean','min','max'])"
   ]
  },
  {
   "cell_type": "code",
   "execution_count": 98,
   "id": "1b0b49e9-366a-4c5c-9a57-44a7fa70715f",
   "metadata": {},
   "outputs": [
    {
     "name": "stdout",
     "output_type": "stream",
     "text": [
      "time: 28.1 ms (started: 2023-02-23 17:16:51 +09:00)\n"
     ]
    }
   ],
   "source": [
    "df = df_result.set_index('start').loc[:,'return'].to_frame().assign(scenario=scenario)\n",
    "df_compare = pd.concat([df_compare, df]) "
   ]
  },
  {
   "cell_type": "code",
   "execution_count": 99,
   "id": "6b00210e-351e-49bd-b2b6-683bc4d1b275",
   "metadata": {},
   "outputs": [
    {
     "name": "stdout",
     "output_type": "stream",
     "text": [
      "time: 392 ms (started: 2023-02-23 17:17:40 +09:00)\n"
     ]
    }
   ],
   "source": [
    "df_compare.to_csv('df_compare_5yrs.csv')"
   ]
  },
  {
   "cell_type": "markdown",
   "id": "bc0c8fbc-0939-44bd-9e01-e348b1a223e5",
   "metadata": {},
   "source": [
    "### compare"
   ]
  },
  {
   "cell_type": "code",
   "execution_count": 104,
   "id": "416f9b16-938d-41f0-9f0b-ccb98924d1c1",
   "metadata": {
    "tags": []
   },
   "outputs": [
    {
     "data": {
      "image/png": "[encoded data removed]",
      "text/plain": [
       "<Figure size 1008x360 with 2 Axes>"
      ]
     },
     "metadata": {
      "needs_background": "light"
     },
     "output_type": "display_data"
    },
    {
     "name": "stdout",
     "output_type": "stream",
     "text": [
      "time: 1.36 s (started: 2023-02-23 17:21:49 +09:00)\n"
     ]
    }
   ],
   "source": [
    "fig = plt.figure(figsize=(14, 5))\n",
    "fig.suptitle(\"buy & hold for a year\")\n",
    "gs = GridSpec(1, 2, width_ratios=[2, 1])\n",
    "ax1 = fig.add_subplot(gs[0])\n",
    "ax2 = fig.add_subplot(gs[1], sharey=ax1)\n",
    "#fig.tight_layout()\n",
    "\n",
    "df = (df_compare.loc[df_compare.scenario.str.startswith('t2')]\n",
    "                .dropna(subset='return').reset_index())\n",
    "_ = sns.lineplot(data=df, x='start', y='return', hue='scenario', ax=ax1, lw=0.5)\n",
    "_ = sns.boxplot(data=df, x='scenario', y='return', ax=ax2)"
   ]
  },
  {
   "cell_type": "markdown",
   "id": "5a88ae83-c99c-4966-aa7a-a29d406f346e",
   "metadata": {},
   "source": [
    "## SC03: Bollinger Bands & MACD"
   ]
  },
  {
   "cell_type": "markdown",
   "id": "94fa469d-438c-4331-a8d6-1325cc3a5768",
   "metadata": {},
   "source": [
    "### calc tech indi"
   ]
  },
  {
   "cell_type": "code",
   "execution_count": 106,
   "id": "e788b385-17ba-47ca-af7f-46166b50a23e",
   "metadata": {},
   "outputs": [
    {
     "name": "stdout",
     "output_type": "stream",
     "text": [
      "time: 11.1 ms (started: 2023-02-23 17:24:38 +09:00)\n"
     ]
    }
   ],
   "source": [
    "df_bt = df_bt_ori.copy()\n",
    "df_macd = calc_macd(df_bt['close'])\n",
    "df_bbands = calc_bbands(df_bt['close'])"
   ]
  },
  {
   "cell_type": "code",
   "execution_count": 107,
   "id": "6ad96a6b-a736-440a-80a5-327bc1135cd6",
   "metadata": {},
   "outputs": [
    {
     "name": "stdout",
     "output_type": "stream",
     "text": [
      "time: 14 ms (started: 2023-02-23 17:25:23 +09:00)\n"
     ]
    }
   ],
   "source": [
    "cond = (df_macd.macd > df_macd.macd_signal) & (df_macd.macd > 0)\n",
    "cond = cond + (df_bt.close < df_bbands.bbands_lower)\n",
    "df_bt.loc[cond, 'custom'] = -1\n",
    "\n",
    "cond = (df_macd.macd < df_macd.macd_signal) & (df_macd.macd < 0)\n",
    "cond = cond + (df_bt.close > df_bbands.bbands_lower)\n",
    "df_bt.loc[cond, 'custom'] = 1"
   ]
  },
  {
   "cell_type": "code",
   "execution_count": 108,
   "id": "4781816b-cdcd-4bc2-8357-7dd0faf59d64",
   "metadata": {},
   "outputs": [
    {
     "name": "stdout",
     "output_type": "stream",
     "text": [
      "time: 528 ms (started: 2023-02-23 17:25:29 +09:00)\n"
     ]
    }
   ],
   "source": [
    "df_bt = finish_custom(df_bt)"
   ]
  },
  {
   "cell_type": "code",
   "execution_count": 109,
   "id": "776af0cd-e4a0-4eca-bf28-6155c377aab3",
   "metadata": {},
   "outputs": [
    {
     "data": {
      "text/plain": [
       " 0    1207\n",
       " 1      13\n",
       "-1      12\n",
       "Name: custom, dtype: int64"
      ]
     },
     "execution_count": 109,
     "metadata": {},
     "output_type": "execute_result"
    },
    {
     "name": "stdout",
     "output_type": "stream",
     "text": [
      "time: 20.7 ms (started: 2023-02-23 17:25:30 +09:00)\n"
     ]
    }
   ],
   "source": [
    "df_bt.custom.value_counts()"
   ]
  },
  {
   "cell_type": "markdown",
   "id": "c2bc0ecf-f392-4f11-8756-a2a9cb3ce0f4",
   "metadata": {},
   "source": [
    "### bactesting"
   ]
  },
  {
   "cell_type": "code",
   "execution_count": 111,
   "id": "b1ff4422-b733-4bf3-83d5-90fcfc1fa4a4",
   "metadata": {},
   "outputs": [
    {
     "name": "stdout",
     "output_type": "stream",
     "text": [
      "time: 1.06 ms (started: 2023-02-23 17:26:47 +09:00)\n"
     ]
    }
   ],
   "source": [
    "scenario = 't3'\n",
    "\n",
    "kwargs_bt.update({\n",
    "    'buy_prop': 1,\n",
    "    'sell_prop': 1\n",
    "})"
   ]
  },
  {
   "cell_type": "code",
   "execution_count": 112,
   "id": "a67f3d99-7172-4942-9e72-19ef6c0d7da4",
   "metadata": {
    "tags": []
   },
   "outputs": [
    {
     "name": "stdout",
     "output_type": "stream",
     "text": [
      "26: No buy at all\n",
      "there are more scenarios of no buy.\n",
      "10 % done\n",
      "20 % done\n",
      "30 % done\n",
      "40 % done\n",
      "50 % done\n",
      "60 % done\n",
      "70 % done\n",
      "80 % done\n",
      "90 % done\n",
      "100 % done\n",
      "501 scenarios of no buy.\n",
      "time: 51min 12s (started: 2023-02-23 17:26:51 +09:00)\n"
     ]
    }
   ],
   "source": [
    "df_result = pd.DataFrame(columns=['start', 'end', 'init', 'final', 'return'])\n",
    "print_step = 0.1\n",
    "n_last = 0\n",
    "idx_nobuy = []\n",
    "\n",
    "for i, start in enumerate(dates_start):\n",
    "    df_result.loc[i] = run_backtest(start, df_bt, kwargs_bt)\n",
    "    n_last = print_progress(i, print_step, n_last)\n",
    "    idx_nobuy = check_scenario(idx_nobuy, i, df_result)\n",
    "\n",
    "check_scenario(idx_nobuy)"
   ]
  },
  {
   "cell_type": "code",
   "execution_count": 113,
   "id": "dac88a94-de9c-4224-93c4-589681c679b6",
   "metadata": {},
   "outputs": [
    {
     "data": {
      "text/plain": [
       "mean    1.768180\n",
       "min    -1.706558\n",
       "max     5.116971\n",
       "Name: return, dtype: float64"
      ]
     },
     "execution_count": 113,
     "metadata": {},
     "output_type": "execute_result"
    },
    {
     "name": "stdout",
     "output_type": "stream",
     "text": [
      "time: 45 ms (started: 2023-02-23 18:18:03 +09:00)\n"
     ]
    }
   ],
   "source": [
    "df_result['return'].agg(['mean','min','max'])"
   ]
  },
  {
   "cell_type": "code",
   "execution_count": 114,
   "id": "d7aaec2a-190c-4515-8b06-a44c0edc2dfe",
   "metadata": {},
   "outputs": [
    {
     "name": "stdout",
     "output_type": "stream",
     "text": [
      "time: 478 ms (started: 2023-02-23 18:18:03 +09:00)\n"
     ]
    }
   ],
   "source": [
    "df = df_result.set_index('start').loc[:,'return'].to_frame().assign(scenario=scenario)\n",
    "df_compare = pd.concat([df_compare, df]) "
   ]
  },
  {
   "cell_type": "code",
   "execution_count": 144,
   "id": "7cddb0e5-3369-4954-b418-07f3b21859ac",
   "metadata": {},
   "outputs": [
    {
     "name": "stdout",
     "output_type": "stream",
     "text": [
      "time: 346 ms (started: 2023-02-23 18:50:56 +09:00)\n"
     ]
    }
   ],
   "source": [
    "df_compare.to_csv('df_compare_5yrs.csv')"
   ]
  },
  {
   "cell_type": "markdown",
   "id": "729f4b39-3293-4b23-88ee-3e1fa03a0778",
   "metadata": {},
   "source": [
    "# Comparison"
   ]
  },
  {
   "cell_type": "code",
   "execution_count": 137,
   "id": "795bcc86-e941-4531-a46f-7d4ba4284ce8",
   "metadata": {},
   "outputs": [
    {
     "data": {
      "text/html": [
       "<div>\n",
       "<style scoped>\n",
       "    .dataframe tbody tr th:only-of-type {\n",
       "        vertical-align: middle;\n",
       "    }\n",
       "\n",
       "    .dataframe tbody tr th {\n",
       "        vertical-align: top;\n",
       "    }\n",
       "\n",
       "    .dataframe thead tr th {\n",
       "        text-align: left;\n",
       "    }\n",
       "\n",
       "    .dataframe thead tr:last-of-type th {\n",
       "        text-align: right;\n",
       "    }\n",
       "</style>\n",
       "<table border=\"1\" class=\"dataframe\">\n",
       "  <thead>\n",
       "    <tr>\n",
       "      <th></th>\n",
       "      <th colspan=\"6\" halign=\"left\">return</th>\n",
       "    </tr>\n",
       "    <tr>\n",
       "      <th></th>\n",
       "      <th>mean</th>\n",
       "      <th>median</th>\n",
       "      <th>min</th>\n",
       "      <th>max</th>\n",
       "      <th>std</th>\n",
       "      <th>count</th>\n",
       "    </tr>\n",
       "    <tr>\n",
       "      <th>scenario</th>\n",
       "      <th></th>\n",
       "      <th></th>\n",
       "      <th></th>\n",
       "      <th></th>\n",
       "      <th></th>\n",
       "      <th></th>\n",
       "    </tr>\n",
       "  </thead>\n",
       "  <tbody>\n",
       "    <tr>\n",
       "      <th>b1</th>\n",
       "      <td>6.723509</td>\n",
       "      <td>-4.410756</td>\n",
       "      <td>-29.578320</td>\n",
       "      <td>111.056006</td>\n",
       "      <td>27.760491</td>\n",
       "      <td>931</td>\n",
       "    </tr>\n",
       "    <tr>\n",
       "      <th>b2</th>\n",
       "      <td>2.625810</td>\n",
       "      <td>-1.313716</td>\n",
       "      <td>-16.512425</td>\n",
       "      <td>38.402674</td>\n",
       "      <td>12.987301</td>\n",
       "      <td>923</td>\n",
       "    </tr>\n",
       "    <tr>\n",
       "      <th>b3</th>\n",
       "      <td>2.453650</td>\n",
       "      <td>-1.279150</td>\n",
       "      <td>-16.298809</td>\n",
       "      <td>36.055343</td>\n",
       "      <td>12.294943</td>\n",
       "      <td>921</td>\n",
       "    </tr>\n",
       "    <tr>\n",
       "      <th>t1a</th>\n",
       "      <td>7.291352</td>\n",
       "      <td>-0.666501</td>\n",
       "      <td>-12.013608</td>\n",
       "      <td>57.532363</td>\n",
       "      <td>17.581918</td>\n",
       "      <td>945</td>\n",
       "    </tr>\n",
       "    <tr>\n",
       "      <th>t1b</th>\n",
       "      <td>4.238674</td>\n",
       "      <td>-1.001026</td>\n",
       "      <td>-6.153420</td>\n",
       "      <td>36.403294</td>\n",
       "      <td>10.546404</td>\n",
       "      <td>952</td>\n",
       "    </tr>\n",
       "    <tr>\n",
       "      <th>t1c</th>\n",
       "      <td>1.731516</td>\n",
       "      <td>-0.565984</td>\n",
       "      <td>-3.162596</td>\n",
       "      <td>16.136710</td>\n",
       "      <td>4.682957</td>\n",
       "      <td>960</td>\n",
       "    </tr>\n",
       "    <tr>\n",
       "      <th>t1d</th>\n",
       "      <td>6.535910</td>\n",
       "      <td>-0.562195</td>\n",
       "      <td>-18.098724</td>\n",
       "      <td>68.160862</td>\n",
       "      <td>17.759968</td>\n",
       "      <td>943</td>\n",
       "    </tr>\n",
       "    <tr>\n",
       "      <th>t2a</th>\n",
       "      <td>-2.072691</td>\n",
       "      <td>-1.465398</td>\n",
       "      <td>-25.756412</td>\n",
       "      <td>19.857751</td>\n",
       "      <td>10.555794</td>\n",
       "      <td>913</td>\n",
       "    </tr>\n",
       "    <tr>\n",
       "      <th>t2b</th>\n",
       "      <td>-2.049049</td>\n",
       "      <td>0.534407</td>\n",
       "      <td>-24.544178</td>\n",
       "      <td>13.797432</td>\n",
       "      <td>9.210288</td>\n",
       "      <td>906</td>\n",
       "    </tr>\n",
       "    <tr>\n",
       "      <th>t2c</th>\n",
       "      <td>-1.976350</td>\n",
       "      <td>0.478720</td>\n",
       "      <td>-20.921568</td>\n",
       "      <td>6.320392</td>\n",
       "      <td>6.583703</td>\n",
       "      <td>874</td>\n",
       "    </tr>\n",
       "    <tr>\n",
       "      <th>t2d</th>\n",
       "      <td>-1.766146</td>\n",
       "      <td>-0.392498</td>\n",
       "      <td>-17.846510</td>\n",
       "      <td>10.629953</td>\n",
       "      <td>5.054592</td>\n",
       "      <td>852</td>\n",
       "    </tr>\n",
       "    <tr>\n",
       "      <th>t3</th>\n",
       "      <td>1.768180</td>\n",
       "      <td>1.218663</td>\n",
       "      <td>-1.706558</td>\n",
       "      <td>5.116971</td>\n",
       "      <td>2.173672</td>\n",
       "      <td>484</td>\n",
       "    </tr>\n",
       "  </tbody>\n",
       "</table>\n",
       "</div>"
      ],
      "text/plain": [
       "            return                                                  \n",
       "              mean    median        min         max        std count\n",
       "scenario                                                            \n",
       "b1        6.723509 -4.410756 -29.578320  111.056006  27.760491   931\n",
       "b2        2.625810 -1.313716 -16.512425   38.402674  12.987301   923\n",
       "b3        2.453650 -1.279150 -16.298809   36.055343  12.294943   921\n",
       "t1a       7.291352 -0.666501 -12.013608   57.532363  17.581918   945\n",
       "t1b       4.238674 -1.001026  -6.153420   36.403294  10.546404   952\n",
       "t1c       1.731516 -0.565984  -3.162596   16.136710   4.682957   960\n",
       "t1d       6.535910 -0.562195 -18.098724   68.160862  17.759968   943\n",
       "t2a      -2.072691 -1.465398 -25.756412   19.857751  10.555794   913\n",
       "t2b      -2.049049  0.534407 -24.544178   13.797432   9.210288   906\n",
       "t2c      -1.976350  0.478720 -20.921568    6.320392   6.583703   874\n",
       "t2d      -1.766146 -0.392498 -17.846510   10.629953   5.054592   852\n",
       "t3        1.768180  1.218663  -1.706558    5.116971   2.173672   484"
      ]
     },
     "execution_count": 137,
     "metadata": {},
     "output_type": "execute_result"
    },
    {
     "name": "stdout",
     "output_type": "stream",
     "text": [
      "time: 187 ms (started: 2023-02-23 18:46:55 +09:00)\n"
     ]
    }
   ],
   "source": [
    "df_compare.groupby(by=['scenario']).agg(['mean','median','min','max','std','count'])"
   ]
  },
  {
   "cell_type": "code",
   "execution_count": 136,
   "id": "3f1d0554-a062-4604-874d-b4839f72493b",
   "metadata": {},
   "outputs": [
    {
     "data": {
      "image/png": "[encoded data removed]",
      "text/plain": [
       "<Figure size 720x576 with 12 Axes>"
      ]
     },
     "metadata": {
      "needs_background": "light"
     },
     "output_type": "display_data"
    },
    {
     "name": "stdout",
     "output_type": "stream",
     "text": [
      "time: 6.49 s (started: 2023-02-23 18:46:08 +09:00)\n"
     ]
    }
   ],
   "source": [
    "_ = df_compare.hist(by='scenario', column='return', figsize=(10,8), bins=50, sharex=True)\n",
    "#plt.tight_layout()"
   ]
  },
  {
   "cell_type": "code",
   "execution_count": 165,
   "id": "76d78341-2228-4076-b8cd-38f5fd32371b",
   "metadata": {
    "tags": []
   },
   "outputs": [
    {
     "data": {
      "image/png": "[encoded data removed]",
      "text/plain": [
       "<Figure size 1008x360 with 2 Axes>"
      ]
     },
     "metadata": {
      "needs_background": "light"
     },
     "output_type": "display_data"
    },
    {
     "name": "stdout",
     "output_type": "stream",
     "text": [
      "time: 1.46 s (started: 2023-02-23 20:27:31 +09:00)\n"
     ]
    }
   ],
   "source": [
    "ret_limit = 50\n",
    "kw_axline = dict(lw=1, ls='--', c='dimgray')\n",
    "\n",
    "fig = plt.figure(figsize=(14, 5))\n",
    "fig.suptitle(\"Strategy Comparison\")\n",
    "gs = GridSpec(1, 2, width_ratios=[3, 1])\n",
    "ax1 = fig.add_subplot(gs[0])\n",
    "#ax2 = fig.add_subplot(gs[1], sharey=ax1)\n",
    "ax2 = fig.add_subplot(gs[1])\n",
    "#fig.tight_layout()\n",
    "\n",
    "df = (df_compare\n",
    "      #.loc[df_compare.scenario.str.startswith('t2')]\n",
    "      .loc[df_compare.scenario.isin(['b1', 't1a', 't2a', 't3'])]\n",
    "      .dropna(subset='return').reset_index()\n",
    ")\n",
    "_ = sns.lineplot(data=df, x='start', y='return', hue='scenario', ax=ax1, lw=0.5)\n",
    "_ = sns.boxplot(data=df, y='scenario', x='return', ax=ax2,\n",
    "                orient='h'\n",
    "               )\n",
    "\n",
    "_ = ax1.axhline(**kw_axline)\n",
    "_ = ax2.axvline(**kw_axline)\n",
    "_ = ax1.set_ylim(top=ret_limit)\n",
    "_ = ax2.set_xlim(right=ret_limit)"
   ]
  },
  {
   "cell_type": "code",
   "execution_count": 167,
   "id": "28f159f9-eff1-4103-becd-b01dd6a042f6",
   "metadata": {
    "tags": []
   },
   "outputs": [
    {
     "data": {
      "image/png": "[encoded data removed]",
      "text/plain": [
       "<Figure size 1008x360 with 2 Axes>"
      ]
     },
     "metadata": {
      "needs_background": "light"
     },
     "output_type": "display_data"
    },
    {
     "name": "stdout",
     "output_type": "stream",
     "text": [
      "time: 1.42 s (started: 2023-02-23 20:58:09 +09:00)\n"
     ]
    }
   ],
   "source": [
    "ret_limit = None\n",
    "kw_axline = dict(lw=1, ls='--', c='dimgray')\n",
    "\n",
    "fig = plt.figure(figsize=(14, 5))\n",
    "fig.suptitle(\"Strategy Comparison\")\n",
    "gs = GridSpec(1, 2, width_ratios=[3, 1])\n",
    "ax1 = fig.add_subplot(gs[0])\n",
    "#ax2 = fig.add_subplot(gs[1], sharey=ax1)\n",
    "ax2 = fig.add_subplot(gs[1])\n",
    "#fig.tight_layout()\n",
    "\n",
    "df = (df_compare\n",
    "      .loc[df_compare.scenario.isin(['b3', 't1c', 't2d', 't3'])]\n",
    "      .dropna(subset='return').reset_index()\n",
    ")\n",
    "_ = sns.lineplot(data=df, x='start', y='return', hue='scenario', ax=ax1, lw=0.5)\n",
    "_ = sns.boxplot(data=df, y='scenario', x='return', ax=ax2,\n",
    "                orient='h'\n",
    "               )\n",
    "\n",
    "_ = ax1.axhline(**kw_axline)\n",
    "_ = ax2.axvline(**kw_axline)\n",
    "_ = ax1.set_ylim(top=ret_limit)\n",
    "_ = ax2.set_xlim(right=ret_limit)"
   ]
  },
  {
   "cell_type": "code",
   "execution_count": null,
   "id": "2b32c113-28e3-492b-86a3-87041191f3dd",
   "metadata": {},
   "outputs": [],
   "source": []
  }
 ],
 "metadata": {
  "kernelspec": {
   "display_name": "Python 3",
   "language": "python",
   "name": "python3"
  },
  "language_info": {
   "codemirror_mode": {
    "name": "ipython",
    "version": 3
   },
   "file_extension": ".py",
   "mimetype": "text/x-python",
   "name": "python",
   "nbconvert_exporter": "python",
   "pygments_lexer": "ipython3",
   "version": "3.9.7"
  }
 },
 "nbformat": 4,
 "nbformat_minor": 5
}
