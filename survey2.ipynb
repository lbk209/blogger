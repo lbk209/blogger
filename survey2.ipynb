{
 "cells": [
  {
   "cell_type": "markdown",
   "id": "0375fd46-1264-4adc-959a-0ee1dc976fe7",
   "metadata": {},
   "source": [
    "# Setting"
   ]
  },
  {
   "cell_type": "code",
   "execution_count": 1,
   "id": "707fe114-bfd8-42b4-8447-1682e307e071",
   "metadata": {},
   "outputs": [],
   "source": [
    "import pymc3 as pm\n",
    "import arviz\n",
    "from matplotlib import gridspec\n",
    "from matplotlib.lines import Line2D\n",
    "import matplotlib.pyplot as plt\n",
    "from scipy import stats\n",
    "\n",
    "import numpy as np\n",
    "import pandas as pd\n",
    "\n",
    "plt.rcParams['font.family'] = 'NanumGothic'"
   ]
  },
  {
   "cell_type": "code",
   "execution_count": 2,
   "id": "58e4fbb4-c502-42ba-81b1-8750d11c025c",
   "metadata": {},
   "outputs": [],
   "source": [
    "from statsmodels.stats.proportion import proportions_ztest, proportion_confint"
   ]
  },
  {
   "cell_type": "code",
   "execution_count": 3,
   "id": "612a0418-ba0a-4b4c-93b9-d8cbe4e5e6ad",
   "metadata": {},
   "outputs": [],
   "source": [
    "def print_interval(low, high, text='confidence interval: '):\n",
    "    #low, high = low*100, high*100\n",
    "    p = (low+high)/2\n",
    "    err = high - p\n",
    "    #print(f'confidence interval: {p:.0f} ± {err:.2f} % [{low:.0f}, {high:.0f}]')\n",
    "    print(f'{text}{p:.3f} ± {err:.4f}, [{low:.3f}, {high:.3f}]')\n",
    "    \n",
    "    \n",
    "def test_hypothesis(pvalue, level=0.95):\n",
    "    alpha = 1 - c_level\n",
    "    if pvalue > alpha:\n",
    "        s = 'Accept'\n",
    "    else:\n",
    "        s = 'Reject'\n",
    "    print(f'{s} H0 (p-value = {pvalue:.4e})')"
   ]
  },
  {
   "cell_type": "code",
   "execution_count": 4,
   "id": "5e205293-7be7-49e2-9938-2326bb2ad4fe",
   "metadata": {
    "tags": []
   },
   "outputs": [],
   "source": [
    "def survey(results, category_names, ax=None, figsize=(10, 5), fmt='%1.1f%%', cmap='Spectral', margin=0.25):\n",
    "    \"\"\"\n",
    "    Parameters\n",
    "    ----------\n",
    "    results : dict\n",
    "        A mapping from question labels to a list of answers per category.\n",
    "        It is assumed all lists contain the same number of entries and that\n",
    "        it matches the length of *category_names*.\n",
    "    category_names : list of str\n",
    "        The category labels.\n",
    "    cmap: \n",
    "        ex) 'bwr', 'coolwarm'\n",
    "        see https://matplotlib.org/stable/tutorials/colors/colormaps.html\n",
    "    fmt: ex) '%g', '%1.1f%%'\n",
    "    \"\"\"\n",
    "    height = figsize[1]/len(results)*.8\n",
    "    labels = list(results.keys())\n",
    "    data = np.array(list(results.values()))\n",
    "    data_cum = data.cumsum(axis=1)\n",
    "    category_colors = plt.colormaps[cmap](\n",
    "        np.linspace(margin, 1-margin, data.shape[1]))\n",
    "        #np.linspace(0.25, 0.75, data.shape[1]))\n",
    "\n",
    "    if ax is None:\n",
    "        fig, ax = plt.subplots(figsize=figsize)\n",
    "    ax.invert_yaxis()\n",
    "    ax.xaxis.set_visible(False)\n",
    "    ax.set_xlim(0, np.sum(data, axis=1).max())\n",
    "\n",
    "    for i, (colname, color) in enumerate(zip(category_names, category_colors)):\n",
    "        widths = data[:, i]\n",
    "        starts = data_cum[:, i] - widths\n",
    "        rects = ax.barh(labels, widths, left=starts, height=height,\n",
    "                        label=colname, color=color)\n",
    "\n",
    "        r, g, b, _ = color\n",
    "        text_color = 'white' if r * g * b < 0.5 else 'darkgrey'\n",
    "        ax.bar_label(rects, fmt=fmt, label_type='center', color=text_color, fontweight='bold')\n",
    "    ax.legend(ncol=len(category_names), bbox_to_anchor=(0, 1),\n",
    "              loc='lower left', fontsize='small')\n",
    "    \n",
    "    ax.spines[['top', 'right', 'bottom', 'left']].set_visible(False)\n",
    "    ax.yaxis.set_tick_params(left=False)\n",
    "    \n",
    "    #return fig, ax\n",
    "    return ax\n",
    "\n",
    "\n",
    "# sample\n",
    "category_names = ['Strongly disagree', 'Disagree',\n",
    "                  'Neither agree nor disagree', 'Agree', 'Strongly agree']\n",
    "results = {\n",
    "    'Question 1': [10, 15, 17, 32, 26],\n",
    "    'Question 2': [26, 22, 29, 10, 13],\n",
    "    'Question 3': [35, 37, 7, 2, 19],\n",
    "    'Question 4': [32, 11, 9, 15, 33],\n",
    "    'Question 5': [21, 29, 5, 5, 40],\n",
    "    'Question 6': [8, 19, 5, 30, 38]\n",
    "}\n",
    "\n",
    "#_ = survey(results, category_names)\n",
    "#plt.show()"
   ]
  },
  {
   "cell_type": "code",
   "execution_count": 13,
   "id": "98de921c-77a4-4bfa-b116-3a3b130d3878",
   "metadata": {},
   "outputs": [],
   "source": [
    "l_tab = 6\n",
    "\n",
    "def print_head(x, x_all=None, l_tab=l_tab):\n",
    "    n_tab = max([len(x) // l_tab + min(len(x) % l_tab, 1) for x in x_all])\n",
    "    n = n_tab - len(x) // l_tab\n",
    "    t = '\\t' * n\n",
    "    print(f'{x}{t}', end=' ')"
   ]
  },
  {
   "cell_type": "code",
   "execution_count": 5,
   "id": "fe9a3e0a-2391-4eb2-80c6-949cba06be4d",
   "metadata": {},
   "outputs": [],
   "source": [
    "c_level = .95 # 신뢰수준 95%\n",
    "alpha = 1 - c_level # 유의수준 5%"
   ]
  },
  {
   "cell_type": "markdown",
   "id": "a4e35938-b205-4329-90d4-359ec7223476",
   "metadata": {},
   "source": [
    "# F01 신뢰수준과 표본오차\n",
    "전국 성인 남녀 1000명이 조사에 응해주었다. 응답률은 5.4%, 표본오차는 95% 신뢰수준에서 ±3.1%포인트다"
   ]
  },
  {
   "cell_type": "markdown",
   "id": "ff0f0214-4d31-4176-b0f8-a40a4a458e48",
   "metadata": {},
   "source": [
    "comments:\n",
    "- 한 개의 긍정/부정 문항에 대하여 1000명 중 50%가 긍정한다면 100번중 95번의 경우 오차는 ±3.1% 이내. \n",
    "- 기사중 20대 여성은 160명이므로 20대 여성의 긍정/부정 문항의 최대 표본오차는 95% 신뢰수준에서 ±7.8% "
   ]
  },
  {
   "cell_type": "code",
   "execution_count": 6,
   "id": "6f4f9206-3519-4071-a7ad-af4bd54d9100",
   "metadata": {},
   "outputs": [
    {
     "name": "stdout",
     "output_type": "stream",
     "text": [
      "confidence interval: 0.500 ± 0.0310, [0.469, 0.531]\n"
     ]
    }
   ],
   "source": [
    "# 전체\n",
    "n = 1000\n",
    "k = round(n/2)\n",
    "\n",
    "method = 'normal'\n",
    "low, high = proportion_confint(k, n, alpha, method=method)\n",
    "print_interval(low, high)"
   ]
  },
  {
   "cell_type": "code",
   "execution_count": 7,
   "id": "14f63fe8-f791-470e-9295-e926eeddfd57",
   "metadata": {},
   "outputs": [
    {
     "name": "stdout",
     "output_type": "stream",
     "text": [
      "confidence interval: 0.500 ± 0.0775, [0.423, 0.577]\n"
     ]
    }
   ],
   "source": [
    "# 20대 여성\n",
    "n = 160\n",
    "k = round(n/2)\n",
    "\n",
    "method = 'normal'\n",
    "low, high = proportion_confint(k, n, alpha, method=method)\n",
    "print_interval(low, high)"
   ]
  },
  {
   "cell_type": "markdown",
   "id": "af33e44f-a7cc-44f4-910d-85fd1ed25cbf",
   "metadata": {},
   "source": [
    "# F02 미혼의 결혼 의향\n",
    "- 그림1. \n",
    "- 대상: 미혼 579명\n",
    "- (그림에 없는 내용) 그런데 여기서 남녀 성별 격차가 나타난다. 미혼 남성은 65.7%가 결혼하고 싶다고 답한다. 그러나 여성은 54.5%가 결혼할 의향이 없다고 답한다. "
   ]
  },
  {
   "cell_type": "markdown",
   "id": "e7024908-8763-4e18-8d98-e3ccec90cbea",
   "metadata": {},
   "source": [
    "comments:\n",
    "- 기사에서는 결혼 의향에 대해서 \"남녀 간 ‘미스매치’가 일어난다. 이 성별 격차는 결혼 적령기인 30대에서 가장 크다\"고 한다. 그러나 20대의 경우 결혼 의향에 남녀 차이가 있다고 할 수 없다. 또한 미혼 여성(전체, 20대, 30대 모두의 경우)의 결혼 의향이 50% 미만이라고 할 수 없다."
   ]
  },
  {
   "cell_type": "code",
   "execution_count": 8,
   "id": "6b58f25c-edfe-4f2c-9688-2cfa5f3cc51a",
   "metadata": {},
   "outputs": [],
   "source": [
    "p1 = [.565, .435]\n",
    "p2 = [.646, .354]\n",
    "p3 = [.473, .527]\n",
    "p4 = [.711, .289]\n",
    "p5 = [.447, .553]\n",
    "p6 = [.657, .343] # 미혼남\n",
    "p7 = [.455, .545] # 미혼여\n",
    "\n",
    "idx = ['전체', '20대남', '20대여', '30대남', '30대여', '미혼남', '미혼여']\n",
    "cols = [['결혼']*2, ['의향 있음', '의향 없음']]\n",
    "df = pd.DataFrame([p1,p2,p3,p4,p5,p6,p7], index=idx, columns=cols)"
   ]
  },
  {
   "cell_type": "code",
   "execution_count": 9,
   "id": "5e62d3d5-6079-46ca-b852-8a6b61250771",
   "metadata": {},
   "outputs": [
    {
     "data": {
      "image/png": "[encoded data removed]",
      "text/plain": [
       "<Figure size 720x432 with 1 Axes>"
      ]
     },
     "metadata": {
      "needs_background": "light"
     },
     "output_type": "display_data"
    }
   ],
   "source": [
    "x = df.mul(100).to_dict(orient='split')\n",
    "res = dict(zip(x['index'], x['data']))\n",
    "cat = [' '.join(x) for x in x['columns']]\n",
    "_ = survey(res, cat, figsize=(10,6))"
   ]
  },
  {
   "cell_type": "code",
   "execution_count": 10,
   "id": "dcdd3d7b-6a03-4a77-a392-d7167a1a89fe",
   "metadata": {},
   "outputs": [
    {
     "data": {
      "text/plain": [
       "90"
      ]
     },
     "execution_count": 10,
     "metadata": {},
     "output_type": "execute_result"
    }
   ],
   "source": [
    "# 나이별 인원수와 남녀 비율 동일 가정\n",
    "n_single = 579\n",
    "n_ages = round(n_single / (49-18+1) / 2) * 10 # 세대별 미혼남\n",
    "n_ages"
   ]
  },
  {
   "cell_type": "code",
   "execution_count": 16,
   "id": "d6308f31-e05a-4425-a17a-9dd6546e5275",
   "metadata": {},
   "outputs": [
    {
     "name": "stdout",
     "output_type": "stream",
     "text": [
      "결혼 의향 있음:\n",
      "전체\t 0.565 ± 0.0404, [0.524, 0.605]\n",
      "20대남\t 0.644 ± 0.0989, [0.546, 0.743]\n",
      "20대여\t 0.478 ± 0.1032, [0.375, 0.581]\n",
      "30대남\t 0.711 ± 0.0936, [0.617, 0.805]\n",
      "30대여\t 0.444 ± 0.1027, [0.342, 0.547]\n",
      "미혼남\t 0.659 ± 0.0546, [0.604, 0.713]\n",
      "미혼여\t 0.453 ± 0.0574, [0.396, 0.511]\n"
     ]
    }
   ],
   "source": [
    "# '전체', '20대남', '20대여', '30대남', '30대여', '미혼남', '미혼여'\n",
    "nums = [n_single, n_ages, n_ages, n_ages, n_ages, round(n_single/2), n_single-round(n_single/2)]\n",
    "method = 'normal'\n",
    "\n",
    "x = ' '.join(df.columns[0])\n",
    "print(f'{x}:')\n",
    "for i in range(len(nums)):\n",
    "    print_head(df.index[i], df.index)\n",
    "    n = nums[i]\n",
    "    k = round(df.iloc[i,0] * n)\n",
    "    low, high = proportion_confint(k, n, alpha, method=method)\n",
    "    print_interval(low, high, '')"
   ]
  },
  {
   "cell_type": "markdown",
   "id": "29d683d7-0e84-460f-b7cb-3234caf94153",
   "metadata": {},
   "source": [
    "# F03 연애-결혼-출산 인식\n",
    "- 그림2 \n",
    "- 대상 응답자 전체 1000명\n",
    "- 30대 남성(66.9%), 40대 남성(69.1%)에 비해 오히려 연애에 적극적일 것 같은 20대 남성이 연애에 더 시큰둥하다. 남성과 여성 모두 젊을수록 연애에 대한 집착이 약하다.\n",
    "- 연애도, 결혼도 필수가 아닌데 출산이 필수일 리 없다"
   ]
  },
  {
   "cell_type": "markdown",
   "id": "86a9814e-5ee7-453c-b83d-df2b9bac2a12",
   "metadata": {},
   "source": [
    "comments:\n",
    "- (기사대로) ‘결혼은 반드시 해야 한다’는 인식에 대해서도 성별 격차가 있다.\n",
    "- (기사대로) '연애는 반드시 해야 한다'는 문항에 ‘그렇지 않다’가 절반 이상을 차지하는 집단(연애 필수인 비율이 절반 미만)은 전체 성별·세대 가운데 20대 여성이 유일하다.\n",
    "- 기사와 달리 30대 남성에 비해 20대 남성이 연애에 더 시큰둥하다고 할 수는 없다.\n",
    "- 기사와 달리 여성만 젊을수록 연애에 대한 집착이 약하다\n",
    "- (기사대로) ‘자녀는 반드시 낳아야 한다’는 문항에 대해서도 20대 여성은 강하게 반발한다. 결혼 의향 없는 미혼 집단을 제외하고 자녀가 필수라는 비율이 가장 낮다.\n",
    "- 20데 여성 집단을 제외하고 결혼 의향 없는 미혼의 자녀 필수 비율이 가장 낮다. 비혼 출산의 가능성을 상상조차 하지 못하고 있는것은 아닐까? \n",
    "- 30대 여성은 (전체 집단 제외하고) 유일하게 결혼 필수보다 출산 필수 비율이 높다."
   ]
  },
  {
   "cell_type": "code",
   "execution_count": 17,
   "id": "2f61feed-006c-4fb3-8cc8-2626d0494bf3",
   "metadata": {},
   "outputs": [],
   "source": [
    "p1 = [.573, .224, .307] # 연애, 결혼, 출산의 필수 비율\n",
    "p2 = [.560, .315, .355]\n",
    "p3 = [.273, .083, .102]\n",
    "p4 = [.669, .327, .377]\n",
    "p5 = [.571, .096, .261]\n",
    "p6 = [.240, .012, .071] \n",
    "\n",
    "idx = ['전체', '20대 남성', '20대 여성', '30대 남성', '30대 여성', '결혼 의향 없는 미혼']\n",
    "cols = [['필수']*3, ['연애', '결혼', '출산']]\n",
    "df = pd.DataFrame([p1,p2,p3,p4,p5,p6], index=idx, columns=cols)"
   ]
  },
  {
   "cell_type": "code",
   "execution_count": 18,
   "id": "0952a925-e5e7-49db-b439-5f401225b994",
   "metadata": {
    "tags": []
   },
   "outputs": [
    {
     "data": {
      "image/png": "[encoded data removed]",
      "text/plain": [
       "<Figure size 864x360 with 3 Axes>"
      ]
     },
     "metadata": {
      "needs_background": "light"
     },
     "output_type": "display_data"
    }
   ],
   "source": [
    "fig, axes = plt.subplots(1,3, figsize=(12,5), sharey=True)\n",
    "for i in range(len(df.columns)):\n",
    "    col = ' '.join(list(reversed(df.columns[i])))\n",
    "    x = (df.iloc[:,i].to_frame(col)\n",
    "           .assign(disagree=lambda x: 1-x[col])\n",
    "           .rename(columns={col:col, 'disagree': '기타'})\n",
    "           .mul(100).to_dict(orient='split'))\n",
    "    res = dict(zip(x['index'], x['data']))\n",
    "    cat = x['columns']\n",
    "    _ = survey(res, cat, ax=axes[i])"
   ]
  },
  {
   "cell_type": "code",
   "execution_count": 19,
   "id": "3e004b81-9433-4d58-9ec8-d6a9cf1b0b85",
   "metadata": {},
   "outputs": [
    {
     "data": {
      "text/plain": [
       "160"
      ]
     },
     "execution_count": 19,
     "metadata": {},
     "output_type": "execute_result"
    }
   ],
   "source": [
    "# 나이별 남녀인원수 동일하다는 가정하에 계산한 세대별 남녀수(예 20대 여자)는 (우연히도) 실제 20대 여자수와 동일\n",
    "\n",
    "# 나이별 인원수와 남녀 비율 동일 가정\n",
    "n_all = 1000 # 전체 응답자\n",
    "n_single2 = 252 # 결혼 의향 없는 미혼\n",
    "n_ages = round(n_all / (49-18+1) / 2) * 10 # 세대별 남자\n",
    "n_ages"
   ]
  },
  {
   "cell_type": "code",
   "execution_count": 21,
   "id": "b84ebebd-d210-4112-b4d1-ccf92f034210",
   "metadata": {},
   "outputs": [
    {
     "name": "stdout",
     "output_type": "stream",
     "text": [
      "연애 필수:\n",
      "전체\t\t 0.573 ± 0.0307, [0.542, 0.604]\n",
      "20대 남성\t 0.562 ± 0.0769, [0.486, 0.639]\n",
      "20대 여성\t 0.275 ± 0.0692, [0.206, 0.344]\n",
      "30대 남성\t 0.669 ± 0.0729, [0.596, 0.742]\n",
      "30대 여성\t 0.569 ± 0.0767, [0.492, 0.645]\n",
      "결혼 의향 없는 미혼\t 0.238 ± 0.0526, [0.186, 0.291]\n",
      "\n",
      "결혼 필수:\n",
      "전체\t\t 0.224 ± 0.0258, [0.198, 0.250]\n",
      "20대 남성\t 0.312 ± 0.0718, [0.241, 0.384]\n",
      "20대 여성\t 0.081 ± 0.0423, [0.039, 0.124]\n",
      "30대 남성\t 0.325 ± 0.0726, [0.252, 0.398]\n",
      "30대 여성\t 0.094 ± 0.0452, [0.049, 0.139]\n",
      "결혼 의향 없는 미혼\t 0.013 ± 0.0126, [0.000, 0.025]\n",
      "\n",
      "출산 필수:\n",
      "전체\t\t 0.307 ± 0.0286, [0.278, 0.336]\n",
      "20대 남성\t 0.356 ± 0.0742, [0.282, 0.430]\n",
      "20대 여성\t 0.100 ± 0.0465, [0.054, 0.146]\n",
      "30대 남성\t 0.375 ± 0.0750, [0.300, 0.450]\n",
      "30대 여성\t 0.263 ± 0.0682, [0.194, 0.331]\n",
      "결혼 의향 없는 미혼\t 0.071 ± 0.0318, [0.040, 0.103]\n",
      "\n"
     ]
    }
   ],
   "source": [
    "nums = [n_all, n_ages, n_ages, n_ages, n_ages, n_single2]\n",
    "method = 'normal'\n",
    "\n",
    "for c in range(len(df.columns)):\n",
    "    x = list(df.columns[c])\n",
    "    x.reverse()\n",
    "    x = ' '.join(x)\n",
    "    print(f'{x}:')\n",
    "\n",
    "    for i in range(len(nums)):\n",
    "        x = df.index[i]\n",
    "        print_head(x, df.index)\n",
    "        n = nums[i]\n",
    "        k = round(df.iloc[i,c] * n)\n",
    "        low, high = proportion_confint(k, n, alpha, method=method)\n",
    "        print_interval(low, high, '')\n",
    "    print()"
   ]
  },
  {
   "cell_type": "markdown",
   "id": "d19abbe9-f486-4c7e-972f-3c01b118092d",
   "metadata": {},
   "source": [
    "# F04 결혼 관련 인식\n",
    "- 그림3 \n",
    "- 대상 응답자 전체 1000명\n",
    "- 유독 20대 여성이 ‘희생’이라는 단어에 더 민감한 반응.\n",
    "- 20대 여성 67.8%가 아무리 경제적으로 넉넉하더라도 일을 그만두어서는 안 된다고 답한다. 30대 여성의 응답(51%)보다도 높은 수치다.\n",
    "- ‘자녀가 생기면 나의 사회적 성취를 이루기 어렵다’는 문항... 20대 여성은 전체 평균을 훌쩍 뛰어넘어 68.7%가 ‘그렇다’고 답했다. 30대 여성의 동일 응답(57.5%)보다 더 강한 반응이다."
   ]
  },
  {
   "cell_type": "markdown",
   "id": "183cf999-6ea5-4ca5-a62d-9ad476cd53de",
   "metadata": {},
   "source": [
    "comments:\n",
    "- ‘결혼 관계를 위해 자신의 인생을 어느 정도 희생하는 것은 당연하다’는 문항에 대하여 '그렇다'고 대답한 비율은 20대 여성이 20대 남성이나 30대 여성과 다르다고 할 수 없다. 즉 20대 여성이 '희생'에 더 민감한 것은 아니다.\n",
    "- (기사대로) 20대 여성은 30대 여성보다 높은 비율로 '아무리 경제적으로 넉넉하더라도 일을 그만두어서는 안 된다'고 답한다.\n",
    "- ‘자녀가 생기면 나의 사회적 성취를 이루기 어렵다’는 문항에 대하여 '그렇다'고 대답한 비율은 20대 여성이 30대 여성과 다르다고 할 수 없다.\n",
    "- 기사에서는 언급하지 않았지만 30대 남성이 눈에 띄는데 그들은 누구보다 더 결혼을 위해 희생할 준비가 되있고, (20대 남성과 함께) 결혼과 자녀가 사회적 성취에 방해된다고 생각하지 않는다.  \n",
    "- 결혼을 위한 희생은 당연하다는 비율은 세대와 성별 차이가 없지만, 결혼/자녀가 사회적 성취에 방해된다는 비율은 성별 차이가 있다."
   ]
  },
  {
   "cell_type": "code",
   "execution_count": 23,
   "id": "794b1d17-2440-4fbc-a39d-65a019eac216",
   "metadata": {},
   "outputs": [],
   "source": [
    "p1 = [.593, .362, .458] # 결혼을 위한 희생은 당연하다, 결혼은 사회적 성취에 방해된다, 자녀는 사회적 성취에 방해된다의 긍정 비율\n",
    "p2 = [.538, .315, .373]\n",
    "p3 = [.405, .475, .687]\n",
    "p4 = [.724, .229, .351]\n",
    "p5 = [.536, .504, .575]\n",
    "p6 = [.387, .496, .627] \n",
    "\n",
    "idx = ['전체', '20대 남성', '20대 여성', '30대 남성', '30대 여성', '결혼 의향 없는 미혼']\n",
    "cols = ['결혼을 위한 희생은 당연', '결혼은 사회적 성취에 방해', '자녀는 사회적 성취에 방해']\n",
    "df = pd.DataFrame([p1,p2,p3,p4,p5,p6], index=idx, columns=cols)"
   ]
  },
  {
   "cell_type": "code",
   "execution_count": 24,
   "id": "640c8ef1-f266-4f7d-b763-bfb4c9cc539a",
   "metadata": {
    "tags": []
   },
   "outputs": [
    {
     "data": {
      "image/png": "[encoded data removed]",
      "text/plain": [
       "<Figure size 864x360 with 3 Axes>"
      ]
     },
     "metadata": {
      "needs_background": "light"
     },
     "output_type": "display_data"
    }
   ],
   "source": [
    "fig, axes = plt.subplots(1,3, figsize=(12,5), sharey=True)\n",
    "for i in range(len(df.columns)):\n",
    "    col = df.columns[i]\n",
    "    x = (df.iloc[:,i].to_frame(col)\n",
    "           .assign(disagree=lambda x: 1-x[col])\n",
    "           .rename(columns={col:col, 'disagree': '기타'})\n",
    "           .mul(100).to_dict(orient='split'))\n",
    "    res = dict(zip(x['index'], x['data']))\n",
    "    cat = x['columns']\n",
    "    _ = survey(res, cat, ax=axes[i])"
   ]
  },
  {
   "cell_type": "code",
   "execution_count": 25,
   "id": "07a0c0e2-1212-4a4b-908d-fde30d2200bf",
   "metadata": {},
   "outputs": [
    {
     "data": {
      "text/plain": [
       "160"
      ]
     },
     "execution_count": 25,
     "metadata": {},
     "output_type": "execute_result"
    }
   ],
   "source": [
    "# 나이별 남녀인원수 동일하다는 가정하에 계산한 세대별 남녀수(예 20대 여자)는 (우연히도) 실제 20대 여자수와 동일\n",
    "\n",
    "# 나이별 인원수와 남녀 비율 동일 가정\n",
    "n_all = 1000 # 전체 응답자\n",
    "n_single2 = 252 # 결혼 의향 없는 미혼\n",
    "n_ages = round(n_all / (49-18+1) / 2) * 10 # 세대별 남자\n",
    "n_ages"
   ]
  },
  {
   "cell_type": "markdown",
   "id": "af08f1e2-ffec-4e9c-b432-deb154c39d86",
   "metadata": {},
   "source": [
    "## CS1"
   ]
  },
  {
   "cell_type": "code",
   "execution_count": 26,
   "id": "e7fdfb7b-21af-4dd5-9fac-c0c18618c3da",
   "metadata": {
    "tags": []
   },
   "outputs": [
    {
     "name": "stdout",
     "output_type": "stream",
     "text": [
      "결혼을 위한 희생은 당연:\n",
      "전체\t\t 0.593 ± 0.0304, [0.563, 0.623]\n",
      "20대 남성\t 0.537 ± 0.0773, [0.460, 0.615]\n",
      "20대 여성\t 0.406 ± 0.0761, [0.330, 0.482]\n",
      "30대 남성\t 0.725 ± 0.0692, [0.656, 0.794]\n",
      "30대 여성\t 0.537 ± 0.0773, [0.460, 0.615]\n",
      "결혼 의향 없는 미혼\t 0.389 ± 0.0602, [0.329, 0.449]\n",
      "\n",
      "결혼은 사회적 성취에 방해:\n",
      "전체\t\t 0.362 ± 0.0298, [0.332, 0.392]\n",
      "20대 남성\t 0.312 ± 0.0718, [0.241, 0.384]\n",
      "20대 여성\t 0.475 ± 0.0774, [0.398, 0.552]\n",
      "30대 남성\t 0.231 ± 0.0653, [0.166, 0.297]\n",
      "30대 여성\t 0.506 ± 0.0775, [0.429, 0.584]\n",
      "결혼 의향 없는 미혼\t 0.496 ± 0.0617, [0.434, 0.558]\n",
      "\n",
      "자녀는 사회적 성취에 방해:\n",
      "전체\t\t 0.458 ± 0.0309, [0.427, 0.489]\n",
      "20대 남성\t 0.375 ± 0.0750, [0.300, 0.450]\n",
      "20대 여성\t 0.688 ± 0.0718, [0.616, 0.759]\n",
      "30대 남성\t 0.350 ± 0.0739, [0.276, 0.424]\n",
      "30대 여성\t 0.575 ± 0.0766, [0.498, 0.652]\n",
      "결혼 의향 없는 미혼\t 0.627 ± 0.0597, [0.567, 0.687]\n",
      "\n"
     ]
    }
   ],
   "source": [
    "nums = [n_all, n_ages, n_ages, n_ages, n_ages, n_single2]\n",
    "method = 'normal'\n",
    "\n",
    "for c in range(len(df.columns)):\n",
    "    print(f'{df.columns[c]}:')\n",
    "    for i in range(len(nums)):\n",
    "        x = df.index[i]\n",
    "        print_head(x, df.index)\n",
    "        n = nums[i]\n",
    "        k = round(df.iloc[i,c] * n)\n",
    "        low, high = proportion_confint(k, n, alpha, method=method)\n",
    "        print_interval(low, high, '')\n",
    "    print()"
   ]
  },
  {
   "cell_type": "markdown",
   "id": "89b01c35-d719-47f5-9c4c-76450d040022",
   "metadata": {},
   "source": [
    "## CS2\n",
    "20대 여성 67.8%가 아무리 경제적으로 넉넉하더라도 일을 그만두어서는 안 된다고 답한다. 30대 여성의 응답(51%)보다도 높은 수치다."
   ]
  },
  {
   "cell_type": "code",
   "execution_count": 103,
   "id": "9e51e9b0-3cf3-4e43-846b-36266027e811",
   "metadata": {},
   "outputs": [
    {
     "name": "stdout",
     "output_type": "stream",
     "text": [
      "20대 여성: 0.675 ± 0.0726, [0.602, 0.748]\n",
      "30대 여성: 0.512 ± 0.0775, [0.435, 0.590]\n"
     ]
    }
   ],
   "source": [
    "n = n_ages\n",
    "\n",
    "# 20대 여성\n",
    "k = round(.678 * n)\n",
    "low, high = proportion_confint(k, n, alpha, method=method)\n",
    "print('20대 여성: ', end='')\n",
    "print_interval(low, high, '')\n",
    "\n",
    "# 30대 여성\n",
    "k = round(.51 * n)\n",
    "print('30대 여성: ', end='')\n",
    "low, high = proportion_confint(k, n, alpha, method=method)\n",
    "print_interval(low, high, '')"
   ]
  },
  {
   "cell_type": "markdown",
   "id": "e5862a92-1376-4176-aa5a-80d854a2a10e",
   "metadata": {},
   "source": [
    "## CS3\n",
    "The chi-square test tests the null hypothesis that the categorical data has the same frequencies."
   ]
  },
  {
   "cell_type": "code",
   "execution_count": 163,
   "id": "8e946bfa-a1e3-45d1-95bd-0bcad182d977",
   "metadata": {
    "tags": []
   },
   "outputs": [
    {
     "name": "stdout",
     "output_type": "stream",
     "text": [
      "결혼을 위한 희생은 당연:\n"
     ]
    },
    {
     "data": {
      "text/html": [
       "<div>\n",
       "<style scoped>\n",
       "    .dataframe tbody tr th:only-of-type {\n",
       "        vertical-align: middle;\n",
       "    }\n",
       "\n",
       "    .dataframe tbody tr th {\n",
       "        vertical-align: top;\n",
       "    }\n",
       "\n",
       "    .dataframe thead th {\n",
       "        text-align: right;\n",
       "    }\n",
       "</style>\n",
       "<table border=\"1\" class=\"dataframe\">\n",
       "  <thead>\n",
       "    <tr style=\"text-align: right;\">\n",
       "      <th></th>\n",
       "      <th>남성</th>\n",
       "      <th>여성</th>\n",
       "    </tr>\n",
       "  </thead>\n",
       "  <tbody>\n",
       "    <tr>\n",
       "      <th>20대</th>\n",
       "      <td>86</td>\n",
       "      <td>65</td>\n",
       "    </tr>\n",
       "    <tr>\n",
       "      <th>30대</th>\n",
       "      <td>116</td>\n",
       "      <td>86</td>\n",
       "    </tr>\n",
       "  </tbody>\n",
       "</table>\n",
       "</div>"
      ],
      "text/plain": [
       "      남성  여성\n",
       "20대   86  65\n",
       "30대  116  86"
      ]
     },
     "metadata": {},
     "output_type": "display_data"
    },
    {
     "name": "stdout",
     "output_type": "stream",
     "text": [
      "H0: 세대 & 성별 독립\t\tAccept H0 (p-value = 1.0000e+00)\n",
      "H0: (남성) 20대 & 30대 차이가 없다\tReject H0 (p-value = 3.4790e-02)\n",
      "H0: (여성) 20대 & 30대 차이가 없다\tAccept H0 (p-value = 8.7459e-02)\n",
      "H0: (20대) 남성 & 여성 차이가 없다\tAccept H0 (p-value = 8.7459e-02)\n",
      "H0: (30대) 남성 & 여성 차이가 없다\tReject H0 (p-value = 3.4790e-02)\n",
      "\n",
      "\n",
      "결혼은 사회적 성취에 방해:\n"
     ]
    },
    {
     "data": {
      "text/html": [
       "<div>\n",
       "<style scoped>\n",
       "    .dataframe tbody tr th:only-of-type {\n",
       "        vertical-align: middle;\n",
       "    }\n",
       "\n",
       "    .dataframe tbody tr th {\n",
       "        vertical-align: top;\n",
       "    }\n",
       "\n",
       "    .dataframe thead th {\n",
       "        text-align: right;\n",
       "    }\n",
       "</style>\n",
       "<table border=\"1\" class=\"dataframe\">\n",
       "  <thead>\n",
       "    <tr style=\"text-align: right;\">\n",
       "      <th></th>\n",
       "      <th>남성</th>\n",
       "      <th>여성</th>\n",
       "    </tr>\n",
       "  </thead>\n",
       "  <tbody>\n",
       "    <tr>\n",
       "      <th>20대</th>\n",
       "      <td>50</td>\n",
       "      <td>76</td>\n",
       "    </tr>\n",
       "    <tr>\n",
       "      <th>30대</th>\n",
       "      <td>37</td>\n",
       "      <td>81</td>\n",
       "    </tr>\n",
       "  </tbody>\n",
       "</table>\n",
       "</div>"
      ],
      "text/plain": [
       "     남성  여성\n",
       "20대  50  76\n",
       "30대  37  81"
      ]
     },
     "metadata": {},
     "output_type": "display_data"
    },
    {
     "name": "stdout",
     "output_type": "stream",
     "text": [
      "H0: 세대 & 성별 독립\t\tAccept H0 (p-value = 2.2123e-01)\n",
      "H0: (남성) 20대 & 30대 차이가 없다\tAccept H0 (p-value = 1.6339e-01)\n",
      "H0: (여성) 20대 & 30대 차이가 없다\tAccept H0 (p-value = 6.8986e-01)\n",
      "H0: (20대) 남성 & 여성 차이가 없다\tReject H0 (p-value = 2.0544e-02)\n",
      "H0: (30대) 남성 & 여성 차이가 없다\tReject H0 (p-value = 5.1102e-05)\n",
      "\n",
      "\n",
      "자녀는 사회적 성취에 방해:\n"
     ]
    },
    {
     "data": {
      "text/html": [
       "<div>\n",
       "<style scoped>\n",
       "    .dataframe tbody tr th:only-of-type {\n",
       "        vertical-align: middle;\n",
       "    }\n",
       "\n",
       "    .dataframe tbody tr th {\n",
       "        vertical-align: top;\n",
       "    }\n",
       "\n",
       "    .dataframe thead th {\n",
       "        text-align: right;\n",
       "    }\n",
       "</style>\n",
       "<table border=\"1\" class=\"dataframe\">\n",
       "  <thead>\n",
       "    <tr style=\"text-align: right;\">\n",
       "      <th></th>\n",
       "      <th>남성</th>\n",
       "      <th>여성</th>\n",
       "    </tr>\n",
       "  </thead>\n",
       "  <tbody>\n",
       "    <tr>\n",
       "      <th>20대</th>\n",
       "      <td>60</td>\n",
       "      <td>110</td>\n",
       "    </tr>\n",
       "    <tr>\n",
       "      <th>30대</th>\n",
       "      <td>56</td>\n",
       "      <td>92</td>\n",
       "    </tr>\n",
       "  </tbody>\n",
       "</table>\n",
       "</div>"
      ],
      "text/plain": [
       "     남성   여성\n",
       "20대  60  110\n",
       "30대  56   92"
      ]
     },
     "metadata": {},
     "output_type": "display_data"
    },
    {
     "name": "stdout",
     "output_type": "stream",
     "text": [
      "H0: 세대 & 성별 독립\t\tAccept H0 (p-value = 7.2389e-01)\n",
      "H0: (남성) 20대 & 30대 차이가 없다\tAccept H0 (p-value = 7.1035e-01)\n",
      "H0: (여성) 20대 & 30대 차이가 없다\tAccept H0 (p-value = 2.0534e-01)\n",
      "H0: (20대) 남성 & 여성 차이가 없다\tReject H0 (p-value = 1.2565e-04)\n",
      "H0: (30대) 남성 & 여성 차이가 없다\tReject H0 (p-value = 3.0846e-03)\n",
      "\n",
      "\n"
     ]
    }
   ],
   "source": [
    "# 결혼을 위한 희생은 당연하다는 비율은 세대와 성별 차이가 있다고 할 수 없다.\n",
    "# 결혼/자녀는 사회적 성취에 방해된다는 비율은 성별 차이가 있다.\n",
    "\n",
    "df2 = df.iloc[1:-1].mul(n_ages).apply(lambda x: round(x)).astype(int)\n",
    "idx = df2.iloc[:,0].index.str.split(' ', expand=True)\n",
    "\n",
    "\n",
    "def chi2(df, axis=0):\n",
    "    \n",
    "    if axis == 0:\n",
    "        var = df.index\n",
    "        groups = df.columns\n",
    "        run_test = lambda x, y: stats.chisquare(x.loc[:, y])\n",
    "    else:\n",
    "        var = df.columns\n",
    "        groups = df.index\n",
    "        run_test = lambda x, y: stats.chisquare(x.loc[y, :])\n",
    "    \n",
    "    for g in groups:\n",
    "        t = ' & '.join(var)\n",
    "        print(f'H0: ({g}) {t} 차이가 없다\\t', end='')\n",
    "        res = run_test(df, g)\n",
    "        test_hypothesis(res[1])\n",
    "\n",
    "\n",
    "for i in range(len(df2.columns)):\n",
    "    t = df2.columns[i]\n",
    "    print(f'{t}:')\n",
    "        \n",
    "    x = df2.iloc[:,i].to_frame().set_index(idx).iloc[:,0].unstack(level=-1)\n",
    "    display(x)\n",
    "    \n",
    "    res = stats.chi2_contingency(x)\n",
    "    print('H0: 세대 & 성별 독립\\t\\t', end='')\n",
    "    test_hypothesis(res[1])\n",
    "    \n",
    "    _ = [chi2(x, a) for a in range(2)]\n",
    "    \n",
    "    print('\\n'*1)"
   ]
  },
  {
   "cell_type": "code",
   "execution_count": null,
   "id": "e0adc414-8576-423c-84c0-760565960a25",
   "metadata": {},
   "outputs": [],
   "source": []
  }
 ],
 "metadata": {
  "kernelspec": {
   "display_name": "trading_signal",
   "language": "python",
   "name": "ts"
  },
  "language_info": {
   "codemirror_mode": {
    "name": "ipython",
    "version": 3
   },
   "file_extension": ".py",
   "mimetype": "text/x-python",
   "name": "python",
   "nbconvert_exporter": "python",
   "pygments_lexer": "ipython3",
   "version": "3.9.7"
  }
 },
 "nbformat": 4,
 "nbformat_minor": 5
}
