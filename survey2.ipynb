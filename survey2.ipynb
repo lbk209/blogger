{
 "cells": [
  {
   "cell_type": "markdown",
   "id": "0375fd46-1264-4adc-959a-0ee1dc976fe7",
   "metadata": {},
   "source": [
    "# Setting"
   ]
  },
  {
   "cell_type": "code",
   "execution_count": 1,
   "id": "707fe114-bfd8-42b4-8447-1682e307e071",
   "metadata": {},
   "outputs": [],
   "source": [
    "import numpy as np\n",
    "import pandas as pd\n",
    "\n",
    "from scipy import stats\n",
    "from statsmodels.stats.proportion import proportions_ztest, proportion_confint\n",
    "\n",
    "from matplotlib.colors import ListedColormap\n",
    "import matplotlib.pyplot as plt\n",
    "import matplotlib as mpl\n",
    "\n",
    "plt.rcParams['font.family'] = 'NanumGothic'"
   ]
  },
  {
   "cell_type": "code",
   "execution_count": 2,
   "id": "612a0418-ba0a-4b4c-93b9-d8cbe4e5e6ad",
   "metadata": {},
   "outputs": [],
   "source": [
    "def print_interval(low, high, text='confidence interval: '):\n",
    "    #low, high = low*100, high*100\n",
    "    p = (low+high)/2\n",
    "    err = high - p\n",
    "    #print(f'confidence interval: {p:.0f} ± {err:.2f} % [{low:.0f}, {high:.0f}]')\n",
    "    print(f'{text}{p:.3f} ± {err:.4f}, [{low:.3f}, {high:.3f}]')\n",
    "    \n",
    "    \n",
    "def test_hypothesis(pvalue, level=0.95):\n",
    "    alpha = 1 - c_level\n",
    "    if pvalue > alpha:\n",
    "        s = 'Accept'\n",
    "    else:\n",
    "        s = 'Reject'\n",
    "    print(f'{s} H0 (p-value = {pvalue:.4e})')"
   ]
  },
  {
   "cell_type": "code",
   "execution_count": 3,
   "id": "5e205293-7be7-49e2-9938-2326bb2ad4fe",
   "metadata": {
    "tags": []
   },
   "outputs": [],
   "source": [
    "def plot_survey(results, category_names, ax=None, fig=None, figsize=(10, 5), fmt='%1.1f%%', cmap='Spectral', margin=0.25):\n",
    "    \"\"\"\n",
    "    Parameters\n",
    "    ----------\n",
    "    results : dict\n",
    "        A mapping from question labels to a list of answers per category.\n",
    "        It is assumed all lists contain the same number of entries and that\n",
    "        it matches the length of *category_names*.\n",
    "    category_names : list of str\n",
    "        The category labels.\n",
    "    cmap: \n",
    "        ex) 'bwr', 'coolwarm'\n",
    "        see https://matplotlib.org/stable/tutorials/colors/colormaps.html\n",
    "    fmt: ex) '%g', '%1.1f%%'\n",
    "    \"\"\"\n",
    "    labels = list(results.keys())\n",
    "    data = np.array(list(results.values()))\n",
    "    data_cum = data.cumsum(axis=1)\n",
    "    category_colors = plt.colormaps[cmap](\n",
    "        np.linspace(margin, 1-margin, data.shape[1]))\n",
    "        #np.linspace(0.25, 0.75, data.shape[1]))\n",
    "        \n",
    "    if ax is None:\n",
    "        fig, ax = plt.subplots(figsize=figsize)\n",
    "        height = figsize[1]\n",
    "    else:\n",
    "        if fig is None:\n",
    "            print('ERROR: set fig')\n",
    "            return None\n",
    "        else:\n",
    "            height = fig.get_figheight()\n",
    "    height = height/len(results)*.8        \n",
    "        \n",
    "    ax.invert_yaxis()\n",
    "    ax.xaxis.set_visible(False)\n",
    "    ax.set_xlim(0, np.sum(data, axis=1).max())\n",
    "\n",
    "    for i, (colname, color) in enumerate(zip(category_names, category_colors)):\n",
    "        widths = data[:, i]\n",
    "        starts = data_cum[:, i] - widths\n",
    "        rects = ax.barh(labels, widths, left=starts, height=height,\n",
    "                        label=colname, color=color)\n",
    "\n",
    "        r, g, b, _ = color\n",
    "        text_color = 'white' if r * g * b < 0.5 else 'darkgrey'\n",
    "        ax.bar_label(rects, fmt=fmt, label_type='center', color=text_color, fontweight='bold')\n",
    "    ax.legend(ncol=len(category_names), bbox_to_anchor=(0, 1),\n",
    "              loc='lower left', fontsize='small')\n",
    "    \n",
    "    ax.spines[['top', 'right', 'bottom', 'left']].set_visible(False)\n",
    "    ax.yaxis.set_tick_params(left=False)\n",
    "    \n",
    "    #return fig, ax\n",
    "    return ax\n",
    "\n",
    "\n",
    "# sample\n",
    "category_names = ['Strongly disagree', 'Disagree',\n",
    "                  'Neither agree nor disagree', 'Agree', 'Strongly agree']\n",
    "results = {\n",
    "    'Question 1': [10, 15, 17, 32, 26],\n",
    "    'Question 2': [26, 22, 29, 10, 13],\n",
    "    'Question 3': [35, 37, 7, 2, 19],\n",
    "    'Question 4': [32, 11, 9, 15, 33],\n",
    "    'Question 5': [21, 29, 5, 5, 40],\n",
    "    'Question 6': [8, 19, 5, 30, 38]\n",
    "}\n",
    "\n",
    "#_ = plot_survey(results, category_names)\n",
    "#plt.show()"
   ]
  },
  {
   "cell_type": "code",
   "execution_count": 4,
   "id": "75b11611-cd29-4354-a9c7-4fc25af03211",
   "metadata": {},
   "outputs": [],
   "source": [
    "def plot_groupbar(df, figsize=(10,5), axis=0):\n",
    "    if axis > 0:\n",
    "        df = df.T\n",
    "        \n",
    "    xticks = df.columns\n",
    "    data_dict = df.to_dict(orient='split')\n",
    "    data_dict = dict(zip(data_dict['index'], data_dict['data']))\n",
    "    \n",
    "    x = np.arange(len(xticks))  # the label locations\n",
    "    width = 1 / (len(data_dict)+1)\n",
    "    multiplier = 0\n",
    "    \n",
    "    fig, ax = plt.subplots(layout='constrained', figsize=figsize)\n",
    "\n",
    "    for attribute, measurement in data_dict.items():\n",
    "        offset = width * multiplier\n",
    "        rects = ax.bar(x + offset, measurement, width, label=attribute)\n",
    "        ax.bar_label(rects, padding=3)\n",
    "        multiplier += 1\n",
    "\n",
    "    ax.set_xticks(x + width, xticks)\n",
    "    ax.legend(bbox_to_anchor=(1, 1))\n",
    "    ax.tick_params(axis='x', labelrotation = 45)\n",
    "    plt.show()"
   ]
  },
  {
   "cell_type": "code",
   "execution_count": 5,
   "id": "98de921c-77a4-4bfa-b116-3a3b130d3878",
   "metadata": {},
   "outputs": [],
   "source": [
    "l_tab = 6\n",
    "\n",
    "def print_head(x, x_all, l_tab=l_tab, n_tab=None):\n",
    "    if n_tab is None:\n",
    "        n_tab = max([len(x) // l_tab + min(len(x) % l_tab, 1) for x in x_all])\n",
    "    n = n_tab - len(x) // l_tab\n",
    "    t = '\\t' * n\n",
    "    print(f'{x}{t}', end=' ')"
   ]
  },
  {
   "cell_type": "code",
   "execution_count": 6,
   "id": "5beeddd3-7389-4abe-9ada-1671fa280f81",
   "metadata": {},
   "outputs": [],
   "source": [
    "def evaluate_contingency(df, q, level=['세대와', '성별과']):\n",
    "    \"\"\"\n",
    "    성별과 질문의 상관관계, 세대와 질문의 상관관계 검토\n",
    "    q: 긍정/부정의 질문 내용.\n",
    "    \"\"\"\n",
    "    midx = pd.IndexSlice\n",
    "    get_idx = lambda x, y: midx[:, x] if y > 0 else x\n",
    "\n",
    "    cat = {}\n",
    "    for i in range(2):\n",
    "        k = df.index.get_level_values(i).unique()\n",
    "        n = df.index.get_level_values(i).nunique()\n",
    "        cat.update(dict(zip(k, [i]*n)))\n",
    "\n",
    "    \n",
    "    h0t = dict(zip(range(1, -1, -1), level)) # var for level (key)\n",
    "    h0 = 'H0:({}) {} {}의 상관관계가 없다'\n",
    "    h0s = [h0.format(k, h0t[v], q) for k, v in cat.items()]\n",
    "    num = len(h0s)\n",
    "    \n",
    "    h0t = dict(zip(range(2), level))\n",
    "    h0 = 'H0:{} {}의 상관관계가 없다'\n",
    "    h0s = h0s + [h0.format(h0t[v], q) for v in range(2)]\n",
    "    cnt_lvl = {0:0, 1:0}\n",
    "    \n",
    "    for i, (k,v) in enumerate(cat.items()):\n",
    "        y = df.loc[get_idx(k, v), :]\n",
    "        if y.shape[0] > 1:\n",
    "            print_head(h0s[i], h0s)\n",
    "            res = stats.chi2_contingency(y)\n",
    "            test_hypothesis(res[1])\n",
    "            cnt_lvl[v] += 1\n",
    "   \n",
    "    for i in range(1,-1,-1):\n",
    "        y = df.groupby(level=i).sum()\n",
    "        if cnt_lvl[i] > 1:\n",
    "            print_head(h0s[i+num], h0s)\n",
    "            res = stats.chi2_contingency(y)\n",
    "            test_hypothesis(res[1]) "
   ]
  },
  {
   "cell_type": "code",
   "execution_count": 13,
   "id": "952effe7-cc36-4027-b7a4-c7b5954b517f",
   "metadata": {},
   "outputs": [],
   "source": [
    "def gradientbars(bars, cmap='Greys', margin=(0,0.5)):\n",
    "    # create new color map\n",
    "    left = mpl.colormaps[cmap]\n",
    "    right = mpl.colormaps[cmap + '_r']\n",
    "    mc = margin[0]\n",
    "    mb = margin[1]\n",
    "    newcolors = np.vstack((left(np.linspace(mb, 1-mc, 128)),\n",
    "                           right(np.linspace(mc, 1-mb, 128))))\n",
    "    cmap = ListedColormap(newcolors, name='NewCyclic')\n",
    "    \n",
    "    ax = bars[0].axes\n",
    "    lim = ax.get_xlim()+ax.get_ylim()\n",
    "    ax.axis(lim)\n",
    "    for bar in bars:\n",
    "        bar.set_facecolor(\"none\")\n",
    "        x,y = bar.get_xy()\n",
    "        w, h = bar.get_width(), bar.get_height()\n",
    "        grad = np.atleast_2d(np.linspace(0,1,256))\n",
    "        ax.imshow(grad, extent=[x,x+w,y,y+h], aspect=\"auto\", cmap=cmap)\n",
    "    #plt.show()\n",
    "    \n",
    "    \n",
    "def plot_intervals(df_int, width=0.9, figsize=(6,4), \n",
    "                   cmap='Purples', margin=[0.6,0.15], \n",
    "                   xlim=None, title=None, ax=None):\n",
    "    \"\"\"\n",
    "    df_int: 1st col is low, 2nd col is high of interval\n",
    "    xlim: ex) [0,1]\n",
    "    \"\"\"\n",
    "    labels = df_int.index\n",
    "    y = list(range(len(labels)-1,-1,-1))\n",
    "    heights0 = df_int.iloc[:,0]\n",
    "    heights = df_int.iloc[:,1]\n",
    "    width = [width for x in y]\n",
    "    if ax is None:\n",
    "        fig, ax = plt.subplots(figsize=figsize)\n",
    "    ax.set_yticks(y, labels=labels)\n",
    "    if xlim is not None:\n",
    "        ax.set_xlim(*xlim)\n",
    "    ax.grid(True, axis='x', ls='--')\n",
    "    if title is not None:\n",
    "        ax.set_title(title)\n",
    "    rects = ax.barh(y, heights-heights0, width, left=heights0) \n",
    "    #return rects\n",
    "    gradientbars(rects, cmap=cmap, margin=margin)"
   ]
  },
  {
   "cell_type": "code",
   "execution_count": 8,
   "id": "fe9a3e0a-2391-4eb2-80c6-949cba06be4d",
   "metadata": {},
   "outputs": [],
   "source": [
    "c_level = .95 # 신뢰수준 95%\n",
    "alpha = 1 - c_level # 유의수준 5%"
   ]
  },
  {
   "cell_type": "markdown",
   "id": "a4e35938-b205-4329-90d4-359ec7223476",
   "metadata": {},
   "source": [
    "# F01 신뢰수준과 표본오차\n",
    "전국 성인 남녀 1000명이 조사에 응해주었다. 응답률은 5.4%, 표본오차는 95% 신뢰수준에서 ±3.1%포인트다"
   ]
  },
  {
   "cell_type": "markdown",
   "id": "ff0f0214-4d31-4176-b0f8-a40a4a458e48",
   "metadata": {},
   "source": [
    "comments:\n",
    "- 한 개의 긍정/부정 문항에 대하여 1000명 중 50%가 긍정한다면 100번중 95번의 경우 오차는 ±3.1% 이내. \n",
    "- 기사중 20대 여성은 160명이므로 20대 여성의 긍정/부정 문항의 최대 표본오차는 95% 신뢰수준에서 ±7.8% "
   ]
  },
  {
   "cell_type": "code",
   "execution_count": 9,
   "id": "6f4f9206-3519-4071-a7ad-af4bd54d9100",
   "metadata": {},
   "outputs": [
    {
     "name": "stdout",
     "output_type": "stream",
     "text": [
      "method = normal\n",
      "confidence interval: 0.500 ± 0.0310, [0.469, 0.531]\n",
      "method = wilson\n",
      "confidence interval: 0.500 ± 0.0309, [0.469, 0.531]\n",
      "method = jeffreys\n",
      "confidence interval: 0.500 ± 0.0310, [0.469, 0.531]\n"
     ]
    }
   ],
   "source": [
    "# 전체\n",
    "n = 1000\n",
    "k = round(n/2)\n",
    "\n",
    "method = 'normal'\n",
    "low, high = proportion_confint(k, n, alpha, method=method)\n",
    "print(f'method = {method}')\n",
    "print_interval(low, high)\n",
    "\n",
    "method = 'wilson'\n",
    "low, high = proportion_confint(k, n, alpha, method=method)\n",
    "print(f'method = {method}')\n",
    "print_interval(low, high)\n",
    "\n",
    "method = 'jeffreys'\n",
    "low, high = proportion_confint(k, n, alpha, method=method)\n",
    "print(f'method = {method}')\n",
    "print_interval(low, high)"
   ]
  },
  {
   "cell_type": "code",
   "execution_count": 10,
   "id": "14f63fe8-f791-470e-9295-e926eeddfd57",
   "metadata": {},
   "outputs": [
    {
     "name": "stdout",
     "output_type": "stream",
     "text": [
      "method = normal\n",
      "confidence interval: 0.500 ± 0.0775, [0.423, 0.577]\n",
      "method = wilson\n",
      "confidence interval: 0.500 ± 0.0766, [0.423, 0.577]\n",
      "method = jeffreys\n",
      "confidence interval: 0.500 ± 0.0769, [0.423, 0.577]\n"
     ]
    }
   ],
   "source": [
    "# 20대 여성\n",
    "n = 160\n",
    "k = round(n/2)\n",
    "\n",
    "method = 'normal'\n",
    "low, high = proportion_confint(k, n, alpha, method=method)\n",
    "print(f'method = {method}')\n",
    "print_interval(low, high)\n",
    "\n",
    "method = 'wilson'\n",
    "low, high = proportion_confint(k, n, alpha, method=method)\n",
    "print(f'method = {method}')\n",
    "print_interval(low, high)\n",
    "\n",
    "method = 'jeffreys'\n",
    "low, high = proportion_confint(k, n, alpha, method=method)\n",
    "print(f'method = {method}')\n",
    "print_interval(low, high)"
   ]
  },
  {
   "cell_type": "code",
   "execution_count": 11,
   "id": "c378656f-7018-49f0-b4b6-a5df4fc9ac7b",
   "metadata": {},
   "outputs": [
    {
     "name": "stdout",
     "output_type": "stream",
     "text": [
      "method = normal\n",
      "confidence interval: 0.963 ± 0.0294, [0.933, 0.992]\n",
      "method = wilson\n",
      "confidence interval: 0.952 ± 0.0310, [0.921, 0.983]\n",
      "method = jeffreys\n",
      "confidence interval: 0.954 ± 0.0299, [0.924, 0.984]\n"
     ]
    }
   ],
   "source": [
    "# 20대 여성\n",
    "n = 160\n",
    "k = round(n*.96)\n",
    "\n",
    "method = 'normal'\n",
    "low, high = proportion_confint(k, n, alpha, method=method)\n",
    "print(f'method = {method}')\n",
    "print_interval(low, high)\n",
    "\n",
    "method = 'wilson'\n",
    "low, high = proportion_confint(k, n, alpha, method=method)\n",
    "print(f'method = {method}')\n",
    "print_interval(low, high)\n",
    "\n",
    "method = 'jeffreys'\n",
    "low, high = proportion_confint(k, n, alpha, method=method)\n",
    "print(f'method = {method}')\n",
    "print_interval(low, high)"
   ]
  },
  {
   "cell_type": "markdown",
   "id": "af33e44f-a7cc-44f4-910d-85fd1ed25cbf",
   "metadata": {},
   "source": [
    "# F02 미혼의 결혼 의향\n",
    "- 그림1. \n",
    "- 대상: 미혼 579명\n",
    "- (그림에 없는 내용) 그런데 여기서 남녀 성별 격차가 나타난다. 미혼 남성은 65.7%가 결혼하고 싶다고 답한다. 그러나 여성은 54.5%가 결혼할 의향이 없다고 답한다. \n",
    "- 결혼 의향에 대해서 \"남녀 간 ‘미스매치’가 일어난다. 이 성별 격차는 결혼 적령기인 30대에서 가장 크다\"고 한다."
   ]
  },
  {
   "cell_type": "markdown",
   "id": "e7024908-8763-4e18-8d98-e3ccec90cbea",
   "metadata": {},
   "source": [
    "comments:\n",
    "- (기사대로) 미혼남녀 및, 2030대 젊은 세대의 남녀 간 격차가 있다. 단 20대의 경우 아슬아슬하게 성별 차이가 있다(p-value 0.035). \n",
    "- 세대별 차이는 없다.\n",
    "- (기사의 뉘앙스?와 달리) 미혼/20대/30대에 대해 남성의 결혼 의향은 50%를 넘는다. 여성은 50% 미만이라고 할 수 없다."
   ]
  },
  {
   "cell_type": "code",
   "execution_count": 9,
   "id": "6b58f25c-edfe-4f2c-9688-2cfa5f3cc51a",
   "metadata": {},
   "outputs": [],
   "source": [
    "p1 = [.565, .435]\n",
    "p2 = [.646, .354]\n",
    "p3 = [.473, .527]\n",
    "p4 = [.711, .289]\n",
    "p5 = [.447, .553]\n",
    "p6 = [.657, .343] # 미혼남\n",
    "p7 = [.455, .545] # 미혼여\n",
    "\n",
    "idx = ['전체', '20대 남성', '20대 여성', '30대 남성', '30대 여성', '미혼 남성', '미혼 여성']\n",
    "cols = [['결혼']*2, ['의향 있음', '의향 없음']]\n",
    "df = pd.DataFrame([p1,p2,p3,p4,p5,p6,p7], index=idx, columns=cols)"
   ]
  },
  {
   "cell_type": "code",
   "execution_count": 10,
   "id": "5e62d3d5-6079-46ca-b852-8a6b61250771",
   "metadata": {},
   "outputs": [
    {
     "data": {
      "image/png": "[encoded data removed]",
      "text/plain": [
       "<Figure size 720x432 with 1 Axes>"
      ]
     },
     "metadata": {
      "needs_background": "light"
     },
     "output_type": "display_data"
    }
   ],
   "source": [
    "x = df.mul(100).to_dict(orient='split')\n",
    "res = dict(zip(x['index'], x['data']))\n",
    "cat = [' '.join(x) for x in x['columns']]\n",
    "_ = plot_survey(res, cat, figsize=(10,6))"
   ]
  },
  {
   "cell_type": "code",
   "execution_count": 11,
   "id": "dcdd3d7b-6a03-4a77-a392-d7167a1a89fe",
   "metadata": {},
   "outputs": [
    {
     "data": {
      "text/plain": [
       "90"
      ]
     },
     "execution_count": 11,
     "metadata": {},
     "output_type": "execute_result"
    }
   ],
   "source": [
    "# 나이별 인원수와 남녀 비율 동일 가정\n",
    "n_single = 579\n",
    "n_ages = round(n_single / (49-18+1) / 2) * 10 # 세대별 미혼남\n",
    "n_ages"
   ]
  },
  {
   "cell_type": "code",
   "execution_count": 12,
   "id": "d6308f31-e05a-4425-a17a-9dd6546e5275",
   "metadata": {},
   "outputs": [
    {
     "name": "stdout",
     "output_type": "stream",
     "text": [
      "결혼 의향 있음:\n",
      "전체\t\t 0.565 ± 0.0404, [0.524, 0.605]\n",
      "20대 남성\t 0.644 ± 0.0989, [0.546, 0.743]\n",
      "20대 여성\t 0.478 ± 0.1032, [0.375, 0.581]\n",
      "30대 남성\t 0.711 ± 0.0936, [0.617, 0.805]\n",
      "30대 여성\t 0.444 ± 0.1027, [0.342, 0.547]\n",
      "미혼 남성\t\t 0.659 ± 0.0546, [0.604, 0.713]\n",
      "미혼 여성\t\t 0.453 ± 0.0574, [0.396, 0.511]\n"
     ]
    },
    {
     "data": {
      "image/png": "[encoded data removed]",
      "text/plain": [
       "<Figure size 432x288 with 1 Axes>"
      ]
     },
     "metadata": {
      "needs_background": "light"
     },
     "output_type": "display_data"
    }
   ],
   "source": [
    "# '전체', '20대남', '20대여', '30대남', '30대여', '미혼남', '미혼여'\n",
    "nums = [n_single, n_ages, n_ages, n_ages, n_ages, round(n_single/2), n_single-round(n_single/2)]\n",
    "method = 'normal'\n",
    "df_int = pd.DataFrame(columns=['low','high'])\n",
    "\n",
    "question = ' '.join(df.columns[0])\n",
    "print(f'{question}:')\n",
    "for i in range(len(nums)):\n",
    "    print_head(df.index[i], df.index, n_tab=2)\n",
    "    n = nums[i]\n",
    "    k = round(df.iloc[i,0] * n)\n",
    "    low_high = proportion_confint(k, n, alpha, method=method)\n",
    "    print_interval(*low_high, '')\n",
    "    df_int.loc[df.index[i]] = low_high\n",
    "    \n",
    "plot_intervals(df_int, title=question)"
   ]
  },
  {
   "cell_type": "code",
   "execution_count": 14,
   "id": "d1280662-88db-4727-be0e-9ecc9d18a7b9",
   "metadata": {},
   "outputs": [
    {
     "name": "stdout",
     "output_type": "stream",
     "text": [
      "결혼 의향 있음:\n",
      "전체\t\t 0.564 ± 0.0403, [0.524, 0.605]\n",
      "20대 남성\t 0.640 ± 0.0976, [0.542, 0.738]\n",
      "20대 여성\t 0.478 ± 0.1018, [0.377, 0.580]\n",
      "30대 남성\t 0.704 ± 0.0925, [0.612, 0.797]\n",
      "30대 여성\t 0.446 ± 0.1013, [0.345, 0.548]\n",
      "미혼 남성\t\t 0.657 ± 0.0544, [0.603, 0.711]\n",
      "미혼 여성\t\t 0.454 ± 0.0572, [0.397, 0.511]\n"
     ]
    }
   ],
   "source": [
    "method = 'jeffreys'\n",
    "\n",
    "x = ' '.join(df.columns[0])\n",
    "print(f'{x}:')\n",
    "for i in range(len(nums)):\n",
    "    print_head(df.index[i], df.index, n_tab=2)\n",
    "    n = nums[i]\n",
    "    k = round(df.iloc[i,0] * n)\n",
    "    low, high = proportion_confint(k, n, alpha, method=method)\n",
    "    print_interval(low, high, '')"
   ]
  },
  {
   "cell_type": "code",
   "execution_count": 15,
   "id": "862b0f3c-6e5b-48d4-8634-eb2d55ce7ec2",
   "metadata": {
    "tags": []
   },
   "outputs": [
    {
     "data": {
      "text/html": [
       "<div>\n",
       "<style scoped>\n",
       "    .dataframe tbody tr th:only-of-type {\n",
       "        vertical-align: middle;\n",
       "    }\n",
       "\n",
       "    .dataframe tbody tr th {\n",
       "        vertical-align: top;\n",
       "    }\n",
       "\n",
       "    .dataframe thead tr th {\n",
       "        text-align: left;\n",
       "    }\n",
       "</style>\n",
       "<table border=\"1\" class=\"dataframe\">\n",
       "  <thead>\n",
       "    <tr>\n",
       "      <th></th>\n",
       "      <th></th>\n",
       "      <th colspan=\"2\" halign=\"left\">결혼</th>\n",
       "    </tr>\n",
       "    <tr>\n",
       "      <th></th>\n",
       "      <th></th>\n",
       "      <th>의향 있음</th>\n",
       "      <th>의향 없음</th>\n",
       "    </tr>\n",
       "  </thead>\n",
       "  <tbody>\n",
       "    <tr>\n",
       "      <th rowspan=\"2\" valign=\"top\">20대</th>\n",
       "      <th>남성</th>\n",
       "      <td>58</td>\n",
       "      <td>32</td>\n",
       "    </tr>\n",
       "    <tr>\n",
       "      <th>여성</th>\n",
       "      <td>43</td>\n",
       "      <td>47</td>\n",
       "    </tr>\n",
       "    <tr>\n",
       "      <th rowspan=\"2\" valign=\"top\">30대</th>\n",
       "      <th>남성</th>\n",
       "      <td>64</td>\n",
       "      <td>26</td>\n",
       "    </tr>\n",
       "    <tr>\n",
       "      <th>여성</th>\n",
       "      <td>40</td>\n",
       "      <td>50</td>\n",
       "    </tr>\n",
       "  </tbody>\n",
       "</table>\n",
       "</div>"
      ],
      "text/plain": [
       "          결혼      \n",
       "       의향 있음 의향 없음\n",
       "20대 남성    58    32\n",
       "    여성    43    47\n",
       "30대 남성    64    26\n",
       "    여성    40    50"
      ]
     },
     "metadata": {},
     "output_type": "display_data"
    },
    {
     "name": "stdout",
     "output_type": "stream",
     "text": [
      "H0:(20대) 성별과 결혼할 의향의 상관관계가 없다\t Reject H0 (p-value = 3.5487e-02)\n",
      "H0:(30대) 성별과 결혼할 의향의 상관관계가 없다\t Reject H0 (p-value = 5.1874e-04)\n",
      "H0:(남성) 세대와 결혼할 의향의 상관관계가 없다\t Accept H0 (p-value = 4.2518e-01)\n",
      "H0:(여성) 세대와 결혼할 의향의 상관관계가 없다\t Accept H0 (p-value = 7.6490e-01)\n",
      "H0:성별과 결혼할 의향의 상관관계가 없다\t\t Reject H0 (p-value = 5.2378e-05)\n",
      "H0:세대와 결혼할 의향의 상관관계가 없다\t\t Accept H0 (p-value = 8.3142e-01)\n"
     ]
    }
   ],
   "source": [
    "df2 = df.iloc[1:-2].mul(n_ages).apply(lambda x: round(x)).astype(int)\n",
    "idx = df2.iloc[:,0].index.str.split(' ', expand=True)\n",
    "\n",
    "x = df2.set_index(idx)\n",
    "display(x)\n",
    "\n",
    "evaluate_contingency(x, '결혼할 의향')"
   ]
  },
  {
   "cell_type": "code",
   "execution_count": 16,
   "id": "553ea122-1a35-4877-93f7-50d811db04b2",
   "metadata": {},
   "outputs": [
    {
     "data": {
      "text/html": [
       "<div>\n",
       "<style scoped>\n",
       "    .dataframe tbody tr th:only-of-type {\n",
       "        vertical-align: middle;\n",
       "    }\n",
       "\n",
       "    .dataframe tbody tr th {\n",
       "        vertical-align: top;\n",
       "    }\n",
       "\n",
       "    .dataframe thead tr th {\n",
       "        text-align: left;\n",
       "    }\n",
       "</style>\n",
       "<table border=\"1\" class=\"dataframe\">\n",
       "  <thead>\n",
       "    <tr>\n",
       "      <th></th>\n",
       "      <th></th>\n",
       "      <th colspan=\"2\" halign=\"left\">결혼</th>\n",
       "    </tr>\n",
       "    <tr>\n",
       "      <th></th>\n",
       "      <th></th>\n",
       "      <th>의향 있음</th>\n",
       "      <th>의향 없음</th>\n",
       "    </tr>\n",
       "  </thead>\n",
       "  <tbody>\n",
       "    <tr>\n",
       "      <th rowspan=\"2\" valign=\"top\">미혼</th>\n",
       "      <th>남성</th>\n",
       "      <td>380</td>\n",
       "      <td>199</td>\n",
       "    </tr>\n",
       "    <tr>\n",
       "      <th>여성</th>\n",
       "      <td>263</td>\n",
       "      <td>316</td>\n",
       "    </tr>\n",
       "  </tbody>\n",
       "</table>\n",
       "</div>"
      ],
      "text/plain": [
       "         결혼      \n",
       "      의향 있음 의향 없음\n",
       "미혼 남성   380   199\n",
       "   여성   263   316"
      ]
     },
     "metadata": {},
     "output_type": "display_data"
    },
    {
     "name": "stdout",
     "output_type": "stream",
     "text": [
      "H0:(미혼) 성별과 결혼할 의향의 상관관계가 없다\t Reject H0 (p-value = 6.9020e-12)\n"
     ]
    }
   ],
   "source": [
    "df2 = df.iloc[-2:].mul(n_single).apply(lambda x: round(x)).astype(int)\n",
    "idx = df2.iloc[:,0].index.str.split(' ', expand=True)\n",
    "\n",
    "x = df2.set_index(idx)\n",
    "display(x)\n",
    "\n",
    "evaluate_contingency(x, '결혼할 의향')"
   ]
  },
  {
   "cell_type": "markdown",
   "id": "29d683d7-0e84-460f-b7cb-3234caf94153",
   "metadata": {},
   "source": [
    "# F03 연애-결혼-출산 인식\n",
    "- 그림2 \n",
    "- 대상 응답자 전체 1000명\n",
    "- 30대 남성(66.9%), 40대 남성(69.1%)에 비해 오히려 연애에 적극적일 것 같은 20대 남성이 연애에 더 시큰둥하다. 남성과 여성 모두 젊을수록 연애에 대한 집착이 약하다.\n",
    "- 연애도, 결혼도 필수가 아닌데 출산이 필수일 리 없다"
   ]
  },
  {
   "cell_type": "markdown",
   "id": "86a9814e-5ee7-453c-b83d-df2b9bac2a12",
   "metadata": {},
   "source": [
    "comments:\n",
    "- (기사대로) ‘결혼은 반드시 해야 한다’는 인식에 대해서도 성별 격차가 있고 여성이 결혼에 더 부정적인 것도 맞다.\n",
    "- (기사대로) 결혼뿐 아니라 ‘연애’에 대해서도 이러한 성별 격차가 크게 나타난다.\n",
    "- (기사대로) '연애는 반드시 해야 한다'는 문항에 ‘그렇지 않다’가 절반 이상을 차지하는 집단(연애 필수인 비율이 절반 미만)은 (결혼 의향 없는 미혼 집단 제외하고) 전체 성별·세대 가운데 20대 여성이 유일하다.\n",
    "- (기사와달리) 기사대로 남성들은 전반적으로 ‘연애는 반드시 해야 한다’는 데 동의하는 태도를 보인다. 그러나 기사와 달리 30대 남성에 비해 20대 남성이 연애에 더 시큰둥하다고 할 수는 없다.\n",
    "- (기사와 달리) 기사는 남성과 여성 모두 젊을수록 연애에 대한 집착이 약하다지만 여성만 젊을수록 연애에 대한 집착이 약하다\n",
    "- (기사대로) ‘자녀는 반드시 낳아야 한다’는 문항에 대해서도 20대 여성은 강하게 반발한다. 결혼 의향 없는 미혼 집단을 제외하고 자녀가 필수라는 비율이 가장 낮다.\n",
    "- (기사대로) 20대 여성 160명은 성별·세대 기준으로 결혼과 출산에 대해 가장 강하게 반발하는 이들이다. 여타 질문에서도 이들의 응답이 유독 튀는 경우가 잦다.\n",
    "- 20대 여성 집단을 제외하고 결혼 의향 없는 미혼의 자녀 필수 비율이 가장 낮다. 비혼 출산의 가능성을 상상조차 하지 못하고 있는것 같다.\n",
    "- 30대 여성은 (전체 집단 제외하고) 유일하게 결혼 필수보다 출산 필수 비율이 높다."
   ]
  },
  {
   "cell_type": "code",
   "execution_count": 17,
   "id": "2f61feed-006c-4fb3-8cc8-2626d0494bf3",
   "metadata": {},
   "outputs": [],
   "source": [
    "p1 = [.573, .224, .307] # 연애, 결혼, 출산의 필수 비율\n",
    "p2 = [.560, .315, .355]\n",
    "p3 = [.273, .083, .102]\n",
    "p4 = [.669, .327, .377]\n",
    "p5 = [.571, .096, .261]\n",
    "p6 = [.240, .012, .071] \n",
    "\n",
    "idx = ['전체', '20대 남성', '20대 여성', '30대 남성', '30대 여성', '결혼 의향 없는 미혼']\n",
    "cols = [['필수']*3, ['연애', '결혼', '출산']]\n",
    "df = pd.DataFrame([p1,p2,p3,p4,p5,p6], index=idx, columns=cols)"
   ]
  },
  {
   "cell_type": "code",
   "execution_count": 18,
   "id": "0952a925-e5e7-49db-b439-5f401225b994",
   "metadata": {
    "tags": []
   },
   "outputs": [
    {
     "data": {
      "image/png": "[encoded data removed]",
      "text/plain": [
       "<Figure size 864x360 with 3 Axes>"
      ]
     },
     "metadata": {
      "needs_background": "light"
     },
     "output_type": "display_data"
    }
   ],
   "source": [
    "fig, axes = plt.subplots(1,3, figsize=(12,5), sharey=True)\n",
    "for i in range(len(df.columns)):\n",
    "    col = ' '.join(list(reversed(df.columns[i])))\n",
    "    x = (df.iloc[:,i].to_frame(col)\n",
    "           .assign(disagree=lambda x: 1-x[col])\n",
    "           .rename(columns={col:col, 'disagree': '기타'})\n",
    "           .mul(100).to_dict(orient='split'))\n",
    "    res = dict(zip(x['index'], x['data']))\n",
    "    cat = x['columns']\n",
    "    _ = plot_survey(res, cat, ax=axes[i], fig=fig)"
   ]
  },
  {
   "cell_type": "code",
   "execution_count": 19,
   "id": "3e004b81-9433-4d58-9ec8-d6a9cf1b0b85",
   "metadata": {},
   "outputs": [
    {
     "data": {
      "text/plain": [
       "160"
      ]
     },
     "execution_count": 19,
     "metadata": {},
     "output_type": "execute_result"
    }
   ],
   "source": [
    "# 나이별 남녀인원수 동일하다는 가정하에 계산한 세대별 남녀수(예 20대 여자)는 (우연히도) 실제 20대 여자수와 동일\n",
    "\n",
    "# 나이별 인원수와 남녀 비율 동일 가정\n",
    "n_all = 1000 # 전체 응답자\n",
    "n_single2 = 252 # 결혼 의향 없는 미혼\n",
    "n_ages = round(n_all / (49-18+1) / 2) * 10 # 세대별 남자\n",
    "n_ages"
   ]
  },
  {
   "cell_type": "code",
   "execution_count": 21,
   "id": "2bd2a944-77e4-44ec-968f-3c8d9b9ee8a9",
   "metadata": {},
   "outputs": [
    {
     "name": "stdout",
     "output_type": "stream",
     "text": [
      "연애 필수:\n",
      "전체\t\t 0.573 ± 0.0307, [0.542, 0.604]\n",
      "20대 남성\t 0.562 ± 0.0769, [0.486, 0.639]\n",
      "20대 여성\t 0.275 ± 0.0692, [0.206, 0.344]\n",
      "30대 남성\t 0.669 ± 0.0729, [0.596, 0.742]\n",
      "30대 여성\t 0.569 ± 0.0767, [0.492, 0.645]\n",
      "결혼 의향 없는 미혼\t 0.238 ± 0.0526, [0.186, 0.291]\n",
      "\n",
      "결혼 필수:\n",
      "전체\t\t 0.224 ± 0.0258, [0.198, 0.250]\n",
      "20대 남성\t 0.312 ± 0.0718, [0.241, 0.384]\n",
      "20대 여성\t 0.081 ± 0.0423, [0.039, 0.124]\n",
      "30대 남성\t 0.325 ± 0.0726, [0.252, 0.398]\n",
      "30대 여성\t 0.094 ± 0.0452, [0.049, 0.139]\n",
      "결혼 의향 없는 미혼\t 0.013 ± 0.0126, [0.000, 0.025]\n",
      "\n",
      "출산 필수:\n",
      "전체\t\t 0.307 ± 0.0286, [0.278, 0.336]\n",
      "20대 남성\t 0.356 ± 0.0742, [0.282, 0.430]\n",
      "20대 여성\t 0.100 ± 0.0465, [0.054, 0.146]\n",
      "30대 남성\t 0.375 ± 0.0750, [0.300, 0.450]\n",
      "30대 여성\t 0.263 ± 0.0682, [0.194, 0.331]\n",
      "결혼 의향 없는 미혼\t 0.071 ± 0.0318, [0.040, 0.103]\n",
      "\n"
     ]
    }
   ],
   "source": [
    "nums = [n_all, n_ages, n_ages, n_ages, n_ages, n_single2]\n",
    "method = 'normal'\n",
    "df_int_dict = dict()\n",
    "\n",
    "for c in range(len(df.columns)):\n",
    "    q = list(df.columns[c])\n",
    "    q.reverse()\n",
    "    q = ' '.join(q)\n",
    "    print(f'{q}:')\n",
    "    \n",
    "    df_int_dict[q] = pd.DataFrame(columns=['low','high'])\n",
    "\n",
    "    for i in range(len(nums)):\n",
    "        x = df.index[i]\n",
    "        print_head(x, df.index)\n",
    "        n = nums[i]\n",
    "        k = round(df.iloc[i,c] * n)\n",
    "        low_high = proportion_confint(k, n, alpha, method=method)\n",
    "        print_interval(*low_high, '')\n",
    "        df_int_dict[q].loc[df.index[i]] = low_high\n",
    "    print()"
   ]
  },
  {
   "cell_type": "code",
   "execution_count": 30,
   "id": "100f5c4a-df88-4cd9-b550-ff7323a73fb8",
   "metadata": {},
   "outputs": [
    {
     "data": {
      "image/png": "[encoded data removed]",
      "text/plain": [
       "<Figure size 864x216 with 3 Axes>"
      ]
     },
     "metadata": {
      "needs_background": "light"
     },
     "output_type": "display_data"
    }
   ],
   "source": [
    "fig, axes = plt.subplots(1,3, figsize=(12,3), sharey=True)\n",
    "for i, (k, v) in enumerate(df_int_dict.items()):\n",
    "    plot_intervals(v, title=k, ax=axes[i], xlim=[0,1])"
   ]
  },
  {
   "cell_type": "code",
   "execution_count": 31,
   "id": "70d92d4b-bb5b-482f-b815-3fde23e9bf1f",
   "metadata": {},
   "outputs": [
    {
     "data": {
      "text/html": [
       "<div>\n",
       "<style scoped>\n",
       "    .dataframe tbody tr th:only-of-type {\n",
       "        vertical-align: middle;\n",
       "    }\n",
       "\n",
       "    .dataframe tbody tr th {\n",
       "        vertical-align: top;\n",
       "    }\n",
       "\n",
       "    .dataframe thead th {\n",
       "        text-align: right;\n",
       "    }\n",
       "</style>\n",
       "<table border=\"1\" class=\"dataframe\">\n",
       "  <thead>\n",
       "    <tr style=\"text-align: right;\">\n",
       "      <th></th>\n",
       "      <th></th>\n",
       "      <th>연애 필수</th>\n",
       "      <th>그외</th>\n",
       "    </tr>\n",
       "  </thead>\n",
       "  <tbody>\n",
       "    <tr>\n",
       "      <th rowspan=\"2\" valign=\"top\">20대</th>\n",
       "      <th>남성</th>\n",
       "      <td>90</td>\n",
       "      <td>70</td>\n",
       "    </tr>\n",
       "    <tr>\n",
       "      <th>여성</th>\n",
       "      <td>44</td>\n",
       "      <td>116</td>\n",
       "    </tr>\n",
       "    <tr>\n",
       "      <th rowspan=\"2\" valign=\"top\">30대</th>\n",
       "      <th>남성</th>\n",
       "      <td>107</td>\n",
       "      <td>53</td>\n",
       "    </tr>\n",
       "    <tr>\n",
       "      <th>여성</th>\n",
       "      <td>91</td>\n",
       "      <td>69</td>\n",
       "    </tr>\n",
       "  </tbody>\n",
       "</table>\n",
       "</div>"
      ],
      "text/plain": [
       "        연애 필수   그외\n",
       "20대 남성     90   70\n",
       "    여성     44  116\n",
       "30대 남성    107   53\n",
       "    여성     91   69"
      ]
     },
     "metadata": {},
     "output_type": "display_data"
    },
    {
     "name": "stdout",
     "output_type": "stream",
     "text": [
      "H0:(20대) 성별과 연애 필수의 상관관계가 없다\t Reject H0 (p-value = 3.4159e-07)\n",
      "H0:(30대) 성별과 연애 필수의 상관관계가 없다\t Accept H0 (p-value = 8.4267e-02)\n",
      "H0:(남성) 세대와 연애 필수의 상관관계가 없다\t Accept H0 (p-value = 6.5960e-02)\n",
      "H0:(여성) 세대와 연애 필수의 상관관계가 없다\t Reject H0 (p-value = 1.9201e-07)\n",
      "H0:성별과 연애 필수의 상관관계가 없다\t\t Reject H0 (p-value = 1.3939e-06)\n",
      "H0:세대와 연애 필수의 상관관계가 없다\t\t Reject H0 (p-value = 6.2253e-07)\n",
      "\n",
      "\n"
     ]
    },
    {
     "data": {
      "text/html": [
       "<div>\n",
       "<style scoped>\n",
       "    .dataframe tbody tr th:only-of-type {\n",
       "        vertical-align: middle;\n",
       "    }\n",
       "\n",
       "    .dataframe tbody tr th {\n",
       "        vertical-align: top;\n",
       "    }\n",
       "\n",
       "    .dataframe thead th {\n",
       "        text-align: right;\n",
       "    }\n",
       "</style>\n",
       "<table border=\"1\" class=\"dataframe\">\n",
       "  <thead>\n",
       "    <tr style=\"text-align: right;\">\n",
       "      <th></th>\n",
       "      <th></th>\n",
       "      <th>결혼 필수</th>\n",
       "      <th>그외</th>\n",
       "    </tr>\n",
       "  </thead>\n",
       "  <tbody>\n",
       "    <tr>\n",
       "      <th rowspan=\"2\" valign=\"top\">20대</th>\n",
       "      <th>남성</th>\n",
       "      <td>50</td>\n",
       "      <td>110</td>\n",
       "    </tr>\n",
       "    <tr>\n",
       "      <th>여성</th>\n",
       "      <td>13</td>\n",
       "      <td>147</td>\n",
       "    </tr>\n",
       "    <tr>\n",
       "      <th rowspan=\"2\" valign=\"top\">30대</th>\n",
       "      <th>남성</th>\n",
       "      <td>52</td>\n",
       "      <td>108</td>\n",
       "    </tr>\n",
       "    <tr>\n",
       "      <th>여성</th>\n",
       "      <td>15</td>\n",
       "      <td>145</td>\n",
       "    </tr>\n",
       "  </tbody>\n",
       "</table>\n",
       "</div>"
      ],
      "text/plain": [
       "        결혼 필수   그외\n",
       "20대 남성     50  110\n",
       "    여성     13  147\n",
       "30대 남성     52  108\n",
       "    여성     15  145"
      ]
     },
     "metadata": {},
     "output_type": "display_data"
    },
    {
     "name": "stdout",
     "output_type": "stream",
     "text": [
      "H0:(20대) 성별과 결혼 필수의 상관관계가 없다\t Reject H0 (p-value = 4.1695e-07)\n",
      "H0:(30대) 성별과 결혼 필수의 상관관계가 없다\t Reject H0 (p-value = 7.5640e-07)\n",
      "H0:(남성) 세대와 결혼 필수의 상관관계가 없다\t Accept H0 (p-value = 9.0451e-01)\n",
      "H0:(여성) 세대와 결혼 필수의 상관관계가 없다\t Accept H0 (p-value = 8.4317e-01)\n",
      "H0:성별과 결혼 필수의 상관관계가 없다\t\t Reject H0 (p-value = 7.3769e-13)\n",
      "H0:세대와 결혼 필수의 상관관계가 없다\t\t Accept H0 (p-value = 7.6818e-01)\n",
      "\n",
      "\n"
     ]
    },
    {
     "data": {
      "text/html": [
       "<div>\n",
       "<style scoped>\n",
       "    .dataframe tbody tr th:only-of-type {\n",
       "        vertical-align: middle;\n",
       "    }\n",
       "\n",
       "    .dataframe tbody tr th {\n",
       "        vertical-align: top;\n",
       "    }\n",
       "\n",
       "    .dataframe thead th {\n",
       "        text-align: right;\n",
       "    }\n",
       "</style>\n",
       "<table border=\"1\" class=\"dataframe\">\n",
       "  <thead>\n",
       "    <tr style=\"text-align: right;\">\n",
       "      <th></th>\n",
       "      <th></th>\n",
       "      <th>출산 필수</th>\n",
       "      <th>그외</th>\n",
       "    </tr>\n",
       "  </thead>\n",
       "  <tbody>\n",
       "    <tr>\n",
       "      <th rowspan=\"2\" valign=\"top\">20대</th>\n",
       "      <th>남성</th>\n",
       "      <td>57</td>\n",
       "      <td>103</td>\n",
       "    </tr>\n",
       "    <tr>\n",
       "      <th>여성</th>\n",
       "      <td>16</td>\n",
       "      <td>144</td>\n",
       "    </tr>\n",
       "    <tr>\n",
       "      <th rowspan=\"2\" valign=\"top\">30대</th>\n",
       "      <th>남성</th>\n",
       "      <td>60</td>\n",
       "      <td>100</td>\n",
       "    </tr>\n",
       "    <tr>\n",
       "      <th>여성</th>\n",
       "      <td>42</td>\n",
       "      <td>118</td>\n",
       "    </tr>\n",
       "  </tbody>\n",
       "</table>\n",
       "</div>"
      ],
      "text/plain": [
       "        출산 필수   그외\n",
       "20대 남성     57  103\n",
       "    여성     16  144\n",
       "30대 남성     60  100\n",
       "    여성     42  118"
      ]
     },
     "metadata": {},
     "output_type": "display_data"
    },
    {
     "name": "stdout",
     "output_type": "stream",
     "text": [
      "H0:(20대) 성별과 출산 필수의 상관관계가 없다\t Reject H0 (p-value = 9.8893e-08)\n",
      "H0:(30대) 성별과 출산 필수의 상관관계가 없다\t Reject H0 (p-value = 4.1413e-02)\n",
      "H0:(남성) 세대와 출산 필수의 상관관계가 없다\t Accept H0 (p-value = 8.1642e-01)\n",
      "H0:(여성) 세대와 출산 필수의 상관관계가 없다\t Reject H0 (p-value = 2.8578e-04)\n",
      "H0:성별과 출산 필수의 상관관계가 없다\t\t Reject H0 (p-value = 2.6943e-07)\n",
      "H0:세대와 출산 필수의 상관관계가 없다\t\t Reject H0 (p-value = 1.3023e-02)\n",
      "\n",
      "\n"
     ]
    }
   ],
   "source": [
    "df2 = df.iloc[1:-1]\n",
    "idx = df2.index.str.split(' ', expand=True)\n",
    "df2 = df2.set_index(idx)\n",
    "\n",
    "for i in range(len(df2.columns)):\n",
    "    col = ' '.join(list(reversed(df2.columns[i])))\n",
    "    #print(f'{col}:')\n",
    "        \n",
    "    x = (df2.iloc[:,i].to_frame(col)\n",
    "            .assign(disagree=lambda x: 1-x[col])\n",
    "            .rename(columns={col:col, 'disagree': '그외'})\n",
    "            .mul(n_ages).apply(lambda x: round(x)).astype(int)\n",
    "        )\n",
    "    display(x)\n",
    "    \n",
    "    evaluate_contingency(x, col)\n",
    "    \n",
    "    print('\\n'*1)"
   ]
  },
  {
   "cell_type": "code",
   "execution_count": 121,
   "id": "62302cd5-1907-4821-928c-b0ff39f9b2ea",
   "metadata": {
    "scrolled": true,
    "tags": []
   },
   "outputs": [
    {
     "name": "stdout",
     "output_type": "stream",
     "text": [
      "연애 & 결혼:\n",
      "\n",
      "H0:(전체) 연애/결혼과 필수여부의 상관관계가 없다\t Reject H0 (p-value = 6.9771e-57)\n",
      "(전체) 연애 필수\t 0.573 ± 0.0307, [0.542, 0.604]\n",
      "(전체) 결혼 필수\t 0.224 ± 0.0258, [0.198, 0.250]\n",
      "\n",
      "H0:(20대 남성) 연애/결혼과 필수여부의 상관관계가 없다\t Reject H0 (p-value = 1.1087e-05)\n",
      "(20대 남성) 연애 필수\t 0.562 ± 0.0769, [0.486, 0.639]\n",
      "(20대 남성) 결혼 필수\t 0.312 ± 0.0718, [0.241, 0.384]\n",
      "\n",
      "H0:(20대 여성) 연애/결혼과 필수여부의 상관관계가 없다\t Reject H0 (p-value = 1.1700e-05)\n",
      "(20대 여성) 연애 필수\t 0.275 ± 0.0692, [0.206, 0.344]\n",
      "(20대 여성) 결혼 필수\t 0.081 ± 0.0423, [0.039, 0.124]\n",
      "\n",
      "H0:(30대 남성) 연애/결혼과 필수여부의 상관관계가 없다\t Reject H0 (p-value = 1.5652e-09)\n",
      "(30대 남성) 연애 필수\t 0.669 ± 0.0729, [0.596, 0.742]\n",
      "(30대 남성) 결혼 필수\t 0.325 ± 0.0726, [0.252, 0.398]\n",
      "\n",
      "H0:(30대 여성) 연애/결혼과 필수여부의 상관관계가 없다\t Reject H0 (p-value = 5.1998e-19)\n",
      "(30대 여성) 연애 필수\t 0.569 ± 0.0767, [0.492, 0.645]\n",
      "(30대 여성) 결혼 필수\t 0.094 ± 0.0452, [0.049, 0.139]\n",
      "\n",
      "H0:(결혼 의향 없는 미혼) 연애/결혼과 필수여부의 상관관계가 없다\t Reject H0 (p-value = 4.6114e-14)\n",
      "(결혼 의향 없는 미혼) 연애 필수\t 0.238 ± 0.0526, [0.186, 0.291]\n",
      "(결혼 의향 없는 미혼) 결혼 필수\t 0.013 ± 0.0126, [0.000, 0.025]\n",
      "\n",
      "--------------------------------------------------------------------------------\n",
      "결혼 & 출산:\n",
      "\n",
      "H0:(전체) 결혼/출산과 필수여부의 상관관계가 없다\t Reject H0 (p-value = 3.2940e-05)\n",
      "(전체) 결혼 필수\t 0.224 ± 0.0258, [0.198, 0.250]\n",
      "(전체) 출산 필수\t 0.307 ± 0.0286, [0.278, 0.336]\n",
      "\n",
      "H0:(20대 남성) 결혼/출산과 필수여부의 상관관계가 없다\t Accept H0 (p-value = 4.7711e-01)\n",
      "(20대 남성) 결혼 필수\t 0.312 ± 0.0718, [0.241, 0.384]\n",
      "(20대 남성) 출산 필수\t 0.356 ± 0.0742, [0.282, 0.430]\n",
      "\n",
      "H0:(20대 여성) 결혼/출산과 필수여부의 상관관계가 없다\t Accept H0 (p-value = 6.9694e-01)\n",
      "(20대 여성) 결혼 필수\t 0.081 ± 0.0423, [0.039, 0.124]\n",
      "(20대 여성) 출산 필수\t 0.100 ± 0.0465, [0.054, 0.146]\n",
      "\n",
      "H0:(30대 남성) 결혼/출산과 필수여부의 상관관계가 없다\t Accept H0 (p-value = 4.1198e-01)\n",
      "(30대 남성) 결혼 필수\t 0.325 ± 0.0726, [0.252, 0.398]\n",
      "(30대 남성) 출산 필수\t 0.375 ± 0.0750, [0.300, 0.450]\n",
      "\n",
      "H0:(30대 여성) 결혼/출산과 필수여부의 상관관계가 없다\t Reject H0 (p-value = 1.4547e-04)\n",
      "(30대 여성) 결혼 필수\t 0.094 ± 0.0452, [0.049, 0.139]\n",
      "(30대 여성) 출산 필수\t 0.263 ± 0.0682, [0.194, 0.331]\n",
      "\n",
      "H0:(결혼 의향 없는 미혼) 결혼/출산과 필수여부의 상관관계가 없다\t Reject H0 (p-value = 1.8039e-03)\n",
      "(결혼 의향 없는 미혼) 결혼 필수\t 0.013 ± 0.0126, [0.000, 0.025]\n",
      "(결혼 의향 없는 미혼) 출산 필수\t 0.071 ± 0.0318, [0.040, 0.103]\n",
      "\n",
      "--------------------------------------------------------------------------------\n",
      "연애 & 출산:\n",
      "\n",
      "H0:(전체) 연애/출산과 필수여부의 상관관계가 없다\t Reject H0 (p-value = 7.5529e-33)\n",
      "(전체) 연애 필수\t 0.573 ± 0.0307, [0.542, 0.604]\n",
      "(전체) 출산 필수\t 0.307 ± 0.0286, [0.278, 0.336]\n",
      "\n",
      "H0:(20대 남성) 연애/출산과 필수여부의 상관관계가 없다\t Reject H0 (p-value = 3.3122e-04)\n",
      "(20대 남성) 연애 필수\t 0.562 ± 0.0769, [0.486, 0.639]\n",
      "(20대 남성) 출산 필수\t 0.356 ± 0.0742, [0.282, 0.430]\n",
      "\n",
      "H0:(20대 여성) 연애/출산과 필수여부의 상관관계가 없다\t Reject H0 (p-value = 1.1017e-04)\n",
      "(20대 여성) 연애 필수\t 0.275 ± 0.0692, [0.206, 0.344]\n",
      "(20대 여성) 출산 필수\t 0.100 ± 0.0465, [0.054, 0.146]\n",
      "\n",
      "H0:(30대 남성) 연애/출산과 필수여부의 상관관계가 없다\t Reject H0 (p-value = 2.6344e-07)\n",
      "(30대 남성) 연애 필수\t 0.669 ± 0.0729, [0.596, 0.742]\n",
      "(30대 남성) 출산 필수\t 0.375 ± 0.0750, [0.300, 0.450]\n",
      "\n",
      "H0:(30대 여성) 연애/출산과 필수여부의 상관관계가 없다\t Reject H0 (p-value = 5.1909e-08)\n",
      "(30대 여성) 연애 필수\t 0.569 ± 0.0767, [0.492, 0.645]\n",
      "(30대 여성) 출산 필수\t 0.263 ± 0.0682, [0.194, 0.331]\n",
      "\n",
      "H0:(결혼 의향 없는 미혼) 연애/출산과 필수여부의 상관관계가 없다\t Reject H0 (p-value = 4.4300e-07)\n",
      "(결혼 의향 없는 미혼) 연애 필수\t 0.238 ± 0.0526, [0.186, 0.291]\n",
      "(결혼 의향 없는 미혼) 출산 필수\t 0.071 ± 0.0318, [0.040, 0.103]\n",
      "\n",
      "--------------------------------------------------------------------------------\n"
     ]
    }
   ],
   "source": [
    "# 전체집단 모두 결혼보다 연애 필수 비율이 더 높다\n",
    "# 30대 여성만이 (너무 낮은 결혼&출산 비율로 결혼의향없는 미혼 제외하고) 결혼보다 출산 필수 비율이 더 높다.\n",
    "# 전체집단 모두 출산보다 연애 필수 비율이 더 높다\n",
    "\n",
    "nums = [n_all, n_ages, n_ages, n_ages, n_ages, n_single2]\n",
    "\n",
    "def func(items, df=df):\n",
    "    a = ' & '.join(items)\n",
    "    print(f'{a}:\\n')\n",
    "    midx = pd.IndexSlice\n",
    "    df2 = df.loc[:,midx[:,items]]\n",
    "    title = df2.index\n",
    "    col = df.columns.get_level_values(0).unique()[0]\n",
    "\n",
    "    for i in range(len(title)):\n",
    "        #print_head(title[i], title)\n",
    "        x = (df2.rename(columns={col:title[i]}).iloc[i].to_frame(col)\n",
    "                .assign(disagree=lambda x: 1-x[col])\n",
    "                .rename(columns={col:col, 'disagree': '그외'})\n",
    "                .mul(nums[i]).apply(lambda x: round(x)).astype(int))\n",
    "\n",
    "        #display(x)\n",
    "        a = '/'.join(items)\n",
    "        evaluate_contingency(x, '필수여부', ['',f'{a}과'])\n",
    "        \n",
    "        title2 = [f'({title[i]}) {x} {col}' for x in x.index.get_level_values(1)]\n",
    "        for j in range(len(title2)):\n",
    "            print_head(title2[j], title2)\n",
    "            n = x.iloc[j].sum()\n",
    "            k = x.iloc[j,0]\n",
    "            low, high = proportion_confint(k, n, alpha, method=method)\n",
    "            print_interval(low, high, '')\n",
    "        print()\n",
    "\n",
    "\n",
    "c = [['연애','결혼'],['결혼','출산'],['연애','출산']]\n",
    "for i in c:\n",
    "    func(i)\n",
    "    print('-'*80)"
   ]
  },
  {
   "cell_type": "markdown",
   "id": "d19abbe9-f486-4c7e-972f-3c01b118092d",
   "metadata": {},
   "source": [
    "# F04 결혼 관련 인식\n",
    "- 그림3 \n",
    "- 대상 응답자 전체 1000명\n",
    "- 유독 20대 여성이 ‘희생’이라는 단어에 더 민감한 반응.\n",
    "- 20대 여성 67.8%가 아무리 경제적으로 넉넉하더라도 일을 그만두어서는 안 된다고 답한다. 30대 여성의 응답(51%)보다도 높은 수치다.\n",
    "- ‘자녀가 생기면 나의 사회적 성취를 이루기 어렵다’는 문항... 20대 여성은 전체 평균을 훌쩍 뛰어넘어 68.7%가 ‘그렇다’고 답했다. 30대 여성의 동일 응답(57.5%)보다 더 강한 반응이다."
   ]
  },
  {
   "cell_type": "markdown",
   "id": "183cf999-6ea5-4ca5-a62d-9ad476cd53de",
   "metadata": {},
   "source": [
    "comments:\n",
    "- (기사대로) '결혼 관계를 위해 자신의 인생을 어느 정도 희생하는 것은 당연하다’는 문항에 대하여 유독 20대 여성이 ‘희생’이라는 단어에 더 민감한 반응을 보였다.\n",
    "- (기사대로) 20대 여성은 30대 여성보다 높은 비율로 '아무리 경제적으로 넉넉하더라도 일을 그만두어서는 안 된다'고 답한다.\n",
    "- (기사대로) ‘자녀가 생기면 나의 사회적 성취를 이루기 어렵다’는 문항에 대하여 '그렇다'고 대답한 비율은 20대 여성이 30대 여성과 다르다.\n",
    "- 기사에서는 언급하지 않았지만 30대 남성이 눈에 띄는데 그들은 누구보다 더 결혼을 위해 희생할 준비가 되있고, (20대 남성과 함께) 결혼과 자녀가 사회적 성취에 방해된다고 생각하지 않는다.  \n",
    "- 결혼을 위한 희생은 당연하다는 비율은 세대와 성별 차이가 있다. \n",
    "- 결혼/자녀가 사회적 성취에 방해된다는 비율은 세대별 차이는 없고 성별 차이가 있다. 자녀가 방해된다는 비율은 전체적으로는 세대차이가 없지만 여성에 대해서는 세대차이가 있다(20대 여성이 비율이 높다)"
   ]
  },
  {
   "cell_type": "code",
   "execution_count": 32,
   "id": "794b1d17-2440-4fbc-a39d-65a019eac216",
   "metadata": {},
   "outputs": [],
   "source": [
    "p1 = [.593, .362, .458] # 결혼을 위한 희생은 당연하다, 결혼은 사회적 성취에 방해된다, 자녀는 사회적 성취에 방해된다의 긍정 비율\n",
    "p2 = [.538, .315, .373]\n",
    "p3 = [.405, .475, .687]\n",
    "p4 = [.724, .229, .351]\n",
    "p5 = [.536, .504, .575]\n",
    "p6 = [.387, .496, .627] \n",
    "\n",
    "idx = ['전체', '20대 남성', '20대 여성', '30대 남성', '30대 여성', '결혼 의향 없는 미혼']\n",
    "cols = ['결혼을 위한 희생은 당연', '결혼은 사회적 성취에 방해', '자녀는 사회적 성취에 방해']\n",
    "df = pd.DataFrame([p1,p2,p3,p4,p5,p6], index=idx, columns=cols)"
   ]
  },
  {
   "cell_type": "code",
   "execution_count": 33,
   "id": "640c8ef1-f266-4f7d-b763-bfb4c9cc539a",
   "metadata": {
    "tags": []
   },
   "outputs": [
    {
     "data": {
      "image/png": "[encoded data removed]",
      "text/plain": [
       "<Figure size 864x360 with 3 Axes>"
      ]
     },
     "metadata": {
      "needs_background": "light"
     },
     "output_type": "display_data"
    }
   ],
   "source": [
    "fig, axes = plt.subplots(1,3, figsize=(12,5), sharey=True)\n",
    "for i in range(len(df.columns)):\n",
    "    col = df.columns[i]\n",
    "    x = (df.iloc[:,i].to_frame(col)\n",
    "           .assign(disagree=lambda x: 1-x[col])\n",
    "           .rename(columns={col:col, 'disagree': '기타'})\n",
    "           .mul(100).to_dict(orient='split'))\n",
    "    res = dict(zip(x['index'], x['data']))\n",
    "    cat = x['columns']\n",
    "    _ = plot_survey(res, cat, ax=axes[i], fig=fig)"
   ]
  },
  {
   "cell_type": "code",
   "execution_count": 34,
   "id": "07a0c0e2-1212-4a4b-908d-fde30d2200bf",
   "metadata": {},
   "outputs": [
    {
     "data": {
      "text/plain": [
       "160"
      ]
     },
     "execution_count": 34,
     "metadata": {},
     "output_type": "execute_result"
    }
   ],
   "source": [
    "# 나이별 남녀인원수 동일하다는 가정하에 계산한 세대별 남녀수(예 20대 여자)는 (우연히도) 실제 20대 여자수와 동일\n",
    "\n",
    "# 나이별 인원수와 남녀 비율 동일 가정\n",
    "n_all = 1000 # 전체 응답자\n",
    "n_single2 = 252 # 결혼 의향 없는 미혼\n",
    "n_ages = round(n_all / (49-18+1) / 2) * 10 # 세대별 남자\n",
    "n_ages"
   ]
  },
  {
   "cell_type": "markdown",
   "id": "af08f1e2-ffec-4e9c-b432-deb154c39d86",
   "metadata": {},
   "source": [
    "## CS1"
   ]
  },
  {
   "cell_type": "code",
   "execution_count": 35,
   "id": "e7fdfb7b-21af-4dd5-9fac-c0c18618c3da",
   "metadata": {
    "tags": []
   },
   "outputs": [
    {
     "name": "stdout",
     "output_type": "stream",
     "text": [
      "결혼을 위한 희생은 당연:\n",
      "전체\t\t 0.593 ± 0.0304, [0.563, 0.623]\n",
      "20대 남성\t 0.537 ± 0.0773, [0.460, 0.615]\n",
      "20대 여성\t 0.406 ± 0.0761, [0.330, 0.482]\n",
      "30대 남성\t 0.725 ± 0.0692, [0.656, 0.794]\n",
      "30대 여성\t 0.537 ± 0.0773, [0.460, 0.615]\n",
      "결혼 의향 없는 미혼\t 0.389 ± 0.0602, [0.329, 0.449]\n",
      "\n",
      "결혼은 사회적 성취에 방해:\n",
      "전체\t\t 0.362 ± 0.0298, [0.332, 0.392]\n",
      "20대 남성\t 0.312 ± 0.0718, [0.241, 0.384]\n",
      "20대 여성\t 0.475 ± 0.0774, [0.398, 0.552]\n",
      "30대 남성\t 0.231 ± 0.0653, [0.166, 0.297]\n",
      "30대 여성\t 0.506 ± 0.0775, [0.429, 0.584]\n",
      "결혼 의향 없는 미혼\t 0.496 ± 0.0617, [0.434, 0.558]\n",
      "\n",
      "자녀는 사회적 성취에 방해:\n",
      "전체\t\t 0.458 ± 0.0309, [0.427, 0.489]\n",
      "20대 남성\t 0.375 ± 0.0750, [0.300, 0.450]\n",
      "20대 여성\t 0.688 ± 0.0718, [0.616, 0.759]\n",
      "30대 남성\t 0.350 ± 0.0739, [0.276, 0.424]\n",
      "30대 여성\t 0.575 ± 0.0766, [0.498, 0.652]\n",
      "결혼 의향 없는 미혼\t 0.627 ± 0.0597, [0.567, 0.687]\n",
      "\n"
     ]
    }
   ],
   "source": [
    "nums = [n_all, n_ages, n_ages, n_ages, n_ages, n_single2]\n",
    "method = 'normal'\n",
    "df_int_dict = dict()\n",
    "\n",
    "for c in range(len(df.columns)):\n",
    "    q = df.columns[c]\n",
    "    print(f'{q}:')\n",
    "    df_int_dict[q] = pd.DataFrame(columns=['low','high'])\n",
    "    for i in range(len(nums)):\n",
    "        idx = df.index\n",
    "        print_head(idx[i], idx)\n",
    "        n = nums[i]\n",
    "        k = round(df.iloc[i,c] * n)\n",
    "        low_high = proportion_confint(k, n, alpha, method=method)\n",
    "        print_interval(*low_high, '')\n",
    "        df_int_dict[q].loc[idx[i]] = low_high\n",
    "    print()"
   ]
  },
  {
   "cell_type": "code",
   "execution_count": 36,
   "id": "7a905cee-b159-4695-9082-1f9543c3dd09",
   "metadata": {},
   "outputs": [
    {
     "data": {
      "image/png": "[encoded data removed]",
      "text/plain": [
       "<Figure size 864x216 with 3 Axes>"
      ]
     },
     "metadata": {
      "needs_background": "light"
     },
     "output_type": "display_data"
    }
   ],
   "source": [
    "fig, axes = plt.subplots(1,3, figsize=(12,3), sharey=True)\n",
    "for i, (k, v) in enumerate(df_int_dict.items()):\n",
    "    plot_intervals(v, title=k, ax=axes[i], xlim=[0,1])"
   ]
  },
  {
   "cell_type": "markdown",
   "id": "89b01c35-d719-47f5-9c4c-76450d040022",
   "metadata": {},
   "source": [
    "## CS2\n",
    "20대 여성 67.8%가 아무리 경제적으로 넉넉하더라도 일을 그만두어서는 안 된다고 답한다. 30대 여성의 응답(51%)보다도 높은 수치다."
   ]
  },
  {
   "cell_type": "code",
   "execution_count": 40,
   "id": "9e51e9b0-3cf3-4e43-846b-36266027e811",
   "metadata": {},
   "outputs": [
    {
     "name": "stdout",
     "output_type": "stream",
     "text": [
      "20대 여성: 0.675 ± 0.0726, [0.602, 0.748]\n",
      "30대 여성: 0.512 ± 0.0775, [0.435, 0.590]\n"
     ]
    }
   ],
   "source": [
    "n = n_ages\n",
    "\n",
    "# 20대 여성\n",
    "k = round(.678 * n)\n",
    "low, high = proportion_confint(k, n, alpha, method=method)\n",
    "print('20대 여성: ', end='')\n",
    "print_interval(low, high, '')\n",
    "\n",
    "# 30대 여성\n",
    "k = round(.51 * n)\n",
    "print('30대 여성: ', end='')\n",
    "low, high = proportion_confint(k, n, alpha, method=method)\n",
    "print_interval(low, high, '')"
   ]
  },
  {
   "cell_type": "markdown",
   "id": "e5862a92-1376-4176-aa5a-80d854a2a10e",
   "metadata": {},
   "source": [
    "## CS3"
   ]
  },
  {
   "cell_type": "code",
   "execution_count": 126,
   "id": "63f09410-6251-4289-8863-fd03365a1c2d",
   "metadata": {},
   "outputs": [
    {
     "data": {
      "text/html": [
       "<div>\n",
       "<style scoped>\n",
       "    .dataframe tbody tr th:only-of-type {\n",
       "        vertical-align: middle;\n",
       "    }\n",
       "\n",
       "    .dataframe tbody tr th {\n",
       "        vertical-align: top;\n",
       "    }\n",
       "\n",
       "    .dataframe thead th {\n",
       "        text-align: right;\n",
       "    }\n",
       "</style>\n",
       "<table border=\"1\" class=\"dataframe\">\n",
       "  <thead>\n",
       "    <tr style=\"text-align: right;\">\n",
       "      <th></th>\n",
       "      <th></th>\n",
       "      <th>결혼을 위한 희생은 당연</th>\n",
       "      <th>그외</th>\n",
       "    </tr>\n",
       "  </thead>\n",
       "  <tbody>\n",
       "    <tr>\n",
       "      <th rowspan=\"2\" valign=\"top\">20대</th>\n",
       "      <th>남성</th>\n",
       "      <td>86</td>\n",
       "      <td>74</td>\n",
       "    </tr>\n",
       "    <tr>\n",
       "      <th>여성</th>\n",
       "      <td>65</td>\n",
       "      <td>95</td>\n",
       "    </tr>\n",
       "    <tr>\n",
       "      <th rowspan=\"2\" valign=\"top\">30대</th>\n",
       "      <th>남성</th>\n",
       "      <td>116</td>\n",
       "      <td>44</td>\n",
       "    </tr>\n",
       "    <tr>\n",
       "      <th>여성</th>\n",
       "      <td>86</td>\n",
       "      <td>74</td>\n",
       "    </tr>\n",
       "  </tbody>\n",
       "</table>\n",
       "</div>"
      ],
      "text/plain": [
       "        결혼을 위한 희생은 당연  그외\n",
       "20대 남성             86  74\n",
       "    여성             65  95\n",
       "30대 남성            116  44\n",
       "    여성             86  74"
      ]
     },
     "metadata": {},
     "output_type": "display_data"
    },
    {
     "name": "stdout",
     "output_type": "stream",
     "text": [
      "H0:(20대) 성별과 결혼을 위한 희생은 당연의 상관관계가 없다 Reject H0 (p-value = 2.5116e-02)\n",
      "H0:(30대) 성별과 결혼을 위한 희생은 당연의 상관관계가 없다 Reject H0 (p-value = 7.7905e-04)\n",
      "H0:(남성) 세대와 결혼을 위한 희생은 당연의 상관관계가 없다\t Reject H0 (p-value = 7.7905e-04)\n",
      "H0:(여성) 세대와 결혼을 위한 희생은 당연의 상관관계가 없다\t Reject H0 (p-value = 2.5116e-02)\n",
      "H0:성별과 결혼을 위한 희생은 당연의 상관관계가 없다\t Reject H0 (p-value = 7.0665e-05)\n",
      "H0:세대와 결혼을 위한 희생은 당연의 상관관계가 없다\t Reject H0 (p-value = 7.0665e-05)\n",
      "\n",
      "\n"
     ]
    },
    {
     "data": {
      "text/html": [
       "<div>\n",
       "<style scoped>\n",
       "    .dataframe tbody tr th:only-of-type {\n",
       "        vertical-align: middle;\n",
       "    }\n",
       "\n",
       "    .dataframe tbody tr th {\n",
       "        vertical-align: top;\n",
       "    }\n",
       "\n",
       "    .dataframe thead th {\n",
       "        text-align: right;\n",
       "    }\n",
       "</style>\n",
       "<table border=\"1\" class=\"dataframe\">\n",
       "  <thead>\n",
       "    <tr style=\"text-align: right;\">\n",
       "      <th></th>\n",
       "      <th></th>\n",
       "      <th>결혼은 사회적 성취에 방해</th>\n",
       "      <th>그외</th>\n",
       "    </tr>\n",
       "  </thead>\n",
       "  <tbody>\n",
       "    <tr>\n",
       "      <th rowspan=\"2\" valign=\"top\">20대</th>\n",
       "      <th>남성</th>\n",
       "      <td>50</td>\n",
       "      <td>110</td>\n",
       "    </tr>\n",
       "    <tr>\n",
       "      <th>여성</th>\n",
       "      <td>76</td>\n",
       "      <td>84</td>\n",
       "    </tr>\n",
       "    <tr>\n",
       "      <th rowspan=\"2\" valign=\"top\">30대</th>\n",
       "      <th>남성</th>\n",
       "      <td>37</td>\n",
       "      <td>123</td>\n",
       "    </tr>\n",
       "    <tr>\n",
       "      <th>여성</th>\n",
       "      <td>81</td>\n",
       "      <td>79</td>\n",
       "    </tr>\n",
       "  </tbody>\n",
       "</table>\n",
       "</div>"
      ],
      "text/plain": [
       "        결혼은 사회적 성취에 방해   그외\n",
       "20대 남성              50  110\n",
       "    여성              76   84\n",
       "30대 남성              37  123\n",
       "    여성              81   79"
      ]
     },
     "metadata": {},
     "output_type": "display_data"
    },
    {
     "name": "stdout",
     "output_type": "stream",
     "text": [
      "H0:(20대) 성별과 결혼은 사회적 성취에 방해의 상관관계가 없다\t Reject H0 (p-value = 4.2309e-03)\n",
      "H0:(30대) 성별과 결혼은 사회적 성취에 방해의 상관관계가 없다\t Reject H0 (p-value = 6.2845e-07)\n",
      "H0:(남성) 세대와 결혼은 사회적 성취에 방해의 상관관계가 없다\t Accept H0 (p-value = 1.3163e-01)\n",
      "H0:(여성) 세대와 결혼은 사회적 성취에 방해의 상관관계가 없다\t Accept H0 (p-value = 6.5466e-01)\n",
      "H0:성별과 결혼은 사회적 성취에 방해의 상관관계가 없다\t\t Reject H0 (p-value = 1.9588e-08)\n",
      "H0:세대와 결혼은 사회적 성취에 방해의 상관관계가 없다\t\t Accept H0 (p-value = 5.6888e-01)\n",
      "\n",
      "\n"
     ]
    },
    {
     "data": {
      "text/html": [
       "<div>\n",
       "<style scoped>\n",
       "    .dataframe tbody tr th:only-of-type {\n",
       "        vertical-align: middle;\n",
       "    }\n",
       "\n",
       "    .dataframe tbody tr th {\n",
       "        vertical-align: top;\n",
       "    }\n",
       "\n",
       "    .dataframe thead th {\n",
       "        text-align: right;\n",
       "    }\n",
       "</style>\n",
       "<table border=\"1\" class=\"dataframe\">\n",
       "  <thead>\n",
       "    <tr style=\"text-align: right;\">\n",
       "      <th></th>\n",
       "      <th></th>\n",
       "      <th>자녀는 사회적 성취에 방해</th>\n",
       "      <th>그외</th>\n",
       "    </tr>\n",
       "  </thead>\n",
       "  <tbody>\n",
       "    <tr>\n",
       "      <th rowspan=\"2\" valign=\"top\">20대</th>\n",
       "      <th>남성</th>\n",
       "      <td>60</td>\n",
       "      <td>100</td>\n",
       "    </tr>\n",
       "    <tr>\n",
       "      <th>여성</th>\n",
       "      <td>110</td>\n",
       "      <td>50</td>\n",
       "    </tr>\n",
       "    <tr>\n",
       "      <th rowspan=\"2\" valign=\"top\">30대</th>\n",
       "      <th>남성</th>\n",
       "      <td>56</td>\n",
       "      <td>104</td>\n",
       "    </tr>\n",
       "    <tr>\n",
       "      <th>여성</th>\n",
       "      <td>92</td>\n",
       "      <td>68</td>\n",
       "    </tr>\n",
       "  </tbody>\n",
       "</table>\n",
       "</div>"
      ],
      "text/plain": [
       "        자녀는 사회적 성취에 방해   그외\n",
       "20대 남성              60  100\n",
       "    여성             110   50\n",
       "30대 남성              56  104\n",
       "    여성              92   68"
      ]
     },
     "metadata": {},
     "output_type": "display_data"
    },
    {
     "name": "stdout",
     "output_type": "stream",
     "text": [
      "H0:(20대) 성별과 자녀는 사회적 성취에 방해의 상관관계가 없다\t Reject H0 (p-value = 4.0399e-08)\n",
      "H0:(30대) 성별과 자녀는 사회적 성취에 방해의 상관관계가 없다\t Reject H0 (p-value = 8.7029e-05)\n",
      "H0:(남성) 세대와 자녀는 사회적 성취에 방해의 상관관계가 없다\t Accept H0 (p-value = 7.2719e-01)\n",
      "H0:(여성) 세대와 자녀는 사회적 성취에 방해의 상관관계가 없다\t Reject H0 (p-value = 4.8869e-02)\n",
      "H0:성별과 자녀는 사회적 성취에 방해의 상관관계가 없다\t\t Reject H0 (p-value = 1.8176e-11)\n",
      "H0:세대와 자녀는 사회적 성취에 방해의 상관관계가 없다\t\t Accept H0 (p-value = 9.6869e-02)\n",
      "\n",
      "\n"
     ]
    }
   ],
   "source": [
    "df2 = df.iloc[1:-1]\n",
    "idx = df2.index.str.split(' ', expand=True)\n",
    "df2 = df2.set_index(idx)\n",
    "\n",
    "for i in range(len(df2.columns)):\n",
    "    col = df2.columns[i]\n",
    "        \n",
    "    x = (df2.iloc[:,i].to_frame(col)\n",
    "            .assign(disagree=lambda x: 1-x[col])\n",
    "            .rename(columns={col:col, 'disagree': '그외'})\n",
    "            .mul(n_ages).apply(lambda x: round(x)).astype(int)\n",
    "        )\n",
    "    display(x)\n",
    "    \n",
    "    evaluate_contingency(x, col)\n",
    "    \n",
    "    print('\\n'*1)"
   ]
  },
  {
   "cell_type": "markdown",
   "id": "c0d6ba98-e75d-4703-907e-632ca817782c",
   "metadata": {},
   "source": [
    "# F05 페미니즘에 대한 태도\n",
    "- 그림5 \n",
    "- 대상 응답자 전체 1000명\n",
    "- (그림외 추가) 페미니즘에 긍정적인 응답자 가운데 70.1%가 결혼 의향이 없다고 밝혔다. 반면 페미니즘에 ‘보통’이거나 ‘부정적’인 태도를 갖는 사람들은 각각 63.5%, 65.2%가 결혼 의향이 있다고 응답했다."
   ]
  },
  {
   "cell_type": "markdown",
   "id": "06518189-8b32-4205-964c-7bfefdfbbaff",
   "metadata": {},
   "source": [
    "comments:\n",
    "- 페미니즘에 대한 태도는 세대별 성별 차이가 있으며 남성만 유일하게 세대차이가 없다(긍정 비율이 낮다).\n",
    "- 전체 응답자 1000명에 대해 페미니즘에 대해 긍정적일수록 결혼의향이 낮다."
   ]
  },
  {
   "cell_type": "code",
   "execution_count": 37,
   "id": "83c29621-f44e-422b-924f-faed491008a9",
   "metadata": {},
   "outputs": [],
   "source": [
    "# 그림5: 페미니즘 태도 비율: 긍정/보통/부정 순\n",
    "p1 = [.188, .399, .413] # 전체 1000명 \n",
    "p2 = [.095, .308, .597] # 20대 남성\n",
    "p3 = [.492, .302, .205] # 20대 여성\n",
    "p4 = [.062, .277, .661]\n",
    "p5 = [.214, .492, .294]\n",
    "p6 = [.370, .287, .343] # 결혼 의향 없는 미혼\n",
    "\n",
    "idx = ['전체', '20대 남성', '20대 여성', '30대 남성', '30대 여성', '결혼 의향 없는 미혼']\n",
    "cols = ['긍정적', '보통', '부정적']\n",
    "df = pd.DataFrame([p1,p2,p3,p4,p5,p6], index=idx, columns=cols)"
   ]
  },
  {
   "cell_type": "code",
   "execution_count": 38,
   "id": "29185d0d-6c01-4240-9bd3-200303c7b6d1",
   "metadata": {
    "tags": []
   },
   "outputs": [
    {
     "data": {
      "image/png": "[encoded data removed]",
      "text/plain": [
       "<Figure size 576x360 with 1 Axes>"
      ]
     },
     "metadata": {
      "needs_background": "light"
     },
     "output_type": "display_data"
    }
   ],
   "source": [
    "x = df.mul(100).to_dict(orient='split')\n",
    "res = dict(zip(x['index'], x['data']))\n",
    "cat = [' '.join(x) for x in x['columns']]\n",
    "_ = plot_survey(res, cat, figsize=(8,5))"
   ]
  },
  {
   "cell_type": "code",
   "execution_count": 39,
   "id": "0dee291b-9cc7-4740-9be7-07732e1a20c5",
   "metadata": {},
   "outputs": [
    {
     "data": {
      "text/plain": [
       "160"
      ]
     },
     "execution_count": 39,
     "metadata": {},
     "output_type": "execute_result"
    }
   ],
   "source": [
    "# 나이별 남녀인원수 동일하다는 가정하에 계산한 세대별 남녀수(예 20대 여자)는 (우연히도) 실제 20대 여자수와 동일\n",
    "\n",
    "# 나이별 인원수와 남녀 비율 동일 가정\n",
    "n_all = 1000 # 전체 응답자\n",
    "n_single2 = 252 # 결혼 의향 없는 미혼\n",
    "n_ages = round(n_all / (49-18+1) / 2) * 10 # 세대별 남자\n",
    "n_ages"
   ]
  },
  {
   "cell_type": "markdown",
   "id": "885e03da-6efd-4a43-8302-f1410b1383a2",
   "metadata": {},
   "source": [
    "## CS1"
   ]
  },
  {
   "cell_type": "code",
   "execution_count": 40,
   "id": "1a153c86-f5aa-4b5b-9ca1-5964d15fe6ba",
   "metadata": {
    "tags": []
   },
   "outputs": [
    {
     "name": "stdout",
     "output_type": "stream",
     "text": [
      "페미니즘에 긍정적 비율:\n",
      "전체\t\t 0.188 ± 0.0242, [0.164, 0.212]\n",
      "20대 남성\t 0.094 ± 0.0452, [0.049, 0.139]\n",
      "20대 여성\t 0.494 ± 0.0775, [0.416, 0.571]\n",
      "30대 남성\t 0.062 ± 0.0375, [0.025, 0.100]\n",
      "30대 여성\t 0.212 ± 0.0634, [0.149, 0.276]\n",
      "결혼 의향 없는 미혼\t 0.369 ± 0.0596, [0.309, 0.429]\n"
     ]
    },
    {
     "data": {
      "image/png": "[encoded data removed]",
      "text/plain": [
       "<Figure size 432x288 with 1 Axes>"
      ]
     },
     "metadata": {
      "needs_background": "light"
     },
     "output_type": "display_data"
    }
   ],
   "source": [
    "nums = [n_all, n_ages, n_ages, n_ages, n_ages, n_single2]\n",
    "method = 'normal'\n",
    "df_int = pd.DataFrame(columns=['low','high'])\n",
    "idx = df.index\n",
    "\n",
    "c = 0\n",
    "question = f'페미니즘에 {df.columns[c]} 비율:'\n",
    "print(question)\n",
    "\n",
    "for i in range(len(nums)):\n",
    "    print_head(idx[i], idx)\n",
    "    n = nums[i]\n",
    "    k = round(df.iloc[i,c] * n)\n",
    "    low_high = proportion_confint(k, n, alpha, method=method)\n",
    "    print_interval(*low_high, '')\n",
    "    df_int.loc[idx[i]] = low_high\n",
    "    \n",
    "plot_intervals(df_int, title=question)\n"
   ]
  },
  {
   "cell_type": "code",
   "execution_count": 135,
   "id": "ebd83f73-fc75-4f9e-84c7-e2f5e7d95b30",
   "metadata": {},
   "outputs": [
    {
     "data": {
      "text/html": [
       "<div>\n",
       "<style scoped>\n",
       "    .dataframe tbody tr th:only-of-type {\n",
       "        vertical-align: middle;\n",
       "    }\n",
       "\n",
       "    .dataframe tbody tr th {\n",
       "        vertical-align: top;\n",
       "    }\n",
       "\n",
       "    .dataframe thead th {\n",
       "        text-align: right;\n",
       "    }\n",
       "</style>\n",
       "<table border=\"1\" class=\"dataframe\">\n",
       "  <thead>\n",
       "    <tr style=\"text-align: right;\">\n",
       "      <th></th>\n",
       "      <th></th>\n",
       "      <th>긍정적</th>\n",
       "      <th>보통</th>\n",
       "      <th>부정적</th>\n",
       "    </tr>\n",
       "  </thead>\n",
       "  <tbody>\n",
       "    <tr>\n",
       "      <th rowspan=\"2\" valign=\"top\">20대</th>\n",
       "      <th>남성</th>\n",
       "      <td>15</td>\n",
       "      <td>49</td>\n",
       "      <td>96</td>\n",
       "    </tr>\n",
       "    <tr>\n",
       "      <th>여성</th>\n",
       "      <td>79</td>\n",
       "      <td>48</td>\n",
       "      <td>33</td>\n",
       "    </tr>\n",
       "    <tr>\n",
       "      <th rowspan=\"2\" valign=\"top\">30대</th>\n",
       "      <th>남성</th>\n",
       "      <td>10</td>\n",
       "      <td>44</td>\n",
       "      <td>106</td>\n",
       "    </tr>\n",
       "    <tr>\n",
       "      <th>여성</th>\n",
       "      <td>34</td>\n",
       "      <td>79</td>\n",
       "      <td>47</td>\n",
       "    </tr>\n",
       "  </tbody>\n",
       "</table>\n",
       "</div>"
      ],
      "text/plain": [
       "        긍정적  보통  부정적\n",
       "20대 남성   15  49   96\n",
       "    여성   79  48   33\n",
       "30대 남성   10  44  106\n",
       "    여성   34  79   47"
      ]
     },
     "metadata": {},
     "output_type": "display_data"
    },
    {
     "name": "stdout",
     "output_type": "stream",
     "text": [
      "H0:(20대) 성별과 페미니즘에 대한 태도의 상관관계가 없다\t Reject H0 (p-value = 7.1552e-17)\n",
      "H0:(30대) 성별과 페미니즘에 대한 태도의 상관관계가 없다\t Reject H0 (p-value = 1.1330e-10)\n",
      "H0:(남성) 세대와 페미니즘에 대한 태도의 상관관계가 없다\t Accept H0 (p-value = 4.1398e-01)\n",
      "H0:(여성) 세대와 페미니즘에 대한 태도의 상관관계가 없다\t Reject H0 (p-value = 8.5802e-07)\n",
      "H0:성별과 페미니즘에 대한 태도의 상관관계가 없다\t\t Reject H0 (p-value = 1.6312e-25)\n",
      "H0:세대와 페미니즘에 대한 태도의 상관관계가 없다\t\t Reject H0 (p-value = 9.0241e-06)\n"
     ]
    }
   ],
   "source": [
    "df2 = df.iloc[1:-1].mul(n_ages).apply(lambda x: round(x)).astype(int)\n",
    "idx = df2.index.str.split(' ', expand=True)\n",
    "x = df2.set_index(idx)\n",
    "display(x)\n",
    "    \n",
    "evaluate_contingency(x, '페미니즘에 대한 태도')"
   ]
  },
  {
   "cell_type": "markdown",
   "id": "c6eeb6e1-b0d7-4c69-8c01-61851f653ed6",
   "metadata": {},
   "source": [
    "## CS2\n",
    "페미니즘에 긍정적인 응답자 가운데 70.1%가 결혼 의향이 없다고 밝혔다. 반면 페미니즘에 ‘보통’이거나 ‘부정적’인 태도를 갖는 사람들은 각각 63.5%, 65.2%가 결혼 의향이 있다고 응답했다"
   ]
  },
  {
   "cell_type": "code",
   "execution_count": 42,
   "id": "41e7b836-21a6-411f-a288-fe75fad478d2",
   "metadata": {},
   "outputs": [],
   "source": [
    "ps = [1-.701, .635, .652] # 페미니즘에 긍정/보통/부정적 태도를 가진 응답자의 결혼의향 있는 비율"
   ]
  },
  {
   "cell_type": "code",
   "execution_count": 48,
   "id": "9523429e-043d-4cc3-83ad-20fc12fe6a83",
   "metadata": {},
   "outputs": [
    {
     "name": "stdout",
     "output_type": "stream",
     "text": [
      "결혼 의향 비율:\n",
      "페미니즘에 긍정적\t0.298 ± 0.0654, [0.233, 0.363]\n",
      "페미니즘에 보통\t0.634 ± 0.0473, [0.587, 0.681]\n",
      "페미니즘에 부정적\t0.651 ± 0.0460, [0.605, 0.697]\n"
     ]
    },
    {
     "data": {
      "image/png": "[encoded data removed]",
      "text/plain": [
       "<Figure size 432x144 with 1 Axes>"
      ]
     },
     "metadata": {
      "needs_background": "light"
     },
     "output_type": "display_data"
    }
   ],
   "source": [
    "nums = [n_all]*3\n",
    "method = 'normal'\n",
    "\n",
    "df_x = df.iloc[0]\n",
    "idx = df_x.index\n",
    "df_int = pd.DataFrame(columns=['low','high'])\n",
    "\n",
    "c = 0\n",
    "question = f'결혼 의향 비율'\n",
    "print(f'{question}:')\n",
    "for i in range(len(nums)):\n",
    "    j = f'페미니즘에 {idx[i]}'\n",
    "    print(f'{j}\\t', end='')\n",
    "    n = df_x[i] * nums[i]\n",
    "    k = round(ps[i] * n)\n",
    "    low_high = proportion_confint(k, n, alpha, method=method)\n",
    "    print_interval(*low_high, '')\n",
    "    df_int.loc[j] = low_high\n",
    "    \n",
    "plot_intervals(df_int, title=question, figsize=(6,2))"
   ]
  },
  {
   "cell_type": "markdown",
   "id": "8ad52914-f623-42e3-a790-38cb49dfec18",
   "metadata": {},
   "source": [
    "# F06 배우자의 페미니즘에 대한 태도\n",
    "- 그림6 \n",
    "- 대상 응답자 전체 1000명으로 가정 (그림에 표시 없음)\n",
    "- 페미니즘에 대한 강한 의견(긍정 또는 부정)을 가질수록, 결혼 상대방의 태도를 민감하게 여긴다.\n",
    "- 페미니즘에 대한 ‘긍정’ ‘부정’ 의견은 크게 성별로 나뉜다. 페미니즘에 긍정적인 여성은 페미니즘에 부정적인 남성을 원하지 않고, 페미니즘에 부정적인 남성은 마찬가지로 페미니즘에 긍정적인 여성을 원하지 않는다. 20대일수록, 이러한 경향성은 강화되고 있다."
   ]
  },
  {
   "cell_type": "markdown",
   "id": "94e64ff1-ba9d-4e40-a07f-5b0c6b47c228",
   "metadata": {},
   "source": [
    "comments:\n",
    "- (기사대로) 페미니즘에 대한 강한 의견(긍정 또는 부정)을 가질수록, 결혼 상대방의 태도를 민감하게 여긴다.\n",
    "- 배우자의 페미니즘에 대한 생각의 중요성은 세대 또는 성별 연관이 있다. 단 남성의 세대차는 없다.\n",
    "- 페미니즘에 긍정적인 여성은 페미니즘에 부정적인 남성을 원하지 않고, 페미니즘에 부정적인 남성은 마찬가지로 페미니즘에 긍정적인 여성을 원하지 않는다. 20대일수록, 이러한 경향성은 강화되고 있다. => 기사의 데이터로는 확인할 수 없다(페미니즘에 대한 태도에 따른 배우자의 태도의 중요 비율에 대해 남녀 구별이 없음)"
   ]
  },
  {
   "cell_type": "code",
   "execution_count": 49,
   "id": "fb06d5b7-0ee2-4366-9425-08f8bc25ca6f",
   "metadata": {},
   "outputs": [],
   "source": [
    "# 그림6: 배우자의 페미니즘 태도가 중요한가의 비율: 그렇다/그렇지않다\n",
    "p1 = [.416, .479] \n",
    "p2 = [.608, .282] \n",
    "p3 = [.453, .410] \n",
    "p4 = [.584, .339]\n",
    "p5 = [.244, .627]\n",
    "p6 = [.545, .339] \n",
    "p7 = [.545, .408] # 페미니즘에 긍정적\n",
    "p8 = [.179, .646] # 페미니즘에 보통\n",
    "p9 = [.586, .349] # 페미니즘에 부정적\n",
    "\n",
    "ps = [p1,p2,p3,p4,p5,p6,p7,p8,p9]\n",
    "_ = [x.insert(1, 1-sum(x)) for x in ps]\n",
    "\n",
    "idx = ['전체', '20대 남성', '20대 여성', '30대 남성', '30대 여성', '결혼 의향 없는 미혼', '페미니즘에 긍정적', '페미니즘에 보통','페미니즘에 부정적']\n",
    "cols = ['그렇다', '기타', '그렇지 않다']\n",
    "df = pd.DataFrame(ps, index=idx, columns=cols)"
   ]
  },
  {
   "cell_type": "code",
   "execution_count": 50,
   "id": "225f84c2-5e78-4c78-8805-4e387b4dd07f",
   "metadata": {
    "tags": []
   },
   "outputs": [
    {
     "data": {
      "image/png": "[encoded data removed]",
      "text/plain": [
       "<Figure size 576x504 with 1 Axes>"
      ]
     },
     "metadata": {
      "needs_background": "light"
     },
     "output_type": "display_data"
    }
   ],
   "source": [
    "x = df.mul(100).to_dict(orient='split')\n",
    "res = dict(zip(x['index'], x['data']))\n",
    "cat = [' '.join(x) for x in x['columns']]\n",
    "_ = plot_survey(res, cat, figsize=(8,7))"
   ]
  },
  {
   "cell_type": "code",
   "execution_count": 51,
   "id": "df14bfd7-bab1-4ad7-aab5-d5e3833a5857",
   "metadata": {},
   "outputs": [
    {
     "data": {
      "text/plain": [
       "160"
      ]
     },
     "execution_count": 51,
     "metadata": {},
     "output_type": "execute_result"
    }
   ],
   "source": [
    "# 나이별 남녀인원수 동일하다는 가정하에 계산한 세대별 남녀수(예 20대 여자)는 (우연히도) 실제 20대 여자수와 동일\n",
    "\n",
    "# 나이별 인원수와 남녀 비율 동일 가정\n",
    "n_all = 1000 # 전체 응답자\n",
    "n_single2 = 252 # 결혼 의향 없는 미혼\n",
    "n_ages = round(n_all / (49-18+1) / 2) * 10 # 세대별 남자\n",
    "n_ages"
   ]
  },
  {
   "cell_type": "code",
   "execution_count": 52,
   "id": "c6fc4519-2324-4a0d-b6e1-68746435707b",
   "metadata": {},
   "outputs": [],
   "source": [
    "f = [.188, .399, .413] # 전체 1000명의 페미니즘에 대한 태도: 긍정/보통/부정  \n",
    "f = [round(x*n_all) for x in f]"
   ]
  },
  {
   "cell_type": "markdown",
   "id": "53a8eca5-64fc-4047-86c8-986cae90372a",
   "metadata": {},
   "source": [
    "## CS1"
   ]
  },
  {
   "cell_type": "code",
   "execution_count": 53,
   "id": "9df06ae9-342a-4edf-bb3d-18cda49c0c13",
   "metadata": {
    "tags": []
   },
   "outputs": [
    {
     "name": "stdout",
     "output_type": "stream",
     "text": [
      "배우자의 페미니즘에 대한 생각이 중요한가?: 그렇다\n",
      "전체\t\t 0.416 ± 0.0305, [0.385, 0.447]\n",
      "20대 남성\t 0.606 ± 0.0757, [0.531, 0.682]\n",
      "20대 여성\t 0.450 ± 0.0771, [0.373, 0.527]\n",
      "30대 남성\t 0.581 ± 0.0764, [0.505, 0.658]\n",
      "30대 여성\t 0.244 ± 0.0665, [0.177, 0.310]\n",
      "결혼 의향 없는 미혼\t 0.544 ± 0.0615, [0.482, 0.605]\n",
      "페미니즘에 긍정적\t 0.543 ± 0.0712, [0.471, 0.614]\n",
      "페미니즘에 보통\t 0.178 ± 0.0375, [0.140, 0.215]\n",
      "페미니즘에 부정적\t 0.586 ± 0.0475, [0.538, 0.633]\n",
      "\n",
      "배우자의 페미니즘에 대한 생각이 중요한가?: 기타\n",
      "전체\t\t 0.105 ± 0.0190, [0.086, 0.124]\n",
      "20대 남성\t 0.113 ± 0.0490, [0.064, 0.161]\n",
      "20대 여성\t 0.138 ± 0.0534, [0.084, 0.191]\n",
      "30대 남성\t 0.075 ± 0.0408, [0.034, 0.116]\n",
      "30대 여성\t 0.131 ± 0.0523, [0.079, 0.184]\n",
      "결혼 의향 없는 미혼\t 0.115 ± 0.0394, [0.076, 0.154]\n",
      "페미니즘에 긍정적\t 0.048 ± 0.0305, [0.017, 0.078]\n",
      "페미니즘에 보통\t 0.175 ± 0.0373, [0.138, 0.213]\n",
      "페미니즘에 부정적\t 0.065 ± 0.0238, [0.042, 0.089]\n",
      "\n",
      "배우자의 페미니즘에 대한 생각이 중요한가?: 그렇지 않다\n",
      "전체\t\t 0.479 ± 0.0310, [0.448, 0.510]\n",
      "20대 남성\t 0.281 ± 0.0697, [0.212, 0.351]\n",
      "20대 여성\t 0.412 ± 0.0763, [0.336, 0.489]\n",
      "30대 남성\t 0.338 ± 0.0733, [0.264, 0.411]\n",
      "30대 여성\t 0.625 ± 0.0750, [0.550, 0.700]\n",
      "결혼 의향 없는 미혼\t 0.337 ± 0.0584, [0.279, 0.396]\n",
      "페미니즘에 긍정적\t 0.410 ± 0.0703, [0.339, 0.480]\n",
      "페미니즘에 보통\t 0.647 ± 0.0469, [0.600, 0.694]\n",
      "페미니즘에 부정적\t 0.349 ± 0.0460, [0.303, 0.395]\n",
      "\n"
     ]
    }
   ],
   "source": [
    "nums = [n_all, n_ages, n_ages, n_ages, n_ages, n_single2, *f]\n",
    "method = 'normal'\n",
    "df_int_dict = dict()\n",
    "\n",
    "title = '배우자의 페미니즘에 대한 생각이 중요한가?: {}'\n",
    "for c in range(len(df.columns)):\n",
    "    q = title.format(df.columns[c])\n",
    "    print(q)\n",
    "    df_int_dict[q] = pd.DataFrame(columns=['low','high'])\n",
    "    for i in range(len(nums)):\n",
    "        x = df.index[i]\n",
    "        print_head(x, df.index)\n",
    "        n = nums[i]\n",
    "        k = round(df.iloc[i,c] * n)\n",
    "        low_high = proportion_confint(k, n, alpha, method=method)\n",
    "        print_interval(*low_high, '')\n",
    "        df_int_dict[q].loc[df.index[i]] = low_high\n",
    "    print()"
   ]
  },
  {
   "cell_type": "code",
   "execution_count": 58,
   "id": "41a31cc0-0f6e-4922-af54-930883436284",
   "metadata": {},
   "outputs": [
    {
     "data": {
      "image/png": "[encoded data removed]",
      "text/plain": [
       "<Figure size 864x288 with 3 Axes>"
      ]
     },
     "metadata": {
      "needs_background": "light"
     },
     "output_type": "display_data"
    }
   ],
   "source": [
    "fig, axes = plt.subplots(1,3, figsize=(12,4), sharey=True)\n",
    "for i, (k, v) in enumerate(df_int_dict.items()):\n",
    "    plot_intervals(v, title=k.replace(':', '\\n'), ax=axes[i], xlim=[0,1])"
   ]
  },
  {
   "cell_type": "markdown",
   "id": "de875e4d-203c-4b94-9924-3b9618f278a0",
   "metadata": {},
   "source": [
    "## CS2\n",
    "세대 & 성별 연관성"
   ]
  },
  {
   "cell_type": "code",
   "execution_count": 143,
   "id": "3f789edb-1e36-49f8-b7a5-6704554e08c1",
   "metadata": {},
   "outputs": [
    {
     "data": {
      "text/html": [
       "<div>\n",
       "<style scoped>\n",
       "    .dataframe tbody tr th:only-of-type {\n",
       "        vertical-align: middle;\n",
       "    }\n",
       "\n",
       "    .dataframe tbody tr th {\n",
       "        vertical-align: top;\n",
       "    }\n",
       "\n",
       "    .dataframe thead th {\n",
       "        text-align: right;\n",
       "    }\n",
       "</style>\n",
       "<table border=\"1\" class=\"dataframe\">\n",
       "  <thead>\n",
       "    <tr style=\"text-align: right;\">\n",
       "      <th></th>\n",
       "      <th></th>\n",
       "      <th>그렇다</th>\n",
       "      <th>기타</th>\n",
       "      <th>그렇지 않다</th>\n",
       "    </tr>\n",
       "  </thead>\n",
       "  <tbody>\n",
       "    <tr>\n",
       "      <th rowspan=\"2\" valign=\"top\">20대</th>\n",
       "      <th>남성</th>\n",
       "      <td>97</td>\n",
       "      <td>18</td>\n",
       "      <td>45</td>\n",
       "    </tr>\n",
       "    <tr>\n",
       "      <th>여성</th>\n",
       "      <td>72</td>\n",
       "      <td>22</td>\n",
       "      <td>66</td>\n",
       "    </tr>\n",
       "    <tr>\n",
       "      <th rowspan=\"2\" valign=\"top\">30대</th>\n",
       "      <th>남성</th>\n",
       "      <td>93</td>\n",
       "      <td>12</td>\n",
       "      <td>54</td>\n",
       "    </tr>\n",
       "    <tr>\n",
       "      <th>여성</th>\n",
       "      <td>39</td>\n",
       "      <td>21</td>\n",
       "      <td>100</td>\n",
       "    </tr>\n",
       "  </tbody>\n",
       "</table>\n",
       "</div>"
      ],
      "text/plain": [
       "        그렇다  기타  그렇지 않다\n",
       "20대 남성   97  18      45\n",
       "    여성   72  22      66\n",
       "30대 남성   93  12      54\n",
       "    여성   39  21     100"
      ]
     },
     "metadata": {},
     "output_type": "display_data"
    },
    {
     "name": "stdout",
     "output_type": "stream",
     "text": [
      "H0:(20대) 성별과 배우자의 페미니즘이 중요 여부의 상관관계가 없다\t Reject H0 (p-value = 1.7675e-02)\n",
      "H0:(30대) 성별과 배우자의 페미니즘이 중요 여부의 상관관계가 없다\t Reject H0 (p-value = 4.8636e-09)\n",
      "H0:(남성) 세대와 배우자의 페미니즘이 중요 여부의 상관관계가 없다\t Accept H0 (p-value = 3.5006e-01)\n",
      "H0:(여성) 세대와 배우자의 페미니즘이 중요 여부의 상관관계가 없다\t Reject H0 (p-value = 2.2510e-04)\n",
      "H0:성별과 배우자의 페미니즘이 중요 여부의 상관관계가 없다\t\t Reject H0 (p-value = 2.0741e-09)\n",
      "H0:세대와 배우자의 페미니즘이 중요 여부의 상관관계가 없다\t\t Reject H0 (p-value = 2.2482e-03)\n"
     ]
    }
   ],
   "source": [
    "df2 = df.iloc[1:-4].mul(n_ages).apply(lambda x: round(x)).astype(int)\n",
    "idx = df2.iloc[:,0].index.str.split(' ', expand=True)\n",
    "x = df2.set_index(idx)\n",
    "display(x)\n",
    "    \n",
    "evaluate_contingency(x, '배우자의 페미니즘이 중요 여부')"
   ]
  },
  {
   "cell_type": "markdown",
   "id": "4717d973-6064-48a7-9296-2525badcb099",
   "metadata": {},
   "source": [
    "## CS3"
   ]
  },
  {
   "cell_type": "code",
   "execution_count": 145,
   "id": "54f75f89-ce1f-48b5-bbf8-61e2803a38db",
   "metadata": {},
   "outputs": [],
   "source": [
    "f = [.188, .399, .413] # 전체 1000명의 페미니즘에 대한 태도: 긍정/보통/부정  \n",
    "f = [round(x*n_all) for x in f]"
   ]
  },
  {
   "cell_type": "code",
   "execution_count": 176,
   "id": "4a291d3d-04b2-4691-a173-03051ce5d25f",
   "metadata": {},
   "outputs": [
    {
     "data": {
      "text/html": [
       "<div>\n",
       "<style scoped>\n",
       "    .dataframe tbody tr th:only-of-type {\n",
       "        vertical-align: middle;\n",
       "    }\n",
       "\n",
       "    .dataframe tbody tr th {\n",
       "        vertical-align: top;\n",
       "    }\n",
       "\n",
       "    .dataframe thead th {\n",
       "        text-align: right;\n",
       "    }\n",
       "</style>\n",
       "<table border=\"1\" class=\"dataframe\">\n",
       "  <thead>\n",
       "    <tr style=\"text-align: right;\">\n",
       "      <th></th>\n",
       "      <th>그렇다</th>\n",
       "      <th>기타</th>\n",
       "      <th>그렇지 않다</th>\n",
       "    </tr>\n",
       "  </thead>\n",
       "  <tbody>\n",
       "    <tr>\n",
       "      <th>페미니즘에 긍정적</th>\n",
       "      <td>102</td>\n",
       "      <td>9</td>\n",
       "      <td>77</td>\n",
       "    </tr>\n",
       "    <tr>\n",
       "      <th>페미니즘에 보통</th>\n",
       "      <td>71</td>\n",
       "      <td>70</td>\n",
       "      <td>258</td>\n",
       "    </tr>\n",
       "    <tr>\n",
       "      <th>페미니즘에 부정적</th>\n",
       "      <td>242</td>\n",
       "      <td>27</td>\n",
       "      <td>144</td>\n",
       "    </tr>\n",
       "  </tbody>\n",
       "</table>\n",
       "</div>"
      ],
      "text/plain": [
       "           그렇다  기타  그렇지 않다\n",
       "페미니즘에 긍정적  102   9      77\n",
       "페미니즘에 보통    71  70     258\n",
       "페미니즘에 부정적  242  27     144"
      ]
     },
     "metadata": {},
     "output_type": "display_data"
    },
    {
     "name": "stdout",
     "output_type": "stream",
     "text": [
      "H0: 페미니즘에 대한 태도와 배우자의 태도의 중요성은 관계가 없다:\n",
      "Reject H0 (p-value = 8.9336e-34)\n"
     ]
    }
   ],
   "source": [
    "x = df.iloc[-3:]\n",
    "x = (x.assign(n = pd.Series(f, index=x.index))\n",
    "      .apply(lambda x: x[:3]*x[3], axis=1)\n",
    "      .apply(lambda x: round(x)).astype(int))\n",
    "display(x)\n",
    "\n",
    "print('H0: 페미니즘에 대한 태도와 배우자의 태도의 중요성은 관계가 없다:')\n",
    "res = stats.chi2_contingency(x)\n",
    "test_hypothesis(res[1])"
   ]
  },
  {
   "cell_type": "markdown",
   "id": "b2322a73-1a73-4e90-9674-248de21ba15e",
   "metadata": {},
   "source": [
    "# F06 배우자의 정치적 성향\n",
    "- 20대 여성에게 특히 정치적 성향은 중요한 요건이다. 20대 여성 응답자 가운데 58.1%가 연애 상대방의 정치적 성향이 중요하다고 답했고, 66%는 결혼 상대방의 정치적 성향이 중요하다고 답했다. 같은 기준 20대 남성의 응답이 연애의 경우 42.2%, 결혼의 경우 40.9%라는 점을 감안하면 20대에서도 특히 여성들이 페미니즘과 같은 정치적 이슈에 대한 태도를 파트너 선택의 중요한 요건으로 삼는다는 걸 알 수 있다."
   ]
  },
  {
   "cell_type": "markdown",
   "id": "6fca99a7-1932-421d-83d3-d283fd28428f",
   "metadata": {},
   "source": [
    "comments:\n",
    "- 20대 여성에게 특히 정치적 성향은 20대 남성보다 중요한 요건이다."
   ]
  },
  {
   "cell_type": "code",
   "execution_count": 177,
   "id": "75104cb6-3f38-4a8a-83cc-1c2e0e9c1ad8",
   "metadata": {},
   "outputs": [],
   "source": [
    "p1 = [.422, .409] # 연애 상대방과 결혼 상대방의 정치적 성향이 중요하다는 비율\n",
    "p2 = [.581, .66]\n",
    "\n",
    "idx = ['20대 남성', '20대 여성']\n",
    "cols = ['연애 상대방의 정치적 성향이 중요', '결혼 상대방의 정치적 성향이 중요']\n",
    "df = pd.DataFrame([p1,p2], index=idx, columns=cols)"
   ]
  },
  {
   "cell_type": "code",
   "execution_count": 178,
   "id": "d4ceadc4-bd59-4bb8-93b7-11e49c4d110a",
   "metadata": {
    "tags": []
   },
   "outputs": [
    {
     "data": {
      "image/png": "[encoded data removed]",
      "text/plain": [
       "<Figure size 576x144 with 2 Axes>"
      ]
     },
     "metadata": {
      "needs_background": "light"
     },
     "output_type": "display_data"
    }
   ],
   "source": [
    "fig, axes = plt.subplots(1,2, figsize=(8,2), sharey=True)\n",
    "for i in range(len(df.columns)):\n",
    "    col = df.columns[i]\n",
    "    x = (df.iloc[:,i].to_frame(col)\n",
    "           .assign(disagree=lambda x: 1-x[col])\n",
    "           .rename(columns={col:col, 'disagree': '기타'})\n",
    "           .mul(100).to_dict(orient='split'))\n",
    "    res = dict(zip(x['index'], x['data']))\n",
    "    cat = x['columns']\n",
    "    _ = plot_survey(res, cat, ax=axes[i], fig=fig)"
   ]
  },
  {
   "cell_type": "code",
   "execution_count": 179,
   "id": "adf16904-f485-43ff-b6d2-cab09f98e2d9",
   "metadata": {},
   "outputs": [
    {
     "data": {
      "text/plain": [
       "160"
      ]
     },
     "execution_count": 179,
     "metadata": {},
     "output_type": "execute_result"
    }
   ],
   "source": [
    "# 나이별 남녀인원수 동일하다는 가정하에 계산한 세대별 남녀수(예 20대 여자)는 (우연히도) 실제 20대 여자수와 동일\n",
    "\n",
    "# 나이별 인원수와 남녀 비율 동일 가정\n",
    "n_all = 1000 # 전체 응답자\n",
    "n_single2 = 252 # 결혼 의향 없는 미혼\n",
    "n_ages = round(n_all / (49-18+1) / 2) * 10 # 세대별 남자\n",
    "n_ages"
   ]
  },
  {
   "cell_type": "code",
   "execution_count": 180,
   "id": "74c66441-3d47-4720-b9b4-f041a761e6ea",
   "metadata": {
    "tags": []
   },
   "outputs": [
    {
     "name": "stdout",
     "output_type": "stream",
     "text": [
      "연애 상대방의 정치적 성향이 중요:\n",
      "20대 남성 0.425 ± 0.0766, [0.348, 0.502]\n",
      "20대 여성 0.581 ± 0.0764, [0.505, 0.658]\n",
      "\n",
      "결혼 상대방의 정치적 성향이 중요:\n",
      "20대 남성 0.406 ± 0.0761, [0.330, 0.482]\n",
      "20대 여성 0.662 ± 0.0733, [0.589, 0.736]\n",
      "\n"
     ]
    }
   ],
   "source": [
    "nums = [n_ages, n_ages]\n",
    "method = 'normal'\n",
    "\n",
    "for c in range(len(df.columns)):\n",
    "    print(f'{df.columns[c]}:')\n",
    "    for i in range(len(nums)):\n",
    "        x = df.index[i]\n",
    "        print_head(x, df.index)\n",
    "        n = nums[i]\n",
    "        k = round(df.iloc[i,c] * n)\n",
    "        low, high = proportion_confint(k, n, alpha, method=method)\n",
    "        print_interval(low, high, '')\n",
    "    print()"
   ]
  },
  {
   "cell_type": "code",
   "execution_count": 181,
   "id": "69c2e8f8-b50c-476f-9a29-f51ad108f0e7",
   "metadata": {},
   "outputs": [
    {
     "data": {
      "text/html": [
       "<div>\n",
       "<style scoped>\n",
       "    .dataframe tbody tr th:only-of-type {\n",
       "        vertical-align: middle;\n",
       "    }\n",
       "\n",
       "    .dataframe tbody tr th {\n",
       "        vertical-align: top;\n",
       "    }\n",
       "\n",
       "    .dataframe thead th {\n",
       "        text-align: right;\n",
       "    }\n",
       "</style>\n",
       "<table border=\"1\" class=\"dataframe\">\n",
       "  <thead>\n",
       "    <tr style=\"text-align: right;\">\n",
       "      <th></th>\n",
       "      <th></th>\n",
       "      <th>연애 상대방의 정치적 성향이 중요</th>\n",
       "      <th>그외</th>\n",
       "    </tr>\n",
       "  </thead>\n",
       "  <tbody>\n",
       "    <tr>\n",
       "      <th rowspan=\"2\" valign=\"top\">20대</th>\n",
       "      <th>남성</th>\n",
       "      <td>68</td>\n",
       "      <td>92</td>\n",
       "    </tr>\n",
       "    <tr>\n",
       "      <th>여성</th>\n",
       "      <td>93</td>\n",
       "      <td>67</td>\n",
       "    </tr>\n",
       "  </tbody>\n",
       "</table>\n",
       "</div>"
      ],
      "text/plain": [
       "        연애 상대방의 정치적 성향이 중요  그외\n",
       "20대 남성                  68  92\n",
       "    여성                  93  67"
      ]
     },
     "metadata": {},
     "output_type": "display_data"
    },
    {
     "name": "stdout",
     "output_type": "stream",
     "text": [
      "H0:(20대) 성별과 연애 상대방의 정치적 성향이 중요의 상관관계가 없다\t Reject H0 (p-value = 7.2892e-03)\n",
      "\n",
      "\n"
     ]
    },
    {
     "data": {
      "text/html": [
       "<div>\n",
       "<style scoped>\n",
       "    .dataframe tbody tr th:only-of-type {\n",
       "        vertical-align: middle;\n",
       "    }\n",
       "\n",
       "    .dataframe tbody tr th {\n",
       "        vertical-align: top;\n",
       "    }\n",
       "\n",
       "    .dataframe thead th {\n",
       "        text-align: right;\n",
       "    }\n",
       "</style>\n",
       "<table border=\"1\" class=\"dataframe\">\n",
       "  <thead>\n",
       "    <tr style=\"text-align: right;\">\n",
       "      <th></th>\n",
       "      <th></th>\n",
       "      <th>결혼 상대방의 정치적 성향이 중요</th>\n",
       "      <th>그외</th>\n",
       "    </tr>\n",
       "  </thead>\n",
       "  <tbody>\n",
       "    <tr>\n",
       "      <th rowspan=\"2\" valign=\"top\">20대</th>\n",
       "      <th>남성</th>\n",
       "      <td>65</td>\n",
       "      <td>95</td>\n",
       "    </tr>\n",
       "    <tr>\n",
       "      <th>여성</th>\n",
       "      <td>106</td>\n",
       "      <td>54</td>\n",
       "    </tr>\n",
       "  </tbody>\n",
       "</table>\n",
       "</div>"
      ],
      "text/plain": [
       "        결혼 상대방의 정치적 성향이 중요  그외\n",
       "20대 남성                  65  95\n",
       "    여성                 106  54"
      ]
     },
     "metadata": {},
     "output_type": "display_data"
    },
    {
     "name": "stdout",
     "output_type": "stream",
     "text": [
      "H0:(20대) 성별과 결혼 상대방의 정치적 성향이 중요의 상관관계가 없다\t Reject H0 (p-value = 7.3690e-06)\n",
      "\n",
      "\n"
     ]
    }
   ],
   "source": [
    "df2 = df.copy()\n",
    "idx = df2.index.str.split(' ', expand=True)\n",
    "df2 = df2.set_index(idx)\n",
    "\n",
    "for i in range(len(df2.columns)):\n",
    "    col = df2.columns[i]\n",
    "        \n",
    "    x = (df2.iloc[:,i].to_frame(col)\n",
    "            .assign(disagree=lambda x: 1-x[col])\n",
    "            .rename(columns={col:col, 'disagree': '그외'})\n",
    "            .mul(n_ages).apply(lambda x: round(x)).astype(int)\n",
    "        )\n",
    "    display(x)\n",
    "    \n",
    "    evaluate_contingency(x, col)\n",
    "    \n",
    "    print('\\n'*1)"
   ]
  },
  {
   "cell_type": "markdown",
   "id": "2e10e030-530d-4a40-a941-b26f8f6ae926",
   "metadata": {},
   "source": [
    "# F07 페미니즘의 악용으로 연애에 악영향\n",
    "- \"페미니즘이라는 것이 너무 정치적으로 악용돼서 남녀 간 건전한 교제 같은 것도 정서적으로 막는 역할을 많이 한다\"는 윤 전 총장의 발언에 대해, 남성 응답자는 54.7%가 당시 발언에 동의한다고 답한 반면, 여성 응답자는 15.2%만이 동의한다고 답했다. 특히 20대 남녀의 반응이 극과 극이다. 20대 남성은 동의 59.9%, 동의하지 않음 26.8%인 반면, 20대 여성은 동의 11.8%, 동의하지 않음 72.2%를 보였다. "
   ]
  },
  {
   "cell_type": "markdown",
   "id": "38057d09-e19c-43b7-a1c3-c41d34845ced",
   "metadata": {},
   "source": [
    "comments:\n",
    "- 20대 남녀의 반응은 전체 남녀의 반응과 차이가 없다."
   ]
  },
  {
   "cell_type": "code",
   "execution_count": 59,
   "id": "a9906707-38ed-463c-887e-14f34d9601ad",
   "metadata": {},
   "outputs": [
    {
     "data": {
      "text/html": [
       "<div>\n",
       "<style scoped>\n",
       "    .dataframe tbody tr th:only-of-type {\n",
       "        vertical-align: middle;\n",
       "    }\n",
       "\n",
       "    .dataframe tbody tr th {\n",
       "        vertical-align: top;\n",
       "    }\n",
       "\n",
       "    .dataframe thead th {\n",
       "        text-align: right;\n",
       "    }\n",
       "</style>\n",
       "<table border=\"1\" class=\"dataframe\">\n",
       "  <thead>\n",
       "    <tr style=\"text-align: right;\">\n",
       "      <th></th>\n",
       "      <th>페미니즘의 악용이 연애를 막는다</th>\n",
       "      <th>기타</th>\n",
       "    </tr>\n",
       "  </thead>\n",
       "  <tbody>\n",
       "    <tr>\n",
       "      <th>남성</th>\n",
       "      <td>0.547</td>\n",
       "      <td>0.453</td>\n",
       "    </tr>\n",
       "    <tr>\n",
       "      <th>여성</th>\n",
       "      <td>0.152</td>\n",
       "      <td>0.848</td>\n",
       "    </tr>\n",
       "    <tr>\n",
       "      <th>20대 남성</th>\n",
       "      <td>0.599</td>\n",
       "      <td>0.401</td>\n",
       "    </tr>\n",
       "    <tr>\n",
       "      <th>20대 여성</th>\n",
       "      <td>0.118</td>\n",
       "      <td>0.882</td>\n",
       "    </tr>\n",
       "  </tbody>\n",
       "</table>\n",
       "</div>"
      ],
      "text/plain": [
       "        페미니즘의 악용이 연애를 막는다     기타\n",
       "남성                  0.547  0.453\n",
       "여성                  0.152  0.848\n",
       "20대 남성              0.599  0.401\n",
       "20대 여성              0.118  0.882"
      ]
     },
     "execution_count": 59,
     "metadata": {},
     "output_type": "execute_result"
    }
   ],
   "source": [
    "p1 = [.547] # 남성 동의\n",
    "p2 = [.152] # 여성 동의\n",
    "p3 = [.599] # 20대 남성 동의\n",
    "p4 = [.118] # 20대 여성 동의\n",
    "ps = [p1,p2,p3,p4]\n",
    "_ = [x.append(1-x[0]) for x in ps]\n",
    "\n",
    "idx = ['남성', '여성', '20대 남성', '20대 여성']\n",
    "cols = ['페미니즘의 악용이 연애를 막는다','기타']\n",
    "df = pd.DataFrame(ps, index=idx, columns=cols)\n",
    "df"
   ]
  },
  {
   "cell_type": "code",
   "execution_count": 60,
   "id": "502a1766-264e-4041-87a6-f323fd1a40f6",
   "metadata": {},
   "outputs": [
    {
     "data": {
      "image/png": "[encoded data removed]",
      "text/plain": [
       "<Figure size 360x288 with 1 Axes>"
      ]
     },
     "metadata": {
      "needs_background": "light"
     },
     "output_type": "display_data"
    }
   ],
   "source": [
    "x = df.mul(100).to_dict(orient='split')\n",
    "res = dict(zip(x['index'], x['data']))\n",
    "cat = [' '.join(x) for x in x['columns']]\n",
    "_ = plot_survey(res, cat, figsize=(5,4))"
   ]
  },
  {
   "cell_type": "code",
   "execution_count": 61,
   "id": "0adce636-4e34-4443-b6b4-ac82a51b1850",
   "metadata": {},
   "outputs": [
    {
     "data": {
      "text/plain": [
       "(500, 160)"
      ]
     },
     "execution_count": 61,
     "metadata": {},
     "output_type": "execute_result"
    }
   ],
   "source": [
    "# 나이별 남녀인원수 동일하다는 가정하에 계산한 세대별 남녀수(예 20대 여자)는 (우연히도) 실제 20대 여자수와 동일\n",
    "\n",
    "# 나이별 인원수와 남녀 비율 동일 가정\n",
    "n_all = 1000 # 전체 응답자\n",
    "n_sex = round(n_all/2) # 남녀 비율 동일 가정\n",
    "n_ages = round(n_all / (49-18+1) / 2) * 10 # 세대별 남자\n",
    "\n",
    "n_sex, n_ages"
   ]
  },
  {
   "cell_type": "code",
   "execution_count": 64,
   "id": "1aaf9b56-e436-4bba-bf20-f09cd5e11757",
   "metadata": {
    "tags": []
   },
   "outputs": [
    {
     "name": "stdout",
     "output_type": "stream",
     "text": [
      "페미니즘의 악용이 연애를 막는다에 동의:\n",
      "남성\t\t 0.548 ± 0.0436, [0.504, 0.592]\n",
      "여성\t\t 0.152 ± 0.0315, [0.121, 0.183]\n",
      "20대 남성\t 0.600 ± 0.0759, [0.524, 0.676]\n",
      "20대 여성\t 0.119 ± 0.0501, [0.069, 0.169]\n",
      "\n"
     ]
    },
    {
     "data": {
      "image/png": "[encoded data removed]",
      "text/plain": [
       "<Figure size 432x288 with 1 Axes>"
      ]
     },
     "metadata": {
      "needs_background": "light"
     },
     "output_type": "display_data"
    }
   ],
   "source": [
    "nums = [n_sex, n_sex, n_ages, n_ages]\n",
    "method = 'normal'\n",
    "idx = df.index\n",
    "df_int = pd.DataFrame(columns=['low','high'])\n",
    "\n",
    "c = 0\n",
    "q = f'{df.columns[c]}에 동의'\n",
    "print(f'{q}:')\n",
    "for i in range(len(nums)):\n",
    "    print_head(idx[i], idx, n_tab=2)\n",
    "    n = nums[i]\n",
    "    k = round(df.iloc[i,c] * n)\n",
    "    low_high = proportion_confint(k, n, alpha, method=method)\n",
    "    print_interval(*low_high, '')\n",
    "    df_int.loc[df.index[i]] = low_high\n",
    "\n",
    "print()\n",
    "plot_intervals(df_int, title=q)"
   ]
  },
  {
   "cell_type": "code",
   "execution_count": 186,
   "id": "72ca696b-e237-4858-ac1c-a13894421468",
   "metadata": {
    "tags": []
   },
   "outputs": [
    {
     "data": {
      "text/html": [
       "<div>\n",
       "<style scoped>\n",
       "    .dataframe tbody tr th:only-of-type {\n",
       "        vertical-align: middle;\n",
       "    }\n",
       "\n",
       "    .dataframe tbody tr th {\n",
       "        vertical-align: top;\n",
       "    }\n",
       "\n",
       "    .dataframe thead th {\n",
       "        text-align: right;\n",
       "    }\n",
       "</style>\n",
       "<table border=\"1\" class=\"dataframe\">\n",
       "  <thead>\n",
       "    <tr style=\"text-align: right;\">\n",
       "      <th></th>\n",
       "      <th></th>\n",
       "      <th>페미니즘의 악용이 연애를 막는다</th>\n",
       "      <th>기타</th>\n",
       "    </tr>\n",
       "  </thead>\n",
       "  <tbody>\n",
       "    <tr>\n",
       "      <th rowspan=\"2\" valign=\"top\">전체</th>\n",
       "      <th>남성</th>\n",
       "      <td>0.547</td>\n",
       "      <td>0.453</td>\n",
       "    </tr>\n",
       "    <tr>\n",
       "      <th>여성</th>\n",
       "      <td>0.152</td>\n",
       "      <td>0.848</td>\n",
       "    </tr>\n",
       "    <tr>\n",
       "      <th rowspan=\"2\" valign=\"top\">20대</th>\n",
       "      <th>남성</th>\n",
       "      <td>0.599</td>\n",
       "      <td>0.401</td>\n",
       "    </tr>\n",
       "    <tr>\n",
       "      <th>여성</th>\n",
       "      <td>0.118</td>\n",
       "      <td>0.882</td>\n",
       "    </tr>\n",
       "  </tbody>\n",
       "</table>\n",
       "</div>"
      ],
      "text/plain": [
       "        페미니즘의 악용이 연애를 막는다     기타\n",
       "전체  남성              0.547  0.453\n",
       "    여성              0.152  0.848\n",
       "20대 남성              0.599  0.401\n",
       "    여성              0.118  0.882"
      ]
     },
     "execution_count": 186,
     "metadata": {},
     "output_type": "execute_result"
    }
   ],
   "source": [
    "df2 = df.copy()\n",
    "df2.index = ['전체 남성', '전체 여성'] + df.index.tolist()[2:]\n",
    "idx = df2.index.str.split(' ', expand=True)\n",
    "df2 = df2.set_index(idx)\n",
    "df2"
   ]
  },
  {
   "cell_type": "code",
   "execution_count": 187,
   "id": "7be4ec1f-e599-4cab-baa8-4773f18b1a08",
   "metadata": {
    "tags": []
   },
   "outputs": [
    {
     "data": {
      "text/html": [
       "<div>\n",
       "<style scoped>\n",
       "    .dataframe tbody tr th:only-of-type {\n",
       "        vertical-align: middle;\n",
       "    }\n",
       "\n",
       "    .dataframe tbody tr th {\n",
       "        vertical-align: top;\n",
       "    }\n",
       "\n",
       "    .dataframe thead th {\n",
       "        text-align: right;\n",
       "    }\n",
       "</style>\n",
       "<table border=\"1\" class=\"dataframe\">\n",
       "  <thead>\n",
       "    <tr style=\"text-align: right;\">\n",
       "      <th></th>\n",
       "      <th></th>\n",
       "      <th>페미니즘의 악용이 연애를 막는다</th>\n",
       "      <th>기타</th>\n",
       "    </tr>\n",
       "  </thead>\n",
       "  <tbody>\n",
       "    <tr>\n",
       "      <th rowspan=\"2\" valign=\"top\">전체</th>\n",
       "      <th>남성</th>\n",
       "      <td>274</td>\n",
       "      <td>226</td>\n",
       "    </tr>\n",
       "    <tr>\n",
       "      <th>여성</th>\n",
       "      <td>76</td>\n",
       "      <td>424</td>\n",
       "    </tr>\n",
       "  </tbody>\n",
       "</table>\n",
       "</div>"
      ],
      "text/plain": [
       "       페미니즘의 악용이 연애를 막는다   기타\n",
       "전체 남성                274  226\n",
       "   여성                 76  424"
      ]
     },
     "metadata": {},
     "output_type": "display_data"
    },
    {
     "name": "stdout",
     "output_type": "stream",
     "text": [
      "H0:(전체) 성별과 페미니즘의 악용이 연애를 막는다의 상관관계가 없다\t Reject H0 (p-value = 5.5020e-39)\n"
     ]
    },
    {
     "data": {
      "text/html": [
       "<div>\n",
       "<style scoped>\n",
       "    .dataframe tbody tr th:only-of-type {\n",
       "        vertical-align: middle;\n",
       "    }\n",
       "\n",
       "    .dataframe tbody tr th {\n",
       "        vertical-align: top;\n",
       "    }\n",
       "\n",
       "    .dataframe thead th {\n",
       "        text-align: right;\n",
       "    }\n",
       "</style>\n",
       "<table border=\"1\" class=\"dataframe\">\n",
       "  <thead>\n",
       "    <tr style=\"text-align: right;\">\n",
       "      <th></th>\n",
       "      <th></th>\n",
       "      <th>페미니즘의 악용이 연애를 막는다</th>\n",
       "      <th>기타</th>\n",
       "    </tr>\n",
       "  </thead>\n",
       "  <tbody>\n",
       "    <tr>\n",
       "      <th rowspan=\"2\" valign=\"top\">20대</th>\n",
       "      <th>남성</th>\n",
       "      <td>96</td>\n",
       "      <td>64</td>\n",
       "    </tr>\n",
       "    <tr>\n",
       "      <th>여성</th>\n",
       "      <td>19</td>\n",
       "      <td>141</td>\n",
       "    </tr>\n",
       "  </tbody>\n",
       "</table>\n",
       "</div>"
      ],
      "text/plain": [
       "        페미니즘의 악용이 연애를 막는다   기타\n",
       "20대 남성                 96   64\n",
       "    여성                 19  141"
      ]
     },
     "metadata": {},
     "output_type": "display_data"
    },
    {
     "name": "stdout",
     "output_type": "stream",
     "text": [
      "H0:(20대) 성별과 페미니즘의 악용이 연애를 막는다의 상관관계가 없다\t Reject H0 (p-value = 8.4080e-19)\n"
     ]
    }
   ],
   "source": [
    "q = '페미니즘의 악용이 연애를 막는다'\n",
    "x = df2.iloc[:2].mul(n_sex).apply(lambda x: round(x)).astype(int)\n",
    "display(x)\n",
    "evaluate_contingency(x, q)\n",
    "\n",
    "x = df2.iloc[2:].mul(n_ages).apply(lambda x: round(x)).astype(int)\n",
    "display(x)\n",
    "evaluate_contingency(x, q)"
   ]
  },
  {
   "cell_type": "markdown",
   "id": "a7c9edfb-c6d7-4a13-8275-ef7c7a1b20a0",
   "metadata": {},
   "source": [
    "# F08 결혼에 대한 불안감\n",
    "- 그림7 \n",
    "- 대상 응답자 미혼 579명\n",
    "- (그림에 없는 내용)‘결혼 의향 없는 미혼’ 집단에서 ‘자녀 때문에 시간을 자유롭게 쓰지 못할까 봐 불안하다’는 응답은 58.6%를 차지한다. 전체 평균이 39.5%라는 점을 감안하면 확실히 이들 집단의 불안감이 유독 크다고 볼 수 있다. \n",
    "- (그림에 없는 내용)‘자녀 때문에 돈을 자유롭게 쓰지 못할 것 같아 우려된다’는 응답도 이들 ‘결혼 의향 없는 미혼’ 집단에서 49.2%를 기록했다. 이 질문에 대해서도 전체 응답자 평균은 34.4%에 불과하다.\n",
    "- (그림에 없는 내용)‘결혼할 경우 내 커리어에 악영향을 미칠까 봐 불안감을 느낀다’ ‘자녀가 내 커리어에 악영향을 미칠까 봐 불안감을 느낀다’. ‘결혼 의향 없는 미혼’ 집단에서 ‘그렇다’고 응답한 비율은 각각 44%, 28.6%다. 여기서 다소 흥미로운 것은 ‘자녀’보다 ‘결혼’의 악영향을 더 크게 느낀다는 점이다. 결혼할 의향이 없는 사람들이 아이의 존재 자체를 거북하게 여기는 것은 아니다. 애들에게는 문제가 없다. 커리어를 망칠지 모른다는 불안의 근원은 아이가 아니라 결혼이라는 시스템에 있다.\n",
    "- 미혼 응답자(579명)에게 결혼하지 않는 삶이 주는 불안감을 물었다. ‘나이를 먹었을 때 외로움’ ‘주변 사람들의 시선’ ‘사회적 불이익’ ‘경제적 불이익’ 네 측면에서 불안감을 측정했다. 결과는 각각 48.4%, 29.3%, 24.4%, 24.1%. 네 가지 응답에서 특별히 성별·세대별 특징은 도출되지 않았다. 외로울지 모른다는 막연한 불안을 제외하면, 나머지 불안감은 전반적으로 약한 수준이다. => 차이가 명확해 보여 별도 분석 제외."
   ]
  },
  {
   "cell_type": "markdown",
   "id": "80e5c8fb-20c6-4f2a-85d6-ad1057248a72",
   "metadata": {},
   "source": [
    "comments:\n",
    "- 결혼 의향 없는 미혼 집단은 결혼/자녀로 인한 시간/경제력 부족 우려와 결혼으로 인한 커리어 악영향에 대한 우려가 전체 응답자의 우려보다 더 크다. \n",
    "- 결혼 의향 없는 미혼에 대하여 커리어를 망칠지 모른다는 불안은 아이보다 결혼에서 더 크다고 할 수 있다.\n",
    "- 결혼 의향 없는 미혼에 대하여 결혼으로 자유 시간 부족을 가장 우려하고, 자녀때문에 자유 시간 부족과 경제적 부자유를 더 걱정한다. "
   ]
  },
  {
   "cell_type": "code",
   "execution_count": 68,
   "id": "f62aefcf-4f66-4275-a3f1-96521e8eaa12",
   "metadata": {},
   "outputs": [],
   "source": [
    "# 결혼으로 자유시간 부족 우려, 결혼으로 경제적 부자유 우려, 결혼으로 커리어 악영향 우려, 자녀때문에 자유시간 부족 우려, 자녀때문에 경제적 부자유 우려  긍정 비율\n",
    "p1 = [.514, .371, .301, .395, .344] # 전체\n",
    "p2 = [.69, .501, .44, .586, .492] # 결혼 의향 없는 미혼\n",
    "\n",
    "idx = ['전체', '결혼 의향 없는 미혼']\n",
    "#cols = ['결혼으로 자유시간 부족 우려', '결혼으로 경제적 부자유 우려', '결혼으로 커리어 악영향 우려','자녀때문에 자유시간 부족 우려', '자녀때문에 경제적 부자유 우려']\n",
    "cols = [['결혼으로']*3 + ['자녀때문에']*2, ['자유시간 부족 우려', '경제적 부자유 우려', '커리어 악영향 우려','자유시간 부족 우려', '경제적 부자유 우려']]\n",
    "df = pd.DataFrame([p1,p2], index=idx, columns=cols)"
   ]
  },
  {
   "cell_type": "code",
   "execution_count": 69,
   "id": "b7313189-4f90-4919-a668-6ace035dfa03",
   "metadata": {
    "tags": []
   },
   "outputs": [
    {
     "data": {
      "image/png": "[encoded data removed]",
      "text/plain": [
       "<Figure size 864x144 with 5 Axes>"
      ]
     },
     "metadata": {
      "needs_background": "light"
     },
     "output_type": "display_data"
    }
   ],
   "source": [
    "bbox_to_anchor=(0.5, 1.4)\n",
    "\n",
    "fig, axes = plt.subplots(1,5, figsize=(12,2), sharey=True)\n",
    "for i in range(len(df.columns)):\n",
    "    col = df.columns[i]\n",
    "    x = (df.iloc[:,i].to_frame(col)\n",
    "           .assign(disagree=lambda x: 1-x[col])\n",
    "           .rename(columns={col:col, 'disagree': '기타'})\n",
    "           .mul(100).to_dict(orient='split'))\n",
    "    res = dict(zip(x['index'], x['data']))\n",
    "    cat = ['\\n'.join(x) for x in x['columns']]\n",
    "    ax = plot_survey(res, cat, ax=axes[i], fig=fig)\n",
    "    \n",
    "    h, l = ax.get_legend_handles_labels()\n",
    "    ax.legend(h[0:1], l[0:1], loc='upper center', bbox_to_anchor=bbox_to_anchor)\n",
    "    #ax.legend(h[0:1], l[0:1], loc='upper center', bbox_to_anchor=ax.get_legend().get_bbox_to_anchor())"
   ]
  },
  {
   "cell_type": "code",
   "execution_count": 70,
   "id": "8c9a0e99-5d0c-4f6b-971b-eb801f1477e0",
   "metadata": {},
   "outputs": [],
   "source": [
    "n_all = 1000 # 전체 응답자\n",
    "n_single2 = 252 # 결혼 의향 없는 미혼"
   ]
  },
  {
   "cell_type": "markdown",
   "id": "fc34c7cc-512c-49ab-b7b4-9bdc36ef0cd7",
   "metadata": {},
   "source": [
    "## CS1"
   ]
  },
  {
   "cell_type": "code",
   "execution_count": 191,
   "id": "b13ffcda-2bb1-463a-98d0-e1cde6ccb231",
   "metadata": {},
   "outputs": [
    {
     "name": "stdout",
     "output_type": "stream",
     "text": [
      "결혼으로 자유시간 부족 우려 긍정 비율:\n",
      "전체\t\t 0.514 ± 0.0310, [0.483, 0.545]\n",
      "결혼 의향 없는 미혼\t 0.690 ± 0.0571, [0.633, 0.748]\n",
      "\n",
      "결혼으로 경제적 부자유 우려 긍정 비율:\n",
      "전체\t\t 0.371 ± 0.0299, [0.341, 0.401]\n",
      "결혼 의향 없는 미혼\t 0.500 ± 0.0617, [0.438, 0.562]\n",
      "\n",
      "결혼으로 커리어 악영향 우려 긍정 비율:\n",
      "전체\t\t 0.301 ± 0.0284, [0.273, 0.329]\n",
      "결혼 의향 없는 미혼\t 0.440 ± 0.0613, [0.379, 0.502]\n",
      "\n",
      "자녀때문에 자유시간 부족 우려 긍정 비율:\n",
      "전체\t\t 0.395 ± 0.0303, [0.365, 0.425]\n",
      "결혼 의향 없는 미혼\t 0.587 ± 0.0608, [0.527, 0.648]\n",
      "\n",
      "자녀때문에 경제적 부자유 우려 긍정 비율:\n",
      "전체\t\t 0.344 ± 0.0294, [0.315, 0.373]\n",
      "결혼 의향 없는 미혼\t 0.492 ± 0.0617, [0.430, 0.554]\n",
      "\n"
     ]
    }
   ],
   "source": [
    "nums = [n_all, n_single2]\n",
    "method = 'normal'\n",
    "\n",
    "for c in range(len(df.columns)):\n",
    "    t = ' '.join(df.columns[c])\n",
    "    print(f'{t} 긍정 비율:')\n",
    "    for i in range(len(nums)):\n",
    "        x = df.index[i]\n",
    "        print_head(x, df.index)\n",
    "        n = nums[i]\n",
    "        k = round(df.iloc[i,c] * n)\n",
    "        low, high = proportion_confint(k, n, alpha, method=method)\n",
    "        print_interval(low, high, '')\n",
    "    print()"
   ]
  },
  {
   "cell_type": "markdown",
   "id": "cfe67ba1-879e-43d3-9d22-dce8c9dfb04b",
   "metadata": {},
   "source": [
    "## CS2\n",
    "결혼 의향 없는 미혼"
   ]
  },
  {
   "cell_type": "code",
   "execution_count": 71,
   "id": "d93cff72-0f60-4892-90eb-ebfa65938837",
   "metadata": {},
   "outputs": [],
   "source": [
    "r = pd.Series([.286], index=[['자녀때문에'], ['커리어 악영향 우려']])\n",
    "df_tmp = pd.concat([df.iloc[1], r])"
   ]
  },
  {
   "cell_type": "code",
   "execution_count": 72,
   "id": "4ed8c496-26c6-428b-aea5-db25018982de",
   "metadata": {},
   "outputs": [
    {
     "data": {
      "image/png": "[encoded data removed]",
      "text/plain": [
       "<Figure size 432x288 with 1 Axes>"
      ]
     },
     "metadata": {
      "needs_background": "light"
     },
     "output_type": "display_data"
    }
   ],
   "source": [
    "_ = df_tmp.unstack(level=-1).plot(kind='barh')"
   ]
  },
  {
   "cell_type": "code",
   "execution_count": 73,
   "id": "446954f6-9c48-4915-82e7-9b88c452cc18",
   "metadata": {},
   "outputs": [
    {
     "name": "stdout",
     "output_type": "stream",
     "text": [
      "결혼 의향 없는 미혼:\n",
      "결혼으로 자유시간 부족 우려\t 0.690 ± 0.0571, [0.633, 0.748]\n",
      "결혼으로 경제적 부자유 우려\t 0.500 ± 0.0617, [0.438, 0.562]\n",
      "결혼으로 커리어 악영향 우려\t 0.440 ± 0.0613, [0.379, 0.502]\n",
      "자녀때문에 자유시간 부족 우려\t 0.587 ± 0.0608, [0.527, 0.648]\n",
      "자녀때문에 경제적 부자유 우려\t 0.492 ± 0.0617, [0.430, 0.554]\n",
      "자녀때문에 커리어 악영향 우려\t 0.286 ± 0.0558, [0.230, 0.341]\n",
      "\n"
     ]
    },
    {
     "data": {
      "image/png": "[encoded data removed]",
      "text/plain": [
       "<Figure size 432x288 with 1 Axes>"
      ]
     },
     "metadata": {
      "needs_background": "light"
     },
     "output_type": "display_data"
    }
   ],
   "source": [
    "q = '결혼 의향 없는 미혼'\n",
    "print(f'{q}:')\n",
    "n = n_single2\n",
    "idx = [' '.join(x) for x in df_tmp.index]\n",
    "df_int = pd.DataFrame(columns=['low','high'])\n",
    "\n",
    "for i in range(len(df_tmp)):\n",
    "    print_head(idx[i], idx)\n",
    "    k = round(df_tmp[i] * n)\n",
    "    low_high = proportion_confint(k, n, alpha, method=method)\n",
    "    print_interval(*low_high, '')\n",
    "    df_int.loc[idx[i]] = low_high\n",
    "    \n",
    "print()\n",
    "plot_intervals(df_int, title=q)"
   ]
  },
  {
   "cell_type": "code",
   "execution_count": 195,
   "id": "48642c5d-6c44-4311-b4de-2d213d009c42",
   "metadata": {},
   "outputs": [
    {
     "name": "stdout",
     "output_type": "stream",
     "text": [
      "결혼 의향 없는 미혼:\n"
     ]
    },
    {
     "data": {
      "text/html": [
       "<div>\n",
       "<style scoped>\n",
       "    .dataframe tbody tr th:only-of-type {\n",
       "        vertical-align: middle;\n",
       "    }\n",
       "\n",
       "    .dataframe tbody tr th {\n",
       "        vertical-align: top;\n",
       "    }\n",
       "\n",
       "    .dataframe thead th {\n",
       "        text-align: right;\n",
       "    }\n",
       "</style>\n",
       "<table border=\"1\" class=\"dataframe\">\n",
       "  <thead>\n",
       "    <tr style=\"text-align: right;\">\n",
       "      <th></th>\n",
       "      <th>경제적 부자유 우려</th>\n",
       "      <th>자유시간 부족 우려</th>\n",
       "      <th>커리어 악영향 우려</th>\n",
       "    </tr>\n",
       "  </thead>\n",
       "  <tbody>\n",
       "    <tr>\n",
       "      <th>결혼으로</th>\n",
       "      <td>126</td>\n",
       "      <td>174</td>\n",
       "      <td>111</td>\n",
       "    </tr>\n",
       "    <tr>\n",
       "      <th>자녀때문에</th>\n",
       "      <td>124</td>\n",
       "      <td>148</td>\n",
       "      <td>72</td>\n",
       "    </tr>\n",
       "  </tbody>\n",
       "</table>\n",
       "</div>"
      ],
      "text/plain": [
       "       경제적 부자유 우려  자유시간 부족 우려  커리어 악영향 우려\n",
       "결혼으로          126         174         111\n",
       "자녀때문에         124         148          72"
      ]
     },
     "metadata": {},
     "output_type": "display_data"
    },
    {
     "name": "stdout",
     "output_type": "stream",
     "text": [
      "결혼으로 인한 우려들\t Reject H0 (p-value = 3.6885e-04)\n",
      "자녀때문에 인한 우려들 Reject H0 (p-value = 1.9208e-06)\n"
     ]
    }
   ],
   "source": [
    "df2 = df_tmp.mul(n_single2).apply(lambda x: round(x)).astype(int)\n",
    "\n",
    "print('결혼 의향 없는 미혼:')\n",
    "\n",
    "x = df2.unstack(level=-1)\n",
    "display(x)\n",
    "\n",
    "idx = [f'{x} 인한 우려들' for x in x.index]\n",
    "for i in range(len(idx)):\n",
    "    print_head(idx[i], idx)\n",
    "    res = stats.chisquare(x.iloc[i])\n",
    "    test_hypothesis(res[1])"
   ]
  },
  {
   "cell_type": "markdown",
   "id": "9f9bd4ca-b8af-427e-bc96-8f705fe7effd",
   "metadata": {},
   "source": [
    "# F09 자녀에 대한 자신감\n",
    "- 그림8 \n",
    "- 대상 응답자 전체 1000명\n",
    "- (그림에 없는 내용)‘훗날 이혼할 가능성이 있다면 결혼을 아예 피하는 편이 낫다’와 ‘훗날 이혼할 가능성이 있더라도 결혼을 피할 필요는 없다’는 양자택일 질문을 던졌다. 전체 응답자의 39.3%가 피하는 게 낫다고, 60.7%는 굳이 피할 필요는 없다고 답했다... 그러나 ‘결혼 의향 없는 미혼’ 집단의 생각은 달랐다. 이들은 절반 이상인 58.2%가 ‘결혼을 피하는 게 낫다’고 답했다.\n",
    "- (그림에 없는 내용)‘한국에서는 한번 실패하면 재기가 어렵다’는 질문에 대한 응답에서도 ‘결혼 의향 없는 미혼’ 집단의 답변이 튄다. 전체 응답자는 ‘그렇다’ 50.4%, ‘그렇지 않다’ 44.4%로 비등비등하다. 하지만 ‘결혼 의향 없는 미혼’ 집단에서는 61.9%가 ‘그렇다’고 답했다."
   ]
  },
  {
   "cell_type": "markdown",
   "id": "2cf5d3af-a265-4270-b3a8-1ffade544326",
   "metadata": {},
   "source": [
    "comments:\n",
    "- 모든 항목에 대하여 결혼 의향 없는 미혼이 전체 응답자보다 더 부정적."
   ]
  },
  {
   "cell_type": "code",
   "execution_count": 196,
   "id": "1b3cf2af-86e4-45c6-aeb2-1abf129f16b5",
   "metadata": {},
   "outputs": [],
   "source": [
    "p1 = [.621, .451, .528, .571, .393, .504] # 전체\n",
    "p2 = [.336, .238, .635, .798, .582, .619] # 결혼 의향 없는 미혼\n",
    "\n",
    "idx = ['전체', '결혼 의향 없는 미혼']\n",
    "cols = ['자녀와 행복에 자신', '자녀 교육에 자신', '자녀의 경제적 부족함에 불안','누군가에 대한 책임 부담', '이혼 우려시 결혼 회피', '한국은 재기가 어렵다']\n",
    "df = pd.DataFrame([p1,p2], index=idx, columns=cols)"
   ]
  },
  {
   "cell_type": "code",
   "execution_count": 197,
   "id": "9f0d52a6-f100-4237-a255-30922e89a032",
   "metadata": {
    "tags": []
   },
   "outputs": [
    {
     "data": {
      "image/png": "[encoded data removed]",
      "text/plain": [
       "<Figure size 576x360 with 1 Axes>"
      ]
     },
     "metadata": {
      "needs_background": "light"
     },
     "output_type": "display_data"
    }
   ],
   "source": [
    "plot_groupbar(df, figsize=(8,5))"
   ]
  },
  {
   "cell_type": "code",
   "execution_count": 198,
   "id": "d82dbae0-2f79-4bc8-910a-504307b43d26",
   "metadata": {},
   "outputs": [],
   "source": [
    "n_all = 1000 # 전체 응답자\n",
    "n_single2 = 252 # 결혼 의향 없는 미혼"
   ]
  },
  {
   "cell_type": "code",
   "execution_count": 199,
   "id": "1741940b-d0e9-4cc6-abd0-44fc66a3feb6",
   "metadata": {},
   "outputs": [
    {
     "name": "stdout",
     "output_type": "stream",
     "text": [
      "자녀와 행복에 자신 긍정 비율:\n",
      "전체\t\t 0.621 ± 0.0301, [0.591, 0.651]\n",
      "결혼 의향 없는 미혼\t 0.337 ± 0.0584, [0.279, 0.396]\n",
      "\n",
      "자녀 교육에 자신 긍정 비율:\n",
      "전체\t\t 0.451 ± 0.0308, [0.420, 0.482]\n",
      "결혼 의향 없는 미혼\t 0.238 ± 0.0526, [0.186, 0.291]\n",
      "\n",
      "자녀의 경제적 부족함에 불안 긍정 비율:\n",
      "전체\t\t 0.528 ± 0.0309, [0.497, 0.559]\n",
      "결혼 의향 없는 미혼\t 0.635 ± 0.0594, [0.575, 0.694]\n",
      "\n",
      "누군가에 대한 책임 부담 긍정 비율:\n",
      "전체\t\t 0.571 ± 0.0307, [0.540, 0.602]\n",
      "결혼 의향 없는 미혼\t 0.798 ± 0.0496, [0.748, 0.847]\n",
      "\n",
      "이혼 우려시 결혼 회피 긍정 비율:\n",
      "전체\t\t 0.393 ± 0.0303, [0.363, 0.423]\n",
      "결혼 의향 없는 미혼\t 0.583 ± 0.0609, [0.522, 0.644]\n",
      "\n",
      "한국은 재기가 어렵다 긍정 비율:\n",
      "전체\t\t 0.504 ± 0.0310, [0.473, 0.535]\n",
      "결혼 의향 없는 미혼\t 0.619 ± 0.0600, [0.559, 0.679]\n",
      "\n"
     ]
    }
   ],
   "source": [
    "nums = [n_all, n_single2]\n",
    "method = 'normal'\n",
    "\n",
    "for c in range(len(df.columns)):\n",
    "    t = df.columns[c]\n",
    "    print(f'{t} 긍정 비율:')\n",
    "    for i in range(len(nums)):\n",
    "        x = df.index[i]\n",
    "        print_head(x, df.index)\n",
    "        n = nums[i]\n",
    "        k = round(df.iloc[i,c] * n)\n",
    "        low, high = proportion_confint(k, n, alpha, method=method)\n",
    "        print_interval(low, high, '')\n",
    "    print()"
   ]
  },
  {
   "cell_type": "markdown",
   "id": "6a357c00-bdf7-4ac6-8899-03183ef44400",
   "metadata": {},
   "source": [
    "# F10 주관적 계층 인식\n",
    "- 주관적 계층 인식이다. 미혼 응답자 가운데 자신을 상위층이라고 여기는 이들은 73.1%가 결혼할 의향이 있다고 답했다. 중간층이라고 답한 이들도 62.8%가 결혼에 의향이 있었다. 반면 중하위층(50.3%)과 최하위층(51.8%)은 상대적으로 결혼에 대한 의향이 떨어졌다. 다만 이것은 소득과 재산을 기준으로 나눈 계급과 다르다. "
   ]
  },
  {
   "cell_type": "markdown",
   "id": "f98bfed4-47de-4001-af82-54bc493a67b9",
   "metadata": {},
   "source": [
    "comments:\n",
    "- 각 계층 인식별 인원수를 알수 없어 오차 범위를 계산할 수 없다."
   ]
  },
  {
   "cell_type": "code",
   "execution_count": 200,
   "id": "dd087c5f-de71-4c60-a471-f6b349014427",
   "metadata": {},
   "outputs": [],
   "source": [
    "# 미혼의 결혼의향 있음\n",
    "p1 = [.731] # 상위층\n",
    "p2 = [.628] # 중간층\n",
    "p3 = [.503] # 중하위층\n",
    "p4 = [.518] # 최하위층\n",
    "ps = [p1, p2, p3, p4]\n",
    "\n",
    "idx = ['상위층', '중간층', '중하위층', '최하위층']\n",
    "cols = ['미혼의 결혼의향 있음']\n",
    "df = pd.DataFrame(ps, index=idx, columns=cols)"
   ]
  },
  {
   "cell_type": "code",
   "execution_count": 201,
   "id": "710ecf57-5a92-479e-8132-5aa3b01b7268",
   "metadata": {},
   "outputs": [
    {
     "data": {
      "image/png": "[encoded data removed]",
      "text/plain": [
       "<Figure size 360x288 with 1 Axes>"
      ]
     },
     "metadata": {
      "needs_background": "light"
     },
     "output_type": "display_data"
    }
   ],
   "source": [
    "plot_groupbar(df, figsize=(5,4), axis=1)"
   ]
  }
 ],
 "metadata": {
  "kernelspec": {
   "display_name": "trading_signal",
   "language": "python",
   "name": "ts"
  },
  "language_info": {
   "codemirror_mode": {
    "name": "ipython",
    "version": 3
   },
   "file_extension": ".py",
   "mimetype": "text/x-python",
   "name": "python",
   "nbconvert_exporter": "python",
   "pygments_lexer": "ipython3",
   "version": "3.9.7"
  }
 },
 "nbformat": 4,
 "nbformat_minor": 5
}
