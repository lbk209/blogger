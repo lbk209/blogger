{
 "cells": [
  {
   "cell_type": "markdown",
   "id": "1b939c7c-73ff-471b-a39b-dcbf4702cab6",
   "metadata": {
    "tags": []
   },
   "source": [
    "# Setting"
   ]
  },
  {
   "cell_type": "code",
   "execution_count": 1,
   "id": "b8d02d52-8763-4c4e-b669-e78ec8e76aa9",
   "metadata": {},
   "outputs": [],
   "source": [
    "from scipy.special import comb, perm\n",
    "import math"
   ]
  },
  {
   "cell_type": "markdown",
   "id": "4d4717bf-46d4-464b-b0db-16293689e584",
   "metadata": {
    "tags": []
   },
   "source": [
    "# 1등 당첨 확률"
   ]
  },
  {
   "cell_type": "markdown",
   "id": "c029cbca-d746-4c3b-b006-67cf0cedfff3",
   "metadata": {},
   "source": [
    "## 방법 1"
   ]
  },
  {
   "cell_type": "code",
   "execution_count": 4,
   "id": "dcb3bd05-538b-456d-b9b6-9667091f638d",
   "metadata": {},
   "outputs": [
    {
     "data": {
      "text/plain": [
       "1.2277380399898834e-07"
      ]
     },
     "execution_count": 4,
     "metadata": {},
     "output_type": "execute_result"
    }
   ],
   "source": [
    "N = 45\n",
    "k = 6\n",
    "\n",
    "comb(k, k) / comb(N, k)"
   ]
  },
  {
   "cell_type": "markdown",
   "id": "ce72ba2a-8b81-415d-bbbc-66222858320a",
   "metadata": {},
   "source": [
    "## 방법 2"
   ]
  },
  {
   "cell_type": "code",
   "execution_count": 5,
   "id": "2ed0880a-86e8-4494-8951-36e265bfa323",
   "metadata": {},
   "outputs": [
    {
     "data": {
      "text/plain": [
       "1.2277380399898834e-07"
      ]
     },
     "execution_count": 5,
     "metadata": {},
     "output_type": "execute_result"
    }
   ],
   "source": [
    "N = 45\n",
    "k = 6\n",
    "perm(k,k)/math.prod(range(N,N-k,-1))"
   ]
  },
  {
   "cell_type": "markdown",
   "id": "19637437-9927-41f2-8d7c-50748f70316c",
   "metadata": {},
   "source": [
    "## 방법 3"
   ]
  },
  {
   "cell_type": "code",
   "execution_count": 7,
   "id": "840049f6-076c-4afd-8bda-7f144adf00ea",
   "metadata": {},
   "outputs": [
    {
     "data": {
      "text/plain": [
       "1.2277380399898837e-07"
      ]
     },
     "execution_count": 7,
     "metadata": {},
     "output_type": "execute_result"
    }
   ],
   "source": [
    "# 1등 당첨 확률\n",
    "N = 45\n",
    "k = 6\n",
    "\n",
    "p_k = [1/N]*k\n",
    "\n",
    "for i in range(1,k):\n",
    "    p_k[i:] = [x/(1-p_k[i-1]) for x in p_k[i:]]\n",
    "    \n",
    "perm(k,k) * math.prod(p_k)"
   ]
  },
  {
   "cell_type": "markdown",
   "id": "31f53681-d8c8-4b7b-86d2-e0a85f72d80c",
   "metadata": {},
   "source": [
    "## 방법 4"
   ]
  },
  {
   "cell_type": "code",
   "execution_count": 21,
   "id": "55aed91f-6463-4824-8c64-9e5824e0aa60",
   "metadata": {},
   "outputs": [
    {
     "data": {
      "text/plain": [
       "1.2277380399898834e-07"
      ]
     },
     "execution_count": 21,
     "metadata": {},
     "output_type": "execute_result"
    }
   ],
   "source": [
    "# 1등 당첨 확률\n",
    "N = 45\n",
    "k = 6\n",
    "\n",
    "p_k = [1/N]*k\n",
    "ite = [i*x/(1-x*(i-1)) for i, x in enumerate(p_k,1)]\n",
    "math.prod(ite)"
   ]
  },
  {
   "cell_type": "markdown",
   "id": "2c380ff8-d8c3-4257-889e-f9cdd6a17865",
   "metadata": {},
   "source": [
    "# 2등 당첨 확률"
   ]
  },
  {
   "cell_type": "markdown",
   "id": "16dfe43c-ec71-4393-928f-7a6ec46534db",
   "metadata": {},
   "source": [
    "## 방법 1"
   ]
  },
  {
   "cell_type": "code",
   "execution_count": 39,
   "id": "4af58fea-4008-40cd-b83c-a5f69f142b89",
   "metadata": {},
   "outputs": [
    {
     "data": {
      "text/plain": [
       "7.3664282399393e-07"
      ]
     },
     "execution_count": 39,
     "metadata": {},
     "output_type": "execute_result"
    }
   ],
   "source": [
    "N = 45\n",
    "n = 6\n",
    "k = 5\n",
    "comb(n, k) *comb(n-k,1) * comb(N-n-1, 0) / comb(N,n)"
   ]
  },
  {
   "cell_type": "markdown",
   "id": "c589b923-16a2-48d8-8521-f24740b3ea8c",
   "metadata": {},
   "source": [
    "## 방법 2"
   ]
  },
  {
   "cell_type": "code",
   "execution_count": 40,
   "id": "3910b464-81f5-4758-9865-1322b1e6e6c4",
   "metadata": {},
   "outputs": [
    {
     "data": {
      "text/plain": [
       "7.3664282399393e-07"
      ]
     },
     "execution_count": 40,
     "metadata": {},
     "output_type": "execute_result"
    }
   ],
   "source": [
    "N = 45\n",
    "n = 6\n",
    "k = 5\n",
    "\n",
    "p_k = [1/N]*n\n",
    "ite = [i*x/(1-x*(i-1)) for i, x in enumerate(p_k,1)]\n",
    "comb(n, k) * math.prod(ite)"
   ]
  },
  {
   "cell_type": "code",
   "execution_count": 42,
   "id": "b35a0325-0134-4e29-a069-8100dd30ec9b",
   "metadata": {},
   "outputs": [
    {
     "data": {
      "text/plain": [
       "1.353505019054548e-06"
      ]
     },
     "execution_count": 42,
     "metadata": {},
     "output_type": "execute_result"
    }
   ],
   "source": [
    "fun = lambda p, a: [x*a for x in p]\n",
    "\n",
    "N = 45\n",
    "n = 6\n",
    "k = 5\n",
    "\n",
    "p_k = [1/N]*n\n",
    "#p_k = fun(p_k, 0.9)\n",
    "p_k = fun(p_k, 1.1)\n",
    "\n",
    "ite = [i*x/(1-x*(i-1)) for i, x in enumerate(p_k,1)]\n",
    "comb(n, k) * math.prod(ite)"
   ]
  },
  {
   "cell_type": "markdown",
   "id": "49d4d155-1730-46d3-87dd-06d1ac3bdf48",
   "metadata": {},
   "source": [
    "# 4등 당첨 확률"
   ]
  },
  {
   "cell_type": "markdown",
   "id": "16f1595c-ca14-47ba-a7c2-5a5baa7efc79",
   "metadata": {},
   "source": [
    "## 방법 1"
   ]
  },
  {
   "cell_type": "code",
   "execution_count": 24,
   "id": "632787e4-a592-4d94-8f75-489c3a03f483",
   "metadata": {},
   "outputs": [
    {
     "data": {
      "text/plain": [
       "0.0013646308314487555"
      ]
     },
     "execution_count": 24,
     "metadata": {},
     "output_type": "execute_result"
    }
   ],
   "source": [
    "N = 45\n",
    "n = 6\n",
    "k = 4\n",
    "comb(n, k) * comb(N-n, n-k) / comb(N, n)"
   ]
  },
  {
   "cell_type": "markdown",
   "id": "f6d9b6d4-dbda-44e7-8e5e-a6fdfbb64a64",
   "metadata": {},
   "source": [
    "## 방법 2"
   ]
  },
  {
   "cell_type": "code",
   "execution_count": 32,
   "id": "ac3e4842-c38f-4779-96e4-67129f444b0c",
   "metadata": {},
   "outputs": [
    {
     "data": {
      "text/plain": [
       "0.0013646308314487555"
      ]
     },
     "execution_count": 32,
     "metadata": {},
     "output_type": "execute_result"
    }
   ],
   "source": [
    "N = 45\n",
    "n = 6\n",
    "k = 4\n",
    "\n",
    "p_k = [1/N]*n\n",
    "ite = [i*x/(1-x*(i-1)) for i, x in enumerate(p_k,1)]\n",
    "p1 = math.prod(ite)\n",
    "\n",
    "p_k = [1/N]*(n-k)\n",
    "ite = [(1-x*(i+5))/x/i for i, x in enumerate(p_k,1)]\n",
    "comb(n,k) * math.prod(ite) * p1"
   ]
  },
  {
   "cell_type": "code",
   "execution_count": 38,
   "id": "b8f05c15-15a7-4625-90f6-3454dd0e772d",
   "metadata": {},
   "outputs": [
    {
     "data": {
      "text/plain": [
       "0.0032010393700640065"
      ]
     },
     "execution_count": 38,
     "metadata": {},
     "output_type": "execute_result"
    }
   ],
   "source": [
    "fun = lambda p, a: [x*a for x in p]\n",
    "\n",
    "N = 45\n",
    "n = 6\n",
    "k = 4\n",
    "\n",
    "p = [1/N] * (2*n - k)\n",
    "#p = fun(p, 1.1)\n",
    "\n",
    "p_k = p[:n]\n",
    "p_k = fun(p_k, 1.1)\n",
    "ite = [i*x/(1-x*(i-1)) for i, x in enumerate(p_k,1)]\n",
    "p1 = math.prod(ite)\n",
    "\n",
    "p_k = p[n:]\n",
    "p_k = fun(p_k, .9)\n",
    "ite = [(1-x*(i+5))/x/i for i, x in enumerate(p_k,1)]\n",
    "comb(n,k) * math.prod(ite) * p1"
   ]
  },
  {
   "cell_type": "code",
   "execution_count": null,
   "id": "f9712137-0a10-4cb3-9bca-f2000ad58bdb",
   "metadata": {},
   "outputs": [],
   "source": []
  }
 ],
 "metadata": {
  "kernelspec": {
   "display_name": "trading_signal",
   "language": "python",
   "name": "ts"
  },
  "language_info": {
   "codemirror_mode": {
    "name": "ipython",
    "version": 3
   },
   "file_extension": ".py",
   "mimetype": "text/x-python",
   "name": "python",
   "nbconvert_exporter": "python",
   "pygments_lexer": "ipython3",
   "version": "3.9.7"
  }
 },
 "nbformat": 4,
 "nbformat_minor": 5
}
